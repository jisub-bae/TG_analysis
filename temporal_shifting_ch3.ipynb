{
 "cells": [
  {
   "cell_type": "markdown",
   "id": "f0f2ef65-ed79-438c-a98f-d2e21d5be7e8",
   "metadata": {},
   "source": [
    "This code is for CV and shif trial"
   ]
  },
  {
   "cell_type": "markdown",
   "id": "df0b7ee9-f360-49ae-b577-d88057c2f3c7",
   "metadata": {},
   "source": [
    "## Data import and preprocess"
   ]
  },
  {
   "cell_type": "code",
   "execution_count": 1,
   "id": "aeb6fa16-bfbd-4b87-a38b-c7d6ddef3b36",
   "metadata": {
    "execution": {
     "iopub.execute_input": "2023-12-14T02:05:36.837686Z",
     "iopub.status.busy": "2023-12-14T02:05:36.836985Z",
     "iopub.status.idle": "2023-12-14T02:05:37.394250Z",
     "shell.execute_reply": "2023-12-14T02:05:37.394250Z",
     "shell.execute_reply.started": "2023-12-14T02:05:36.837686Z"
    },
    "tags": []
   },
   "outputs": [],
   "source": [
    "ch='frontal' #'all' or 'occipital' or 'parietal' or 'frontal' or 'occi_pari' or 'front_pari'\n",
    "\n",
    "import os\n",
    "import numpy as np\n",
    "import pandas as pd\n",
    "from pandas import DataFrame as df\n",
    "import matplotlib\n",
    "from matplotlib import pyplot as plt\n",
    "from scipy.io import wavfile\n",
    "from scipy import signal\n",
    "import scipy.io\n",
    "import random"
   ]
  },
  {
   "cell_type": "code",
   "execution_count": 2,
   "id": "2d0267eb-60c5-4530-8c15-ba6eb7d858dc",
   "metadata": {
    "execution": {
     "iopub.execute_input": "2023-12-14T02:05:37.395321Z",
     "iopub.status.busy": "2023-12-14T02:05:37.395321Z",
     "iopub.status.idle": "2023-12-14T02:05:37.411770Z",
     "shell.execute_reply": "2023-12-14T02:05:37.411770Z",
     "shell.execute_reply.started": "2023-12-14T02:05:37.395321Z"
    },
    "tags": []
   },
   "outputs": [],
   "source": [
    "if ch=='all': #'all' or 'occipital' or 'parietal' or 'frontal' or 'occi_pari' or 'front_pari'\n",
    "    \n",
    "    chnum=range(128)    \n",
    "    \n",
    "elif ch=='occipital':  #'occipital' or 'parietal' or 'frontal'\n",
    "\n",
    "    chnum=np.array([50,51,52,53,54,\\\n",
    "                    58,59,60,61,62,\\\n",
    "                    64,65,66,67,69,70,71,72,\\\n",
    "                    74,75,76,77,78,79,\\\n",
    "                    82,83,84,85,86,\\\n",
    "                    89,90,91,92,95,96,97,101])\n",
    "    chnum=chnum-1\n",
    "\n",
    "elif ch=='parietal':\n",
    "    chnum=np.array([7,29,30,31,35,36,37,\\\n",
    "                   39,40,41,42,45,46,47,\\\n",
    "                   50,51,53,54,55,\\\n",
    "                   79,80,86,87,93,97,98,\\\n",
    "                   101,102,103,104,105,106,\\\n",
    "                   108,109,110,111,115])\n",
    "    chnum=chnum-1\n",
    "\n",
    "elif ch=='frontal':\n",
    "    chnum=np.array([2,3,4,5,6,\\\n",
    "                   8,9,10,11,12,13,\\\n",
    "                   14,15,16,18,19,20,\\\n",
    "                   21,22,23,24,25,26,27,28,29,\\\n",
    "                   33,34,111,112,116,117,118,\\\n",
    "                   122,123,124])\n",
    "    chnum=chnum-1\n",
    "    \n",
    "elif ch=='occi_pari':\n",
    "\n",
    "    chnum=np.array([50,51,52,53,54,\\\n",
    "                    58,59,60,61,62,\\\n",
    "                    64,65,66,67,69,70,71,72,\\\n",
    "                    74,75,76,77,78,79,\\\n",
    "                    82,83,84,85,86,\\\n",
    "                    89,90,91,92,95,96,97,101,\\\n",
    "                    45,46,47,42,37,31,55,\\\n",
    "                    80,87,93,98,102,108])\n",
    "    chnum=chnum-1\n",
    "    \n",
    "elif ch=='front_pari':\n",
    "    chnum=np.array([2,3,4,5,6,\\\n",
    "                   8,9,10,11,12,13,\\\n",
    "                   14,15,16,18,19,20,\\\n",
    "                   21,22,23,24,25,26,27,28,29,\\\n",
    "                   33,34,111,112,116,117,118,\\\n",
    "                   122,123,124,\\\n",
    "                   39,40,41,35,36,30,7,106,\\\n",
    "                   105,104,103,109,110,115])\n",
    "    chnum=chnum-1"
   ]
  },
  {
   "cell_type": "code",
   "execution_count": 3,
   "id": "cddc555b-70c8-4b31-9ad4-d52109d05525",
   "metadata": {
    "execution": {
     "iopub.execute_input": "2023-12-14T02:05:37.412768Z",
     "iopub.status.busy": "2023-12-14T02:05:37.412768Z",
     "iopub.status.idle": "2023-12-14T02:06:51.543718Z",
     "shell.execute_reply": "2023-12-14T02:06:51.543029Z",
     "shell.execute_reply.started": "2023-12-14T02:05:37.412768Z"
    },
    "tags": []
   },
   "outputs": [],
   "source": [
    "#import eeg data\n",
    "name_list=os.listdir('//172.16.200.54/ProjectExt/KoeunJung/contour/maski/_DATA/epochData')\n",
    "\n",
    "pDB=[]\n",
    "for i in range(len(name_list)):\n",
    "    \n",
    "    epochDir='//172.16.200.54/ProjectExt/KoeunJung/contour/maski/_DATA/epochData/'+name_list[i]\n",
    "    \n",
    "    mat_struc=[]\n",
    "    for a in range(1, 6):\n",
    "        epochfile=epochDir+'/c00{}.mat'.format(a)\n",
    "        mat=scipy.io.loadmat(epochfile)\n",
    "        mat_value = mat['c00{}'.format(a)]\n",
    "        mat_value2=mat_value[chnum,:,:]\n",
    "        mat_struc.append(mat_value2)\n",
    "        \n",
    "    pDB.append(mat_struc)"
   ]
  },
  {
   "cell_type": "code",
   "execution_count": 4,
   "id": "1e4f1b58-6baf-4906-ab5d-79b0f791e04f",
   "metadata": {
    "execution": {
     "iopub.execute_input": "2023-12-14T02:06:51.543718Z",
     "iopub.status.busy": "2023-12-14T02:06:51.543718Z",
     "iopub.status.idle": "2023-12-14T02:06:51.604637Z",
     "shell.execute_reply": "2023-12-14T02:06:51.604637Z",
     "shell.execute_reply.started": "2023-12-14T02:06:51.543718Z"
    },
    "tags": []
   },
   "outputs": [],
   "source": [
    "#make index of behavior test acc true & descending order in visibility\n",
    "import copy\n",
    "\n",
    "Rej_behavior=scipy.io.loadmat('//172.16.200.54/ProjectExt/Jisub/contour/Rej_behavior.mat')\n",
    "be_data=Rej_behavior['Rej_behavior'][0][0]\n",
    "\n",
    "total_true_idx=[]\n",
    "ds_order=[] #acc true and descending order\n",
    "ds_order2=[] #acc false and descending order\n",
    "total_all=[]\n",
    "tidx_all=[]\n",
    "tvis_all=[]\n",
    "for i in range(len(be_data)):\n",
    "    pmat=be_data[i]\n",
    "    \n",
    "    #1~4 kanizsa 5 control\n",
    "    kani=[pmat[pmat[:,0]==1,:],\n",
    "          pmat[pmat[:,0]==2,:],\n",
    "          pmat[pmat[:,0]==3,:],\n",
    "          pmat[pmat[:,0]==4,:],\n",
    "          pmat[pmat[:,0]==5,:]]\n",
    "\n",
    "    kidx_t=[]\n",
    "    dds=[]\n",
    "    dds2=[]\n",
    "    betemp=[]\n",
    "    beidx=[]\n",
    "    bevis=[]\n",
    "    for ii in range(len(kani)):\n",
    "        kani_mat=kani[ii]\n",
    "        \n",
    "        if ii==4:\n",
    "            # t_idx2=kani_mat[:,1]==1\n",
    "            # t_idx2=np.where(t_idx2)[0]\n",
    "            # kani_mat[t_idx2,1]=3\n",
    "            # kani_mat[:,1]=kani_mat[:,1]-1\n",
    "            \n",
    "            kani_mat[:,3]=9-kani_mat[:,3]\n",
    "        \n",
    "        #1.kanizsa shape, 2.accuracy:true=1 false=2, 3.response time (ms), 4.visibility rating(1~8), 5.response time (ms)\n",
    "        t_idx=kani_mat[:,1]==1\n",
    "        t_idx=np.where(t_idx)[0]\n",
    "        kidx_t.append(t_idx)\n",
    "        \n",
    "        temp=kani_mat[t_idx,:]\n",
    "        ds=np.argsort(temp[:,3])\n",
    "        ds=ds[::-1]\n",
    "        dds.append(ds)\n",
    "        \n",
    "        temp2=np.delete(kani_mat, t_idx, axis=0)\n",
    "        ds2=np.argsort(temp2[:,3])\n",
    "        ds2=ds2[::-1]\n",
    "        dds2.append(ds2)\n",
    "        \n",
    "        temp=temp[ds,:]\n",
    "        temp2=temp2[ds2,:]\n",
    "        temp3=np.concatenate((temp, temp2),axis=0)\n",
    "        betemp.append(temp3)\n",
    "        beidx.append(temp3[:,1])\n",
    "        bevis.append(temp3[:,3])\n",
    "        \n",
    "\n",
    "    total_true_idx.append(kidx_t)\n",
    "    ds_order.append(dds)\n",
    "    ds_order2.append(dds2)\n",
    "    total_all.append(betemp)\n",
    "    tidx_all.append(beidx)\n",
    "    tvis_all.append(bevis)\n",
    "    "
   ]
  },
  {
   "cell_type": "code",
   "execution_count": 5,
   "id": "96b2d00b-328a-4aa3-839d-466e49fcc8db",
   "metadata": {
    "execution": {
     "iopub.execute_input": "2023-12-14T02:06:51.605604Z",
     "iopub.status.busy": "2023-12-14T02:06:51.605604Z",
     "iopub.status.idle": "2023-12-14T02:06:51.615061Z",
     "shell.execute_reply": "2023-12-14T02:06:51.615019Z",
     "shell.execute_reply.started": "2023-12-14T02:06:51.605604Z"
    },
    "tags": []
   },
   "outputs": [
    {
     "data": {
      "text/plain": [
       "[array([6., 5., 5., 5., 5., 5., 5., 5., 5., 5., 5., 5., 5., 5., 5., 5., 5.,\n",
       "        5., 5., 5., 5., 5., 5., 5., 7., 6., 5., 5., 5., 5., 5., 5., 5., 5.,\n",
       "        5., 5., 5., 5., 5., 5., 5., 5., 5., 5., 5., 5., 5., 5., 5., 5., 5.,\n",
       "        5., 5., 5., 5., 5., 5., 5., 5., 5., 5., 5., 5., 5., 5., 5., 5., 4.,\n",
       "        4., 4., 4., 4., 4., 4., 4., 4., 4., 4., 4., 4., 4., 4., 4., 4., 4.,\n",
       "        4., 4., 4., 4., 4., 4., 4., 4., 4., 4., 4., 4., 4., 4., 4., 4., 4.,\n",
       "        4., 4., 4., 4., 4., 4., 4., 4., 4., 4., 4., 4., 4., 4., 4., 4., 4.,\n",
       "        4., 4., 4., 4., 4., 4., 4., 4., 4., 4., 4., 4., 3., 3., 3., 3., 3.,\n",
       "        3., 3., 3., 3., 3., 3., 3., 3., 3., 3., 3., 3., 3., 3., 3., 3., 3.,\n",
       "        3., 3., 3., 3., 3., 3., 2., 2., 2., 2., 2., 2., 2., 2., 2., 2., 2.,\n",
       "        2., 2., 2., 2., 2., 2., 2., 2., 2., 2., 2., 2., 2., 2., 2., 2., 2.,\n",
       "        2., 2., 2., 2., 2., 2., 2., 2., 2., 1., 1., 1., 1.]),\n",
       " array([6., 6., 6., 6., 6., 5., 5., 5., 5., 5., 5., 5., 5., 5., 5., 5., 5.,\n",
       "        5., 5., 5., 5., 5., 5., 5., 5., 5., 5., 5., 5., 4., 5., 5., 5., 5.,\n",
       "        5., 5., 5., 5., 5., 5., 5., 5., 5., 5., 5., 5., 5., 5., 5., 5., 5.,\n",
       "        5., 5., 5., 5., 5., 5., 5., 5., 5., 5., 5., 5., 5., 5., 5., 5., 5.,\n",
       "        5., 5., 5., 5., 5., 5., 5., 5., 5., 5., 5., 5., 5., 5., 5., 5., 5.,\n",
       "        5., 5., 5., 5., 4., 4., 4., 4., 4., 4., 4., 4., 4., 4., 4., 4., 4.,\n",
       "        4., 4., 4., 4., 4., 4., 4., 4., 4., 4., 4., 4., 4., 4., 4., 4., 4.,\n",
       "        4., 4., 4., 4., 4., 4., 4., 4., 4., 4., 4., 4., 4., 4., 4., 4., 4.,\n",
       "        4., 4., 4., 4., 4., 4., 4., 3., 3., 3., 3., 3., 3., 3., 3., 3., 3.,\n",
       "        3., 3., 3., 3., 3., 3., 3., 3., 3., 3., 3., 3., 3., 3., 3., 3., 3.,\n",
       "        3., 2., 2., 2., 2., 2., 2., 2., 2., 2., 2., 2., 2., 2., 2., 2., 2.,\n",
       "        2., 2., 2., 2., 2., 2., 2., 2., 2., 2., 2., 1., 1.]),\n",
       " array([6., 6., 6., 6., 6., 5., 5., 5., 5., 5., 5., 5., 5., 5., 5., 5., 5.,\n",
       "        5., 5., 5., 5., 5., 5., 5., 5., 5., 5., 5., 5., 5., 5., 5., 5., 5.,\n",
       "        5., 5., 5., 5., 5., 5., 2., 6., 6., 6., 6., 5., 5., 5., 5., 5., 5.,\n",
       "        5., 5., 5., 5., 5., 5., 5., 5., 5., 5., 5., 5., 5., 5., 5., 5., 5.,\n",
       "        5., 5., 5., 4., 4., 4., 4., 4., 4., 4., 4., 4., 4., 4., 4., 4., 4.,\n",
       "        4., 4., 4., 4., 4., 4., 4., 4., 4., 4., 4., 4., 4., 4., 4., 4., 4.,\n",
       "        4., 4., 4., 4., 4., 4., 4., 4., 4., 4., 4., 4., 4., 4., 4., 4., 4.,\n",
       "        4., 4., 4., 4., 4., 4., 4., 4., 4., 4., 4., 4., 4., 4., 4., 3., 3.,\n",
       "        3., 3., 3., 3., 3., 3., 3., 3., 3., 3., 3., 3., 3., 3., 3., 3., 3.,\n",
       "        3., 3., 3., 3., 3., 3., 3., 3., 3., 3., 3., 3., 3., 3., 3., 3., 3.,\n",
       "        3., 3., 3., 3., 2., 2., 2., 2., 2., 2., 2., 2., 2., 2., 2., 2., 2.,\n",
       "        2., 2., 2., 2., 2., 2., 2., 2., 2., 2., 2., 2., 2.]),\n",
       " array([7., 7., 6., 6., 6., 5., 5., 5., 5., 5., 5., 5., 5., 5., 5., 5., 5.,\n",
       "        5., 5., 5., 4., 3., 2., 5., 5., 5., 5., 5., 5., 5., 5., 5., 5., 5.,\n",
       "        5., 5., 5., 5., 5., 5., 5., 5., 5., 5., 5., 5., 5., 5., 5., 5., 5.,\n",
       "        5., 5., 5., 4., 4., 4., 4., 4., 4., 4., 4., 4., 4., 4., 4., 4., 4.,\n",
       "        4., 4., 4., 4., 4., 4., 4., 4., 4., 4., 4., 4., 4., 4., 4., 4., 4.,\n",
       "        4., 4., 4., 4., 4., 4., 4., 4., 4., 4., 4., 4., 4., 4., 4., 4., 4.,\n",
       "        4., 4., 4., 4., 4., 4., 4., 4., 4., 4., 4., 4., 4., 4., 4., 4., 4.,\n",
       "        4., 3., 3., 3., 3., 3., 3., 3., 3., 3., 3., 3., 3., 3., 3., 3., 3.,\n",
       "        3., 3., 3., 3., 3., 3., 3., 3., 3., 3., 3., 3., 3., 3., 3., 3., 3.,\n",
       "        3., 3., 3., 3., 3., 3., 2., 2., 2., 2., 2., 2., 2., 2., 2., 2., 2.,\n",
       "        2., 2., 2., 2., 2., 2., 2., 2., 2., 2., 2., 2., 2., 2., 2., 2., 2.,\n",
       "        2., 2., 2., 2., 2., 2., 2., 2., 1., 1., 1., 1., 1.]),\n",
       " array([8., 8., 8., 8., 8., 8., 8., 8., 8., 8., 8., 8., 8., 8., 8., 8., 8.,\n",
       "        8., 8., 8., 8., 7., 7., 7., 7., 7., 7., 7., 7., 7., 7., 7., 7., 7.,\n",
       "        7., 7., 7., 7., 7., 7., 7., 7., 7., 7., 7., 7., 7., 7., 7., 7., 7.,\n",
       "        7., 7., 7., 7., 7., 7., 7., 7., 7., 7., 7., 7., 7., 7., 7., 7., 7.,\n",
       "        7., 7., 7., 7., 7., 7., 7., 7., 7., 7., 7., 7., 7., 7., 7., 7., 7.,\n",
       "        7., 7., 7., 7., 7., 7., 7., 7., 7., 7., 7., 7., 7., 7., 7., 7., 7.,\n",
       "        7., 7., 7., 7., 7., 7., 7., 7., 7., 7., 7., 7., 7., 7., 7., 7., 7.,\n",
       "        7., 7., 7., 7., 7., 7., 7., 7., 7., 7., 7., 7., 7., 7., 6., 6., 6.,\n",
       "        6., 6., 6., 6., 6., 6., 6., 5., 5., 5., 5., 5., 5., 5., 5., 5., 5.,\n",
       "        5., 5., 5., 5., 5., 5., 5., 5., 5., 5., 5., 5., 5., 5., 5., 5., 5.,\n",
       "        5., 5., 5., 5., 5., 5., 5., 4., 4., 4., 4., 4., 4., 4., 4., 4., 4.,\n",
       "        4., 4., 4., 4., 4., 4., 4., 4., 4., 4., 4., 4.])]"
      ]
     },
     "execution_count": 5,
     "metadata": {},
     "output_type": "execute_result"
    }
   ],
   "source": [
    "tvis_all[1]"
   ]
  },
  {
   "cell_type": "code",
   "execution_count": 6,
   "id": "696852e6-501a-4de1-afe3-1b0c02f03a3c",
   "metadata": {
    "execution": {
     "iopub.execute_input": "2023-12-14T02:06:51.616058Z",
     "iopub.status.busy": "2023-12-14T02:06:51.616058Z",
     "iopub.status.idle": "2023-12-14T02:06:51.620901Z",
     "shell.execute_reply": "2023-12-14T02:06:51.620623Z",
     "shell.execute_reply.started": "2023-12-14T02:06:51.616058Z"
    },
    "tags": []
   },
   "outputs": [],
   "source": [
    "# #make index of behavior test acc true & descending order in visibility\n",
    "# import copy\n",
    "\n",
    "# Rej_behavior=scipy.io.loadmat('//172.16.200.54/projects/Jisub/contour/Rej_behavior.mat')\n",
    "# be_data=Rej_behavior['Rej_behavior'][0][0]\n",
    "\n",
    "# total_true_idx=[]\n",
    "# ds_order=[] #acc true and descending order\n",
    "# ds_order2=[] #acc false and descending order\n",
    "# vas_order=[] #vis -> acc descending order\n",
    "# total_all=[]\n",
    "# tidx_all=[]\n",
    "# tvis_all=[]\n",
    "# for i in range(len(be_data)):\n",
    "#     pmat=be_data[i]\n",
    "    \n",
    "#     #1~4 kanizsa 5 control\n",
    "#     kani=[pmat[pmat[:,0]==1,:],\n",
    "#           pmat[pmat[:,0]==2,:],\n",
    "#           pmat[pmat[:,0]==3,:],\n",
    "#           pmat[pmat[:,0]==4,:],\n",
    "#           pmat[pmat[:,0]==5,:]]\n",
    "\n",
    "#     kidx_t=[]\n",
    "#     dds=[]\n",
    "#     dds2=[]\n",
    "#     betemp=[]\n",
    "#     beidx=[]\n",
    "#     bevis=[]\n",
    "#     vas=[]\n",
    "#     for ii in range(len(kani)):\n",
    "#         kani_mat=kani[ii]\n",
    "        \n",
    "#         if ii==4:\n",
    "#             # t_idx2=kani_mat[:,1]==1\n",
    "#             # t_idx2=np.where(t_idx2)[0]\n",
    "#             # kani_mat[t_idx2,1]=3\n",
    "#             # kani_mat[:,1]=kani_mat[:,1]-1\n",
    "            \n",
    "#             kani_mat[:,3]=9-kani_mat[:,3]\n",
    "        \n",
    "#         #1.kanizsa shape, 2.accuracy:true=1 false=2, 3.response time (ms), 4.visibility rating(1~8), 5.response time (ms)\n",
    "#         t_idx=kani_mat[:,1]==1\n",
    "#         t_idx=np.where(t_idx)[0]\n",
    "#         kidx_t.append(t_idx)\n",
    "        \n",
    "#         # vis -> acc sorting\n",
    "#         uq_list=np.unique(kani_mat[:,3])\n",
    "        \n",
    "#         # #consider acc in vis\n",
    "#         # vasidx=[]\n",
    "#         # for uq in uq_list[::-1]:\n",
    "#         #     upper=np.where((kani_mat[:,1]==1) & (kani_mat[:,3]==uq))\n",
    "#         #     bottom=np.where((kani_mat[:,1]==2) & (kani_mat[:,3]==uq))\n",
    "#         #     vasidx.append((np.append(upper,bottom)))\n",
    "        \n",
    "#         #random in vis\n",
    "#         vasidx=[]\n",
    "#         for uq in uq_list[::-1]:\n",
    "#             upper=np.where(kani_mat[:,3]==uq)\n",
    "#             ran=random.sample(range(len(upper[0])),k=len(upper[0]))\n",
    "#             upper=upper[0][ran]\n",
    "#             vasidx.append(upper)\n",
    "        \n",
    "#         vas.append(np.concatenate(vasidx))\n",
    "        \n",
    "#         # acc -> vis sorting\n",
    "#         temp=kani_mat[t_idx,:]\n",
    "#         ds=np.argsort(temp[:,3])\n",
    "#         ds=ds[::-1]\n",
    "#         dds.append(ds)\n",
    "        \n",
    "#         temp2=np.delete(kani_mat, t_idx, axis=0)\n",
    "#         ds2=np.argsort(temp2[:,3])\n",
    "#         ds2=ds2[::-1]\n",
    "#         dds2.append(ds2)\n",
    "        \n",
    "#         temp=temp[ds,:]\n",
    "#         temp2=temp2[ds2,:]\n",
    "#         temp3=np.concatenate((temp, temp2),axis=0)\n",
    "#         betemp.append(temp3)\n",
    "#         beidx.append(temp3[:,1])\n",
    "#         bevis.append(temp3[:,3])\n",
    "        \n",
    "\n",
    "#     total_true_idx.append(kidx_t)\n",
    "#     ds_order.append(dds)\n",
    "#     ds_order2.append(dds2)\n",
    "#     vas_order.append(vas)\n",
    "#     total_all.append(betemp)\n",
    "#     tidx_all.append(beidx)\n",
    "#     tvis_all.append(bevis)\n",
    "    "
   ]
  },
  {
   "cell_type": "code",
   "execution_count": 7,
   "id": "7400ce5b-4963-4150-8ecd-cf22087cf880",
   "metadata": {
    "execution": {
     "iopub.execute_input": "2023-12-14T02:06:51.621733Z",
     "iopub.status.busy": "2023-12-14T02:06:51.621733Z",
     "iopub.status.idle": "2023-12-14T02:06:53.156067Z",
     "shell.execute_reply": "2023-12-14T02:06:53.156067Z",
     "shell.execute_reply.started": "2023-12-14T02:06:51.621733Z"
    },
    "tags": []
   },
   "outputs": [],
   "source": [
    "#do the descending order wiht acc true and visibility\n",
    "pp=len(pDB)\n",
    "kk=len(pDB[0])\n",
    "DB=copy.deepcopy(pDB)\n",
    "\n",
    "for i in range(pp):#participant\n",
    "\n",
    "    for j in range(kk):#kanizsa shape\n",
    "        \n",
    "        et_idx=total_true_idx[i][j]\n",
    "        t_DB=DB[i][j][:,:,et_idx]\n",
    "        t_DB=t_DB[:,:,ds_order[i][j]]\n",
    "        t_DB2=np.delete(DB[i][j],et_idx,axis=2)\n",
    "        t_DB2=t_DB2[:,:,ds_order2[i][j]]\n",
    "        t_DB3=np.append(t_DB,t_DB2,axis=2)\n",
    "        DB[i][j]=t_DB3\n"
   ]
  },
  {
   "cell_type": "code",
   "execution_count": 8,
   "id": "c90e71ff-50a7-436f-b43d-218abc872f57",
   "metadata": {
    "execution": {
     "iopub.execute_input": "2023-12-14T02:06:53.159060Z",
     "iopub.status.busy": "2023-12-14T02:06:53.159060Z",
     "iopub.status.idle": "2023-12-14T02:06:53.171222Z",
     "shell.execute_reply": "2023-12-14T02:06:53.171222Z",
     "shell.execute_reply.started": "2023-12-14T02:06:53.159060Z"
    },
    "tags": []
   },
   "outputs": [],
   "source": [
    "# #do the descending order wiht acc true and visibility\n",
    "# pp=len(pDB)\n",
    "# kk=len(pDB[0])\n",
    "# DB=copy.deepcopy(pDB)\n",
    "\n",
    "# for i in range(pp):#participant\n",
    "\n",
    "#     for j in range(kk):#kanizsa shape\n",
    "        \n",
    "#         t_DB=DB[i][j]\n",
    "#         t_DB=t_DB[:,:,vas_order[i][j]]\n",
    "#         DB[i][j]=t_DB"
   ]
  },
  {
   "cell_type": "code",
   "execution_count": 9,
   "id": "75746e65-82ec-41de-9371-6c65f8d231eb",
   "metadata": {
    "execution": {
     "iopub.execute_input": "2023-12-14T02:06:53.172219Z",
     "iopub.status.busy": "2023-12-14T02:06:53.172219Z",
     "iopub.status.idle": "2023-12-14T02:06:53.193794Z",
     "shell.execute_reply": "2023-12-14T02:06:53.193489Z",
     "shell.execute_reply.started": "2023-12-14T02:06:53.172219Z"
    },
    "tags": []
   },
   "outputs": [],
   "source": [
    "tt=len(DB[19][4][0,:,0])\n",
    "pp=len(DB)\n",
    "kk=len(DB[0])\n",
    "\n",
    "trial_num=[]\n",
    "for i in range(pp):\n",
    "    \n",
    "    trial_t2=[]\n",
    "    for j in range(kk):\n",
    "        \n",
    "        trial_t=np.shape(tvis_all[i][j])[0]\n",
    "        trial_t2.append(trial_t)\n",
    "        \n",
    "    trial_num.append(trial_t2)\n",
    "    \n",
    "trial_num=np.array(trial_num)\n",
    "trial_num=((trial_num-50)/4)\n",
    "\n",
    "# trial_num2=[]\n",
    "# for i in range(pp):\n",
    "    \n",
    "#     trial_t=np.shape(tvis_all[i][4])[0]\n",
    "#     trial_num2.append(trial_t)\n",
    "    \n",
    "# trial_num2=np.array(trial_num2)\n",
    "# trial_num2=(trial_num2-100)/7\n"
   ]
  },
  {
   "cell_type": "code",
   "execution_count": 10,
   "id": "6013697e-8786-4631-ad0f-bbdff9aa5d94",
   "metadata": {
    "execution": {
     "iopub.execute_input": "2023-10-19T09:00:09.742622Z",
     "iopub.status.busy": "2023-10-19T09:00:09.742622Z",
     "iopub.status.idle": "2023-10-19T09:00:09.756622Z",
     "shell.execute_reply": "2023-10-19T09:00:09.756622Z",
     "shell.execute_reply.started": "2023-10-19T09:00:09.742622Z"
    },
    "tags": []
   },
   "outputs": [
    {
     "name": "stdout",
     "output_type": "stream",
     "text": [
      "0.0\n",
      "37.5\n",
      "75.0\n",
      "112.5\n",
      "150.0\n"
     ]
    }
   ],
   "source": [
    "for num in range(5):\n",
    "    print(trial_num[0][0]*num)\n",
    "    "
   ]
  },
  {
   "cell_type": "markdown",
   "id": "32e517b9-6f3c-4b0a-a814-df6d36f20cee",
   "metadata": {},
   "source": [
    "## Import library"
   ]
  },
  {
   "cell_type": "code",
   "execution_count": 10,
   "id": "3269fe1d-4a6c-472c-92fd-af9325b48a83",
   "metadata": {
    "execution": {
     "iopub.execute_input": "2023-12-14T02:06:53.193794Z",
     "iopub.status.busy": "2023-12-14T02:06:53.193794Z",
     "iopub.status.idle": "2023-12-14T02:06:53.560452Z",
     "shell.execute_reply": "2023-12-14T02:06:53.559812Z",
     "shell.execute_reply.started": "2023-12-14T02:06:53.193794Z"
    },
    "tags": []
   },
   "outputs": [],
   "source": [
    "#make decoder\n",
    "\n",
    "from sklearn.discriminant_analysis import LinearDiscriminantAnalysis as LDA\n",
    "from sklearn.discriminant_analysis import QuadraticDiscriminantAnalysis as QDA\n",
    "from sklearn import svm\n",
    "from sklearn.linear_model import LogisticRegression as LG\n",
    "from sklearn.model_selection import StratifiedKFold\n",
    "from sklearn.model_selection import KFold\n",
    "\n",
    "from sklearn.metrics import roc_curve,roc_auc_score\n",
    "from sklearn.metrics import auc\n",
    "from sklearn.metrics import confusion_matrix\n",
    "\n",
    "import itertools\n",
    "import pickle\n",
    "import joblib\n",
    "import random"
   ]
  },
  {
   "cell_type": "code",
   "execution_count": 11,
   "id": "a085cbe1-8663-43eb-a250-0940591114e1",
   "metadata": {
    "execution": {
     "iopub.execute_input": "2023-12-14T02:06:53.561480Z",
     "iopub.status.busy": "2023-12-14T02:06:53.561480Z",
     "iopub.status.idle": "2023-12-14T02:06:53.577061Z",
     "shell.execute_reply": "2023-12-14T02:06:53.577061Z",
     "shell.execute_reply.started": "2023-12-14T02:06:53.561480Z"
    },
    "tags": []
   },
   "outputs": [],
   "source": [
    "#make decoder model for hv\n",
    "\n",
    "Ts=500 #sampling rate (hz)\n",
    "window=20 #window duration (ms), need to condider sampling rate\n",
    "shift_w=2 #moving window (ms), need to condider sampling rate\n",
    "model='LDA' #model selection: LDA, QDA, SVM, LG (logistic regression)\n",
    "\n",
    "window=int((window*Ts)/1000)\n",
    "shift_w=int((shift_w*Ts)/1000)\n",
    "if window<1:\n",
    "    window=1\n",
    "if shift_w<1:\n",
    "    shift_w=1\n",
    "\n",
    "tt=len(DB[19][4][0,:,0])\n",
    "pp=len(DB)\n",
    "kk=len(DB[0])\n",
    "\n",
    "if model=='LDA':\n",
    "    clf=LDA()\n",
    "elif model=='QDA':\n",
    "    clf=QDA()\n",
    "elif model=='SVM':\n",
    "    clf=svm.SVC(kernel='linear')\n",
    "elif model=='LG':\n",
    "    clf=LG()"
   ]
  },
  {
   "cell_type": "markdown",
   "id": "e41f007a-17fa-4264-be1c-cf141e820db4",
   "metadata": {},
   "source": [
    "## CV each shifted data"
   ]
  },
  {
   "cell_type": "code",
   "execution_count": 13,
   "id": "f4d6c803-d10a-4be4-9b4a-2ee9fafc476c",
   "metadata": {
    "execution": {
     "iopub.execute_input": "2023-10-18T07:07:16.821277Z",
     "iopub.status.busy": "2023-10-18T07:07:16.820482Z",
     "iopub.status.idle": "2023-10-18T11:58:06.965965Z",
     "shell.execute_reply": "2023-10-18T11:58:06.965710Z",
     "shell.execute_reply.started": "2023-10-18T07:07:16.821277Z"
    },
    "tags": []
   },
   "outputs": [
    {
     "name": "stderr",
     "output_type": "stream",
     "text": [
      "C:\\Users\\user\\AppData\\Roaming\\Python\\Python310\\site-packages\\numpy\\core\\fromnumeric.py:43: VisibleDeprecationWarning: Creating an ndarray from ragged nested sequences (which is a list-or-tuple of lists-or-tuples-or ndarrays with different lengths or shapes) is deprecated. If you meant to do this, you must specify 'dtype=object' when creating the ndarray.\n",
      "  result = getattr(asarray(obj), method)(*args, **kwds)\n"
     ]
    },
    {
     "name": "stdout",
     "output_type": "stream",
     "text": [
      "Participant_0\n"
     ]
    },
    {
     "data": {
      "application/vnd.jupyter.widget-view+json": {
       "model_id": "16e44de2aab6474ebe6586f5b74fd73f",
       "version_major": 2,
       "version_minor": 0
      },
      "text/plain": [
       "  0%|          | 0/20 [00:00<?, ?it/s]"
      ]
     },
     "metadata": {},
     "output_type": "display_data"
    },
    {
     "data": {
      "application/vnd.jupyter.widget-view+json": {
       "model_id": "a7f9494d01c545c6aaeec133c3bf57e8",
       "version_major": 2,
       "version_minor": 0
      },
      "text/plain": [
       "  0%|          | 0/20 [00:00<?, ?it/s]"
      ]
     },
     "metadata": {},
     "output_type": "display_data"
    },
    {
     "data": {
      "application/vnd.jupyter.widget-view+json": {
       "model_id": "7e662529751f4771bd26f65a2f856eef",
       "version_major": 2,
       "version_minor": 0
      },
      "text/plain": [
       "  0%|          | 0/20 [00:00<?, ?it/s]"
      ]
     },
     "metadata": {},
     "output_type": "display_data"
    },
    {
     "data": {
      "application/vnd.jupyter.widget-view+json": {
       "model_id": "4f52952c07ee4da991764143b0ff98d8",
       "version_major": 2,
       "version_minor": 0
      },
      "text/plain": [
       "  0%|          | 0/20 [00:00<?, ?it/s]"
      ]
     },
     "metadata": {},
     "output_type": "display_data"
    },
    {
     "data": {
      "application/vnd.jupyter.widget-view+json": {
       "model_id": "8e11c1ca61314c4a9c0c59f5b217c8b0",
       "version_major": 2,
       "version_minor": 0
      },
      "text/plain": [
       "  0%|          | 0/20 [00:00<?, ?it/s]"
      ]
     },
     "metadata": {},
     "output_type": "display_data"
    },
    {
     "data": {
      "application/vnd.jupyter.widget-view+json": {
       "model_id": "da377a32287a4f45a8c1f48a498b61e3",
       "version_major": 2,
       "version_minor": 0
      },
      "text/plain": [
       "  0%|          | 0/20 [00:00<?, ?it/s]"
      ]
     },
     "metadata": {},
     "output_type": "display_data"
    },
    {
     "data": {
      "application/vnd.jupyter.widget-view+json": {
       "model_id": "0ab03d4a843e4466990beff47726b45e",
       "version_major": 2,
       "version_minor": 0
      },
      "text/plain": [
       "  0%|          | 0/20 [00:00<?, ?it/s]"
      ]
     },
     "metadata": {},
     "output_type": "display_data"
    },
    {
     "data": {
      "application/vnd.jupyter.widget-view+json": {
       "model_id": "400b752cb2494ea0818efe1aaf413320",
       "version_major": 2,
       "version_minor": 0
      },
      "text/plain": [
       "  0%|          | 0/20 [00:00<?, ?it/s]"
      ]
     },
     "metadata": {},
     "output_type": "display_data"
    },
    {
     "data": {
      "application/vnd.jupyter.widget-view+json": {
       "model_id": "271b80bc60ce4651912dcbb9e449d5c5",
       "version_major": 2,
       "version_minor": 0
      },
      "text/plain": [
       "  0%|          | 0/20 [00:00<?, ?it/s]"
      ]
     },
     "metadata": {},
     "output_type": "display_data"
    },
    {
     "data": {
      "application/vnd.jupyter.widget-view+json": {
       "model_id": "305a394e8e0647bb95cfd14ab59f9e35",
       "version_major": 2,
       "version_minor": 0
      },
      "text/plain": [
       "  0%|          | 0/20 [00:00<?, ?it/s]"
      ]
     },
     "metadata": {},
     "output_type": "display_data"
    },
    {
     "name": "stdout",
     "output_type": "stream",
     "text": [
      "Participant_1\n"
     ]
    },
    {
     "data": {
      "application/vnd.jupyter.widget-view+json": {
       "model_id": "d7f743d10df0460dbb6ea2dad2ff2b87",
       "version_major": 2,
       "version_minor": 0
      },
      "text/plain": [
       "  0%|          | 0/20 [00:00<?, ?it/s]"
      ]
     },
     "metadata": {},
     "output_type": "display_data"
    },
    {
     "data": {
      "application/vnd.jupyter.widget-view+json": {
       "model_id": "f27f9a907b074630bc51788a2a38de4a",
       "version_major": 2,
       "version_minor": 0
      },
      "text/plain": [
       "  0%|          | 0/20 [00:00<?, ?it/s]"
      ]
     },
     "metadata": {},
     "output_type": "display_data"
    },
    {
     "data": {
      "application/vnd.jupyter.widget-view+json": {
       "model_id": "9750973b5ce3417d9460415c0cd74711",
       "version_major": 2,
       "version_minor": 0
      },
      "text/plain": [
       "  0%|          | 0/20 [00:00<?, ?it/s]"
      ]
     },
     "metadata": {},
     "output_type": "display_data"
    },
    {
     "data": {
      "application/vnd.jupyter.widget-view+json": {
       "model_id": "3c206c585049402d806036fe4312226e",
       "version_major": 2,
       "version_minor": 0
      },
      "text/plain": [
       "  0%|          | 0/20 [00:00<?, ?it/s]"
      ]
     },
     "metadata": {},
     "output_type": "display_data"
    },
    {
     "data": {
      "application/vnd.jupyter.widget-view+json": {
       "model_id": "90f943d781ac4a5a9c5d230a71621611",
       "version_major": 2,
       "version_minor": 0
      },
      "text/plain": [
       "  0%|          | 0/20 [00:00<?, ?it/s]"
      ]
     },
     "metadata": {},
     "output_type": "display_data"
    },
    {
     "data": {
      "application/vnd.jupyter.widget-view+json": {
       "model_id": "26ccc8153a824a6eac50f5605d8b2705",
       "version_major": 2,
       "version_minor": 0
      },
      "text/plain": [
       "  0%|          | 0/20 [00:00<?, ?it/s]"
      ]
     },
     "metadata": {},
     "output_type": "display_data"
    },
    {
     "data": {
      "application/vnd.jupyter.widget-view+json": {
       "model_id": "60cfbad7a59a47179d480bb9a3bcd1a0",
       "version_major": 2,
       "version_minor": 0
      },
      "text/plain": [
       "  0%|          | 0/20 [00:00<?, ?it/s]"
      ]
     },
     "metadata": {},
     "output_type": "display_data"
    },
    {
     "data": {
      "application/vnd.jupyter.widget-view+json": {
       "model_id": "e564d8db959745888c32f5883bdf8977",
       "version_major": 2,
       "version_minor": 0
      },
      "text/plain": [
       "  0%|          | 0/20 [00:00<?, ?it/s]"
      ]
     },
     "metadata": {},
     "output_type": "display_data"
    },
    {
     "data": {
      "application/vnd.jupyter.widget-view+json": {
       "model_id": "861e5bdc86db4658aae8f4403099eb69",
       "version_major": 2,
       "version_minor": 0
      },
      "text/plain": [
       "  0%|          | 0/20 [00:00<?, ?it/s]"
      ]
     },
     "metadata": {},
     "output_type": "display_data"
    },
    {
     "data": {
      "application/vnd.jupyter.widget-view+json": {
       "model_id": "6ffaf9d27eb2440f8464c60351494db4",
       "version_major": 2,
       "version_minor": 0
      },
      "text/plain": [
       "  0%|          | 0/20 [00:00<?, ?it/s]"
      ]
     },
     "metadata": {},
     "output_type": "display_data"
    },
    {
     "name": "stdout",
     "output_type": "stream",
     "text": [
      "Participant_2\n"
     ]
    },
    {
     "data": {
      "application/vnd.jupyter.widget-view+json": {
       "model_id": "7985300b16b446fb8b61151c4d7de237",
       "version_major": 2,
       "version_minor": 0
      },
      "text/plain": [
       "  0%|          | 0/20 [00:00<?, ?it/s]"
      ]
     },
     "metadata": {},
     "output_type": "display_data"
    },
    {
     "data": {
      "application/vnd.jupyter.widget-view+json": {
       "model_id": "36fb2d1a44f44222891b3a5e68e12631",
       "version_major": 2,
       "version_minor": 0
      },
      "text/plain": [
       "  0%|          | 0/20 [00:00<?, ?it/s]"
      ]
     },
     "metadata": {},
     "output_type": "display_data"
    },
    {
     "data": {
      "application/vnd.jupyter.widget-view+json": {
       "model_id": "cf11e28cff544258b70e94153009da2e",
       "version_major": 2,
       "version_minor": 0
      },
      "text/plain": [
       "  0%|          | 0/20 [00:00<?, ?it/s]"
      ]
     },
     "metadata": {},
     "output_type": "display_data"
    },
    {
     "data": {
      "application/vnd.jupyter.widget-view+json": {
       "model_id": "e1259e64bef449b9b6f3d7c345dedd90",
       "version_major": 2,
       "version_minor": 0
      },
      "text/plain": [
       "  0%|          | 0/20 [00:00<?, ?it/s]"
      ]
     },
     "metadata": {},
     "output_type": "display_data"
    },
    {
     "data": {
      "application/vnd.jupyter.widget-view+json": {
       "model_id": "1a3ce170535241fbb1dbcb778c42e5e5",
       "version_major": 2,
       "version_minor": 0
      },
      "text/plain": [
       "  0%|          | 0/20 [00:00<?, ?it/s]"
      ]
     },
     "metadata": {},
     "output_type": "display_data"
    },
    {
     "data": {
      "application/vnd.jupyter.widget-view+json": {
       "model_id": "14eba9d69fb943ada6ba82d1061f3e83",
       "version_major": 2,
       "version_minor": 0
      },
      "text/plain": [
       "  0%|          | 0/20 [00:00<?, ?it/s]"
      ]
     },
     "metadata": {},
     "output_type": "display_data"
    },
    {
     "data": {
      "application/vnd.jupyter.widget-view+json": {
       "model_id": "8a599709bf4d4c9794a76ac2e4861b3f",
       "version_major": 2,
       "version_minor": 0
      },
      "text/plain": [
       "  0%|          | 0/20 [00:00<?, ?it/s]"
      ]
     },
     "metadata": {},
     "output_type": "display_data"
    },
    {
     "data": {
      "application/vnd.jupyter.widget-view+json": {
       "model_id": "f14bccc54ae0459690b3eacf4ed87549",
       "version_major": 2,
       "version_minor": 0
      },
      "text/plain": [
       "  0%|          | 0/20 [00:00<?, ?it/s]"
      ]
     },
     "metadata": {},
     "output_type": "display_data"
    },
    {
     "data": {
      "application/vnd.jupyter.widget-view+json": {
       "model_id": "5ef211d5b7cb4ac5a3fd937cc1172d22",
       "version_major": 2,
       "version_minor": 0
      },
      "text/plain": [
       "  0%|          | 0/20 [00:00<?, ?it/s]"
      ]
     },
     "metadata": {},
     "output_type": "display_data"
    },
    {
     "data": {
      "application/vnd.jupyter.widget-view+json": {
       "model_id": "3c190358b099455a97152fcb39594840",
       "version_major": 2,
       "version_minor": 0
      },
      "text/plain": [
       "  0%|          | 0/20 [00:00<?, ?it/s]"
      ]
     },
     "metadata": {},
     "output_type": "display_data"
    },
    {
     "name": "stdout",
     "output_type": "stream",
     "text": [
      "Participant_3\n"
     ]
    },
    {
     "data": {
      "application/vnd.jupyter.widget-view+json": {
       "model_id": "8950bb201e554df4b20e7041caf28164",
       "version_major": 2,
       "version_minor": 0
      },
      "text/plain": [
       "  0%|          | 0/20 [00:00<?, ?it/s]"
      ]
     },
     "metadata": {},
     "output_type": "display_data"
    },
    {
     "data": {
      "application/vnd.jupyter.widget-view+json": {
       "model_id": "d4aa546f2e4b4c15becf46eb74e3b831",
       "version_major": 2,
       "version_minor": 0
      },
      "text/plain": [
       "  0%|          | 0/20 [00:00<?, ?it/s]"
      ]
     },
     "metadata": {},
     "output_type": "display_data"
    },
    {
     "data": {
      "application/vnd.jupyter.widget-view+json": {
       "model_id": "55fedece9b5743efac9b21ab5105267d",
       "version_major": 2,
       "version_minor": 0
      },
      "text/plain": [
       "  0%|          | 0/20 [00:00<?, ?it/s]"
      ]
     },
     "metadata": {},
     "output_type": "display_data"
    },
    {
     "data": {
      "application/vnd.jupyter.widget-view+json": {
       "model_id": "b1655d71cd2344bdb9105810b688650f",
       "version_major": 2,
       "version_minor": 0
      },
      "text/plain": [
       "  0%|          | 0/20 [00:00<?, ?it/s]"
      ]
     },
     "metadata": {},
     "output_type": "display_data"
    },
    {
     "data": {
      "application/vnd.jupyter.widget-view+json": {
       "model_id": "239bd42083bc4191bb3aabacf02d36c2",
       "version_major": 2,
       "version_minor": 0
      },
      "text/plain": [
       "  0%|          | 0/20 [00:00<?, ?it/s]"
      ]
     },
     "metadata": {},
     "output_type": "display_data"
    },
    {
     "data": {
      "application/vnd.jupyter.widget-view+json": {
       "model_id": "d8381a95cfb54772b28d4b3e4cb54fe5",
       "version_major": 2,
       "version_minor": 0
      },
      "text/plain": [
       "  0%|          | 0/20 [00:00<?, ?it/s]"
      ]
     },
     "metadata": {},
     "output_type": "display_data"
    },
    {
     "data": {
      "application/vnd.jupyter.widget-view+json": {
       "model_id": "f18c61df9eb44c438e93e24a8d8ca542",
       "version_major": 2,
       "version_minor": 0
      },
      "text/plain": [
       "  0%|          | 0/20 [00:00<?, ?it/s]"
      ]
     },
     "metadata": {},
     "output_type": "display_data"
    },
    {
     "data": {
      "application/vnd.jupyter.widget-view+json": {
       "model_id": "8043b09df5184cc98b8650730e5504d0",
       "version_major": 2,
       "version_minor": 0
      },
      "text/plain": [
       "  0%|          | 0/20 [00:00<?, ?it/s]"
      ]
     },
     "metadata": {},
     "output_type": "display_data"
    },
    {
     "data": {
      "application/vnd.jupyter.widget-view+json": {
       "model_id": "7769ae79a94644508d035cd489f63f2f",
       "version_major": 2,
       "version_minor": 0
      },
      "text/plain": [
       "  0%|          | 0/20 [00:00<?, ?it/s]"
      ]
     },
     "metadata": {},
     "output_type": "display_data"
    },
    {
     "data": {
      "application/vnd.jupyter.widget-view+json": {
       "model_id": "c67a967750904c8783f7a40381e9777e",
       "version_major": 2,
       "version_minor": 0
      },
      "text/plain": [
       "  0%|          | 0/20 [00:00<?, ?it/s]"
      ]
     },
     "metadata": {},
     "output_type": "display_data"
    },
    {
     "name": "stdout",
     "output_type": "stream",
     "text": [
      "Participant_4\n"
     ]
    },
    {
     "data": {
      "application/vnd.jupyter.widget-view+json": {
       "model_id": "80baf4505a5f479e975fb06e84557e4c",
       "version_major": 2,
       "version_minor": 0
      },
      "text/plain": [
       "  0%|          | 0/20 [00:00<?, ?it/s]"
      ]
     },
     "metadata": {},
     "output_type": "display_data"
    },
    {
     "data": {
      "application/vnd.jupyter.widget-view+json": {
       "model_id": "611022ef464a44b49dc163a3ed904b0f",
       "version_major": 2,
       "version_minor": 0
      },
      "text/plain": [
       "  0%|          | 0/20 [00:00<?, ?it/s]"
      ]
     },
     "metadata": {},
     "output_type": "display_data"
    },
    {
     "data": {
      "application/vnd.jupyter.widget-view+json": {
       "model_id": "e85557a1561c4612ac798a1d0d2a848e",
       "version_major": 2,
       "version_minor": 0
      },
      "text/plain": [
       "  0%|          | 0/20 [00:00<?, ?it/s]"
      ]
     },
     "metadata": {},
     "output_type": "display_data"
    },
    {
     "data": {
      "application/vnd.jupyter.widget-view+json": {
       "model_id": "cf4fc18fb6144ab5a43aa2ef40c77ab0",
       "version_major": 2,
       "version_minor": 0
      },
      "text/plain": [
       "  0%|          | 0/20 [00:00<?, ?it/s]"
      ]
     },
     "metadata": {},
     "output_type": "display_data"
    },
    {
     "data": {
      "application/vnd.jupyter.widget-view+json": {
       "model_id": "a7b92de9bc69497199bc24f190366d25",
       "version_major": 2,
       "version_minor": 0
      },
      "text/plain": [
       "  0%|          | 0/20 [00:00<?, ?it/s]"
      ]
     },
     "metadata": {},
     "output_type": "display_data"
    },
    {
     "data": {
      "application/vnd.jupyter.widget-view+json": {
       "model_id": "fcd9cd74734549a8a219a5575d946f3a",
       "version_major": 2,
       "version_minor": 0
      },
      "text/plain": [
       "  0%|          | 0/20 [00:00<?, ?it/s]"
      ]
     },
     "metadata": {},
     "output_type": "display_data"
    },
    {
     "data": {
      "application/vnd.jupyter.widget-view+json": {
       "model_id": "816fdf1b7ebf42e0a9f10499dc73b0e8",
       "version_major": 2,
       "version_minor": 0
      },
      "text/plain": [
       "  0%|          | 0/20 [00:00<?, ?it/s]"
      ]
     },
     "metadata": {},
     "output_type": "display_data"
    },
    {
     "data": {
      "application/vnd.jupyter.widget-view+json": {
       "model_id": "98867daed5bb4962915da71dbce5514a",
       "version_major": 2,
       "version_minor": 0
      },
      "text/plain": [
       "  0%|          | 0/20 [00:00<?, ?it/s]"
      ]
     },
     "metadata": {},
     "output_type": "display_data"
    },
    {
     "data": {
      "application/vnd.jupyter.widget-view+json": {
       "model_id": "eb25a5d55966431eb52cf997115d8b78",
       "version_major": 2,
       "version_minor": 0
      },
      "text/plain": [
       "  0%|          | 0/20 [00:00<?, ?it/s]"
      ]
     },
     "metadata": {},
     "output_type": "display_data"
    },
    {
     "data": {
      "application/vnd.jupyter.widget-view+json": {
       "model_id": "f923caadc77d4d378997f0fb5fbc8b2d",
       "version_major": 2,
       "version_minor": 0
      },
      "text/plain": [
       "  0%|          | 0/20 [00:00<?, ?it/s]"
      ]
     },
     "metadata": {},
     "output_type": "display_data"
    },
    {
     "name": "stdout",
     "output_type": "stream",
     "text": [
      "Participant_5\n"
     ]
    },
    {
     "data": {
      "application/vnd.jupyter.widget-view+json": {
       "model_id": "b56eb975321b4acea962a3b2abedd223",
       "version_major": 2,
       "version_minor": 0
      },
      "text/plain": [
       "  0%|          | 0/20 [00:00<?, ?it/s]"
      ]
     },
     "metadata": {},
     "output_type": "display_data"
    },
    {
     "data": {
      "application/vnd.jupyter.widget-view+json": {
       "model_id": "320a9f809077455fad91cf4c9d032cfc",
       "version_major": 2,
       "version_minor": 0
      },
      "text/plain": [
       "  0%|          | 0/20 [00:00<?, ?it/s]"
      ]
     },
     "metadata": {},
     "output_type": "display_data"
    },
    {
     "data": {
      "application/vnd.jupyter.widget-view+json": {
       "model_id": "c481dc3a4f70411d9855402ec8dc9418",
       "version_major": 2,
       "version_minor": 0
      },
      "text/plain": [
       "  0%|          | 0/20 [00:00<?, ?it/s]"
      ]
     },
     "metadata": {},
     "output_type": "display_data"
    },
    {
     "data": {
      "application/vnd.jupyter.widget-view+json": {
       "model_id": "cc2790d43a60438eb7a3e4dd7d18c321",
       "version_major": 2,
       "version_minor": 0
      },
      "text/plain": [
       "  0%|          | 0/20 [00:00<?, ?it/s]"
      ]
     },
     "metadata": {},
     "output_type": "display_data"
    },
    {
     "data": {
      "application/vnd.jupyter.widget-view+json": {
       "model_id": "777fde7c73fd49219bd2905f4a960e4b",
       "version_major": 2,
       "version_minor": 0
      },
      "text/plain": [
       "  0%|          | 0/20 [00:00<?, ?it/s]"
      ]
     },
     "metadata": {},
     "output_type": "display_data"
    },
    {
     "data": {
      "application/vnd.jupyter.widget-view+json": {
       "model_id": "258351b3e5ae402bbaeae2f4b8e16c81",
       "version_major": 2,
       "version_minor": 0
      },
      "text/plain": [
       "  0%|          | 0/20 [00:00<?, ?it/s]"
      ]
     },
     "metadata": {},
     "output_type": "display_data"
    },
    {
     "data": {
      "application/vnd.jupyter.widget-view+json": {
       "model_id": "0ce1a01f50d84d029a21a6bf2027774c",
       "version_major": 2,
       "version_minor": 0
      },
      "text/plain": [
       "  0%|          | 0/20 [00:00<?, ?it/s]"
      ]
     },
     "metadata": {},
     "output_type": "display_data"
    },
    {
     "data": {
      "application/vnd.jupyter.widget-view+json": {
       "model_id": "f3c38b4cae364a739ee865e0ac01a76b",
       "version_major": 2,
       "version_minor": 0
      },
      "text/plain": [
       "  0%|          | 0/20 [00:00<?, ?it/s]"
      ]
     },
     "metadata": {},
     "output_type": "display_data"
    },
    {
     "data": {
      "application/vnd.jupyter.widget-view+json": {
       "model_id": "3bd65e74765a4357adcc53dc85edf64a",
       "version_major": 2,
       "version_minor": 0
      },
      "text/plain": [
       "  0%|          | 0/20 [00:00<?, ?it/s]"
      ]
     },
     "metadata": {},
     "output_type": "display_data"
    },
    {
     "data": {
      "application/vnd.jupyter.widget-view+json": {
       "model_id": "270400ba5b1e47e68f0d0bdec9157420",
       "version_major": 2,
       "version_minor": 0
      },
      "text/plain": [
       "  0%|          | 0/20 [00:00<?, ?it/s]"
      ]
     },
     "metadata": {},
     "output_type": "display_data"
    },
    {
     "name": "stdout",
     "output_type": "stream",
     "text": [
      "Participant_6\n"
     ]
    },
    {
     "data": {
      "application/vnd.jupyter.widget-view+json": {
       "model_id": "74988c85900a41f1920f2cf47ce3ea5c",
       "version_major": 2,
       "version_minor": 0
      },
      "text/plain": [
       "  0%|          | 0/20 [00:00<?, ?it/s]"
      ]
     },
     "metadata": {},
     "output_type": "display_data"
    },
    {
     "data": {
      "application/vnd.jupyter.widget-view+json": {
       "model_id": "06b7f92c4f4b492b8cea89907cd78e2f",
       "version_major": 2,
       "version_minor": 0
      },
      "text/plain": [
       "  0%|          | 0/20 [00:00<?, ?it/s]"
      ]
     },
     "metadata": {},
     "output_type": "display_data"
    },
    {
     "data": {
      "application/vnd.jupyter.widget-view+json": {
       "model_id": "0c90f6bfa3de4702afe263ab4839fec5",
       "version_major": 2,
       "version_minor": 0
      },
      "text/plain": [
       "  0%|          | 0/20 [00:00<?, ?it/s]"
      ]
     },
     "metadata": {},
     "output_type": "display_data"
    },
    {
     "data": {
      "application/vnd.jupyter.widget-view+json": {
       "model_id": "50c0434a14224d9e952419d810c6418f",
       "version_major": 2,
       "version_minor": 0
      },
      "text/plain": [
       "  0%|          | 0/20 [00:00<?, ?it/s]"
      ]
     },
     "metadata": {},
     "output_type": "display_data"
    },
    {
     "data": {
      "application/vnd.jupyter.widget-view+json": {
       "model_id": "43824d58ec6d4689ab4a894de533e82f",
       "version_major": 2,
       "version_minor": 0
      },
      "text/plain": [
       "  0%|          | 0/20 [00:00<?, ?it/s]"
      ]
     },
     "metadata": {},
     "output_type": "display_data"
    },
    {
     "data": {
      "application/vnd.jupyter.widget-view+json": {
       "model_id": "726d89db1f014b108001f0170030b162",
       "version_major": 2,
       "version_minor": 0
      },
      "text/plain": [
       "  0%|          | 0/20 [00:00<?, ?it/s]"
      ]
     },
     "metadata": {},
     "output_type": "display_data"
    },
    {
     "data": {
      "application/vnd.jupyter.widget-view+json": {
       "model_id": "6f6dc23bf7834cdaa7e868ed396bcbf9",
       "version_major": 2,
       "version_minor": 0
      },
      "text/plain": [
       "  0%|          | 0/20 [00:00<?, ?it/s]"
      ]
     },
     "metadata": {},
     "output_type": "display_data"
    },
    {
     "data": {
      "application/vnd.jupyter.widget-view+json": {
       "model_id": "73b7911ea91d4d7989547dcbe2c36710",
       "version_major": 2,
       "version_minor": 0
      },
      "text/plain": [
       "  0%|          | 0/20 [00:00<?, ?it/s]"
      ]
     },
     "metadata": {},
     "output_type": "display_data"
    },
    {
     "data": {
      "application/vnd.jupyter.widget-view+json": {
       "model_id": "aa74c76c81e9430cb8dfe16e81e0e530",
       "version_major": 2,
       "version_minor": 0
      },
      "text/plain": [
       "  0%|          | 0/20 [00:00<?, ?it/s]"
      ]
     },
     "metadata": {},
     "output_type": "display_data"
    },
    {
     "data": {
      "application/vnd.jupyter.widget-view+json": {
       "model_id": "6642123e39e540898ffbe444d0be0d45",
       "version_major": 2,
       "version_minor": 0
      },
      "text/plain": [
       "  0%|          | 0/20 [00:00<?, ?it/s]"
      ]
     },
     "metadata": {},
     "output_type": "display_data"
    },
    {
     "name": "stdout",
     "output_type": "stream",
     "text": [
      "Participant_7\n"
     ]
    },
    {
     "data": {
      "application/vnd.jupyter.widget-view+json": {
       "model_id": "bfbc53dec17f42889c21c0ee9b38a70a",
       "version_major": 2,
       "version_minor": 0
      },
      "text/plain": [
       "  0%|          | 0/20 [00:00<?, ?it/s]"
      ]
     },
     "metadata": {},
     "output_type": "display_data"
    },
    {
     "data": {
      "application/vnd.jupyter.widget-view+json": {
       "model_id": "a75e76e44726481c9007e3d51de24561",
       "version_major": 2,
       "version_minor": 0
      },
      "text/plain": [
       "  0%|          | 0/20 [00:00<?, ?it/s]"
      ]
     },
     "metadata": {},
     "output_type": "display_data"
    },
    {
     "data": {
      "application/vnd.jupyter.widget-view+json": {
       "model_id": "6244c626b5b1438ca9ffdef02e83551c",
       "version_major": 2,
       "version_minor": 0
      },
      "text/plain": [
       "  0%|          | 0/20 [00:00<?, ?it/s]"
      ]
     },
     "metadata": {},
     "output_type": "display_data"
    },
    {
     "data": {
      "application/vnd.jupyter.widget-view+json": {
       "model_id": "1d397fa0f2894bd98d531d89a8012076",
       "version_major": 2,
       "version_minor": 0
      },
      "text/plain": [
       "  0%|          | 0/20 [00:00<?, ?it/s]"
      ]
     },
     "metadata": {},
     "output_type": "display_data"
    },
    {
     "data": {
      "application/vnd.jupyter.widget-view+json": {
       "model_id": "798511f72e8f4ba48548f226d5a50906",
       "version_major": 2,
       "version_minor": 0
      },
      "text/plain": [
       "  0%|          | 0/20 [00:00<?, ?it/s]"
      ]
     },
     "metadata": {},
     "output_type": "display_data"
    },
    {
     "data": {
      "application/vnd.jupyter.widget-view+json": {
       "model_id": "0052f7623c6a4d798f53873284ed515e",
       "version_major": 2,
       "version_minor": 0
      },
      "text/plain": [
       "  0%|          | 0/20 [00:00<?, ?it/s]"
      ]
     },
     "metadata": {},
     "output_type": "display_data"
    },
    {
     "data": {
      "application/vnd.jupyter.widget-view+json": {
       "model_id": "8a4d5e0699d8455686a2c865c244b816",
       "version_major": 2,
       "version_minor": 0
      },
      "text/plain": [
       "  0%|          | 0/20 [00:00<?, ?it/s]"
      ]
     },
     "metadata": {},
     "output_type": "display_data"
    },
    {
     "data": {
      "application/vnd.jupyter.widget-view+json": {
       "model_id": "4157adb5a56b4b35b0793866957b48d0",
       "version_major": 2,
       "version_minor": 0
      },
      "text/plain": [
       "  0%|          | 0/20 [00:00<?, ?it/s]"
      ]
     },
     "metadata": {},
     "output_type": "display_data"
    },
    {
     "data": {
      "application/vnd.jupyter.widget-view+json": {
       "model_id": "7547ee2b1ea441cf936c88f67655012b",
       "version_major": 2,
       "version_minor": 0
      },
      "text/plain": [
       "  0%|          | 0/20 [00:00<?, ?it/s]"
      ]
     },
     "metadata": {},
     "output_type": "display_data"
    },
    {
     "data": {
      "application/vnd.jupyter.widget-view+json": {
       "model_id": "e90ec23165c24aeea9da612e54a11c63",
       "version_major": 2,
       "version_minor": 0
      },
      "text/plain": [
       "  0%|          | 0/20 [00:00<?, ?it/s]"
      ]
     },
     "metadata": {},
     "output_type": "display_data"
    },
    {
     "name": "stdout",
     "output_type": "stream",
     "text": [
      "Participant_8\n"
     ]
    },
    {
     "data": {
      "application/vnd.jupyter.widget-view+json": {
       "model_id": "16298343b3a84b5f996f6249728e1d29",
       "version_major": 2,
       "version_minor": 0
      },
      "text/plain": [
       "  0%|          | 0/20 [00:00<?, ?it/s]"
      ]
     },
     "metadata": {},
     "output_type": "display_data"
    },
    {
     "data": {
      "application/vnd.jupyter.widget-view+json": {
       "model_id": "28522463078a46fa96ea6511e7c9a7d9",
       "version_major": 2,
       "version_minor": 0
      },
      "text/plain": [
       "  0%|          | 0/20 [00:00<?, ?it/s]"
      ]
     },
     "metadata": {},
     "output_type": "display_data"
    },
    {
     "data": {
      "application/vnd.jupyter.widget-view+json": {
       "model_id": "3a896a64788444ab973b9b1e2a1133dc",
       "version_major": 2,
       "version_minor": 0
      },
      "text/plain": [
       "  0%|          | 0/20 [00:00<?, ?it/s]"
      ]
     },
     "metadata": {},
     "output_type": "display_data"
    },
    {
     "data": {
      "application/vnd.jupyter.widget-view+json": {
       "model_id": "02d56c5a4ba14acd9f5318d4f40e1e37",
       "version_major": 2,
       "version_minor": 0
      },
      "text/plain": [
       "  0%|          | 0/20 [00:00<?, ?it/s]"
      ]
     },
     "metadata": {},
     "output_type": "display_data"
    },
    {
     "data": {
      "application/vnd.jupyter.widget-view+json": {
       "model_id": "41ff9f0b99924e75aa7b65ee448c04ff",
       "version_major": 2,
       "version_minor": 0
      },
      "text/plain": [
       "  0%|          | 0/20 [00:00<?, ?it/s]"
      ]
     },
     "metadata": {},
     "output_type": "display_data"
    },
    {
     "data": {
      "application/vnd.jupyter.widget-view+json": {
       "model_id": "472a7a53baa84e12ac131ad490542c08",
       "version_major": 2,
       "version_minor": 0
      },
      "text/plain": [
       "  0%|          | 0/20 [00:00<?, ?it/s]"
      ]
     },
     "metadata": {},
     "output_type": "display_data"
    },
    {
     "data": {
      "application/vnd.jupyter.widget-view+json": {
       "model_id": "ca3f216efa0e42df9d7610d41f582694",
       "version_major": 2,
       "version_minor": 0
      },
      "text/plain": [
       "  0%|          | 0/20 [00:00<?, ?it/s]"
      ]
     },
     "metadata": {},
     "output_type": "display_data"
    },
    {
     "data": {
      "application/vnd.jupyter.widget-view+json": {
       "model_id": "d46dad78d11b4daeb286fc347cc027c1",
       "version_major": 2,
       "version_minor": 0
      },
      "text/plain": [
       "  0%|          | 0/20 [00:00<?, ?it/s]"
      ]
     },
     "metadata": {},
     "output_type": "display_data"
    },
    {
     "data": {
      "application/vnd.jupyter.widget-view+json": {
       "model_id": "741b9a02a34946b19482c26e5134d9ec",
       "version_major": 2,
       "version_minor": 0
      },
      "text/plain": [
       "  0%|          | 0/20 [00:00<?, ?it/s]"
      ]
     },
     "metadata": {},
     "output_type": "display_data"
    },
    {
     "data": {
      "application/vnd.jupyter.widget-view+json": {
       "model_id": "c9b916166d2a4aebbda9e8dba497203c",
       "version_major": 2,
       "version_minor": 0
      },
      "text/plain": [
       "  0%|          | 0/20 [00:00<?, ?it/s]"
      ]
     },
     "metadata": {},
     "output_type": "display_data"
    },
    {
     "name": "stdout",
     "output_type": "stream",
     "text": [
      "Participant_9\n"
     ]
    },
    {
     "data": {
      "application/vnd.jupyter.widget-view+json": {
       "model_id": "ef6908443d134e008848eb087078580b",
       "version_major": 2,
       "version_minor": 0
      },
      "text/plain": [
       "  0%|          | 0/20 [00:00<?, ?it/s]"
      ]
     },
     "metadata": {},
     "output_type": "display_data"
    },
    {
     "data": {
      "application/vnd.jupyter.widget-view+json": {
       "model_id": "0170c28a84bc4c95891ef1baa8d84612",
       "version_major": 2,
       "version_minor": 0
      },
      "text/plain": [
       "  0%|          | 0/20 [00:00<?, ?it/s]"
      ]
     },
     "metadata": {},
     "output_type": "display_data"
    },
    {
     "data": {
      "application/vnd.jupyter.widget-view+json": {
       "model_id": "73ee6582177d4f7aa0292ea5a5331a3d",
       "version_major": 2,
       "version_minor": 0
      },
      "text/plain": [
       "  0%|          | 0/20 [00:00<?, ?it/s]"
      ]
     },
     "metadata": {},
     "output_type": "display_data"
    },
    {
     "data": {
      "application/vnd.jupyter.widget-view+json": {
       "model_id": "e84f8edf718747d9b7dad55222f98945",
       "version_major": 2,
       "version_minor": 0
      },
      "text/plain": [
       "  0%|          | 0/20 [00:00<?, ?it/s]"
      ]
     },
     "metadata": {},
     "output_type": "display_data"
    },
    {
     "data": {
      "application/vnd.jupyter.widget-view+json": {
       "model_id": "9b3493138aed4eaa85b326604e1cc78e",
       "version_major": 2,
       "version_minor": 0
      },
      "text/plain": [
       "  0%|          | 0/20 [00:00<?, ?it/s]"
      ]
     },
     "metadata": {},
     "output_type": "display_data"
    },
    {
     "data": {
      "application/vnd.jupyter.widget-view+json": {
       "model_id": "146c1248b8ae4df5bb093464de9ca022",
       "version_major": 2,
       "version_minor": 0
      },
      "text/plain": [
       "  0%|          | 0/20 [00:00<?, ?it/s]"
      ]
     },
     "metadata": {},
     "output_type": "display_data"
    },
    {
     "data": {
      "application/vnd.jupyter.widget-view+json": {
       "model_id": "3419db77fc1e46e4b9aff77f5b4c0d3a",
       "version_major": 2,
       "version_minor": 0
      },
      "text/plain": [
       "  0%|          | 0/20 [00:00<?, ?it/s]"
      ]
     },
     "metadata": {},
     "output_type": "display_data"
    },
    {
     "data": {
      "application/vnd.jupyter.widget-view+json": {
       "model_id": "d73dd86cde3742cd9fc6b4ec5fb167da",
       "version_major": 2,
       "version_minor": 0
      },
      "text/plain": [
       "  0%|          | 0/20 [00:00<?, ?it/s]"
      ]
     },
     "metadata": {},
     "output_type": "display_data"
    },
    {
     "data": {
      "application/vnd.jupyter.widget-view+json": {
       "model_id": "0339b676c2c84088920be3cf4e15cdbc",
       "version_major": 2,
       "version_minor": 0
      },
      "text/plain": [
       "  0%|          | 0/20 [00:00<?, ?it/s]"
      ]
     },
     "metadata": {},
     "output_type": "display_data"
    },
    {
     "data": {
      "application/vnd.jupyter.widget-view+json": {
       "model_id": "9fd8721cc4ea4ab686a626ee234431c3",
       "version_major": 2,
       "version_minor": 0
      },
      "text/plain": [
       "  0%|          | 0/20 [00:00<?, ?it/s]"
      ]
     },
     "metadata": {},
     "output_type": "display_data"
    },
    {
     "name": "stdout",
     "output_type": "stream",
     "text": [
      "Participant_10\n"
     ]
    },
    {
     "data": {
      "application/vnd.jupyter.widget-view+json": {
       "model_id": "5b6f7c006e7b4d019fce4eba8187f05e",
       "version_major": 2,
       "version_minor": 0
      },
      "text/plain": [
       "  0%|          | 0/20 [00:00<?, ?it/s]"
      ]
     },
     "metadata": {},
     "output_type": "display_data"
    },
    {
     "data": {
      "application/vnd.jupyter.widget-view+json": {
       "model_id": "90fd84c0c05340cfaaad9f8c773a5467",
       "version_major": 2,
       "version_minor": 0
      },
      "text/plain": [
       "  0%|          | 0/20 [00:00<?, ?it/s]"
      ]
     },
     "metadata": {},
     "output_type": "display_data"
    },
    {
     "data": {
      "application/vnd.jupyter.widget-view+json": {
       "model_id": "b5063b4efe27437e83008c7b198fe1e3",
       "version_major": 2,
       "version_minor": 0
      },
      "text/plain": [
       "  0%|          | 0/20 [00:00<?, ?it/s]"
      ]
     },
     "metadata": {},
     "output_type": "display_data"
    },
    {
     "data": {
      "application/vnd.jupyter.widget-view+json": {
       "model_id": "40c9bccc997d4dc1bc0fd7b442587a7b",
       "version_major": 2,
       "version_minor": 0
      },
      "text/plain": [
       "  0%|          | 0/20 [00:00<?, ?it/s]"
      ]
     },
     "metadata": {},
     "output_type": "display_data"
    },
    {
     "data": {
      "application/vnd.jupyter.widget-view+json": {
       "model_id": "fc6e7cb01a8f406da61e6ea0edd4b186",
       "version_major": 2,
       "version_minor": 0
      },
      "text/plain": [
       "  0%|          | 0/20 [00:00<?, ?it/s]"
      ]
     },
     "metadata": {},
     "output_type": "display_data"
    },
    {
     "data": {
      "application/vnd.jupyter.widget-view+json": {
       "model_id": "341305918e7149dbadde73ee15632161",
       "version_major": 2,
       "version_minor": 0
      },
      "text/plain": [
       "  0%|          | 0/20 [00:00<?, ?it/s]"
      ]
     },
     "metadata": {},
     "output_type": "display_data"
    },
    {
     "data": {
      "application/vnd.jupyter.widget-view+json": {
       "model_id": "3a732f7205754a6d90035e890178622b",
       "version_major": 2,
       "version_minor": 0
      },
      "text/plain": [
       "  0%|          | 0/20 [00:00<?, ?it/s]"
      ]
     },
     "metadata": {},
     "output_type": "display_data"
    },
    {
     "data": {
      "application/vnd.jupyter.widget-view+json": {
       "model_id": "b4f4d1772e1946e88875ba76c2dc10b2",
       "version_major": 2,
       "version_minor": 0
      },
      "text/plain": [
       "  0%|          | 0/20 [00:00<?, ?it/s]"
      ]
     },
     "metadata": {},
     "output_type": "display_data"
    },
    {
     "data": {
      "application/vnd.jupyter.widget-view+json": {
       "model_id": "f38ffab8e2ca4947b48eae3d7b95c745",
       "version_major": 2,
       "version_minor": 0
      },
      "text/plain": [
       "  0%|          | 0/20 [00:00<?, ?it/s]"
      ]
     },
     "metadata": {},
     "output_type": "display_data"
    },
    {
     "data": {
      "application/vnd.jupyter.widget-view+json": {
       "model_id": "d2fdb669a9c944bbb84d8f92a3ec1624",
       "version_major": 2,
       "version_minor": 0
      },
      "text/plain": [
       "  0%|          | 0/20 [00:00<?, ?it/s]"
      ]
     },
     "metadata": {},
     "output_type": "display_data"
    },
    {
     "name": "stdout",
     "output_type": "stream",
     "text": [
      "Participant_11\n"
     ]
    },
    {
     "data": {
      "application/vnd.jupyter.widget-view+json": {
       "model_id": "0b126fe8c0994728b36d350205baa2b1",
       "version_major": 2,
       "version_minor": 0
      },
      "text/plain": [
       "  0%|          | 0/20 [00:00<?, ?it/s]"
      ]
     },
     "metadata": {},
     "output_type": "display_data"
    },
    {
     "data": {
      "application/vnd.jupyter.widget-view+json": {
       "model_id": "9500dc13ba65457ea0ead8b79aa61690",
       "version_major": 2,
       "version_minor": 0
      },
      "text/plain": [
       "  0%|          | 0/20 [00:00<?, ?it/s]"
      ]
     },
     "metadata": {},
     "output_type": "display_data"
    },
    {
     "data": {
      "application/vnd.jupyter.widget-view+json": {
       "model_id": "0892a683f06648d1a85a3b126d61e81c",
       "version_major": 2,
       "version_minor": 0
      },
      "text/plain": [
       "  0%|          | 0/20 [00:00<?, ?it/s]"
      ]
     },
     "metadata": {},
     "output_type": "display_data"
    },
    {
     "data": {
      "application/vnd.jupyter.widget-view+json": {
       "model_id": "3f245f17b69e41b49e8b68d2b0953647",
       "version_major": 2,
       "version_minor": 0
      },
      "text/plain": [
       "  0%|          | 0/20 [00:00<?, ?it/s]"
      ]
     },
     "metadata": {},
     "output_type": "display_data"
    },
    {
     "data": {
      "application/vnd.jupyter.widget-view+json": {
       "model_id": "73fbbc754d544e6ba56cd8945887afbb",
       "version_major": 2,
       "version_minor": 0
      },
      "text/plain": [
       "  0%|          | 0/20 [00:00<?, ?it/s]"
      ]
     },
     "metadata": {},
     "output_type": "display_data"
    },
    {
     "data": {
      "application/vnd.jupyter.widget-view+json": {
       "model_id": "915c0d1dcdb442fea01f378fea2659fa",
       "version_major": 2,
       "version_minor": 0
      },
      "text/plain": [
       "  0%|          | 0/20 [00:00<?, ?it/s]"
      ]
     },
     "metadata": {},
     "output_type": "display_data"
    },
    {
     "data": {
      "application/vnd.jupyter.widget-view+json": {
       "model_id": "9b7ed60c2bb4480885fe2ec39c2c4fa1",
       "version_major": 2,
       "version_minor": 0
      },
      "text/plain": [
       "  0%|          | 0/20 [00:00<?, ?it/s]"
      ]
     },
     "metadata": {},
     "output_type": "display_data"
    },
    {
     "data": {
      "application/vnd.jupyter.widget-view+json": {
       "model_id": "f95fe8d94fab484b838d6423bb578d3d",
       "version_major": 2,
       "version_minor": 0
      },
      "text/plain": [
       "  0%|          | 0/20 [00:00<?, ?it/s]"
      ]
     },
     "metadata": {},
     "output_type": "display_data"
    },
    {
     "data": {
      "application/vnd.jupyter.widget-view+json": {
       "model_id": "a37cdb307ddc41b7ba9f8b7e1a4163ef",
       "version_major": 2,
       "version_minor": 0
      },
      "text/plain": [
       "  0%|          | 0/20 [00:00<?, ?it/s]"
      ]
     },
     "metadata": {},
     "output_type": "display_data"
    },
    {
     "data": {
      "application/vnd.jupyter.widget-view+json": {
       "model_id": "ead5b61754954b678dbf825a6d714291",
       "version_major": 2,
       "version_minor": 0
      },
      "text/plain": [
       "  0%|          | 0/20 [00:00<?, ?it/s]"
      ]
     },
     "metadata": {},
     "output_type": "display_data"
    },
    {
     "name": "stdout",
     "output_type": "stream",
     "text": [
      "Participant_12\n"
     ]
    },
    {
     "data": {
      "application/vnd.jupyter.widget-view+json": {
       "model_id": "02056b3f77dd470aae83db037f04b3f5",
       "version_major": 2,
       "version_minor": 0
      },
      "text/plain": [
       "  0%|          | 0/20 [00:00<?, ?it/s]"
      ]
     },
     "metadata": {},
     "output_type": "display_data"
    },
    {
     "data": {
      "application/vnd.jupyter.widget-view+json": {
       "model_id": "a4772829b78441479b03615042d6ec7f",
       "version_major": 2,
       "version_minor": 0
      },
      "text/plain": [
       "  0%|          | 0/20 [00:00<?, ?it/s]"
      ]
     },
     "metadata": {},
     "output_type": "display_data"
    },
    {
     "data": {
      "application/vnd.jupyter.widget-view+json": {
       "model_id": "2a870d4c1b2e41ecaa003cec510111ab",
       "version_major": 2,
       "version_minor": 0
      },
      "text/plain": [
       "  0%|          | 0/20 [00:00<?, ?it/s]"
      ]
     },
     "metadata": {},
     "output_type": "display_data"
    },
    {
     "data": {
      "application/vnd.jupyter.widget-view+json": {
       "model_id": "442fa10eb7f3437f80209cbdaf288e30",
       "version_major": 2,
       "version_minor": 0
      },
      "text/plain": [
       "  0%|          | 0/20 [00:00<?, ?it/s]"
      ]
     },
     "metadata": {},
     "output_type": "display_data"
    },
    {
     "data": {
      "application/vnd.jupyter.widget-view+json": {
       "model_id": "afeb74dd88454fc5a05dc79116a2f94c",
       "version_major": 2,
       "version_minor": 0
      },
      "text/plain": [
       "  0%|          | 0/20 [00:00<?, ?it/s]"
      ]
     },
     "metadata": {},
     "output_type": "display_data"
    },
    {
     "data": {
      "application/vnd.jupyter.widget-view+json": {
       "model_id": "d6835c3e794f4c17b40d9eefaf1f5010",
       "version_major": 2,
       "version_minor": 0
      },
      "text/plain": [
       "  0%|          | 0/20 [00:00<?, ?it/s]"
      ]
     },
     "metadata": {},
     "output_type": "display_data"
    },
    {
     "data": {
      "application/vnd.jupyter.widget-view+json": {
       "model_id": "5bb250c40aae41f5b4f6a3ef1f926d2f",
       "version_major": 2,
       "version_minor": 0
      },
      "text/plain": [
       "  0%|          | 0/20 [00:00<?, ?it/s]"
      ]
     },
     "metadata": {},
     "output_type": "display_data"
    },
    {
     "data": {
      "application/vnd.jupyter.widget-view+json": {
       "model_id": "23b92ebc17de46fbbc10e2b232421978",
       "version_major": 2,
       "version_minor": 0
      },
      "text/plain": [
       "  0%|          | 0/20 [00:00<?, ?it/s]"
      ]
     },
     "metadata": {},
     "output_type": "display_data"
    },
    {
     "data": {
      "application/vnd.jupyter.widget-view+json": {
       "model_id": "38ec465b397049b18d0cef207adbfb0d",
       "version_major": 2,
       "version_minor": 0
      },
      "text/plain": [
       "  0%|          | 0/20 [00:00<?, ?it/s]"
      ]
     },
     "metadata": {},
     "output_type": "display_data"
    },
    {
     "data": {
      "application/vnd.jupyter.widget-view+json": {
       "model_id": "fb09eb450cda404a9d979c9d70b9612e",
       "version_major": 2,
       "version_minor": 0
      },
      "text/plain": [
       "  0%|          | 0/20 [00:00<?, ?it/s]"
      ]
     },
     "metadata": {},
     "output_type": "display_data"
    },
    {
     "name": "stdout",
     "output_type": "stream",
     "text": [
      "Participant_13\n"
     ]
    },
    {
     "data": {
      "application/vnd.jupyter.widget-view+json": {
       "model_id": "216b848f1e1149b68e8323d7b3bea552",
       "version_major": 2,
       "version_minor": 0
      },
      "text/plain": [
       "  0%|          | 0/20 [00:00<?, ?it/s]"
      ]
     },
     "metadata": {},
     "output_type": "display_data"
    },
    {
     "data": {
      "application/vnd.jupyter.widget-view+json": {
       "model_id": "1800ed26700441329f3e5c55edc6b6ad",
       "version_major": 2,
       "version_minor": 0
      },
      "text/plain": [
       "  0%|          | 0/20 [00:00<?, ?it/s]"
      ]
     },
     "metadata": {},
     "output_type": "display_data"
    },
    {
     "data": {
      "application/vnd.jupyter.widget-view+json": {
       "model_id": "9fa83bcdc9774d10b9cd0fa82c597ed8",
       "version_major": 2,
       "version_minor": 0
      },
      "text/plain": [
       "  0%|          | 0/20 [00:00<?, ?it/s]"
      ]
     },
     "metadata": {},
     "output_type": "display_data"
    },
    {
     "data": {
      "application/vnd.jupyter.widget-view+json": {
       "model_id": "26b4fe7a517d41288cc4dfb1ae9f78b6",
       "version_major": 2,
       "version_minor": 0
      },
      "text/plain": [
       "  0%|          | 0/20 [00:00<?, ?it/s]"
      ]
     },
     "metadata": {},
     "output_type": "display_data"
    },
    {
     "data": {
      "application/vnd.jupyter.widget-view+json": {
       "model_id": "6b983e6fda964b07afc81c6294e9c7d5",
       "version_major": 2,
       "version_minor": 0
      },
      "text/plain": [
       "  0%|          | 0/20 [00:00<?, ?it/s]"
      ]
     },
     "metadata": {},
     "output_type": "display_data"
    },
    {
     "data": {
      "application/vnd.jupyter.widget-view+json": {
       "model_id": "d127f97ac093470092d399a725ee4fba",
       "version_major": 2,
       "version_minor": 0
      },
      "text/plain": [
       "  0%|          | 0/20 [00:00<?, ?it/s]"
      ]
     },
     "metadata": {},
     "output_type": "display_data"
    },
    {
     "data": {
      "application/vnd.jupyter.widget-view+json": {
       "model_id": "3e355c9a42eb495fb4e23b3c567d54cd",
       "version_major": 2,
       "version_minor": 0
      },
      "text/plain": [
       "  0%|          | 0/20 [00:00<?, ?it/s]"
      ]
     },
     "metadata": {},
     "output_type": "display_data"
    },
    {
     "data": {
      "application/vnd.jupyter.widget-view+json": {
       "model_id": "4f20c52bcdef43b994251873a5d46685",
       "version_major": 2,
       "version_minor": 0
      },
      "text/plain": [
       "  0%|          | 0/20 [00:00<?, ?it/s]"
      ]
     },
     "metadata": {},
     "output_type": "display_data"
    },
    {
     "data": {
      "application/vnd.jupyter.widget-view+json": {
       "model_id": "3c1e85107f1f4e949157fc1024d61c71",
       "version_major": 2,
       "version_minor": 0
      },
      "text/plain": [
       "  0%|          | 0/20 [00:00<?, ?it/s]"
      ]
     },
     "metadata": {},
     "output_type": "display_data"
    },
    {
     "data": {
      "application/vnd.jupyter.widget-view+json": {
       "model_id": "100344bc3b4b4d25a7e6cce9291038ae",
       "version_major": 2,
       "version_minor": 0
      },
      "text/plain": [
       "  0%|          | 0/20 [00:00<?, ?it/s]"
      ]
     },
     "metadata": {},
     "output_type": "display_data"
    },
    {
     "name": "stdout",
     "output_type": "stream",
     "text": [
      "Participant_14\n"
     ]
    },
    {
     "data": {
      "application/vnd.jupyter.widget-view+json": {
       "model_id": "eedd8e1a67aa491786100678e34b1b7f",
       "version_major": 2,
       "version_minor": 0
      },
      "text/plain": [
       "  0%|          | 0/20 [00:00<?, ?it/s]"
      ]
     },
     "metadata": {},
     "output_type": "display_data"
    },
    {
     "data": {
      "application/vnd.jupyter.widget-view+json": {
       "model_id": "d6fbcfcd2bf94d48ab269db01b84edf9",
       "version_major": 2,
       "version_minor": 0
      },
      "text/plain": [
       "  0%|          | 0/20 [00:00<?, ?it/s]"
      ]
     },
     "metadata": {},
     "output_type": "display_data"
    },
    {
     "data": {
      "application/vnd.jupyter.widget-view+json": {
       "model_id": "4118bd69dbc74e0da8dd80accde12888",
       "version_major": 2,
       "version_minor": 0
      },
      "text/plain": [
       "  0%|          | 0/20 [00:00<?, ?it/s]"
      ]
     },
     "metadata": {},
     "output_type": "display_data"
    },
    {
     "data": {
      "application/vnd.jupyter.widget-view+json": {
       "model_id": "ca26c3d47ee1425daf67eaf6889471bb",
       "version_major": 2,
       "version_minor": 0
      },
      "text/plain": [
       "  0%|          | 0/20 [00:00<?, ?it/s]"
      ]
     },
     "metadata": {},
     "output_type": "display_data"
    },
    {
     "data": {
      "application/vnd.jupyter.widget-view+json": {
       "model_id": "f4991aebd532443cad62f8883e6e2415",
       "version_major": 2,
       "version_minor": 0
      },
      "text/plain": [
       "  0%|          | 0/20 [00:00<?, ?it/s]"
      ]
     },
     "metadata": {},
     "output_type": "display_data"
    },
    {
     "data": {
      "application/vnd.jupyter.widget-view+json": {
       "model_id": "b7b84d09a61a400497034f2d916e70ac",
       "version_major": 2,
       "version_minor": 0
      },
      "text/plain": [
       "  0%|          | 0/20 [00:00<?, ?it/s]"
      ]
     },
     "metadata": {},
     "output_type": "display_data"
    },
    {
     "data": {
      "application/vnd.jupyter.widget-view+json": {
       "model_id": "c7b0ee7289b74537a0102ce17d6de31d",
       "version_major": 2,
       "version_minor": 0
      },
      "text/plain": [
       "  0%|          | 0/20 [00:00<?, ?it/s]"
      ]
     },
     "metadata": {},
     "output_type": "display_data"
    },
    {
     "data": {
      "application/vnd.jupyter.widget-view+json": {
       "model_id": "ab59ffdf9f4046089b659e9df91fa091",
       "version_major": 2,
       "version_minor": 0
      },
      "text/plain": [
       "  0%|          | 0/20 [00:00<?, ?it/s]"
      ]
     },
     "metadata": {},
     "output_type": "display_data"
    },
    {
     "data": {
      "application/vnd.jupyter.widget-view+json": {
       "model_id": "0365ec492105435eb467ce20f0162297",
       "version_major": 2,
       "version_minor": 0
      },
      "text/plain": [
       "  0%|          | 0/20 [00:00<?, ?it/s]"
      ]
     },
     "metadata": {},
     "output_type": "display_data"
    },
    {
     "data": {
      "application/vnd.jupyter.widget-view+json": {
       "model_id": "8fe2ee1daead410fa5844669c1452ee0",
       "version_major": 2,
       "version_minor": 0
      },
      "text/plain": [
       "  0%|          | 0/20 [00:00<?, ?it/s]"
      ]
     },
     "metadata": {},
     "output_type": "display_data"
    },
    {
     "name": "stdout",
     "output_type": "stream",
     "text": [
      "Participant_15\n"
     ]
    },
    {
     "data": {
      "application/vnd.jupyter.widget-view+json": {
       "model_id": "4cbfe75ed25441468b00569678958203",
       "version_major": 2,
       "version_minor": 0
      },
      "text/plain": [
       "  0%|          | 0/20 [00:00<?, ?it/s]"
      ]
     },
     "metadata": {},
     "output_type": "display_data"
    },
    {
     "data": {
      "application/vnd.jupyter.widget-view+json": {
       "model_id": "e5716477db7d4694a18559ac3bf9e4db",
       "version_major": 2,
       "version_minor": 0
      },
      "text/plain": [
       "  0%|          | 0/20 [00:00<?, ?it/s]"
      ]
     },
     "metadata": {},
     "output_type": "display_data"
    },
    {
     "data": {
      "application/vnd.jupyter.widget-view+json": {
       "model_id": "2434bf57b9d04a6b979c03bb967dd9ea",
       "version_major": 2,
       "version_minor": 0
      },
      "text/plain": [
       "  0%|          | 0/20 [00:00<?, ?it/s]"
      ]
     },
     "metadata": {},
     "output_type": "display_data"
    },
    {
     "data": {
      "application/vnd.jupyter.widget-view+json": {
       "model_id": "ff3dba7eab694bda9fe592707e8e2a07",
       "version_major": 2,
       "version_minor": 0
      },
      "text/plain": [
       "  0%|          | 0/20 [00:00<?, ?it/s]"
      ]
     },
     "metadata": {},
     "output_type": "display_data"
    },
    {
     "data": {
      "application/vnd.jupyter.widget-view+json": {
       "model_id": "01a753e78fb8433c8988d7e7aa343f2e",
       "version_major": 2,
       "version_minor": 0
      },
      "text/plain": [
       "  0%|          | 0/20 [00:00<?, ?it/s]"
      ]
     },
     "metadata": {},
     "output_type": "display_data"
    },
    {
     "data": {
      "application/vnd.jupyter.widget-view+json": {
       "model_id": "aab966d50fdd412f948e1ffd2d501790",
       "version_major": 2,
       "version_minor": 0
      },
      "text/plain": [
       "  0%|          | 0/20 [00:00<?, ?it/s]"
      ]
     },
     "metadata": {},
     "output_type": "display_data"
    },
    {
     "data": {
      "application/vnd.jupyter.widget-view+json": {
       "model_id": "f4bc7bed9c404d60b233a9601084d96e",
       "version_major": 2,
       "version_minor": 0
      },
      "text/plain": [
       "  0%|          | 0/20 [00:00<?, ?it/s]"
      ]
     },
     "metadata": {},
     "output_type": "display_data"
    },
    {
     "data": {
      "application/vnd.jupyter.widget-view+json": {
       "model_id": "0ae63582419243c8b8dea71949b61f83",
       "version_major": 2,
       "version_minor": 0
      },
      "text/plain": [
       "  0%|          | 0/20 [00:00<?, ?it/s]"
      ]
     },
     "metadata": {},
     "output_type": "display_data"
    },
    {
     "data": {
      "application/vnd.jupyter.widget-view+json": {
       "model_id": "2f2983a84aea412cacfe76e1c8436e6d",
       "version_major": 2,
       "version_minor": 0
      },
      "text/plain": [
       "  0%|          | 0/20 [00:00<?, ?it/s]"
      ]
     },
     "metadata": {},
     "output_type": "display_data"
    },
    {
     "data": {
      "application/vnd.jupyter.widget-view+json": {
       "model_id": "34cf93e4fee341229648840dea0c1281",
       "version_major": 2,
       "version_minor": 0
      },
      "text/plain": [
       "  0%|          | 0/20 [00:00<?, ?it/s]"
      ]
     },
     "metadata": {},
     "output_type": "display_data"
    },
    {
     "name": "stdout",
     "output_type": "stream",
     "text": [
      "Participant_16\n"
     ]
    },
    {
     "data": {
      "application/vnd.jupyter.widget-view+json": {
       "model_id": "a702a9cbcdb24bb89ee258ce34aa86e8",
       "version_major": 2,
       "version_minor": 0
      },
      "text/plain": [
       "  0%|          | 0/20 [00:00<?, ?it/s]"
      ]
     },
     "metadata": {},
     "output_type": "display_data"
    },
    {
     "data": {
      "application/vnd.jupyter.widget-view+json": {
       "model_id": "f091317bf053409cab9c9bc7d5602b2e",
       "version_major": 2,
       "version_minor": 0
      },
      "text/plain": [
       "  0%|          | 0/20 [00:00<?, ?it/s]"
      ]
     },
     "metadata": {},
     "output_type": "display_data"
    },
    {
     "data": {
      "application/vnd.jupyter.widget-view+json": {
       "model_id": "b69f99983c1b439c98b0fd71ae6a4870",
       "version_major": 2,
       "version_minor": 0
      },
      "text/plain": [
       "  0%|          | 0/20 [00:00<?, ?it/s]"
      ]
     },
     "metadata": {},
     "output_type": "display_data"
    },
    {
     "data": {
      "application/vnd.jupyter.widget-view+json": {
       "model_id": "16d050b2022349f3b1dc75fc88ea1b35",
       "version_major": 2,
       "version_minor": 0
      },
      "text/plain": [
       "  0%|          | 0/20 [00:00<?, ?it/s]"
      ]
     },
     "metadata": {},
     "output_type": "display_data"
    },
    {
     "data": {
      "application/vnd.jupyter.widget-view+json": {
       "model_id": "f248f71214ff406dae5426756dbf8a38",
       "version_major": 2,
       "version_minor": 0
      },
      "text/plain": [
       "  0%|          | 0/20 [00:00<?, ?it/s]"
      ]
     },
     "metadata": {},
     "output_type": "display_data"
    },
    {
     "data": {
      "application/vnd.jupyter.widget-view+json": {
       "model_id": "6a2c631089d849bf816c3001815a8f10",
       "version_major": 2,
       "version_minor": 0
      },
      "text/plain": [
       "  0%|          | 0/20 [00:00<?, ?it/s]"
      ]
     },
     "metadata": {},
     "output_type": "display_data"
    },
    {
     "data": {
      "application/vnd.jupyter.widget-view+json": {
       "model_id": "6cf810e385144825bc92a7a0454cfef6",
       "version_major": 2,
       "version_minor": 0
      },
      "text/plain": [
       "  0%|          | 0/20 [00:00<?, ?it/s]"
      ]
     },
     "metadata": {},
     "output_type": "display_data"
    },
    {
     "data": {
      "application/vnd.jupyter.widget-view+json": {
       "model_id": "61c7379b3a334cd89bfd9b7f8182c94c",
       "version_major": 2,
       "version_minor": 0
      },
      "text/plain": [
       "  0%|          | 0/20 [00:00<?, ?it/s]"
      ]
     },
     "metadata": {},
     "output_type": "display_data"
    },
    {
     "data": {
      "application/vnd.jupyter.widget-view+json": {
       "model_id": "b8bfa74f43024bb2a4421e7e46fcd774",
       "version_major": 2,
       "version_minor": 0
      },
      "text/plain": [
       "  0%|          | 0/20 [00:00<?, ?it/s]"
      ]
     },
     "metadata": {},
     "output_type": "display_data"
    },
    {
     "data": {
      "application/vnd.jupyter.widget-view+json": {
       "model_id": "71ce993143bb4847a8187d2588cea8ba",
       "version_major": 2,
       "version_minor": 0
      },
      "text/plain": [
       "  0%|          | 0/20 [00:00<?, ?it/s]"
      ]
     },
     "metadata": {},
     "output_type": "display_data"
    },
    {
     "name": "stdout",
     "output_type": "stream",
     "text": [
      "Participant_17\n"
     ]
    },
    {
     "data": {
      "application/vnd.jupyter.widget-view+json": {
       "model_id": "2e0e1003c86e4dc6a1bd83458846ee02",
       "version_major": 2,
       "version_minor": 0
      },
      "text/plain": [
       "  0%|          | 0/20 [00:00<?, ?it/s]"
      ]
     },
     "metadata": {},
     "output_type": "display_data"
    },
    {
     "data": {
      "application/vnd.jupyter.widget-view+json": {
       "model_id": "1e379343a9164259aeff8df1a137c42c",
       "version_major": 2,
       "version_minor": 0
      },
      "text/plain": [
       "  0%|          | 0/20 [00:00<?, ?it/s]"
      ]
     },
     "metadata": {},
     "output_type": "display_data"
    },
    {
     "data": {
      "application/vnd.jupyter.widget-view+json": {
       "model_id": "2b96805ffc724c5386c4bf4c8da1ca46",
       "version_major": 2,
       "version_minor": 0
      },
      "text/plain": [
       "  0%|          | 0/20 [00:00<?, ?it/s]"
      ]
     },
     "metadata": {},
     "output_type": "display_data"
    },
    {
     "data": {
      "application/vnd.jupyter.widget-view+json": {
       "model_id": "444a2500518443069cb27766772111a1",
       "version_major": 2,
       "version_minor": 0
      },
      "text/plain": [
       "  0%|          | 0/20 [00:00<?, ?it/s]"
      ]
     },
     "metadata": {},
     "output_type": "display_data"
    },
    {
     "data": {
      "application/vnd.jupyter.widget-view+json": {
       "model_id": "b641e908563b48199b2869661f340338",
       "version_major": 2,
       "version_minor": 0
      },
      "text/plain": [
       "  0%|          | 0/20 [00:00<?, ?it/s]"
      ]
     },
     "metadata": {},
     "output_type": "display_data"
    },
    {
     "data": {
      "application/vnd.jupyter.widget-view+json": {
       "model_id": "29b736e81a0d41a895e041d1e1ece8e2",
       "version_major": 2,
       "version_minor": 0
      },
      "text/plain": [
       "  0%|          | 0/20 [00:00<?, ?it/s]"
      ]
     },
     "metadata": {},
     "output_type": "display_data"
    },
    {
     "data": {
      "application/vnd.jupyter.widget-view+json": {
       "model_id": "5905af077e254f10964a81661698e327",
       "version_major": 2,
       "version_minor": 0
      },
      "text/plain": [
       "  0%|          | 0/20 [00:00<?, ?it/s]"
      ]
     },
     "metadata": {},
     "output_type": "display_data"
    },
    {
     "data": {
      "application/vnd.jupyter.widget-view+json": {
       "model_id": "515026ae708041cd8b95d31c970b9527",
       "version_major": 2,
       "version_minor": 0
      },
      "text/plain": [
       "  0%|          | 0/20 [00:00<?, ?it/s]"
      ]
     },
     "metadata": {},
     "output_type": "display_data"
    },
    {
     "data": {
      "application/vnd.jupyter.widget-view+json": {
       "model_id": "c4ce4108776d4900a07762297638f2e0",
       "version_major": 2,
       "version_minor": 0
      },
      "text/plain": [
       "  0%|          | 0/20 [00:00<?, ?it/s]"
      ]
     },
     "metadata": {},
     "output_type": "display_data"
    },
    {
     "data": {
      "application/vnd.jupyter.widget-view+json": {
       "model_id": "cb540e32d1584432b0855bab9bc0160c",
       "version_major": 2,
       "version_minor": 0
      },
      "text/plain": [
       "  0%|          | 0/20 [00:00<?, ?it/s]"
      ]
     },
     "metadata": {},
     "output_type": "display_data"
    },
    {
     "name": "stdout",
     "output_type": "stream",
     "text": [
      "Participant_18\n"
     ]
    },
    {
     "data": {
      "application/vnd.jupyter.widget-view+json": {
       "model_id": "a1c2afc151514b11ad6f698850cce03f",
       "version_major": 2,
       "version_minor": 0
      },
      "text/plain": [
       "  0%|          | 0/20 [00:00<?, ?it/s]"
      ]
     },
     "metadata": {},
     "output_type": "display_data"
    },
    {
     "data": {
      "application/vnd.jupyter.widget-view+json": {
       "model_id": "a28e91123e2d443cbcd7e0d80ec25865",
       "version_major": 2,
       "version_minor": 0
      },
      "text/plain": [
       "  0%|          | 0/20 [00:00<?, ?it/s]"
      ]
     },
     "metadata": {},
     "output_type": "display_data"
    },
    {
     "data": {
      "application/vnd.jupyter.widget-view+json": {
       "model_id": "439e4b890b584e17b1704303638bb1ad",
       "version_major": 2,
       "version_minor": 0
      },
      "text/plain": [
       "  0%|          | 0/20 [00:00<?, ?it/s]"
      ]
     },
     "metadata": {},
     "output_type": "display_data"
    },
    {
     "data": {
      "application/vnd.jupyter.widget-view+json": {
       "model_id": "922f3d5f8e194ad59127046f4134f716",
       "version_major": 2,
       "version_minor": 0
      },
      "text/plain": [
       "  0%|          | 0/20 [00:00<?, ?it/s]"
      ]
     },
     "metadata": {},
     "output_type": "display_data"
    },
    {
     "data": {
      "application/vnd.jupyter.widget-view+json": {
       "model_id": "24d41f53bd1a478a9f32045f4a6d19f8",
       "version_major": 2,
       "version_minor": 0
      },
      "text/plain": [
       "  0%|          | 0/20 [00:00<?, ?it/s]"
      ]
     },
     "metadata": {},
     "output_type": "display_data"
    },
    {
     "data": {
      "application/vnd.jupyter.widget-view+json": {
       "model_id": "670f56733d3c49f089f53a7451b05b96",
       "version_major": 2,
       "version_minor": 0
      },
      "text/plain": [
       "  0%|          | 0/20 [00:00<?, ?it/s]"
      ]
     },
     "metadata": {},
     "output_type": "display_data"
    },
    {
     "data": {
      "application/vnd.jupyter.widget-view+json": {
       "model_id": "97455d82fb6140e39bb254cdc9d9e4c6",
       "version_major": 2,
       "version_minor": 0
      },
      "text/plain": [
       "  0%|          | 0/20 [00:00<?, ?it/s]"
      ]
     },
     "metadata": {},
     "output_type": "display_data"
    },
    {
     "data": {
      "application/vnd.jupyter.widget-view+json": {
       "model_id": "e5164a0771c44b20b8dbbcf93b8e25ff",
       "version_major": 2,
       "version_minor": 0
      },
      "text/plain": [
       "  0%|          | 0/20 [00:00<?, ?it/s]"
      ]
     },
     "metadata": {},
     "output_type": "display_data"
    },
    {
     "data": {
      "application/vnd.jupyter.widget-view+json": {
       "model_id": "c65ebb8d92ae4f78a98327d1733fc3f5",
       "version_major": 2,
       "version_minor": 0
      },
      "text/plain": [
       "  0%|          | 0/20 [00:00<?, ?it/s]"
      ]
     },
     "metadata": {},
     "output_type": "display_data"
    },
    {
     "data": {
      "application/vnd.jupyter.widget-view+json": {
       "model_id": "0de707fe35cb48fda02270411d00a251",
       "version_major": 2,
       "version_minor": 0
      },
      "text/plain": [
       "  0%|          | 0/20 [00:00<?, ?it/s]"
      ]
     },
     "metadata": {},
     "output_type": "display_data"
    },
    {
     "name": "stdout",
     "output_type": "stream",
     "text": [
      "Participant_19\n"
     ]
    },
    {
     "data": {
      "application/vnd.jupyter.widget-view+json": {
       "model_id": "959ef6cca806407e8ac6d81977b74f54",
       "version_major": 2,
       "version_minor": 0
      },
      "text/plain": [
       "  0%|          | 0/20 [00:00<?, ?it/s]"
      ]
     },
     "metadata": {},
     "output_type": "display_data"
    },
    {
     "data": {
      "application/vnd.jupyter.widget-view+json": {
       "model_id": "5695f3730b7149b4935dc39409525a44",
       "version_major": 2,
       "version_minor": 0
      },
      "text/plain": [
       "  0%|          | 0/20 [00:00<?, ?it/s]"
      ]
     },
     "metadata": {},
     "output_type": "display_data"
    },
    {
     "data": {
      "application/vnd.jupyter.widget-view+json": {
       "model_id": "434c4d1fce8c4d41bf7ed6ccd5d0f65b",
       "version_major": 2,
       "version_minor": 0
      },
      "text/plain": [
       "  0%|          | 0/20 [00:00<?, ?it/s]"
      ]
     },
     "metadata": {},
     "output_type": "display_data"
    },
    {
     "data": {
      "application/vnd.jupyter.widget-view+json": {
       "model_id": "dd98f9c1a9e34c03bddfce56ae077346",
       "version_major": 2,
       "version_minor": 0
      },
      "text/plain": [
       "  0%|          | 0/20 [00:00<?, ?it/s]"
      ]
     },
     "metadata": {},
     "output_type": "display_data"
    },
    {
     "data": {
      "application/vnd.jupyter.widget-view+json": {
       "model_id": "4a8bb42df79641af89256629736090a3",
       "version_major": 2,
       "version_minor": 0
      },
      "text/plain": [
       "  0%|          | 0/20 [00:00<?, ?it/s]"
      ]
     },
     "metadata": {},
     "output_type": "display_data"
    },
    {
     "data": {
      "application/vnd.jupyter.widget-view+json": {
       "model_id": "4ff5f23de21b4119a99ceac796b3cf53",
       "version_major": 2,
       "version_minor": 0
      },
      "text/plain": [
       "  0%|          | 0/20 [00:00<?, ?it/s]"
      ]
     },
     "metadata": {},
     "output_type": "display_data"
    },
    {
     "data": {
      "application/vnd.jupyter.widget-view+json": {
       "model_id": "17fda45fb6844632b2fe26a4cd93cd1e",
       "version_major": 2,
       "version_minor": 0
      },
      "text/plain": [
       "  0%|          | 0/20 [00:00<?, ?it/s]"
      ]
     },
     "metadata": {},
     "output_type": "display_data"
    },
    {
     "data": {
      "application/vnd.jupyter.widget-view+json": {
       "model_id": "471e4fcf859e4d22988552a7d67755d0",
       "version_major": 2,
       "version_minor": 0
      },
      "text/plain": [
       "  0%|          | 0/20 [00:00<?, ?it/s]"
      ]
     },
     "metadata": {},
     "output_type": "display_data"
    },
    {
     "data": {
      "application/vnd.jupyter.widget-view+json": {
       "model_id": "77aeb16fbda84d2fadfa496512234640",
       "version_major": 2,
       "version_minor": 0
      },
      "text/plain": [
       "  0%|          | 0/20 [00:00<?, ?it/s]"
      ]
     },
     "metadata": {},
     "output_type": "display_data"
    },
    {
     "data": {
      "application/vnd.jupyter.widget-view+json": {
       "model_id": "f9678e71a172492698348c2629902fed",
       "version_major": 2,
       "version_minor": 0
      },
      "text/plain": [
       "  0%|          | 0/20 [00:00<?, ?it/s]"
      ]
     },
     "metadata": {},
     "output_type": "display_data"
    },
    {
     "name": "stdout",
     "output_type": "stream",
     "text": [
      "0 shift_testout_occipital_0.pkl\n"
     ]
    },
    {
     "name": "stderr",
     "output_type": "stream",
     "text": [
      "C:\\Users\\user\\AppData\\Roaming\\Python\\Python310\\site-packages\\numpy\\core\\fromnumeric.py:43: VisibleDeprecationWarning: Creating an ndarray from ragged nested sequences (which is a list-or-tuple of lists-or-tuples-or ndarrays with different lengths or shapes) is deprecated. If you meant to do this, you must specify 'dtype=object' when creating the ndarray.\n",
      "  result = getattr(asarray(obj), method)(*args, **kwds)\n"
     ]
    },
    {
     "name": "stdout",
     "output_type": "stream",
     "text": [
      "Participant_0\n"
     ]
    },
    {
     "data": {
      "application/vnd.jupyter.widget-view+json": {
       "model_id": "123d9fc87dda4040956dc20e45a3e6f5",
       "version_major": 2,
       "version_minor": 0
      },
      "text/plain": [
       "  0%|          | 0/20 [00:00<?, ?it/s]"
      ]
     },
     "metadata": {},
     "output_type": "display_data"
    },
    {
     "data": {
      "application/vnd.jupyter.widget-view+json": {
       "model_id": "cbd6451fed2341b7988a2eb1a6fbde85",
       "version_major": 2,
       "version_minor": 0
      },
      "text/plain": [
       "  0%|          | 0/20 [00:00<?, ?it/s]"
      ]
     },
     "metadata": {},
     "output_type": "display_data"
    },
    {
     "data": {
      "application/vnd.jupyter.widget-view+json": {
       "model_id": "c66cfad073b644dcbb85e550b737f137",
       "version_major": 2,
       "version_minor": 0
      },
      "text/plain": [
       "  0%|          | 0/20 [00:00<?, ?it/s]"
      ]
     },
     "metadata": {},
     "output_type": "display_data"
    },
    {
     "data": {
      "application/vnd.jupyter.widget-view+json": {
       "model_id": "dafe6efc119048dbb476e2893d4cfb0e",
       "version_major": 2,
       "version_minor": 0
      },
      "text/plain": [
       "  0%|          | 0/20 [00:00<?, ?it/s]"
      ]
     },
     "metadata": {},
     "output_type": "display_data"
    },
    {
     "data": {
      "application/vnd.jupyter.widget-view+json": {
       "model_id": "80dfba0d6b324757b22bdcd2db425c4c",
       "version_major": 2,
       "version_minor": 0
      },
      "text/plain": [
       "  0%|          | 0/20 [00:00<?, ?it/s]"
      ]
     },
     "metadata": {},
     "output_type": "display_data"
    },
    {
     "data": {
      "application/vnd.jupyter.widget-view+json": {
       "model_id": "4ba17e406eee413a944bf961465c6795",
       "version_major": 2,
       "version_minor": 0
      },
      "text/plain": [
       "  0%|          | 0/20 [00:00<?, ?it/s]"
      ]
     },
     "metadata": {},
     "output_type": "display_data"
    },
    {
     "data": {
      "application/vnd.jupyter.widget-view+json": {
       "model_id": "42c246c8577f459ba79a986c4eba13e4",
       "version_major": 2,
       "version_minor": 0
      },
      "text/plain": [
       "  0%|          | 0/20 [00:00<?, ?it/s]"
      ]
     },
     "metadata": {},
     "output_type": "display_data"
    },
    {
     "data": {
      "application/vnd.jupyter.widget-view+json": {
       "model_id": "0a51614508c94fb8a49a6232c1c75e94",
       "version_major": 2,
       "version_minor": 0
      },
      "text/plain": [
       "  0%|          | 0/20 [00:00<?, ?it/s]"
      ]
     },
     "metadata": {},
     "output_type": "display_data"
    },
    {
     "data": {
      "application/vnd.jupyter.widget-view+json": {
       "model_id": "98029578190347d580afb72eadefe051",
       "version_major": 2,
       "version_minor": 0
      },
      "text/plain": [
       "  0%|          | 0/20 [00:00<?, ?it/s]"
      ]
     },
     "metadata": {},
     "output_type": "display_data"
    },
    {
     "data": {
      "application/vnd.jupyter.widget-view+json": {
       "model_id": "5bc7b14ccd71480fa4b1ddd81271b32b",
       "version_major": 2,
       "version_minor": 0
      },
      "text/plain": [
       "  0%|          | 0/20 [00:00<?, ?it/s]"
      ]
     },
     "metadata": {},
     "output_type": "display_data"
    },
    {
     "name": "stdout",
     "output_type": "stream",
     "text": [
      "Participant_1\n"
     ]
    },
    {
     "data": {
      "application/vnd.jupyter.widget-view+json": {
       "model_id": "f282192109b443389c6bf8191989aa9b",
       "version_major": 2,
       "version_minor": 0
      },
      "text/plain": [
       "  0%|          | 0/20 [00:00<?, ?it/s]"
      ]
     },
     "metadata": {},
     "output_type": "display_data"
    },
    {
     "data": {
      "application/vnd.jupyter.widget-view+json": {
       "model_id": "df4e72ecd64942d4878df81fa189b5ed",
       "version_major": 2,
       "version_minor": 0
      },
      "text/plain": [
       "  0%|          | 0/20 [00:00<?, ?it/s]"
      ]
     },
     "metadata": {},
     "output_type": "display_data"
    },
    {
     "data": {
      "application/vnd.jupyter.widget-view+json": {
       "model_id": "0fe13dc844b94a9c9c8c012affca2561",
       "version_major": 2,
       "version_minor": 0
      },
      "text/plain": [
       "  0%|          | 0/20 [00:00<?, ?it/s]"
      ]
     },
     "metadata": {},
     "output_type": "display_data"
    },
    {
     "data": {
      "application/vnd.jupyter.widget-view+json": {
       "model_id": "e02740ac04134ac392f6e54c28f90d6f",
       "version_major": 2,
       "version_minor": 0
      },
      "text/plain": [
       "  0%|          | 0/20 [00:00<?, ?it/s]"
      ]
     },
     "metadata": {},
     "output_type": "display_data"
    },
    {
     "data": {
      "application/vnd.jupyter.widget-view+json": {
       "model_id": "4c0c79d474714b06933e497772a9f96c",
       "version_major": 2,
       "version_minor": 0
      },
      "text/plain": [
       "  0%|          | 0/20 [00:00<?, ?it/s]"
      ]
     },
     "metadata": {},
     "output_type": "display_data"
    },
    {
     "data": {
      "application/vnd.jupyter.widget-view+json": {
       "model_id": "1eced6490ab04231bfcec9114de12d4f",
       "version_major": 2,
       "version_minor": 0
      },
      "text/plain": [
       "  0%|          | 0/20 [00:00<?, ?it/s]"
      ]
     },
     "metadata": {},
     "output_type": "display_data"
    },
    {
     "data": {
      "application/vnd.jupyter.widget-view+json": {
       "model_id": "0a8a5f8d6ed94d458f6418d7ec1a3937",
       "version_major": 2,
       "version_minor": 0
      },
      "text/plain": [
       "  0%|          | 0/20 [00:00<?, ?it/s]"
      ]
     },
     "metadata": {},
     "output_type": "display_data"
    },
    {
     "data": {
      "application/vnd.jupyter.widget-view+json": {
       "model_id": "9e913914a00b4f9fbde96b9983e3bd4c",
       "version_major": 2,
       "version_minor": 0
      },
      "text/plain": [
       "  0%|          | 0/20 [00:00<?, ?it/s]"
      ]
     },
     "metadata": {},
     "output_type": "display_data"
    },
    {
     "data": {
      "application/vnd.jupyter.widget-view+json": {
       "model_id": "72e5bf7f5ab146c6837d5747dbb19f05",
       "version_major": 2,
       "version_minor": 0
      },
      "text/plain": [
       "  0%|          | 0/20 [00:00<?, ?it/s]"
      ]
     },
     "metadata": {},
     "output_type": "display_data"
    },
    {
     "data": {
      "application/vnd.jupyter.widget-view+json": {
       "model_id": "cba9945ea9cb43218539c64875470594",
       "version_major": 2,
       "version_minor": 0
      },
      "text/plain": [
       "  0%|          | 0/20 [00:00<?, ?it/s]"
      ]
     },
     "metadata": {},
     "output_type": "display_data"
    },
    {
     "name": "stdout",
     "output_type": "stream",
     "text": [
      "Participant_2\n"
     ]
    },
    {
     "data": {
      "application/vnd.jupyter.widget-view+json": {
       "model_id": "9478f71e37b24914b4e9b30900a7187a",
       "version_major": 2,
       "version_minor": 0
      },
      "text/plain": [
       "  0%|          | 0/20 [00:00<?, ?it/s]"
      ]
     },
     "metadata": {},
     "output_type": "display_data"
    },
    {
     "data": {
      "application/vnd.jupyter.widget-view+json": {
       "model_id": "edfb2b04c38d4fbb82526623e91fb787",
       "version_major": 2,
       "version_minor": 0
      },
      "text/plain": [
       "  0%|          | 0/20 [00:00<?, ?it/s]"
      ]
     },
     "metadata": {},
     "output_type": "display_data"
    },
    {
     "data": {
      "application/vnd.jupyter.widget-view+json": {
       "model_id": "5e90adf1de4748a094c2a33cf810b59b",
       "version_major": 2,
       "version_minor": 0
      },
      "text/plain": [
       "  0%|          | 0/20 [00:00<?, ?it/s]"
      ]
     },
     "metadata": {},
     "output_type": "display_data"
    },
    {
     "data": {
      "application/vnd.jupyter.widget-view+json": {
       "model_id": "c6f86263387641ed9eaaec89144fa919",
       "version_major": 2,
       "version_minor": 0
      },
      "text/plain": [
       "  0%|          | 0/20 [00:00<?, ?it/s]"
      ]
     },
     "metadata": {},
     "output_type": "display_data"
    },
    {
     "data": {
      "application/vnd.jupyter.widget-view+json": {
       "model_id": "8a0331bcc6a543308ad00170b13dffdd",
       "version_major": 2,
       "version_minor": 0
      },
      "text/plain": [
       "  0%|          | 0/20 [00:00<?, ?it/s]"
      ]
     },
     "metadata": {},
     "output_type": "display_data"
    },
    {
     "data": {
      "application/vnd.jupyter.widget-view+json": {
       "model_id": "37f879b2f5a647ac9978c8b397a9f487",
       "version_major": 2,
       "version_minor": 0
      },
      "text/plain": [
       "  0%|          | 0/20 [00:00<?, ?it/s]"
      ]
     },
     "metadata": {},
     "output_type": "display_data"
    },
    {
     "data": {
      "application/vnd.jupyter.widget-view+json": {
       "model_id": "0fde57792d2147f1ad0ea247a73f5484",
       "version_major": 2,
       "version_minor": 0
      },
      "text/plain": [
       "  0%|          | 0/20 [00:00<?, ?it/s]"
      ]
     },
     "metadata": {},
     "output_type": "display_data"
    },
    {
     "data": {
      "application/vnd.jupyter.widget-view+json": {
       "model_id": "c22d1ea43fbd4658962deb28190e8bfe",
       "version_major": 2,
       "version_minor": 0
      },
      "text/plain": [
       "  0%|          | 0/20 [00:00<?, ?it/s]"
      ]
     },
     "metadata": {},
     "output_type": "display_data"
    },
    {
     "data": {
      "application/vnd.jupyter.widget-view+json": {
       "model_id": "e7e144ea8bec4b70a945138acf77f222",
       "version_major": 2,
       "version_minor": 0
      },
      "text/plain": [
       "  0%|          | 0/20 [00:00<?, ?it/s]"
      ]
     },
     "metadata": {},
     "output_type": "display_data"
    },
    {
     "data": {
      "application/vnd.jupyter.widget-view+json": {
       "model_id": "bf042c42aad64526a8b15ddacb47c604",
       "version_major": 2,
       "version_minor": 0
      },
      "text/plain": [
       "  0%|          | 0/20 [00:00<?, ?it/s]"
      ]
     },
     "metadata": {},
     "output_type": "display_data"
    },
    {
     "name": "stdout",
     "output_type": "stream",
     "text": [
      "Participant_3\n"
     ]
    },
    {
     "data": {
      "application/vnd.jupyter.widget-view+json": {
       "model_id": "35b3134043d44dd6aa1510386c272aa6",
       "version_major": 2,
       "version_minor": 0
      },
      "text/plain": [
       "  0%|          | 0/20 [00:00<?, ?it/s]"
      ]
     },
     "metadata": {},
     "output_type": "display_data"
    },
    {
     "data": {
      "application/vnd.jupyter.widget-view+json": {
       "model_id": "e19b3db16f6e46db9db1ed9ed489c1fa",
       "version_major": 2,
       "version_minor": 0
      },
      "text/plain": [
       "  0%|          | 0/20 [00:00<?, ?it/s]"
      ]
     },
     "metadata": {},
     "output_type": "display_data"
    },
    {
     "data": {
      "application/vnd.jupyter.widget-view+json": {
       "model_id": "75f30f4a02e24b63bf35339a29f64cd5",
       "version_major": 2,
       "version_minor": 0
      },
      "text/plain": [
       "  0%|          | 0/20 [00:00<?, ?it/s]"
      ]
     },
     "metadata": {},
     "output_type": "display_data"
    },
    {
     "data": {
      "application/vnd.jupyter.widget-view+json": {
       "model_id": "33f4a85e1e34422e8110229fa96d4d8e",
       "version_major": 2,
       "version_minor": 0
      },
      "text/plain": [
       "  0%|          | 0/20 [00:00<?, ?it/s]"
      ]
     },
     "metadata": {},
     "output_type": "display_data"
    },
    {
     "data": {
      "application/vnd.jupyter.widget-view+json": {
       "model_id": "236c4d40c74042b3ad1721fd5de830f2",
       "version_major": 2,
       "version_minor": 0
      },
      "text/plain": [
       "  0%|          | 0/20 [00:00<?, ?it/s]"
      ]
     },
     "metadata": {},
     "output_type": "display_data"
    },
    {
     "data": {
      "application/vnd.jupyter.widget-view+json": {
       "model_id": "420ac624a4b148318af9bd62a6b13dbe",
       "version_major": 2,
       "version_minor": 0
      },
      "text/plain": [
       "  0%|          | 0/20 [00:00<?, ?it/s]"
      ]
     },
     "metadata": {},
     "output_type": "display_data"
    },
    {
     "data": {
      "application/vnd.jupyter.widget-view+json": {
       "model_id": "063b822e27a1440296c525dabd1bb805",
       "version_major": 2,
       "version_minor": 0
      },
      "text/plain": [
       "  0%|          | 0/20 [00:00<?, ?it/s]"
      ]
     },
     "metadata": {},
     "output_type": "display_data"
    },
    {
     "data": {
      "application/vnd.jupyter.widget-view+json": {
       "model_id": "fd319b9a9faa4f7e9fdf6a64e0066726",
       "version_major": 2,
       "version_minor": 0
      },
      "text/plain": [
       "  0%|          | 0/20 [00:00<?, ?it/s]"
      ]
     },
     "metadata": {},
     "output_type": "display_data"
    },
    {
     "data": {
      "application/vnd.jupyter.widget-view+json": {
       "model_id": "eac86016ce00456f9ddea688b3716814",
       "version_major": 2,
       "version_minor": 0
      },
      "text/plain": [
       "  0%|          | 0/20 [00:00<?, ?it/s]"
      ]
     },
     "metadata": {},
     "output_type": "display_data"
    },
    {
     "data": {
      "application/vnd.jupyter.widget-view+json": {
       "model_id": "f9883325967747e7bb619679746d7a67",
       "version_major": 2,
       "version_minor": 0
      },
      "text/plain": [
       "  0%|          | 0/20 [00:00<?, ?it/s]"
      ]
     },
     "metadata": {},
     "output_type": "display_data"
    },
    {
     "name": "stdout",
     "output_type": "stream",
     "text": [
      "Participant_4\n"
     ]
    },
    {
     "data": {
      "application/vnd.jupyter.widget-view+json": {
       "model_id": "b2cf41f13bfa4aa6882da04c9a88b7b0",
       "version_major": 2,
       "version_minor": 0
      },
      "text/plain": [
       "  0%|          | 0/20 [00:00<?, ?it/s]"
      ]
     },
     "metadata": {},
     "output_type": "display_data"
    },
    {
     "data": {
      "application/vnd.jupyter.widget-view+json": {
       "model_id": "530cc9bf60cf48f9ba8c7ddc28e3880d",
       "version_major": 2,
       "version_minor": 0
      },
      "text/plain": [
       "  0%|          | 0/20 [00:00<?, ?it/s]"
      ]
     },
     "metadata": {},
     "output_type": "display_data"
    },
    {
     "data": {
      "application/vnd.jupyter.widget-view+json": {
       "model_id": "97b5f35a3ed745d4a9c78c700ecde119",
       "version_major": 2,
       "version_minor": 0
      },
      "text/plain": [
       "  0%|          | 0/20 [00:00<?, ?it/s]"
      ]
     },
     "metadata": {},
     "output_type": "display_data"
    },
    {
     "data": {
      "application/vnd.jupyter.widget-view+json": {
       "model_id": "34a95746515d4517aa207ff013214e41",
       "version_major": 2,
       "version_minor": 0
      },
      "text/plain": [
       "  0%|          | 0/20 [00:00<?, ?it/s]"
      ]
     },
     "metadata": {},
     "output_type": "display_data"
    },
    {
     "data": {
      "application/vnd.jupyter.widget-view+json": {
       "model_id": "1b0e047bf98a40bb9051610d8fcf94a4",
       "version_major": 2,
       "version_minor": 0
      },
      "text/plain": [
       "  0%|          | 0/20 [00:00<?, ?it/s]"
      ]
     },
     "metadata": {},
     "output_type": "display_data"
    },
    {
     "data": {
      "application/vnd.jupyter.widget-view+json": {
       "model_id": "e46edca724ef4438bc16d58fde7f928e",
       "version_major": 2,
       "version_minor": 0
      },
      "text/plain": [
       "  0%|          | 0/20 [00:00<?, ?it/s]"
      ]
     },
     "metadata": {},
     "output_type": "display_data"
    },
    {
     "data": {
      "application/vnd.jupyter.widget-view+json": {
       "model_id": "eeed4ce363c0479ea671662b30788494",
       "version_major": 2,
       "version_minor": 0
      },
      "text/plain": [
       "  0%|          | 0/20 [00:00<?, ?it/s]"
      ]
     },
     "metadata": {},
     "output_type": "display_data"
    },
    {
     "data": {
      "application/vnd.jupyter.widget-view+json": {
       "model_id": "585ac8633b0b478f9391c897264e7c22",
       "version_major": 2,
       "version_minor": 0
      },
      "text/plain": [
       "  0%|          | 0/20 [00:00<?, ?it/s]"
      ]
     },
     "metadata": {},
     "output_type": "display_data"
    },
    {
     "data": {
      "application/vnd.jupyter.widget-view+json": {
       "model_id": "5b2881062bfb428e8d368e9eb271771f",
       "version_major": 2,
       "version_minor": 0
      },
      "text/plain": [
       "  0%|          | 0/20 [00:00<?, ?it/s]"
      ]
     },
     "metadata": {},
     "output_type": "display_data"
    },
    {
     "data": {
      "application/vnd.jupyter.widget-view+json": {
       "model_id": "aef0f401336244259e3060937a4a5bc1",
       "version_major": 2,
       "version_minor": 0
      },
      "text/plain": [
       "  0%|          | 0/20 [00:00<?, ?it/s]"
      ]
     },
     "metadata": {},
     "output_type": "display_data"
    },
    {
     "name": "stdout",
     "output_type": "stream",
     "text": [
      "Participant_5\n"
     ]
    },
    {
     "data": {
      "application/vnd.jupyter.widget-view+json": {
       "model_id": "db15361a347f42cca0c545f5a24ddce3",
       "version_major": 2,
       "version_minor": 0
      },
      "text/plain": [
       "  0%|          | 0/20 [00:00<?, ?it/s]"
      ]
     },
     "metadata": {},
     "output_type": "display_data"
    },
    {
     "data": {
      "application/vnd.jupyter.widget-view+json": {
       "model_id": "5187527f2c20461591b6475e2c2d2089",
       "version_major": 2,
       "version_minor": 0
      },
      "text/plain": [
       "  0%|          | 0/20 [00:00<?, ?it/s]"
      ]
     },
     "metadata": {},
     "output_type": "display_data"
    },
    {
     "data": {
      "application/vnd.jupyter.widget-view+json": {
       "model_id": "a4942671b4d3407d84c1cc31ee988f74",
       "version_major": 2,
       "version_minor": 0
      },
      "text/plain": [
       "  0%|          | 0/20 [00:00<?, ?it/s]"
      ]
     },
     "metadata": {},
     "output_type": "display_data"
    },
    {
     "data": {
      "application/vnd.jupyter.widget-view+json": {
       "model_id": "456da4962b814c5db057816d626fa649",
       "version_major": 2,
       "version_minor": 0
      },
      "text/plain": [
       "  0%|          | 0/20 [00:00<?, ?it/s]"
      ]
     },
     "metadata": {},
     "output_type": "display_data"
    },
    {
     "data": {
      "application/vnd.jupyter.widget-view+json": {
       "model_id": "4d92a09ef1ab4c079b683127571f30f8",
       "version_major": 2,
       "version_minor": 0
      },
      "text/plain": [
       "  0%|          | 0/20 [00:00<?, ?it/s]"
      ]
     },
     "metadata": {},
     "output_type": "display_data"
    },
    {
     "data": {
      "application/vnd.jupyter.widget-view+json": {
       "model_id": "359db1800be84cc7b50fec53ad454724",
       "version_major": 2,
       "version_minor": 0
      },
      "text/plain": [
       "  0%|          | 0/20 [00:00<?, ?it/s]"
      ]
     },
     "metadata": {},
     "output_type": "display_data"
    },
    {
     "data": {
      "application/vnd.jupyter.widget-view+json": {
       "model_id": "74d785969fa74153a364f73b5853de22",
       "version_major": 2,
       "version_minor": 0
      },
      "text/plain": [
       "  0%|          | 0/20 [00:00<?, ?it/s]"
      ]
     },
     "metadata": {},
     "output_type": "display_data"
    },
    {
     "data": {
      "application/vnd.jupyter.widget-view+json": {
       "model_id": "3421e3434d05433f9f72bb3929d95bad",
       "version_major": 2,
       "version_minor": 0
      },
      "text/plain": [
       "  0%|          | 0/20 [00:00<?, ?it/s]"
      ]
     },
     "metadata": {},
     "output_type": "display_data"
    },
    {
     "data": {
      "application/vnd.jupyter.widget-view+json": {
       "model_id": "0df4c4d8faf549338b181db90184703e",
       "version_major": 2,
       "version_minor": 0
      },
      "text/plain": [
       "  0%|          | 0/20 [00:00<?, ?it/s]"
      ]
     },
     "metadata": {},
     "output_type": "display_data"
    },
    {
     "data": {
      "application/vnd.jupyter.widget-view+json": {
       "model_id": "796cd8fa767c46d2abf40b17c180732c",
       "version_major": 2,
       "version_minor": 0
      },
      "text/plain": [
       "  0%|          | 0/20 [00:00<?, ?it/s]"
      ]
     },
     "metadata": {},
     "output_type": "display_data"
    },
    {
     "name": "stdout",
     "output_type": "stream",
     "text": [
      "Participant_6\n"
     ]
    },
    {
     "data": {
      "application/vnd.jupyter.widget-view+json": {
       "model_id": "a73ea3e30b5c4a8088660a0f25a0e3c7",
       "version_major": 2,
       "version_minor": 0
      },
      "text/plain": [
       "  0%|          | 0/20 [00:00<?, ?it/s]"
      ]
     },
     "metadata": {},
     "output_type": "display_data"
    },
    {
     "data": {
      "application/vnd.jupyter.widget-view+json": {
       "model_id": "6f4a7b3234114129b06b3a6cf4f27866",
       "version_major": 2,
       "version_minor": 0
      },
      "text/plain": [
       "  0%|          | 0/20 [00:00<?, ?it/s]"
      ]
     },
     "metadata": {},
     "output_type": "display_data"
    },
    {
     "data": {
      "application/vnd.jupyter.widget-view+json": {
       "model_id": "d70eef4d02d244408f2894b691642a98",
       "version_major": 2,
       "version_minor": 0
      },
      "text/plain": [
       "  0%|          | 0/20 [00:00<?, ?it/s]"
      ]
     },
     "metadata": {},
     "output_type": "display_data"
    },
    {
     "data": {
      "application/vnd.jupyter.widget-view+json": {
       "model_id": "7ecd20789ef34b8d990b9ffdc290c87f",
       "version_major": 2,
       "version_minor": 0
      },
      "text/plain": [
       "  0%|          | 0/20 [00:00<?, ?it/s]"
      ]
     },
     "metadata": {},
     "output_type": "display_data"
    },
    {
     "data": {
      "application/vnd.jupyter.widget-view+json": {
       "model_id": "5e05ab201a3b4b1a993689f25c7f4dba",
       "version_major": 2,
       "version_minor": 0
      },
      "text/plain": [
       "  0%|          | 0/20 [00:00<?, ?it/s]"
      ]
     },
     "metadata": {},
     "output_type": "display_data"
    },
    {
     "data": {
      "application/vnd.jupyter.widget-view+json": {
       "model_id": "92c20a049cf8414d9ed6ad3cbff14b19",
       "version_major": 2,
       "version_minor": 0
      },
      "text/plain": [
       "  0%|          | 0/20 [00:00<?, ?it/s]"
      ]
     },
     "metadata": {},
     "output_type": "display_data"
    },
    {
     "data": {
      "application/vnd.jupyter.widget-view+json": {
       "model_id": "9239c2c5d75e4803aa0104a37c969587",
       "version_major": 2,
       "version_minor": 0
      },
      "text/plain": [
       "  0%|          | 0/20 [00:00<?, ?it/s]"
      ]
     },
     "metadata": {},
     "output_type": "display_data"
    },
    {
     "data": {
      "application/vnd.jupyter.widget-view+json": {
       "model_id": "0979d2e4c28e426fbc1319e3806e06a2",
       "version_major": 2,
       "version_minor": 0
      },
      "text/plain": [
       "  0%|          | 0/20 [00:00<?, ?it/s]"
      ]
     },
     "metadata": {},
     "output_type": "display_data"
    },
    {
     "data": {
      "application/vnd.jupyter.widget-view+json": {
       "model_id": "51f25faee685436eb8a2073bcc9d4ab3",
       "version_major": 2,
       "version_minor": 0
      },
      "text/plain": [
       "  0%|          | 0/20 [00:00<?, ?it/s]"
      ]
     },
     "metadata": {},
     "output_type": "display_data"
    },
    {
     "data": {
      "application/vnd.jupyter.widget-view+json": {
       "model_id": "202c5869340041b8a9567276fa37d220",
       "version_major": 2,
       "version_minor": 0
      },
      "text/plain": [
       "  0%|          | 0/20 [00:00<?, ?it/s]"
      ]
     },
     "metadata": {},
     "output_type": "display_data"
    },
    {
     "name": "stdout",
     "output_type": "stream",
     "text": [
      "Participant_7\n"
     ]
    },
    {
     "data": {
      "application/vnd.jupyter.widget-view+json": {
       "model_id": "fcb54a66aaaa46cc97a29808c7664dc9",
       "version_major": 2,
       "version_minor": 0
      },
      "text/plain": [
       "  0%|          | 0/20 [00:00<?, ?it/s]"
      ]
     },
     "metadata": {},
     "output_type": "display_data"
    },
    {
     "data": {
      "application/vnd.jupyter.widget-view+json": {
       "model_id": "c20f8a1a59dc457c83dec8274da2b9ff",
       "version_major": 2,
       "version_minor": 0
      },
      "text/plain": [
       "  0%|          | 0/20 [00:00<?, ?it/s]"
      ]
     },
     "metadata": {},
     "output_type": "display_data"
    },
    {
     "data": {
      "application/vnd.jupyter.widget-view+json": {
       "model_id": "a5608f61cc664c90bb323f2eb83251d9",
       "version_major": 2,
       "version_minor": 0
      },
      "text/plain": [
       "  0%|          | 0/20 [00:00<?, ?it/s]"
      ]
     },
     "metadata": {},
     "output_type": "display_data"
    },
    {
     "data": {
      "application/vnd.jupyter.widget-view+json": {
       "model_id": "5f6f3bf67e804c799cb301435dd65b99",
       "version_major": 2,
       "version_minor": 0
      },
      "text/plain": [
       "  0%|          | 0/20 [00:00<?, ?it/s]"
      ]
     },
     "metadata": {},
     "output_type": "display_data"
    },
    {
     "data": {
      "application/vnd.jupyter.widget-view+json": {
       "model_id": "a1fb2d2aabe943ab9ce3dfe9d398a810",
       "version_major": 2,
       "version_minor": 0
      },
      "text/plain": [
       "  0%|          | 0/20 [00:00<?, ?it/s]"
      ]
     },
     "metadata": {},
     "output_type": "display_data"
    },
    {
     "data": {
      "application/vnd.jupyter.widget-view+json": {
       "model_id": "0666b40f545241b4810b2b3709907cbd",
       "version_major": 2,
       "version_minor": 0
      },
      "text/plain": [
       "  0%|          | 0/20 [00:00<?, ?it/s]"
      ]
     },
     "metadata": {},
     "output_type": "display_data"
    },
    {
     "data": {
      "application/vnd.jupyter.widget-view+json": {
       "model_id": "c16eae65bb23439a8d3279fe15c04bfc",
       "version_major": 2,
       "version_minor": 0
      },
      "text/plain": [
       "  0%|          | 0/20 [00:00<?, ?it/s]"
      ]
     },
     "metadata": {},
     "output_type": "display_data"
    },
    {
     "data": {
      "application/vnd.jupyter.widget-view+json": {
       "model_id": "d7b4b5a14a7d42de866a3e0492be6cff",
       "version_major": 2,
       "version_minor": 0
      },
      "text/plain": [
       "  0%|          | 0/20 [00:00<?, ?it/s]"
      ]
     },
     "metadata": {},
     "output_type": "display_data"
    },
    {
     "data": {
      "application/vnd.jupyter.widget-view+json": {
       "model_id": "02f1b932f6f14dfa922cf22a5709d4b5",
       "version_major": 2,
       "version_minor": 0
      },
      "text/plain": [
       "  0%|          | 0/20 [00:00<?, ?it/s]"
      ]
     },
     "metadata": {},
     "output_type": "display_data"
    },
    {
     "data": {
      "application/vnd.jupyter.widget-view+json": {
       "model_id": "f7a23156d5ba42c18cd99a50a84512ee",
       "version_major": 2,
       "version_minor": 0
      },
      "text/plain": [
       "  0%|          | 0/20 [00:00<?, ?it/s]"
      ]
     },
     "metadata": {},
     "output_type": "display_data"
    },
    {
     "name": "stdout",
     "output_type": "stream",
     "text": [
      "Participant_8\n"
     ]
    },
    {
     "data": {
      "application/vnd.jupyter.widget-view+json": {
       "model_id": "215c5d9390b442f691baacc2e013d7dd",
       "version_major": 2,
       "version_minor": 0
      },
      "text/plain": [
       "  0%|          | 0/20 [00:00<?, ?it/s]"
      ]
     },
     "metadata": {},
     "output_type": "display_data"
    },
    {
     "data": {
      "application/vnd.jupyter.widget-view+json": {
       "model_id": "525590bf4744415a86c5c692542cf6f9",
       "version_major": 2,
       "version_minor": 0
      },
      "text/plain": [
       "  0%|          | 0/20 [00:00<?, ?it/s]"
      ]
     },
     "metadata": {},
     "output_type": "display_data"
    },
    {
     "data": {
      "application/vnd.jupyter.widget-view+json": {
       "model_id": "b3b3c0d76d344282b38be9f98cd396f2",
       "version_major": 2,
       "version_minor": 0
      },
      "text/plain": [
       "  0%|          | 0/20 [00:00<?, ?it/s]"
      ]
     },
     "metadata": {},
     "output_type": "display_data"
    },
    {
     "data": {
      "application/vnd.jupyter.widget-view+json": {
       "model_id": "9b6279a72c6348d38439aae9a7979e47",
       "version_major": 2,
       "version_minor": 0
      },
      "text/plain": [
       "  0%|          | 0/20 [00:00<?, ?it/s]"
      ]
     },
     "metadata": {},
     "output_type": "display_data"
    },
    {
     "data": {
      "application/vnd.jupyter.widget-view+json": {
       "model_id": "48190d0d7e3b4b9183b78742eee9a4da",
       "version_major": 2,
       "version_minor": 0
      },
      "text/plain": [
       "  0%|          | 0/20 [00:00<?, ?it/s]"
      ]
     },
     "metadata": {},
     "output_type": "display_data"
    },
    {
     "data": {
      "application/vnd.jupyter.widget-view+json": {
       "model_id": "7bcff06cf78f4394b0f87c13b47bc84b",
       "version_major": 2,
       "version_minor": 0
      },
      "text/plain": [
       "  0%|          | 0/20 [00:00<?, ?it/s]"
      ]
     },
     "metadata": {},
     "output_type": "display_data"
    },
    {
     "data": {
      "application/vnd.jupyter.widget-view+json": {
       "model_id": "a34c871091424fba92b4ba636f427537",
       "version_major": 2,
       "version_minor": 0
      },
      "text/plain": [
       "  0%|          | 0/20 [00:00<?, ?it/s]"
      ]
     },
     "metadata": {},
     "output_type": "display_data"
    },
    {
     "data": {
      "application/vnd.jupyter.widget-view+json": {
       "model_id": "9f74b6b7d8c145d3aef3047c5cd27732",
       "version_major": 2,
       "version_minor": 0
      },
      "text/plain": [
       "  0%|          | 0/20 [00:00<?, ?it/s]"
      ]
     },
     "metadata": {},
     "output_type": "display_data"
    },
    {
     "data": {
      "application/vnd.jupyter.widget-view+json": {
       "model_id": "d3b491b5bb794afa91916c4df99041c4",
       "version_major": 2,
       "version_minor": 0
      },
      "text/plain": [
       "  0%|          | 0/20 [00:00<?, ?it/s]"
      ]
     },
     "metadata": {},
     "output_type": "display_data"
    },
    {
     "data": {
      "application/vnd.jupyter.widget-view+json": {
       "model_id": "dce7a7e14a784d38a4fed02d6e58bbb2",
       "version_major": 2,
       "version_minor": 0
      },
      "text/plain": [
       "  0%|          | 0/20 [00:00<?, ?it/s]"
      ]
     },
     "metadata": {},
     "output_type": "display_data"
    },
    {
     "name": "stdout",
     "output_type": "stream",
     "text": [
      "Participant_9\n"
     ]
    },
    {
     "data": {
      "application/vnd.jupyter.widget-view+json": {
       "model_id": "75551722bd3d4bffaaa0e2999e232a19",
       "version_major": 2,
       "version_minor": 0
      },
      "text/plain": [
       "  0%|          | 0/20 [00:00<?, ?it/s]"
      ]
     },
     "metadata": {},
     "output_type": "display_data"
    },
    {
     "data": {
      "application/vnd.jupyter.widget-view+json": {
       "model_id": "ba79186d0e744fe2bce61c0711d18843",
       "version_major": 2,
       "version_minor": 0
      },
      "text/plain": [
       "  0%|          | 0/20 [00:00<?, ?it/s]"
      ]
     },
     "metadata": {},
     "output_type": "display_data"
    },
    {
     "data": {
      "application/vnd.jupyter.widget-view+json": {
       "model_id": "8f05795ef9cc47e19b4fa381b66db743",
       "version_major": 2,
       "version_minor": 0
      },
      "text/plain": [
       "  0%|          | 0/20 [00:00<?, ?it/s]"
      ]
     },
     "metadata": {},
     "output_type": "display_data"
    },
    {
     "data": {
      "application/vnd.jupyter.widget-view+json": {
       "model_id": "dccbeb850167468d986d2700bccdd0e8",
       "version_major": 2,
       "version_minor": 0
      },
      "text/plain": [
       "  0%|          | 0/20 [00:00<?, ?it/s]"
      ]
     },
     "metadata": {},
     "output_type": "display_data"
    },
    {
     "data": {
      "application/vnd.jupyter.widget-view+json": {
       "model_id": "360af0cb48244d219ec10faeb113adbb",
       "version_major": 2,
       "version_minor": 0
      },
      "text/plain": [
       "  0%|          | 0/20 [00:00<?, ?it/s]"
      ]
     },
     "metadata": {},
     "output_type": "display_data"
    },
    {
     "data": {
      "application/vnd.jupyter.widget-view+json": {
       "model_id": "626ef17ea639473d94e825723818c02f",
       "version_major": 2,
       "version_minor": 0
      },
      "text/plain": [
       "  0%|          | 0/20 [00:00<?, ?it/s]"
      ]
     },
     "metadata": {},
     "output_type": "display_data"
    },
    {
     "data": {
      "application/vnd.jupyter.widget-view+json": {
       "model_id": "6aeff5e4ec0e4941bb4f5ba1a76eb294",
       "version_major": 2,
       "version_minor": 0
      },
      "text/plain": [
       "  0%|          | 0/20 [00:00<?, ?it/s]"
      ]
     },
     "metadata": {},
     "output_type": "display_data"
    },
    {
     "data": {
      "application/vnd.jupyter.widget-view+json": {
       "model_id": "3cb0f5e65dac422db489bd89ef4a6ef7",
       "version_major": 2,
       "version_minor": 0
      },
      "text/plain": [
       "  0%|          | 0/20 [00:00<?, ?it/s]"
      ]
     },
     "metadata": {},
     "output_type": "display_data"
    },
    {
     "data": {
      "application/vnd.jupyter.widget-view+json": {
       "model_id": "8507c48e17c249feaf12b3dacd9100e0",
       "version_major": 2,
       "version_minor": 0
      },
      "text/plain": [
       "  0%|          | 0/20 [00:00<?, ?it/s]"
      ]
     },
     "metadata": {},
     "output_type": "display_data"
    },
    {
     "data": {
      "application/vnd.jupyter.widget-view+json": {
       "model_id": "0016fdd1aa934b1e801b2b40402162ac",
       "version_major": 2,
       "version_minor": 0
      },
      "text/plain": [
       "  0%|          | 0/20 [00:00<?, ?it/s]"
      ]
     },
     "metadata": {},
     "output_type": "display_data"
    },
    {
     "name": "stdout",
     "output_type": "stream",
     "text": [
      "Participant_10\n"
     ]
    },
    {
     "data": {
      "application/vnd.jupyter.widget-view+json": {
       "model_id": "e57b3cc97c5343609129f15f79b48c3c",
       "version_major": 2,
       "version_minor": 0
      },
      "text/plain": [
       "  0%|          | 0/20 [00:00<?, ?it/s]"
      ]
     },
     "metadata": {},
     "output_type": "display_data"
    },
    {
     "data": {
      "application/vnd.jupyter.widget-view+json": {
       "model_id": "0cc85bb5311940e4b01e9799a5ca80f9",
       "version_major": 2,
       "version_minor": 0
      },
      "text/plain": [
       "  0%|          | 0/20 [00:00<?, ?it/s]"
      ]
     },
     "metadata": {},
     "output_type": "display_data"
    },
    {
     "data": {
      "application/vnd.jupyter.widget-view+json": {
       "model_id": "4a18b46392b1465298a3a104dc1fe714",
       "version_major": 2,
       "version_minor": 0
      },
      "text/plain": [
       "  0%|          | 0/20 [00:00<?, ?it/s]"
      ]
     },
     "metadata": {},
     "output_type": "display_data"
    },
    {
     "data": {
      "application/vnd.jupyter.widget-view+json": {
       "model_id": "cea4f344e65247fc902a9a8d16afea7a",
       "version_major": 2,
       "version_minor": 0
      },
      "text/plain": [
       "  0%|          | 0/20 [00:00<?, ?it/s]"
      ]
     },
     "metadata": {},
     "output_type": "display_data"
    },
    {
     "data": {
      "application/vnd.jupyter.widget-view+json": {
       "model_id": "ee2f96262b7e4d128248c0b113bf288c",
       "version_major": 2,
       "version_minor": 0
      },
      "text/plain": [
       "  0%|          | 0/20 [00:00<?, ?it/s]"
      ]
     },
     "metadata": {},
     "output_type": "display_data"
    },
    {
     "data": {
      "application/vnd.jupyter.widget-view+json": {
       "model_id": "e3279b23f5fa4cc6b5b61d4961556986",
       "version_major": 2,
       "version_minor": 0
      },
      "text/plain": [
       "  0%|          | 0/20 [00:00<?, ?it/s]"
      ]
     },
     "metadata": {},
     "output_type": "display_data"
    },
    {
     "data": {
      "application/vnd.jupyter.widget-view+json": {
       "model_id": "73f7df08f45e480fa0749efca44aa56a",
       "version_major": 2,
       "version_minor": 0
      },
      "text/plain": [
       "  0%|          | 0/20 [00:00<?, ?it/s]"
      ]
     },
     "metadata": {},
     "output_type": "display_data"
    },
    {
     "data": {
      "application/vnd.jupyter.widget-view+json": {
       "model_id": "6f98c8c8f9924310967edf0d44c9db71",
       "version_major": 2,
       "version_minor": 0
      },
      "text/plain": [
       "  0%|          | 0/20 [00:00<?, ?it/s]"
      ]
     },
     "metadata": {},
     "output_type": "display_data"
    },
    {
     "data": {
      "application/vnd.jupyter.widget-view+json": {
       "model_id": "23eaf31a14ba4c9fbfb10bdeccf3319a",
       "version_major": 2,
       "version_minor": 0
      },
      "text/plain": [
       "  0%|          | 0/20 [00:00<?, ?it/s]"
      ]
     },
     "metadata": {},
     "output_type": "display_data"
    },
    {
     "data": {
      "application/vnd.jupyter.widget-view+json": {
       "model_id": "e75879ab6dd14e9d834ab8c42138a970",
       "version_major": 2,
       "version_minor": 0
      },
      "text/plain": [
       "  0%|          | 0/20 [00:00<?, ?it/s]"
      ]
     },
     "metadata": {},
     "output_type": "display_data"
    },
    {
     "name": "stdout",
     "output_type": "stream",
     "text": [
      "Participant_11\n"
     ]
    },
    {
     "data": {
      "application/vnd.jupyter.widget-view+json": {
       "model_id": "a1f8b94311c5483db2061a3bb67cfbac",
       "version_major": 2,
       "version_minor": 0
      },
      "text/plain": [
       "  0%|          | 0/20 [00:00<?, ?it/s]"
      ]
     },
     "metadata": {},
     "output_type": "display_data"
    },
    {
     "data": {
      "application/vnd.jupyter.widget-view+json": {
       "model_id": "c40437e2182e44cba4a9a1af5b07ec0b",
       "version_major": 2,
       "version_minor": 0
      },
      "text/plain": [
       "  0%|          | 0/20 [00:00<?, ?it/s]"
      ]
     },
     "metadata": {},
     "output_type": "display_data"
    },
    {
     "data": {
      "application/vnd.jupyter.widget-view+json": {
       "model_id": "004cada4472d4a49941c9d451714141c",
       "version_major": 2,
       "version_minor": 0
      },
      "text/plain": [
       "  0%|          | 0/20 [00:00<?, ?it/s]"
      ]
     },
     "metadata": {},
     "output_type": "display_data"
    },
    {
     "data": {
      "application/vnd.jupyter.widget-view+json": {
       "model_id": "818ceea5f08047c2a92eb1b89542b468",
       "version_major": 2,
       "version_minor": 0
      },
      "text/plain": [
       "  0%|          | 0/20 [00:00<?, ?it/s]"
      ]
     },
     "metadata": {},
     "output_type": "display_data"
    },
    {
     "data": {
      "application/vnd.jupyter.widget-view+json": {
       "model_id": "2feab2d266424a87aa1157705a55c328",
       "version_major": 2,
       "version_minor": 0
      },
      "text/plain": [
       "  0%|          | 0/20 [00:00<?, ?it/s]"
      ]
     },
     "metadata": {},
     "output_type": "display_data"
    },
    {
     "data": {
      "application/vnd.jupyter.widget-view+json": {
       "model_id": "4df856f4edb24e72a5abe4fd339f86f4",
       "version_major": 2,
       "version_minor": 0
      },
      "text/plain": [
       "  0%|          | 0/20 [00:00<?, ?it/s]"
      ]
     },
     "metadata": {},
     "output_type": "display_data"
    },
    {
     "data": {
      "application/vnd.jupyter.widget-view+json": {
       "model_id": "484ef233f57f4ee28c35acea6918541e",
       "version_major": 2,
       "version_minor": 0
      },
      "text/plain": [
       "  0%|          | 0/20 [00:00<?, ?it/s]"
      ]
     },
     "metadata": {},
     "output_type": "display_data"
    },
    {
     "data": {
      "application/vnd.jupyter.widget-view+json": {
       "model_id": "ee745ce265264f1cbb086a367dfbbcc5",
       "version_major": 2,
       "version_minor": 0
      },
      "text/plain": [
       "  0%|          | 0/20 [00:00<?, ?it/s]"
      ]
     },
     "metadata": {},
     "output_type": "display_data"
    },
    {
     "data": {
      "application/vnd.jupyter.widget-view+json": {
       "model_id": "3e54cb6623b14d5daaae61f700a65d98",
       "version_major": 2,
       "version_minor": 0
      },
      "text/plain": [
       "  0%|          | 0/20 [00:00<?, ?it/s]"
      ]
     },
     "metadata": {},
     "output_type": "display_data"
    },
    {
     "data": {
      "application/vnd.jupyter.widget-view+json": {
       "model_id": "52798ed3f06d4c9bb8b2d36ee3fdb348",
       "version_major": 2,
       "version_minor": 0
      },
      "text/plain": [
       "  0%|          | 0/20 [00:00<?, ?it/s]"
      ]
     },
     "metadata": {},
     "output_type": "display_data"
    },
    {
     "name": "stdout",
     "output_type": "stream",
     "text": [
      "Participant_12\n"
     ]
    },
    {
     "data": {
      "application/vnd.jupyter.widget-view+json": {
       "model_id": "a3f6bcdfd51a4333872f828664add0a0",
       "version_major": 2,
       "version_minor": 0
      },
      "text/plain": [
       "  0%|          | 0/20 [00:00<?, ?it/s]"
      ]
     },
     "metadata": {},
     "output_type": "display_data"
    },
    {
     "data": {
      "application/vnd.jupyter.widget-view+json": {
       "model_id": "1ee3d9aecb264309b413028c7f02abfe",
       "version_major": 2,
       "version_minor": 0
      },
      "text/plain": [
       "  0%|          | 0/20 [00:00<?, ?it/s]"
      ]
     },
     "metadata": {},
     "output_type": "display_data"
    },
    {
     "data": {
      "application/vnd.jupyter.widget-view+json": {
       "model_id": "0b65825a072c443f889f01adc6d0db0e",
       "version_major": 2,
       "version_minor": 0
      },
      "text/plain": [
       "  0%|          | 0/20 [00:00<?, ?it/s]"
      ]
     },
     "metadata": {},
     "output_type": "display_data"
    },
    {
     "data": {
      "application/vnd.jupyter.widget-view+json": {
       "model_id": "aa5d0b353a9949c3a031dfc4b30fd26a",
       "version_major": 2,
       "version_minor": 0
      },
      "text/plain": [
       "  0%|          | 0/20 [00:00<?, ?it/s]"
      ]
     },
     "metadata": {},
     "output_type": "display_data"
    },
    {
     "data": {
      "application/vnd.jupyter.widget-view+json": {
       "model_id": "5181adeeed7b4ac6a133d203c7e45bb9",
       "version_major": 2,
       "version_minor": 0
      },
      "text/plain": [
       "  0%|          | 0/20 [00:00<?, ?it/s]"
      ]
     },
     "metadata": {},
     "output_type": "display_data"
    },
    {
     "data": {
      "application/vnd.jupyter.widget-view+json": {
       "model_id": "fdc977db54bc4885a455c1e537d4e760",
       "version_major": 2,
       "version_minor": 0
      },
      "text/plain": [
       "  0%|          | 0/20 [00:00<?, ?it/s]"
      ]
     },
     "metadata": {},
     "output_type": "display_data"
    },
    {
     "data": {
      "application/vnd.jupyter.widget-view+json": {
       "model_id": "afb5385030e040738ca947107c86d534",
       "version_major": 2,
       "version_minor": 0
      },
      "text/plain": [
       "  0%|          | 0/20 [00:00<?, ?it/s]"
      ]
     },
     "metadata": {},
     "output_type": "display_data"
    },
    {
     "data": {
      "application/vnd.jupyter.widget-view+json": {
       "model_id": "085f38f4039e48b89b53fcc74c288390",
       "version_major": 2,
       "version_minor": 0
      },
      "text/plain": [
       "  0%|          | 0/20 [00:00<?, ?it/s]"
      ]
     },
     "metadata": {},
     "output_type": "display_data"
    },
    {
     "data": {
      "application/vnd.jupyter.widget-view+json": {
       "model_id": "b9c1069303604e66b09f1d2b0855d576",
       "version_major": 2,
       "version_minor": 0
      },
      "text/plain": [
       "  0%|          | 0/20 [00:00<?, ?it/s]"
      ]
     },
     "metadata": {},
     "output_type": "display_data"
    },
    {
     "data": {
      "application/vnd.jupyter.widget-view+json": {
       "model_id": "219ed6d6505d480eaebe88f8dec0206f",
       "version_major": 2,
       "version_minor": 0
      },
      "text/plain": [
       "  0%|          | 0/20 [00:00<?, ?it/s]"
      ]
     },
     "metadata": {},
     "output_type": "display_data"
    },
    {
     "name": "stdout",
     "output_type": "stream",
     "text": [
      "Participant_13\n"
     ]
    },
    {
     "data": {
      "application/vnd.jupyter.widget-view+json": {
       "model_id": "73f689e7e4a54e76828c89bb3ebd69c7",
       "version_major": 2,
       "version_minor": 0
      },
      "text/plain": [
       "  0%|          | 0/20 [00:00<?, ?it/s]"
      ]
     },
     "metadata": {},
     "output_type": "display_data"
    },
    {
     "data": {
      "application/vnd.jupyter.widget-view+json": {
       "model_id": "85dd9bdca8ae435c977140a06f981f11",
       "version_major": 2,
       "version_minor": 0
      },
      "text/plain": [
       "  0%|          | 0/20 [00:00<?, ?it/s]"
      ]
     },
     "metadata": {},
     "output_type": "display_data"
    },
    {
     "data": {
      "application/vnd.jupyter.widget-view+json": {
       "model_id": "7df28c932d5d4cd1acca961c6c7e9230",
       "version_major": 2,
       "version_minor": 0
      },
      "text/plain": [
       "  0%|          | 0/20 [00:00<?, ?it/s]"
      ]
     },
     "metadata": {},
     "output_type": "display_data"
    },
    {
     "data": {
      "application/vnd.jupyter.widget-view+json": {
       "model_id": "797f6d80724242d2a754e7c52cf981da",
       "version_major": 2,
       "version_minor": 0
      },
      "text/plain": [
       "  0%|          | 0/20 [00:00<?, ?it/s]"
      ]
     },
     "metadata": {},
     "output_type": "display_data"
    },
    {
     "data": {
      "application/vnd.jupyter.widget-view+json": {
       "model_id": "11fac5425e6e4521b69a11be40d10d0e",
       "version_major": 2,
       "version_minor": 0
      },
      "text/plain": [
       "  0%|          | 0/20 [00:00<?, ?it/s]"
      ]
     },
     "metadata": {},
     "output_type": "display_data"
    },
    {
     "data": {
      "application/vnd.jupyter.widget-view+json": {
       "model_id": "a0cf76c828064ecd9252cdb4f94824ee",
       "version_major": 2,
       "version_minor": 0
      },
      "text/plain": [
       "  0%|          | 0/20 [00:00<?, ?it/s]"
      ]
     },
     "metadata": {},
     "output_type": "display_data"
    },
    {
     "data": {
      "application/vnd.jupyter.widget-view+json": {
       "model_id": "628fb05878904a899561f0618bfaceef",
       "version_major": 2,
       "version_minor": 0
      },
      "text/plain": [
       "  0%|          | 0/20 [00:00<?, ?it/s]"
      ]
     },
     "metadata": {},
     "output_type": "display_data"
    },
    {
     "data": {
      "application/vnd.jupyter.widget-view+json": {
       "model_id": "e4c7e9bd7fca4734abf2812121a39791",
       "version_major": 2,
       "version_minor": 0
      },
      "text/plain": [
       "  0%|          | 0/20 [00:00<?, ?it/s]"
      ]
     },
     "metadata": {},
     "output_type": "display_data"
    },
    {
     "data": {
      "application/vnd.jupyter.widget-view+json": {
       "model_id": "b54179f47dd147ae829798e774ee68df",
       "version_major": 2,
       "version_minor": 0
      },
      "text/plain": [
       "  0%|          | 0/20 [00:00<?, ?it/s]"
      ]
     },
     "metadata": {},
     "output_type": "display_data"
    },
    {
     "data": {
      "application/vnd.jupyter.widget-view+json": {
       "model_id": "714068357334440eb4e385893917bbce",
       "version_major": 2,
       "version_minor": 0
      },
      "text/plain": [
       "  0%|          | 0/20 [00:00<?, ?it/s]"
      ]
     },
     "metadata": {},
     "output_type": "display_data"
    },
    {
     "name": "stdout",
     "output_type": "stream",
     "text": [
      "Participant_14\n"
     ]
    },
    {
     "data": {
      "application/vnd.jupyter.widget-view+json": {
       "model_id": "bcfa26dc016e49d7a17a9eba493c44c1",
       "version_major": 2,
       "version_minor": 0
      },
      "text/plain": [
       "  0%|          | 0/20 [00:00<?, ?it/s]"
      ]
     },
     "metadata": {},
     "output_type": "display_data"
    },
    {
     "data": {
      "application/vnd.jupyter.widget-view+json": {
       "model_id": "a50b578fe98d4e8ba5b4811dd54bb150",
       "version_major": 2,
       "version_minor": 0
      },
      "text/plain": [
       "  0%|          | 0/20 [00:00<?, ?it/s]"
      ]
     },
     "metadata": {},
     "output_type": "display_data"
    },
    {
     "data": {
      "application/vnd.jupyter.widget-view+json": {
       "model_id": "e3b246551b1f40d69b919486d1f3e9d3",
       "version_major": 2,
       "version_minor": 0
      },
      "text/plain": [
       "  0%|          | 0/20 [00:00<?, ?it/s]"
      ]
     },
     "metadata": {},
     "output_type": "display_data"
    },
    {
     "data": {
      "application/vnd.jupyter.widget-view+json": {
       "model_id": "ed0349b8ee49496c8b5d00ef78ee6934",
       "version_major": 2,
       "version_minor": 0
      },
      "text/plain": [
       "  0%|          | 0/20 [00:00<?, ?it/s]"
      ]
     },
     "metadata": {},
     "output_type": "display_data"
    },
    {
     "data": {
      "application/vnd.jupyter.widget-view+json": {
       "model_id": "1cd5162ecb224628ba37265e9002cbfa",
       "version_major": 2,
       "version_minor": 0
      },
      "text/plain": [
       "  0%|          | 0/20 [00:00<?, ?it/s]"
      ]
     },
     "metadata": {},
     "output_type": "display_data"
    },
    {
     "data": {
      "application/vnd.jupyter.widget-view+json": {
       "model_id": "63fd1c3358a049cab8edb320935cc7e2",
       "version_major": 2,
       "version_minor": 0
      },
      "text/plain": [
       "  0%|          | 0/20 [00:00<?, ?it/s]"
      ]
     },
     "metadata": {},
     "output_type": "display_data"
    },
    {
     "data": {
      "application/vnd.jupyter.widget-view+json": {
       "model_id": "b852482d791a4764b5398fcbcf5df21a",
       "version_major": 2,
       "version_minor": 0
      },
      "text/plain": [
       "  0%|          | 0/20 [00:00<?, ?it/s]"
      ]
     },
     "metadata": {},
     "output_type": "display_data"
    },
    {
     "data": {
      "application/vnd.jupyter.widget-view+json": {
       "model_id": "aefba632b6cd41ae9d725491f637d4b7",
       "version_major": 2,
       "version_minor": 0
      },
      "text/plain": [
       "  0%|          | 0/20 [00:00<?, ?it/s]"
      ]
     },
     "metadata": {},
     "output_type": "display_data"
    },
    {
     "data": {
      "application/vnd.jupyter.widget-view+json": {
       "model_id": "a25f229f1c27432d94069438cdb5dbee",
       "version_major": 2,
       "version_minor": 0
      },
      "text/plain": [
       "  0%|          | 0/20 [00:00<?, ?it/s]"
      ]
     },
     "metadata": {},
     "output_type": "display_data"
    },
    {
     "data": {
      "application/vnd.jupyter.widget-view+json": {
       "model_id": "f0c019492ed3438486de8e7a43d6f1e1",
       "version_major": 2,
       "version_minor": 0
      },
      "text/plain": [
       "  0%|          | 0/20 [00:00<?, ?it/s]"
      ]
     },
     "metadata": {},
     "output_type": "display_data"
    },
    {
     "name": "stdout",
     "output_type": "stream",
     "text": [
      "Participant_15\n"
     ]
    },
    {
     "data": {
      "application/vnd.jupyter.widget-view+json": {
       "model_id": "0eb9b15a7c4a4089ac799be2e1c5b776",
       "version_major": 2,
       "version_minor": 0
      },
      "text/plain": [
       "  0%|          | 0/20 [00:00<?, ?it/s]"
      ]
     },
     "metadata": {},
     "output_type": "display_data"
    },
    {
     "data": {
      "application/vnd.jupyter.widget-view+json": {
       "model_id": "5fa85c352e674fe4bd2271d3d661d80a",
       "version_major": 2,
       "version_minor": 0
      },
      "text/plain": [
       "  0%|          | 0/20 [00:00<?, ?it/s]"
      ]
     },
     "metadata": {},
     "output_type": "display_data"
    },
    {
     "data": {
      "application/vnd.jupyter.widget-view+json": {
       "model_id": "b9963641d6064e4f9cd0dd2a57e94f90",
       "version_major": 2,
       "version_minor": 0
      },
      "text/plain": [
       "  0%|          | 0/20 [00:00<?, ?it/s]"
      ]
     },
     "metadata": {},
     "output_type": "display_data"
    },
    {
     "data": {
      "application/vnd.jupyter.widget-view+json": {
       "model_id": "2eace7927aaf437598af880a121dc001",
       "version_major": 2,
       "version_minor": 0
      },
      "text/plain": [
       "  0%|          | 0/20 [00:00<?, ?it/s]"
      ]
     },
     "metadata": {},
     "output_type": "display_data"
    },
    {
     "data": {
      "application/vnd.jupyter.widget-view+json": {
       "model_id": "2bf2a551c2f749b1b615988450e466b0",
       "version_major": 2,
       "version_minor": 0
      },
      "text/plain": [
       "  0%|          | 0/20 [00:00<?, ?it/s]"
      ]
     },
     "metadata": {},
     "output_type": "display_data"
    },
    {
     "data": {
      "application/vnd.jupyter.widget-view+json": {
       "model_id": "eb48e4cd4570426db3f2afa1b36a4e79",
       "version_major": 2,
       "version_minor": 0
      },
      "text/plain": [
       "  0%|          | 0/20 [00:00<?, ?it/s]"
      ]
     },
     "metadata": {},
     "output_type": "display_data"
    },
    {
     "data": {
      "application/vnd.jupyter.widget-view+json": {
       "model_id": "3432465c4ffe4bee931c48bcd1c9090c",
       "version_major": 2,
       "version_minor": 0
      },
      "text/plain": [
       "  0%|          | 0/20 [00:00<?, ?it/s]"
      ]
     },
     "metadata": {},
     "output_type": "display_data"
    },
    {
     "data": {
      "application/vnd.jupyter.widget-view+json": {
       "model_id": "82ada945641643dcb91356dc9333bb80",
       "version_major": 2,
       "version_minor": 0
      },
      "text/plain": [
       "  0%|          | 0/20 [00:00<?, ?it/s]"
      ]
     },
     "metadata": {},
     "output_type": "display_data"
    },
    {
     "data": {
      "application/vnd.jupyter.widget-view+json": {
       "model_id": "8361e6b035f542f48b85ef54acafc51d",
       "version_major": 2,
       "version_minor": 0
      },
      "text/plain": [
       "  0%|          | 0/20 [00:00<?, ?it/s]"
      ]
     },
     "metadata": {},
     "output_type": "display_data"
    },
    {
     "data": {
      "application/vnd.jupyter.widget-view+json": {
       "model_id": "42657e69c3444c279581927b702663a0",
       "version_major": 2,
       "version_minor": 0
      },
      "text/plain": [
       "  0%|          | 0/20 [00:00<?, ?it/s]"
      ]
     },
     "metadata": {},
     "output_type": "display_data"
    },
    {
     "name": "stdout",
     "output_type": "stream",
     "text": [
      "Participant_16\n"
     ]
    },
    {
     "data": {
      "application/vnd.jupyter.widget-view+json": {
       "model_id": "0b37167740f444c4ae72efafc6fb9c8f",
       "version_major": 2,
       "version_minor": 0
      },
      "text/plain": [
       "  0%|          | 0/20 [00:00<?, ?it/s]"
      ]
     },
     "metadata": {},
     "output_type": "display_data"
    },
    {
     "data": {
      "application/vnd.jupyter.widget-view+json": {
       "model_id": "694869f5a0c5494d895d8eeb3910fca2",
       "version_major": 2,
       "version_minor": 0
      },
      "text/plain": [
       "  0%|          | 0/20 [00:00<?, ?it/s]"
      ]
     },
     "metadata": {},
     "output_type": "display_data"
    },
    {
     "data": {
      "application/vnd.jupyter.widget-view+json": {
       "model_id": "5597daaa11474133bf16ee2f50c99d3b",
       "version_major": 2,
       "version_minor": 0
      },
      "text/plain": [
       "  0%|          | 0/20 [00:00<?, ?it/s]"
      ]
     },
     "metadata": {},
     "output_type": "display_data"
    },
    {
     "data": {
      "application/vnd.jupyter.widget-view+json": {
       "model_id": "bbd34e2c22874456bd219836d0729ad6",
       "version_major": 2,
       "version_minor": 0
      },
      "text/plain": [
       "  0%|          | 0/20 [00:00<?, ?it/s]"
      ]
     },
     "metadata": {},
     "output_type": "display_data"
    },
    {
     "data": {
      "application/vnd.jupyter.widget-view+json": {
       "model_id": "ad9b941b5f9941a8a2789e8b79332f6d",
       "version_major": 2,
       "version_minor": 0
      },
      "text/plain": [
       "  0%|          | 0/20 [00:00<?, ?it/s]"
      ]
     },
     "metadata": {},
     "output_type": "display_data"
    },
    {
     "data": {
      "application/vnd.jupyter.widget-view+json": {
       "model_id": "22e0e139b6c84458b75b19b939c34234",
       "version_major": 2,
       "version_minor": 0
      },
      "text/plain": [
       "  0%|          | 0/20 [00:00<?, ?it/s]"
      ]
     },
     "metadata": {},
     "output_type": "display_data"
    },
    {
     "data": {
      "application/vnd.jupyter.widget-view+json": {
       "model_id": "4a55a4d9fc764709a410aaf6c1537803",
       "version_major": 2,
       "version_minor": 0
      },
      "text/plain": [
       "  0%|          | 0/20 [00:00<?, ?it/s]"
      ]
     },
     "metadata": {},
     "output_type": "display_data"
    },
    {
     "data": {
      "application/vnd.jupyter.widget-view+json": {
       "model_id": "b89feeac4fab4b5d866f6fac3e26edc0",
       "version_major": 2,
       "version_minor": 0
      },
      "text/plain": [
       "  0%|          | 0/20 [00:00<?, ?it/s]"
      ]
     },
     "metadata": {},
     "output_type": "display_data"
    },
    {
     "data": {
      "application/vnd.jupyter.widget-view+json": {
       "model_id": "294d04f27d1e43f9973412f9d1311d5e",
       "version_major": 2,
       "version_minor": 0
      },
      "text/plain": [
       "  0%|          | 0/20 [00:00<?, ?it/s]"
      ]
     },
     "metadata": {},
     "output_type": "display_data"
    },
    {
     "data": {
      "application/vnd.jupyter.widget-view+json": {
       "model_id": "9d6812a9228046408ea7ec841c82c17b",
       "version_major": 2,
       "version_minor": 0
      },
      "text/plain": [
       "  0%|          | 0/20 [00:00<?, ?it/s]"
      ]
     },
     "metadata": {},
     "output_type": "display_data"
    },
    {
     "name": "stdout",
     "output_type": "stream",
     "text": [
      "Participant_17\n"
     ]
    },
    {
     "data": {
      "application/vnd.jupyter.widget-view+json": {
       "model_id": "e529c56834ec4508a5f8ab7608603851",
       "version_major": 2,
       "version_minor": 0
      },
      "text/plain": [
       "  0%|          | 0/20 [00:00<?, ?it/s]"
      ]
     },
     "metadata": {},
     "output_type": "display_data"
    },
    {
     "data": {
      "application/vnd.jupyter.widget-view+json": {
       "model_id": "8b6c0e9a653148e5ab387cfd9e3d9725",
       "version_major": 2,
       "version_minor": 0
      },
      "text/plain": [
       "  0%|          | 0/20 [00:00<?, ?it/s]"
      ]
     },
     "metadata": {},
     "output_type": "display_data"
    },
    {
     "data": {
      "application/vnd.jupyter.widget-view+json": {
       "model_id": "cda16031ada94837802fb146ace03be4",
       "version_major": 2,
       "version_minor": 0
      },
      "text/plain": [
       "  0%|          | 0/20 [00:00<?, ?it/s]"
      ]
     },
     "metadata": {},
     "output_type": "display_data"
    },
    {
     "data": {
      "application/vnd.jupyter.widget-view+json": {
       "model_id": "eb70e784872e4946888cfafeb70ffeb1",
       "version_major": 2,
       "version_minor": 0
      },
      "text/plain": [
       "  0%|          | 0/20 [00:00<?, ?it/s]"
      ]
     },
     "metadata": {},
     "output_type": "display_data"
    },
    {
     "data": {
      "application/vnd.jupyter.widget-view+json": {
       "model_id": "5b2c304d16a549868d8278602dca004e",
       "version_major": 2,
       "version_minor": 0
      },
      "text/plain": [
       "  0%|          | 0/20 [00:00<?, ?it/s]"
      ]
     },
     "metadata": {},
     "output_type": "display_data"
    },
    {
     "data": {
      "application/vnd.jupyter.widget-view+json": {
       "model_id": "4d52f235a1dd446791f8af307f8c3c80",
       "version_major": 2,
       "version_minor": 0
      },
      "text/plain": [
       "  0%|          | 0/20 [00:00<?, ?it/s]"
      ]
     },
     "metadata": {},
     "output_type": "display_data"
    },
    {
     "data": {
      "application/vnd.jupyter.widget-view+json": {
       "model_id": "a2e6864084374972806cb85907161478",
       "version_major": 2,
       "version_minor": 0
      },
      "text/plain": [
       "  0%|          | 0/20 [00:00<?, ?it/s]"
      ]
     },
     "metadata": {},
     "output_type": "display_data"
    },
    {
     "data": {
      "application/vnd.jupyter.widget-view+json": {
       "model_id": "f1fa23967bac449ba5ec1a4e0bf06836",
       "version_major": 2,
       "version_minor": 0
      },
      "text/plain": [
       "  0%|          | 0/20 [00:00<?, ?it/s]"
      ]
     },
     "metadata": {},
     "output_type": "display_data"
    },
    {
     "data": {
      "application/vnd.jupyter.widget-view+json": {
       "model_id": "debffd74b3b04bda8cc012bd8d495970",
       "version_major": 2,
       "version_minor": 0
      },
      "text/plain": [
       "  0%|          | 0/20 [00:00<?, ?it/s]"
      ]
     },
     "metadata": {},
     "output_type": "display_data"
    },
    {
     "data": {
      "application/vnd.jupyter.widget-view+json": {
       "model_id": "89fa4aa5b53b4b9c942ff88b29abbed3",
       "version_major": 2,
       "version_minor": 0
      },
      "text/plain": [
       "  0%|          | 0/20 [00:00<?, ?it/s]"
      ]
     },
     "metadata": {},
     "output_type": "display_data"
    },
    {
     "name": "stdout",
     "output_type": "stream",
     "text": [
      "Participant_18\n"
     ]
    },
    {
     "data": {
      "application/vnd.jupyter.widget-view+json": {
       "model_id": "2b23f877116b44debebf9add925ec6cd",
       "version_major": 2,
       "version_minor": 0
      },
      "text/plain": [
       "  0%|          | 0/20 [00:00<?, ?it/s]"
      ]
     },
     "metadata": {},
     "output_type": "display_data"
    },
    {
     "data": {
      "application/vnd.jupyter.widget-view+json": {
       "model_id": "19435521e45748b18c729fb42540d7c3",
       "version_major": 2,
       "version_minor": 0
      },
      "text/plain": [
       "  0%|          | 0/20 [00:00<?, ?it/s]"
      ]
     },
     "metadata": {},
     "output_type": "display_data"
    },
    {
     "data": {
      "application/vnd.jupyter.widget-view+json": {
       "model_id": "1b75d79dbb434727a8a560d8c2e6591e",
       "version_major": 2,
       "version_minor": 0
      },
      "text/plain": [
       "  0%|          | 0/20 [00:00<?, ?it/s]"
      ]
     },
     "metadata": {},
     "output_type": "display_data"
    },
    {
     "data": {
      "application/vnd.jupyter.widget-view+json": {
       "model_id": "2a86ac8c913446a08f661619dcf0cd10",
       "version_major": 2,
       "version_minor": 0
      },
      "text/plain": [
       "  0%|          | 0/20 [00:00<?, ?it/s]"
      ]
     },
     "metadata": {},
     "output_type": "display_data"
    },
    {
     "data": {
      "application/vnd.jupyter.widget-view+json": {
       "model_id": "f0c3980780fd49b2b67d7d5acc1c746f",
       "version_major": 2,
       "version_minor": 0
      },
      "text/plain": [
       "  0%|          | 0/20 [00:00<?, ?it/s]"
      ]
     },
     "metadata": {},
     "output_type": "display_data"
    },
    {
     "data": {
      "application/vnd.jupyter.widget-view+json": {
       "model_id": "658859ec556f41beb2924a219bc70aa0",
       "version_major": 2,
       "version_minor": 0
      },
      "text/plain": [
       "  0%|          | 0/20 [00:00<?, ?it/s]"
      ]
     },
     "metadata": {},
     "output_type": "display_data"
    },
    {
     "data": {
      "application/vnd.jupyter.widget-view+json": {
       "model_id": "bd17683a58294aa4a0973bf8ec0382a2",
       "version_major": 2,
       "version_minor": 0
      },
      "text/plain": [
       "  0%|          | 0/20 [00:00<?, ?it/s]"
      ]
     },
     "metadata": {},
     "output_type": "display_data"
    },
    {
     "data": {
      "application/vnd.jupyter.widget-view+json": {
       "model_id": "1f69101a818041c4b52a4419c1e94f70",
       "version_major": 2,
       "version_minor": 0
      },
      "text/plain": [
       "  0%|          | 0/20 [00:00<?, ?it/s]"
      ]
     },
     "metadata": {},
     "output_type": "display_data"
    },
    {
     "data": {
      "application/vnd.jupyter.widget-view+json": {
       "model_id": "78c0e8cee2e644a294770c1913e2d965",
       "version_major": 2,
       "version_minor": 0
      },
      "text/plain": [
       "  0%|          | 0/20 [00:00<?, ?it/s]"
      ]
     },
     "metadata": {},
     "output_type": "display_data"
    },
    {
     "data": {
      "application/vnd.jupyter.widget-view+json": {
       "model_id": "c7f2bb5ef2744032b01d7dd9d0ad2393",
       "version_major": 2,
       "version_minor": 0
      },
      "text/plain": [
       "  0%|          | 0/20 [00:00<?, ?it/s]"
      ]
     },
     "metadata": {},
     "output_type": "display_data"
    },
    {
     "name": "stdout",
     "output_type": "stream",
     "text": [
      "Participant_19\n"
     ]
    },
    {
     "data": {
      "application/vnd.jupyter.widget-view+json": {
       "model_id": "e3d4bc3b45f0414ab6d9bc873d043779",
       "version_major": 2,
       "version_minor": 0
      },
      "text/plain": [
       "  0%|          | 0/20 [00:00<?, ?it/s]"
      ]
     },
     "metadata": {},
     "output_type": "display_data"
    },
    {
     "data": {
      "application/vnd.jupyter.widget-view+json": {
       "model_id": "5e3b84ebe19a4759b620c1605d8e0eff",
       "version_major": 2,
       "version_minor": 0
      },
      "text/plain": [
       "  0%|          | 0/20 [00:00<?, ?it/s]"
      ]
     },
     "metadata": {},
     "output_type": "display_data"
    },
    {
     "data": {
      "application/vnd.jupyter.widget-view+json": {
       "model_id": "a03c521381ee4f44b7149624137a80e9",
       "version_major": 2,
       "version_minor": 0
      },
      "text/plain": [
       "  0%|          | 0/20 [00:00<?, ?it/s]"
      ]
     },
     "metadata": {},
     "output_type": "display_data"
    },
    {
     "data": {
      "application/vnd.jupyter.widget-view+json": {
       "model_id": "5c4f49cf611d4130a3a05cd8a570d915",
       "version_major": 2,
       "version_minor": 0
      },
      "text/plain": [
       "  0%|          | 0/20 [00:00<?, ?it/s]"
      ]
     },
     "metadata": {},
     "output_type": "display_data"
    },
    {
     "data": {
      "application/vnd.jupyter.widget-view+json": {
       "model_id": "8a68d7f3a61b47d9bd5191294fe97fbf",
       "version_major": 2,
       "version_minor": 0
      },
      "text/plain": [
       "  0%|          | 0/20 [00:00<?, ?it/s]"
      ]
     },
     "metadata": {},
     "output_type": "display_data"
    },
    {
     "data": {
      "application/vnd.jupyter.widget-view+json": {
       "model_id": "20458705833142c284ab2d53b3727553",
       "version_major": 2,
       "version_minor": 0
      },
      "text/plain": [
       "  0%|          | 0/20 [00:00<?, ?it/s]"
      ]
     },
     "metadata": {},
     "output_type": "display_data"
    },
    {
     "data": {
      "application/vnd.jupyter.widget-view+json": {
       "model_id": "711bce072ca24e24b11ab339613c43ae",
       "version_major": 2,
       "version_minor": 0
      },
      "text/plain": [
       "  0%|          | 0/20 [00:00<?, ?it/s]"
      ]
     },
     "metadata": {},
     "output_type": "display_data"
    },
    {
     "data": {
      "application/vnd.jupyter.widget-view+json": {
       "model_id": "af0ee74ea6054941b1baef90f090f4ff",
       "version_major": 2,
       "version_minor": 0
      },
      "text/plain": [
       "  0%|          | 0/20 [00:00<?, ?it/s]"
      ]
     },
     "metadata": {},
     "output_type": "display_data"
    },
    {
     "data": {
      "application/vnd.jupyter.widget-view+json": {
       "model_id": "e542594846d44a309ffc8b7e8251240c",
       "version_major": 2,
       "version_minor": 0
      },
      "text/plain": [
       "  0%|          | 0/20 [00:00<?, ?it/s]"
      ]
     },
     "metadata": {},
     "output_type": "display_data"
    },
    {
     "data": {
      "application/vnd.jupyter.widget-view+json": {
       "model_id": "9b319d58d9ab473593a6ebd7f7fd3ff6",
       "version_major": 2,
       "version_minor": 0
      },
      "text/plain": [
       "  0%|          | 0/20 [00:00<?, ?it/s]"
      ]
     },
     "metadata": {},
     "output_type": "display_data"
    },
    {
     "name": "stdout",
     "output_type": "stream",
     "text": [
      "1 shift_testout_occipital_1.pkl\n"
     ]
    },
    {
     "name": "stderr",
     "output_type": "stream",
     "text": [
      "C:\\Users\\user\\AppData\\Roaming\\Python\\Python310\\site-packages\\numpy\\core\\fromnumeric.py:43: VisibleDeprecationWarning: Creating an ndarray from ragged nested sequences (which is a list-or-tuple of lists-or-tuples-or ndarrays with different lengths or shapes) is deprecated. If you meant to do this, you must specify 'dtype=object' when creating the ndarray.\n",
      "  result = getattr(asarray(obj), method)(*args, **kwds)\n"
     ]
    },
    {
     "name": "stdout",
     "output_type": "stream",
     "text": [
      "Participant_0\n"
     ]
    },
    {
     "data": {
      "application/vnd.jupyter.widget-view+json": {
       "model_id": "0dd76145b2da4ad1a3e5d2fb42f80c4a",
       "version_major": 2,
       "version_minor": 0
      },
      "text/plain": [
       "  0%|          | 0/20 [00:00<?, ?it/s]"
      ]
     },
     "metadata": {},
     "output_type": "display_data"
    },
    {
     "data": {
      "application/vnd.jupyter.widget-view+json": {
       "model_id": "59923e67e6f84049b33c05e9569b16d4",
       "version_major": 2,
       "version_minor": 0
      },
      "text/plain": [
       "  0%|          | 0/20 [00:00<?, ?it/s]"
      ]
     },
     "metadata": {},
     "output_type": "display_data"
    },
    {
     "data": {
      "application/vnd.jupyter.widget-view+json": {
       "model_id": "b4d525ad5caa45d6a3f45eac878667e6",
       "version_major": 2,
       "version_minor": 0
      },
      "text/plain": [
       "  0%|          | 0/20 [00:00<?, ?it/s]"
      ]
     },
     "metadata": {},
     "output_type": "display_data"
    },
    {
     "data": {
      "application/vnd.jupyter.widget-view+json": {
       "model_id": "cb6f687c0d5f40e5801b9388a924df6c",
       "version_major": 2,
       "version_minor": 0
      },
      "text/plain": [
       "  0%|          | 0/20 [00:00<?, ?it/s]"
      ]
     },
     "metadata": {},
     "output_type": "display_data"
    },
    {
     "data": {
      "application/vnd.jupyter.widget-view+json": {
       "model_id": "439d266c2e5c477a835856678aecd252",
       "version_major": 2,
       "version_minor": 0
      },
      "text/plain": [
       "  0%|          | 0/20 [00:00<?, ?it/s]"
      ]
     },
     "metadata": {},
     "output_type": "display_data"
    },
    {
     "data": {
      "application/vnd.jupyter.widget-view+json": {
       "model_id": "a2d6b2a4342e430a81da6b6cb2705c11",
       "version_major": 2,
       "version_minor": 0
      },
      "text/plain": [
       "  0%|          | 0/20 [00:00<?, ?it/s]"
      ]
     },
     "metadata": {},
     "output_type": "display_data"
    },
    {
     "data": {
      "application/vnd.jupyter.widget-view+json": {
       "model_id": "7617c08cf57b4cd4afbc95a7ae24ee17",
       "version_major": 2,
       "version_minor": 0
      },
      "text/plain": [
       "  0%|          | 0/20 [00:00<?, ?it/s]"
      ]
     },
     "metadata": {},
     "output_type": "display_data"
    },
    {
     "data": {
      "application/vnd.jupyter.widget-view+json": {
       "model_id": "85964d758f284f78bd2e9eb3ad67f714",
       "version_major": 2,
       "version_minor": 0
      },
      "text/plain": [
       "  0%|          | 0/20 [00:00<?, ?it/s]"
      ]
     },
     "metadata": {},
     "output_type": "display_data"
    },
    {
     "data": {
      "application/vnd.jupyter.widget-view+json": {
       "model_id": "42ff5124417a47f4bd55e77a5d5f9955",
       "version_major": 2,
       "version_minor": 0
      },
      "text/plain": [
       "  0%|          | 0/20 [00:00<?, ?it/s]"
      ]
     },
     "metadata": {},
     "output_type": "display_data"
    },
    {
     "data": {
      "application/vnd.jupyter.widget-view+json": {
       "model_id": "e2f83e28b68e43279254d90f6eab8dde",
       "version_major": 2,
       "version_minor": 0
      },
      "text/plain": [
       "  0%|          | 0/20 [00:00<?, ?it/s]"
      ]
     },
     "metadata": {},
     "output_type": "display_data"
    },
    {
     "name": "stdout",
     "output_type": "stream",
     "text": [
      "Participant_1\n"
     ]
    },
    {
     "data": {
      "application/vnd.jupyter.widget-view+json": {
       "model_id": "45c812e627c945718d7926af01c09765",
       "version_major": 2,
       "version_minor": 0
      },
      "text/plain": [
       "  0%|          | 0/20 [00:00<?, ?it/s]"
      ]
     },
     "metadata": {},
     "output_type": "display_data"
    },
    {
     "data": {
      "application/vnd.jupyter.widget-view+json": {
       "model_id": "78937729e90949ce86d4d07953ece773",
       "version_major": 2,
       "version_minor": 0
      },
      "text/plain": [
       "  0%|          | 0/20 [00:00<?, ?it/s]"
      ]
     },
     "metadata": {},
     "output_type": "display_data"
    },
    {
     "data": {
      "application/vnd.jupyter.widget-view+json": {
       "model_id": "e6146f3fd4734a51b5e1097ff814b260",
       "version_major": 2,
       "version_minor": 0
      },
      "text/plain": [
       "  0%|          | 0/20 [00:00<?, ?it/s]"
      ]
     },
     "metadata": {},
     "output_type": "display_data"
    },
    {
     "data": {
      "application/vnd.jupyter.widget-view+json": {
       "model_id": "c19d5054565a4ffb8dd3ae833db99432",
       "version_major": 2,
       "version_minor": 0
      },
      "text/plain": [
       "  0%|          | 0/20 [00:00<?, ?it/s]"
      ]
     },
     "metadata": {},
     "output_type": "display_data"
    },
    {
     "data": {
      "application/vnd.jupyter.widget-view+json": {
       "model_id": "6ec67f0128be4a2187d67c9cc444fe1b",
       "version_major": 2,
       "version_minor": 0
      },
      "text/plain": [
       "  0%|          | 0/20 [00:00<?, ?it/s]"
      ]
     },
     "metadata": {},
     "output_type": "display_data"
    },
    {
     "data": {
      "application/vnd.jupyter.widget-view+json": {
       "model_id": "19418883ad3c454d9b7b1e454760ecfb",
       "version_major": 2,
       "version_minor": 0
      },
      "text/plain": [
       "  0%|          | 0/20 [00:00<?, ?it/s]"
      ]
     },
     "metadata": {},
     "output_type": "display_data"
    },
    {
     "data": {
      "application/vnd.jupyter.widget-view+json": {
       "model_id": "1b7d4b13195f4f8aa6134a790e0fbd68",
       "version_major": 2,
       "version_minor": 0
      },
      "text/plain": [
       "  0%|          | 0/20 [00:00<?, ?it/s]"
      ]
     },
     "metadata": {},
     "output_type": "display_data"
    },
    {
     "data": {
      "application/vnd.jupyter.widget-view+json": {
       "model_id": "52171fca8cb345d6a5e7b7c21ea34816",
       "version_major": 2,
       "version_minor": 0
      },
      "text/plain": [
       "  0%|          | 0/20 [00:00<?, ?it/s]"
      ]
     },
     "metadata": {},
     "output_type": "display_data"
    },
    {
     "data": {
      "application/vnd.jupyter.widget-view+json": {
       "model_id": "41cfa541d9594400b9c0b0a6bc4cefda",
       "version_major": 2,
       "version_minor": 0
      },
      "text/plain": [
       "  0%|          | 0/20 [00:00<?, ?it/s]"
      ]
     },
     "metadata": {},
     "output_type": "display_data"
    },
    {
     "data": {
      "application/vnd.jupyter.widget-view+json": {
       "model_id": "c694b924398e4dcfba10f46872a0d755",
       "version_major": 2,
       "version_minor": 0
      },
      "text/plain": [
       "  0%|          | 0/20 [00:00<?, ?it/s]"
      ]
     },
     "metadata": {},
     "output_type": "display_data"
    },
    {
     "name": "stdout",
     "output_type": "stream",
     "text": [
      "Participant_2\n"
     ]
    },
    {
     "data": {
      "application/vnd.jupyter.widget-view+json": {
       "model_id": "4e6115a60c3c4f589c87e3cd8590ffa2",
       "version_major": 2,
       "version_minor": 0
      },
      "text/plain": [
       "  0%|          | 0/20 [00:00<?, ?it/s]"
      ]
     },
     "metadata": {},
     "output_type": "display_data"
    },
    {
     "data": {
      "application/vnd.jupyter.widget-view+json": {
       "model_id": "786c7f663d69483ba065f8a8f9803e9a",
       "version_major": 2,
       "version_minor": 0
      },
      "text/plain": [
       "  0%|          | 0/20 [00:00<?, ?it/s]"
      ]
     },
     "metadata": {},
     "output_type": "display_data"
    },
    {
     "data": {
      "application/vnd.jupyter.widget-view+json": {
       "model_id": "5f752b6db175485abe16ebada1f31e19",
       "version_major": 2,
       "version_minor": 0
      },
      "text/plain": [
       "  0%|          | 0/20 [00:00<?, ?it/s]"
      ]
     },
     "metadata": {},
     "output_type": "display_data"
    },
    {
     "data": {
      "application/vnd.jupyter.widget-view+json": {
       "model_id": "19b9877237924279b7b06bc15d690197",
       "version_major": 2,
       "version_minor": 0
      },
      "text/plain": [
       "  0%|          | 0/20 [00:00<?, ?it/s]"
      ]
     },
     "metadata": {},
     "output_type": "display_data"
    },
    {
     "data": {
      "application/vnd.jupyter.widget-view+json": {
       "model_id": "ff0aa3ac3af54f24a7de00275e35cfe9",
       "version_major": 2,
       "version_minor": 0
      },
      "text/plain": [
       "  0%|          | 0/20 [00:00<?, ?it/s]"
      ]
     },
     "metadata": {},
     "output_type": "display_data"
    },
    {
     "data": {
      "application/vnd.jupyter.widget-view+json": {
       "model_id": "06ba76e51a454e43a24f61d7ade872b9",
       "version_major": 2,
       "version_minor": 0
      },
      "text/plain": [
       "  0%|          | 0/20 [00:00<?, ?it/s]"
      ]
     },
     "metadata": {},
     "output_type": "display_data"
    },
    {
     "data": {
      "application/vnd.jupyter.widget-view+json": {
       "model_id": "dd04a651d9c9411fbf9a8fc6cb905228",
       "version_major": 2,
       "version_minor": 0
      },
      "text/plain": [
       "  0%|          | 0/20 [00:00<?, ?it/s]"
      ]
     },
     "metadata": {},
     "output_type": "display_data"
    },
    {
     "data": {
      "application/vnd.jupyter.widget-view+json": {
       "model_id": "c9f57e84d2704ab9a339bcdaf03cae91",
       "version_major": 2,
       "version_minor": 0
      },
      "text/plain": [
       "  0%|          | 0/20 [00:00<?, ?it/s]"
      ]
     },
     "metadata": {},
     "output_type": "display_data"
    },
    {
     "data": {
      "application/vnd.jupyter.widget-view+json": {
       "model_id": "c89bc981bd7546a292de3c3ef90649f4",
       "version_major": 2,
       "version_minor": 0
      },
      "text/plain": [
       "  0%|          | 0/20 [00:00<?, ?it/s]"
      ]
     },
     "metadata": {},
     "output_type": "display_data"
    },
    {
     "data": {
      "application/vnd.jupyter.widget-view+json": {
       "model_id": "b860462801b44fa9916896b3af222981",
       "version_major": 2,
       "version_minor": 0
      },
      "text/plain": [
       "  0%|          | 0/20 [00:00<?, ?it/s]"
      ]
     },
     "metadata": {},
     "output_type": "display_data"
    },
    {
     "name": "stdout",
     "output_type": "stream",
     "text": [
      "Participant_3\n"
     ]
    },
    {
     "data": {
      "application/vnd.jupyter.widget-view+json": {
       "model_id": "cdf8aa0d07794b88a07e603458afd758",
       "version_major": 2,
       "version_minor": 0
      },
      "text/plain": [
       "  0%|          | 0/20 [00:00<?, ?it/s]"
      ]
     },
     "metadata": {},
     "output_type": "display_data"
    },
    {
     "data": {
      "application/vnd.jupyter.widget-view+json": {
       "model_id": "cf066ad2c0f94468a2f1adc3b9c3e4dc",
       "version_major": 2,
       "version_minor": 0
      },
      "text/plain": [
       "  0%|          | 0/20 [00:00<?, ?it/s]"
      ]
     },
     "metadata": {},
     "output_type": "display_data"
    },
    {
     "data": {
      "application/vnd.jupyter.widget-view+json": {
       "model_id": "e0199965963c478a859bfd3cfebc84da",
       "version_major": 2,
       "version_minor": 0
      },
      "text/plain": [
       "  0%|          | 0/20 [00:00<?, ?it/s]"
      ]
     },
     "metadata": {},
     "output_type": "display_data"
    },
    {
     "data": {
      "application/vnd.jupyter.widget-view+json": {
       "model_id": "711d1d720a0048a08e264e10b8e8ad59",
       "version_major": 2,
       "version_minor": 0
      },
      "text/plain": [
       "  0%|          | 0/20 [00:00<?, ?it/s]"
      ]
     },
     "metadata": {},
     "output_type": "display_data"
    },
    {
     "data": {
      "application/vnd.jupyter.widget-view+json": {
       "model_id": "c2f3d270283744ceabdd10eb242a34fa",
       "version_major": 2,
       "version_minor": 0
      },
      "text/plain": [
       "  0%|          | 0/20 [00:00<?, ?it/s]"
      ]
     },
     "metadata": {},
     "output_type": "display_data"
    },
    {
     "data": {
      "application/vnd.jupyter.widget-view+json": {
       "model_id": "415347e1aa4a45c1b680bf52be4f49a5",
       "version_major": 2,
       "version_minor": 0
      },
      "text/plain": [
       "  0%|          | 0/20 [00:00<?, ?it/s]"
      ]
     },
     "metadata": {},
     "output_type": "display_data"
    },
    {
     "data": {
      "application/vnd.jupyter.widget-view+json": {
       "model_id": "7689942148114435893bc50c1f3e8259",
       "version_major": 2,
       "version_minor": 0
      },
      "text/plain": [
       "  0%|          | 0/20 [00:00<?, ?it/s]"
      ]
     },
     "metadata": {},
     "output_type": "display_data"
    },
    {
     "data": {
      "application/vnd.jupyter.widget-view+json": {
       "model_id": "1594ace470d74335a6ed065629debbf8",
       "version_major": 2,
       "version_minor": 0
      },
      "text/plain": [
       "  0%|          | 0/20 [00:00<?, ?it/s]"
      ]
     },
     "metadata": {},
     "output_type": "display_data"
    },
    {
     "data": {
      "application/vnd.jupyter.widget-view+json": {
       "model_id": "e9ad4f1563814422ba133f34241d6db4",
       "version_major": 2,
       "version_minor": 0
      },
      "text/plain": [
       "  0%|          | 0/20 [00:00<?, ?it/s]"
      ]
     },
     "metadata": {},
     "output_type": "display_data"
    },
    {
     "data": {
      "application/vnd.jupyter.widget-view+json": {
       "model_id": "75ea2b7995d94bbdbe1362113f1d538d",
       "version_major": 2,
       "version_minor": 0
      },
      "text/plain": [
       "  0%|          | 0/20 [00:00<?, ?it/s]"
      ]
     },
     "metadata": {},
     "output_type": "display_data"
    },
    {
     "name": "stdout",
     "output_type": "stream",
     "text": [
      "Participant_4\n"
     ]
    },
    {
     "data": {
      "application/vnd.jupyter.widget-view+json": {
       "model_id": "3d8c3846b9f14e329874f74b25e29ece",
       "version_major": 2,
       "version_minor": 0
      },
      "text/plain": [
       "  0%|          | 0/20 [00:00<?, ?it/s]"
      ]
     },
     "metadata": {},
     "output_type": "display_data"
    },
    {
     "data": {
      "application/vnd.jupyter.widget-view+json": {
       "model_id": "18d477ba3886407fb435b6976596ec5c",
       "version_major": 2,
       "version_minor": 0
      },
      "text/plain": [
       "  0%|          | 0/20 [00:00<?, ?it/s]"
      ]
     },
     "metadata": {},
     "output_type": "display_data"
    },
    {
     "data": {
      "application/vnd.jupyter.widget-view+json": {
       "model_id": "318bf55e21b34b868018739ab2ec343b",
       "version_major": 2,
       "version_minor": 0
      },
      "text/plain": [
       "  0%|          | 0/20 [00:00<?, ?it/s]"
      ]
     },
     "metadata": {},
     "output_type": "display_data"
    },
    {
     "data": {
      "application/vnd.jupyter.widget-view+json": {
       "model_id": "b4397a9b5d69408cb9ece293dd9d9e7a",
       "version_major": 2,
       "version_minor": 0
      },
      "text/plain": [
       "  0%|          | 0/20 [00:00<?, ?it/s]"
      ]
     },
     "metadata": {},
     "output_type": "display_data"
    },
    {
     "data": {
      "application/vnd.jupyter.widget-view+json": {
       "model_id": "69c1fe18dbac467eb3e8e92c2642b1d3",
       "version_major": 2,
       "version_minor": 0
      },
      "text/plain": [
       "  0%|          | 0/20 [00:00<?, ?it/s]"
      ]
     },
     "metadata": {},
     "output_type": "display_data"
    },
    {
     "data": {
      "application/vnd.jupyter.widget-view+json": {
       "model_id": "4f6c1eae9948421183a127f252ed554c",
       "version_major": 2,
       "version_minor": 0
      },
      "text/plain": [
       "  0%|          | 0/20 [00:00<?, ?it/s]"
      ]
     },
     "metadata": {},
     "output_type": "display_data"
    },
    {
     "data": {
      "application/vnd.jupyter.widget-view+json": {
       "model_id": "b60fbb349dab4fcfbef2efdcf02690c7",
       "version_major": 2,
       "version_minor": 0
      },
      "text/plain": [
       "  0%|          | 0/20 [00:00<?, ?it/s]"
      ]
     },
     "metadata": {},
     "output_type": "display_data"
    },
    {
     "data": {
      "application/vnd.jupyter.widget-view+json": {
       "model_id": "80adfc19be4f465ca5b675ae1558d696",
       "version_major": 2,
       "version_minor": 0
      },
      "text/plain": [
       "  0%|          | 0/20 [00:00<?, ?it/s]"
      ]
     },
     "metadata": {},
     "output_type": "display_data"
    },
    {
     "data": {
      "application/vnd.jupyter.widget-view+json": {
       "model_id": "cfa1685b9a324df189600bf1b28066a1",
       "version_major": 2,
       "version_minor": 0
      },
      "text/plain": [
       "  0%|          | 0/20 [00:00<?, ?it/s]"
      ]
     },
     "metadata": {},
     "output_type": "display_data"
    },
    {
     "data": {
      "application/vnd.jupyter.widget-view+json": {
       "model_id": "20a187d140ff4390bbd199f6c7b0b2dd",
       "version_major": 2,
       "version_minor": 0
      },
      "text/plain": [
       "  0%|          | 0/20 [00:00<?, ?it/s]"
      ]
     },
     "metadata": {},
     "output_type": "display_data"
    },
    {
     "name": "stdout",
     "output_type": "stream",
     "text": [
      "Participant_5\n"
     ]
    },
    {
     "data": {
      "application/vnd.jupyter.widget-view+json": {
       "model_id": "7f028451eddf4d389bf851ee78e8afad",
       "version_major": 2,
       "version_minor": 0
      },
      "text/plain": [
       "  0%|          | 0/20 [00:00<?, ?it/s]"
      ]
     },
     "metadata": {},
     "output_type": "display_data"
    },
    {
     "data": {
      "application/vnd.jupyter.widget-view+json": {
       "model_id": "99a238734b524b1087f5ceb8cdf60513",
       "version_major": 2,
       "version_minor": 0
      },
      "text/plain": [
       "  0%|          | 0/20 [00:00<?, ?it/s]"
      ]
     },
     "metadata": {},
     "output_type": "display_data"
    },
    {
     "data": {
      "application/vnd.jupyter.widget-view+json": {
       "model_id": "9f4012436ade4f7288153bcbbf60b2ce",
       "version_major": 2,
       "version_minor": 0
      },
      "text/plain": [
       "  0%|          | 0/20 [00:00<?, ?it/s]"
      ]
     },
     "metadata": {},
     "output_type": "display_data"
    },
    {
     "data": {
      "application/vnd.jupyter.widget-view+json": {
       "model_id": "98a94c3b3aa44b5fb2e58c8b29dc9f9d",
       "version_major": 2,
       "version_minor": 0
      },
      "text/plain": [
       "  0%|          | 0/20 [00:00<?, ?it/s]"
      ]
     },
     "metadata": {},
     "output_type": "display_data"
    },
    {
     "data": {
      "application/vnd.jupyter.widget-view+json": {
       "model_id": "845d1f3110b143f98673ce8dd4e08ab1",
       "version_major": 2,
       "version_minor": 0
      },
      "text/plain": [
       "  0%|          | 0/20 [00:00<?, ?it/s]"
      ]
     },
     "metadata": {},
     "output_type": "display_data"
    },
    {
     "data": {
      "application/vnd.jupyter.widget-view+json": {
       "model_id": "d0cd861c41ad4921ab4122c12555c190",
       "version_major": 2,
       "version_minor": 0
      },
      "text/plain": [
       "  0%|          | 0/20 [00:00<?, ?it/s]"
      ]
     },
     "metadata": {},
     "output_type": "display_data"
    },
    {
     "data": {
      "application/vnd.jupyter.widget-view+json": {
       "model_id": "e1f6f5ca9b114203b60db5c57ff373d3",
       "version_major": 2,
       "version_minor": 0
      },
      "text/plain": [
       "  0%|          | 0/20 [00:00<?, ?it/s]"
      ]
     },
     "metadata": {},
     "output_type": "display_data"
    },
    {
     "data": {
      "application/vnd.jupyter.widget-view+json": {
       "model_id": "c2babfb01a2a472d874147d2dfd8757f",
       "version_major": 2,
       "version_minor": 0
      },
      "text/plain": [
       "  0%|          | 0/20 [00:00<?, ?it/s]"
      ]
     },
     "metadata": {},
     "output_type": "display_data"
    },
    {
     "data": {
      "application/vnd.jupyter.widget-view+json": {
       "model_id": "83fd3c584382442c9a8b2500d15c6a59",
       "version_major": 2,
       "version_minor": 0
      },
      "text/plain": [
       "  0%|          | 0/20 [00:00<?, ?it/s]"
      ]
     },
     "metadata": {},
     "output_type": "display_data"
    },
    {
     "data": {
      "application/vnd.jupyter.widget-view+json": {
       "model_id": "bd2f9df77ec7421a9648f1d7fde78909",
       "version_major": 2,
       "version_minor": 0
      },
      "text/plain": [
       "  0%|          | 0/20 [00:00<?, ?it/s]"
      ]
     },
     "metadata": {},
     "output_type": "display_data"
    },
    {
     "name": "stdout",
     "output_type": "stream",
     "text": [
      "Participant_6\n"
     ]
    },
    {
     "data": {
      "application/vnd.jupyter.widget-view+json": {
       "model_id": "c5ddfde113844e6683080c409ac0ba55",
       "version_major": 2,
       "version_minor": 0
      },
      "text/plain": [
       "  0%|          | 0/20 [00:00<?, ?it/s]"
      ]
     },
     "metadata": {},
     "output_type": "display_data"
    },
    {
     "data": {
      "application/vnd.jupyter.widget-view+json": {
       "model_id": "97900a5bd0614005848e32437339f2b9",
       "version_major": 2,
       "version_minor": 0
      },
      "text/plain": [
       "  0%|          | 0/20 [00:00<?, ?it/s]"
      ]
     },
     "metadata": {},
     "output_type": "display_data"
    },
    {
     "data": {
      "application/vnd.jupyter.widget-view+json": {
       "model_id": "2241474b49bb4653a9ec5fb92b9a1cf8",
       "version_major": 2,
       "version_minor": 0
      },
      "text/plain": [
       "  0%|          | 0/20 [00:00<?, ?it/s]"
      ]
     },
     "metadata": {},
     "output_type": "display_data"
    },
    {
     "data": {
      "application/vnd.jupyter.widget-view+json": {
       "model_id": "f879515aa067427e979e525bc4c712ac",
       "version_major": 2,
       "version_minor": 0
      },
      "text/plain": [
       "  0%|          | 0/20 [00:00<?, ?it/s]"
      ]
     },
     "metadata": {},
     "output_type": "display_data"
    },
    {
     "data": {
      "application/vnd.jupyter.widget-view+json": {
       "model_id": "67c56514da0743bcbfda67938f57accd",
       "version_major": 2,
       "version_minor": 0
      },
      "text/plain": [
       "  0%|          | 0/20 [00:00<?, ?it/s]"
      ]
     },
     "metadata": {},
     "output_type": "display_data"
    },
    {
     "data": {
      "application/vnd.jupyter.widget-view+json": {
       "model_id": "8791598f00504de38cc6d5433a44a5d5",
       "version_major": 2,
       "version_minor": 0
      },
      "text/plain": [
       "  0%|          | 0/20 [00:00<?, ?it/s]"
      ]
     },
     "metadata": {},
     "output_type": "display_data"
    },
    {
     "data": {
      "application/vnd.jupyter.widget-view+json": {
       "model_id": "281c8a05fa1c4f13b522a63bf1a9f13e",
       "version_major": 2,
       "version_minor": 0
      },
      "text/plain": [
       "  0%|          | 0/20 [00:00<?, ?it/s]"
      ]
     },
     "metadata": {},
     "output_type": "display_data"
    },
    {
     "data": {
      "application/vnd.jupyter.widget-view+json": {
       "model_id": "ed0cffce00a14d6ba8e588c71f90fce8",
       "version_major": 2,
       "version_minor": 0
      },
      "text/plain": [
       "  0%|          | 0/20 [00:00<?, ?it/s]"
      ]
     },
     "metadata": {},
     "output_type": "display_data"
    },
    {
     "data": {
      "application/vnd.jupyter.widget-view+json": {
       "model_id": "ca48a167750c4e49b84dba6013c819b4",
       "version_major": 2,
       "version_minor": 0
      },
      "text/plain": [
       "  0%|          | 0/20 [00:00<?, ?it/s]"
      ]
     },
     "metadata": {},
     "output_type": "display_data"
    },
    {
     "data": {
      "application/vnd.jupyter.widget-view+json": {
       "model_id": "5dc9853d699746d180184b46fb36038d",
       "version_major": 2,
       "version_minor": 0
      },
      "text/plain": [
       "  0%|          | 0/20 [00:00<?, ?it/s]"
      ]
     },
     "metadata": {},
     "output_type": "display_data"
    },
    {
     "name": "stdout",
     "output_type": "stream",
     "text": [
      "Participant_7\n"
     ]
    },
    {
     "data": {
      "application/vnd.jupyter.widget-view+json": {
       "model_id": "cda904d66b34490d97782890446be37b",
       "version_major": 2,
       "version_minor": 0
      },
      "text/plain": [
       "  0%|          | 0/20 [00:00<?, ?it/s]"
      ]
     },
     "metadata": {},
     "output_type": "display_data"
    },
    {
     "data": {
      "application/vnd.jupyter.widget-view+json": {
       "model_id": "08f497106b7a4d1c9d24ed0e16ffd26d",
       "version_major": 2,
       "version_minor": 0
      },
      "text/plain": [
       "  0%|          | 0/20 [00:00<?, ?it/s]"
      ]
     },
     "metadata": {},
     "output_type": "display_data"
    },
    {
     "data": {
      "application/vnd.jupyter.widget-view+json": {
       "model_id": "76b8af3fb2244c4d87d253cb3ac42682",
       "version_major": 2,
       "version_minor": 0
      },
      "text/plain": [
       "  0%|          | 0/20 [00:00<?, ?it/s]"
      ]
     },
     "metadata": {},
     "output_type": "display_data"
    },
    {
     "data": {
      "application/vnd.jupyter.widget-view+json": {
       "model_id": "d2f7274cad6f40c894f3d8f299f6e6c9",
       "version_major": 2,
       "version_minor": 0
      },
      "text/plain": [
       "  0%|          | 0/20 [00:00<?, ?it/s]"
      ]
     },
     "metadata": {},
     "output_type": "display_data"
    },
    {
     "data": {
      "application/vnd.jupyter.widget-view+json": {
       "model_id": "780a46a1eb9c448ab27295840980fed0",
       "version_major": 2,
       "version_minor": 0
      },
      "text/plain": [
       "  0%|          | 0/20 [00:00<?, ?it/s]"
      ]
     },
     "metadata": {},
     "output_type": "display_data"
    },
    {
     "data": {
      "application/vnd.jupyter.widget-view+json": {
       "model_id": "2a08092f50ef406ea20cf73c08c816c9",
       "version_major": 2,
       "version_minor": 0
      },
      "text/plain": [
       "  0%|          | 0/20 [00:00<?, ?it/s]"
      ]
     },
     "metadata": {},
     "output_type": "display_data"
    },
    {
     "data": {
      "application/vnd.jupyter.widget-view+json": {
       "model_id": "a641e9b95905406185454675a4387f1f",
       "version_major": 2,
       "version_minor": 0
      },
      "text/plain": [
       "  0%|          | 0/20 [00:00<?, ?it/s]"
      ]
     },
     "metadata": {},
     "output_type": "display_data"
    },
    {
     "data": {
      "application/vnd.jupyter.widget-view+json": {
       "model_id": "47a1dfc1206047ba9206e855e6a445c8",
       "version_major": 2,
       "version_minor": 0
      },
      "text/plain": [
       "  0%|          | 0/20 [00:00<?, ?it/s]"
      ]
     },
     "metadata": {},
     "output_type": "display_data"
    },
    {
     "data": {
      "application/vnd.jupyter.widget-view+json": {
       "model_id": "375c250e081248c7bfe3b3861f93c78d",
       "version_major": 2,
       "version_minor": 0
      },
      "text/plain": [
       "  0%|          | 0/20 [00:00<?, ?it/s]"
      ]
     },
     "metadata": {},
     "output_type": "display_data"
    },
    {
     "data": {
      "application/vnd.jupyter.widget-view+json": {
       "model_id": "f1c00c4c13b94914b2b578f9e3d69286",
       "version_major": 2,
       "version_minor": 0
      },
      "text/plain": [
       "  0%|          | 0/20 [00:00<?, ?it/s]"
      ]
     },
     "metadata": {},
     "output_type": "display_data"
    },
    {
     "name": "stdout",
     "output_type": "stream",
     "text": [
      "Participant_8\n"
     ]
    },
    {
     "data": {
      "application/vnd.jupyter.widget-view+json": {
       "model_id": "1e33bd9fcb3e408b820583a329596f18",
       "version_major": 2,
       "version_minor": 0
      },
      "text/plain": [
       "  0%|          | 0/20 [00:00<?, ?it/s]"
      ]
     },
     "metadata": {},
     "output_type": "display_data"
    },
    {
     "data": {
      "application/vnd.jupyter.widget-view+json": {
       "model_id": "17f7596b0f72414a9138fe0f65777e14",
       "version_major": 2,
       "version_minor": 0
      },
      "text/plain": [
       "  0%|          | 0/20 [00:00<?, ?it/s]"
      ]
     },
     "metadata": {},
     "output_type": "display_data"
    },
    {
     "data": {
      "application/vnd.jupyter.widget-view+json": {
       "model_id": "d11e13aeff6f4f5cb74b05dc01c7daaf",
       "version_major": 2,
       "version_minor": 0
      },
      "text/plain": [
       "  0%|          | 0/20 [00:00<?, ?it/s]"
      ]
     },
     "metadata": {},
     "output_type": "display_data"
    },
    {
     "data": {
      "application/vnd.jupyter.widget-view+json": {
       "model_id": "b849117bb8ea4c0c839886147ae7f923",
       "version_major": 2,
       "version_minor": 0
      },
      "text/plain": [
       "  0%|          | 0/20 [00:00<?, ?it/s]"
      ]
     },
     "metadata": {},
     "output_type": "display_data"
    },
    {
     "data": {
      "application/vnd.jupyter.widget-view+json": {
       "model_id": "e6a2771b26e144e5a687f3521601fbc7",
       "version_major": 2,
       "version_minor": 0
      },
      "text/plain": [
       "  0%|          | 0/20 [00:00<?, ?it/s]"
      ]
     },
     "metadata": {},
     "output_type": "display_data"
    },
    {
     "data": {
      "application/vnd.jupyter.widget-view+json": {
       "model_id": "54d29128bb274e69b1eb174faeefd5e3",
       "version_major": 2,
       "version_minor": 0
      },
      "text/plain": [
       "  0%|          | 0/20 [00:00<?, ?it/s]"
      ]
     },
     "metadata": {},
     "output_type": "display_data"
    },
    {
     "data": {
      "application/vnd.jupyter.widget-view+json": {
       "model_id": "c3f18d93c4924cd1983c67f863d38da8",
       "version_major": 2,
       "version_minor": 0
      },
      "text/plain": [
       "  0%|          | 0/20 [00:00<?, ?it/s]"
      ]
     },
     "metadata": {},
     "output_type": "display_data"
    },
    {
     "data": {
      "application/vnd.jupyter.widget-view+json": {
       "model_id": "a4f2c0e5afe94e08beb09195fff3ed2b",
       "version_major": 2,
       "version_minor": 0
      },
      "text/plain": [
       "  0%|          | 0/20 [00:00<?, ?it/s]"
      ]
     },
     "metadata": {},
     "output_type": "display_data"
    },
    {
     "data": {
      "application/vnd.jupyter.widget-view+json": {
       "model_id": "a5f6775666fa49658e849b7445198d81",
       "version_major": 2,
       "version_minor": 0
      },
      "text/plain": [
       "  0%|          | 0/20 [00:00<?, ?it/s]"
      ]
     },
     "metadata": {},
     "output_type": "display_data"
    },
    {
     "data": {
      "application/vnd.jupyter.widget-view+json": {
       "model_id": "42cf903d6ba54fe88b2de6150f9bbdd0",
       "version_major": 2,
       "version_minor": 0
      },
      "text/plain": [
       "  0%|          | 0/20 [00:00<?, ?it/s]"
      ]
     },
     "metadata": {},
     "output_type": "display_data"
    },
    {
     "name": "stdout",
     "output_type": "stream",
     "text": [
      "Participant_9\n"
     ]
    },
    {
     "data": {
      "application/vnd.jupyter.widget-view+json": {
       "model_id": "06c1f0c9235940468a97a61d2fb1e15a",
       "version_major": 2,
       "version_minor": 0
      },
      "text/plain": [
       "  0%|          | 0/20 [00:00<?, ?it/s]"
      ]
     },
     "metadata": {},
     "output_type": "display_data"
    },
    {
     "data": {
      "application/vnd.jupyter.widget-view+json": {
       "model_id": "daa6662d9c6c4c3081ff55718123026a",
       "version_major": 2,
       "version_minor": 0
      },
      "text/plain": [
       "  0%|          | 0/20 [00:00<?, ?it/s]"
      ]
     },
     "metadata": {},
     "output_type": "display_data"
    },
    {
     "data": {
      "application/vnd.jupyter.widget-view+json": {
       "model_id": "4e20358272b44857a4f92d02f85b6746",
       "version_major": 2,
       "version_minor": 0
      },
      "text/plain": [
       "  0%|          | 0/20 [00:00<?, ?it/s]"
      ]
     },
     "metadata": {},
     "output_type": "display_data"
    },
    {
     "data": {
      "application/vnd.jupyter.widget-view+json": {
       "model_id": "e7f6a9c6e6cf4813ac3901a9e5f91ec7",
       "version_major": 2,
       "version_minor": 0
      },
      "text/plain": [
       "  0%|          | 0/20 [00:00<?, ?it/s]"
      ]
     },
     "metadata": {},
     "output_type": "display_data"
    },
    {
     "data": {
      "application/vnd.jupyter.widget-view+json": {
       "model_id": "95db3e0cc25d49cea0c3e29cac7ab93a",
       "version_major": 2,
       "version_minor": 0
      },
      "text/plain": [
       "  0%|          | 0/20 [00:00<?, ?it/s]"
      ]
     },
     "metadata": {},
     "output_type": "display_data"
    },
    {
     "data": {
      "application/vnd.jupyter.widget-view+json": {
       "model_id": "789554e38a394505a618a7a390bcf771",
       "version_major": 2,
       "version_minor": 0
      },
      "text/plain": [
       "  0%|          | 0/20 [00:00<?, ?it/s]"
      ]
     },
     "metadata": {},
     "output_type": "display_data"
    },
    {
     "data": {
      "application/vnd.jupyter.widget-view+json": {
       "model_id": "640ef672629541a49ea136b07ec68b76",
       "version_major": 2,
       "version_minor": 0
      },
      "text/plain": [
       "  0%|          | 0/20 [00:00<?, ?it/s]"
      ]
     },
     "metadata": {},
     "output_type": "display_data"
    },
    {
     "data": {
      "application/vnd.jupyter.widget-view+json": {
       "model_id": "a27284089fcb4a63a4e2c3d32e7fcc05",
       "version_major": 2,
       "version_minor": 0
      },
      "text/plain": [
       "  0%|          | 0/20 [00:00<?, ?it/s]"
      ]
     },
     "metadata": {},
     "output_type": "display_data"
    },
    {
     "data": {
      "application/vnd.jupyter.widget-view+json": {
       "model_id": "e6327d8d62fe41639ff0f3265c6a4962",
       "version_major": 2,
       "version_minor": 0
      },
      "text/plain": [
       "  0%|          | 0/20 [00:00<?, ?it/s]"
      ]
     },
     "metadata": {},
     "output_type": "display_data"
    },
    {
     "data": {
      "application/vnd.jupyter.widget-view+json": {
       "model_id": "5d34c2db33cd45149c90c2769dcf8794",
       "version_major": 2,
       "version_minor": 0
      },
      "text/plain": [
       "  0%|          | 0/20 [00:00<?, ?it/s]"
      ]
     },
     "metadata": {},
     "output_type": "display_data"
    },
    {
     "name": "stdout",
     "output_type": "stream",
     "text": [
      "Participant_10\n"
     ]
    },
    {
     "data": {
      "application/vnd.jupyter.widget-view+json": {
       "model_id": "6c10ab5e8d894269be3af444237f3ebf",
       "version_major": 2,
       "version_minor": 0
      },
      "text/plain": [
       "  0%|          | 0/20 [00:00<?, ?it/s]"
      ]
     },
     "metadata": {},
     "output_type": "display_data"
    },
    {
     "data": {
      "application/vnd.jupyter.widget-view+json": {
       "model_id": "f03e9a197e8d466c9f93500912a88d62",
       "version_major": 2,
       "version_minor": 0
      },
      "text/plain": [
       "  0%|          | 0/20 [00:00<?, ?it/s]"
      ]
     },
     "metadata": {},
     "output_type": "display_data"
    },
    {
     "data": {
      "application/vnd.jupyter.widget-view+json": {
       "model_id": "e91c9e0aad684c028ca36178bd914b0d",
       "version_major": 2,
       "version_minor": 0
      },
      "text/plain": [
       "  0%|          | 0/20 [00:00<?, ?it/s]"
      ]
     },
     "metadata": {},
     "output_type": "display_data"
    },
    {
     "data": {
      "application/vnd.jupyter.widget-view+json": {
       "model_id": "a7940d93043e48e98b59a8ebbbae71c0",
       "version_major": 2,
       "version_minor": 0
      },
      "text/plain": [
       "  0%|          | 0/20 [00:00<?, ?it/s]"
      ]
     },
     "metadata": {},
     "output_type": "display_data"
    },
    {
     "data": {
      "application/vnd.jupyter.widget-view+json": {
       "model_id": "0ec5161d2b9441e19becc8b8888bdd93",
       "version_major": 2,
       "version_minor": 0
      },
      "text/plain": [
       "  0%|          | 0/20 [00:00<?, ?it/s]"
      ]
     },
     "metadata": {},
     "output_type": "display_data"
    },
    {
     "data": {
      "application/vnd.jupyter.widget-view+json": {
       "model_id": "c8afd7d0735f477c8fac87a9e19df5b8",
       "version_major": 2,
       "version_minor": 0
      },
      "text/plain": [
       "  0%|          | 0/20 [00:00<?, ?it/s]"
      ]
     },
     "metadata": {},
     "output_type": "display_data"
    },
    {
     "data": {
      "application/vnd.jupyter.widget-view+json": {
       "model_id": "3d79ac6aabf649feb8ca88a88f10127a",
       "version_major": 2,
       "version_minor": 0
      },
      "text/plain": [
       "  0%|          | 0/20 [00:00<?, ?it/s]"
      ]
     },
     "metadata": {},
     "output_type": "display_data"
    },
    {
     "data": {
      "application/vnd.jupyter.widget-view+json": {
       "model_id": "b2faff66c86343408624cc097294af3f",
       "version_major": 2,
       "version_minor": 0
      },
      "text/plain": [
       "  0%|          | 0/20 [00:00<?, ?it/s]"
      ]
     },
     "metadata": {},
     "output_type": "display_data"
    },
    {
     "data": {
      "application/vnd.jupyter.widget-view+json": {
       "model_id": "60dabfa4e62b40d1bb899472b09acca7",
       "version_major": 2,
       "version_minor": 0
      },
      "text/plain": [
       "  0%|          | 0/20 [00:00<?, ?it/s]"
      ]
     },
     "metadata": {},
     "output_type": "display_data"
    },
    {
     "data": {
      "application/vnd.jupyter.widget-view+json": {
       "model_id": "574f2a1f623b4f79a7f45f859971ccd0",
       "version_major": 2,
       "version_minor": 0
      },
      "text/plain": [
       "  0%|          | 0/20 [00:00<?, ?it/s]"
      ]
     },
     "metadata": {},
     "output_type": "display_data"
    },
    {
     "name": "stdout",
     "output_type": "stream",
     "text": [
      "Participant_11\n"
     ]
    },
    {
     "data": {
      "application/vnd.jupyter.widget-view+json": {
       "model_id": "8cb06f9f9e65458497375cc825ba2f50",
       "version_major": 2,
       "version_minor": 0
      },
      "text/plain": [
       "  0%|          | 0/20 [00:00<?, ?it/s]"
      ]
     },
     "metadata": {},
     "output_type": "display_data"
    },
    {
     "data": {
      "application/vnd.jupyter.widget-view+json": {
       "model_id": "8a582d15961c405d9f49a2a80c6c1e7d",
       "version_major": 2,
       "version_minor": 0
      },
      "text/plain": [
       "  0%|          | 0/20 [00:00<?, ?it/s]"
      ]
     },
     "metadata": {},
     "output_type": "display_data"
    },
    {
     "data": {
      "application/vnd.jupyter.widget-view+json": {
       "model_id": "098e803fc73e49a5b9ff53924ff9799d",
       "version_major": 2,
       "version_minor": 0
      },
      "text/plain": [
       "  0%|          | 0/20 [00:00<?, ?it/s]"
      ]
     },
     "metadata": {},
     "output_type": "display_data"
    },
    {
     "data": {
      "application/vnd.jupyter.widget-view+json": {
       "model_id": "ac8b8c3114344bf69787ac04656a0e71",
       "version_major": 2,
       "version_minor": 0
      },
      "text/plain": [
       "  0%|          | 0/20 [00:00<?, ?it/s]"
      ]
     },
     "metadata": {},
     "output_type": "display_data"
    },
    {
     "data": {
      "application/vnd.jupyter.widget-view+json": {
       "model_id": "10c0b177a09049748195971d88c4a937",
       "version_major": 2,
       "version_minor": 0
      },
      "text/plain": [
       "  0%|          | 0/20 [00:00<?, ?it/s]"
      ]
     },
     "metadata": {},
     "output_type": "display_data"
    },
    {
     "data": {
      "application/vnd.jupyter.widget-view+json": {
       "model_id": "771e661116e54c9caceadda36f1bf6ab",
       "version_major": 2,
       "version_minor": 0
      },
      "text/plain": [
       "  0%|          | 0/20 [00:00<?, ?it/s]"
      ]
     },
     "metadata": {},
     "output_type": "display_data"
    },
    {
     "data": {
      "application/vnd.jupyter.widget-view+json": {
       "model_id": "e1654138f6e74ab19660ee3c28a18738",
       "version_major": 2,
       "version_minor": 0
      },
      "text/plain": [
       "  0%|          | 0/20 [00:00<?, ?it/s]"
      ]
     },
     "metadata": {},
     "output_type": "display_data"
    },
    {
     "data": {
      "application/vnd.jupyter.widget-view+json": {
       "model_id": "503bfb7ee0454f4487451132ba98c523",
       "version_major": 2,
       "version_minor": 0
      },
      "text/plain": [
       "  0%|          | 0/20 [00:00<?, ?it/s]"
      ]
     },
     "metadata": {},
     "output_type": "display_data"
    },
    {
     "data": {
      "application/vnd.jupyter.widget-view+json": {
       "model_id": "b75f4efbae0b42219dfcc6ffc22231a4",
       "version_major": 2,
       "version_minor": 0
      },
      "text/plain": [
       "  0%|          | 0/20 [00:00<?, ?it/s]"
      ]
     },
     "metadata": {},
     "output_type": "display_data"
    },
    {
     "data": {
      "application/vnd.jupyter.widget-view+json": {
       "model_id": "bbae10c11bab427c89b262cc20c380e7",
       "version_major": 2,
       "version_minor": 0
      },
      "text/plain": [
       "  0%|          | 0/20 [00:00<?, ?it/s]"
      ]
     },
     "metadata": {},
     "output_type": "display_data"
    },
    {
     "name": "stdout",
     "output_type": "stream",
     "text": [
      "Participant_12\n"
     ]
    },
    {
     "data": {
      "application/vnd.jupyter.widget-view+json": {
       "model_id": "66cacb97417344e0a630ab6bd7672764",
       "version_major": 2,
       "version_minor": 0
      },
      "text/plain": [
       "  0%|          | 0/20 [00:00<?, ?it/s]"
      ]
     },
     "metadata": {},
     "output_type": "display_data"
    },
    {
     "data": {
      "application/vnd.jupyter.widget-view+json": {
       "model_id": "e3a8b2ac3fca4730beab5d3aeadb3930",
       "version_major": 2,
       "version_minor": 0
      },
      "text/plain": [
       "  0%|          | 0/20 [00:00<?, ?it/s]"
      ]
     },
     "metadata": {},
     "output_type": "display_data"
    },
    {
     "data": {
      "application/vnd.jupyter.widget-view+json": {
       "model_id": "b786e4b728b94a1bbc8530897b586ddf",
       "version_major": 2,
       "version_minor": 0
      },
      "text/plain": [
       "  0%|          | 0/20 [00:00<?, ?it/s]"
      ]
     },
     "metadata": {},
     "output_type": "display_data"
    },
    {
     "data": {
      "application/vnd.jupyter.widget-view+json": {
       "model_id": "8107e05a4b5340f1b87ecaccec7aa189",
       "version_major": 2,
       "version_minor": 0
      },
      "text/plain": [
       "  0%|          | 0/20 [00:00<?, ?it/s]"
      ]
     },
     "metadata": {},
     "output_type": "display_data"
    },
    {
     "data": {
      "application/vnd.jupyter.widget-view+json": {
       "model_id": "c63f34411026420082251b04c14d933f",
       "version_major": 2,
       "version_minor": 0
      },
      "text/plain": [
       "  0%|          | 0/20 [00:00<?, ?it/s]"
      ]
     },
     "metadata": {},
     "output_type": "display_data"
    },
    {
     "data": {
      "application/vnd.jupyter.widget-view+json": {
       "model_id": "8cc7619091164f9a8f73fc7e78024f77",
       "version_major": 2,
       "version_minor": 0
      },
      "text/plain": [
       "  0%|          | 0/20 [00:00<?, ?it/s]"
      ]
     },
     "metadata": {},
     "output_type": "display_data"
    },
    {
     "data": {
      "application/vnd.jupyter.widget-view+json": {
       "model_id": "1a73017d7426430c85a824407879f778",
       "version_major": 2,
       "version_minor": 0
      },
      "text/plain": [
       "  0%|          | 0/20 [00:00<?, ?it/s]"
      ]
     },
     "metadata": {},
     "output_type": "display_data"
    },
    {
     "data": {
      "application/vnd.jupyter.widget-view+json": {
       "model_id": "c12f475aa9ed4c7baf90ed428cd67ead",
       "version_major": 2,
       "version_minor": 0
      },
      "text/plain": [
       "  0%|          | 0/20 [00:00<?, ?it/s]"
      ]
     },
     "metadata": {},
     "output_type": "display_data"
    },
    {
     "data": {
      "application/vnd.jupyter.widget-view+json": {
       "model_id": "9af7a04fa4624d05b986a37b5b450a15",
       "version_major": 2,
       "version_minor": 0
      },
      "text/plain": [
       "  0%|          | 0/20 [00:00<?, ?it/s]"
      ]
     },
     "metadata": {},
     "output_type": "display_data"
    },
    {
     "data": {
      "application/vnd.jupyter.widget-view+json": {
       "model_id": "92a9d075ac58493180e8ba3be536cae1",
       "version_major": 2,
       "version_minor": 0
      },
      "text/plain": [
       "  0%|          | 0/20 [00:00<?, ?it/s]"
      ]
     },
     "metadata": {},
     "output_type": "display_data"
    },
    {
     "name": "stdout",
     "output_type": "stream",
     "text": [
      "Participant_13\n"
     ]
    },
    {
     "data": {
      "application/vnd.jupyter.widget-view+json": {
       "model_id": "e33a8d9b459b47ccac81499b2ae3d423",
       "version_major": 2,
       "version_minor": 0
      },
      "text/plain": [
       "  0%|          | 0/20 [00:00<?, ?it/s]"
      ]
     },
     "metadata": {},
     "output_type": "display_data"
    },
    {
     "data": {
      "application/vnd.jupyter.widget-view+json": {
       "model_id": "f544417494d647fcbc5a670974dbc62e",
       "version_major": 2,
       "version_minor": 0
      },
      "text/plain": [
       "  0%|          | 0/20 [00:00<?, ?it/s]"
      ]
     },
     "metadata": {},
     "output_type": "display_data"
    },
    {
     "data": {
      "application/vnd.jupyter.widget-view+json": {
       "model_id": "b238fbc2dee04feaa3e350e1483f554b",
       "version_major": 2,
       "version_minor": 0
      },
      "text/plain": [
       "  0%|          | 0/20 [00:00<?, ?it/s]"
      ]
     },
     "metadata": {},
     "output_type": "display_data"
    },
    {
     "data": {
      "application/vnd.jupyter.widget-view+json": {
       "model_id": "2db16b186528498294323b38da6f9d19",
       "version_major": 2,
       "version_minor": 0
      },
      "text/plain": [
       "  0%|          | 0/20 [00:00<?, ?it/s]"
      ]
     },
     "metadata": {},
     "output_type": "display_data"
    },
    {
     "data": {
      "application/vnd.jupyter.widget-view+json": {
       "model_id": "ae6e065cebca4f60a4b0cc433b44f4ba",
       "version_major": 2,
       "version_minor": 0
      },
      "text/plain": [
       "  0%|          | 0/20 [00:00<?, ?it/s]"
      ]
     },
     "metadata": {},
     "output_type": "display_data"
    },
    {
     "data": {
      "application/vnd.jupyter.widget-view+json": {
       "model_id": "4b0759eb91db4cd581b4e48c8008c780",
       "version_major": 2,
       "version_minor": 0
      },
      "text/plain": [
       "  0%|          | 0/20 [00:00<?, ?it/s]"
      ]
     },
     "metadata": {},
     "output_type": "display_data"
    },
    {
     "data": {
      "application/vnd.jupyter.widget-view+json": {
       "model_id": "2d801741801f4ccd8991dcbcad3fb346",
       "version_major": 2,
       "version_minor": 0
      },
      "text/plain": [
       "  0%|          | 0/20 [00:00<?, ?it/s]"
      ]
     },
     "metadata": {},
     "output_type": "display_data"
    },
    {
     "data": {
      "application/vnd.jupyter.widget-view+json": {
       "model_id": "5cb7807e1f3a403d887064a0cf42095b",
       "version_major": 2,
       "version_minor": 0
      },
      "text/plain": [
       "  0%|          | 0/20 [00:00<?, ?it/s]"
      ]
     },
     "metadata": {},
     "output_type": "display_data"
    },
    {
     "data": {
      "application/vnd.jupyter.widget-view+json": {
       "model_id": "37cb0b1002734c1ba94b02b0fad0ce06",
       "version_major": 2,
       "version_minor": 0
      },
      "text/plain": [
       "  0%|          | 0/20 [00:00<?, ?it/s]"
      ]
     },
     "metadata": {},
     "output_type": "display_data"
    },
    {
     "data": {
      "application/vnd.jupyter.widget-view+json": {
       "model_id": "ec6fad6a128c441da98fd9de235ad433",
       "version_major": 2,
       "version_minor": 0
      },
      "text/plain": [
       "  0%|          | 0/20 [00:00<?, ?it/s]"
      ]
     },
     "metadata": {},
     "output_type": "display_data"
    },
    {
     "name": "stdout",
     "output_type": "stream",
     "text": [
      "Participant_14\n"
     ]
    },
    {
     "data": {
      "application/vnd.jupyter.widget-view+json": {
       "model_id": "d679d0bb6bda4622bb8f9e6b40559f0f",
       "version_major": 2,
       "version_minor": 0
      },
      "text/plain": [
       "  0%|          | 0/20 [00:00<?, ?it/s]"
      ]
     },
     "metadata": {},
     "output_type": "display_data"
    },
    {
     "data": {
      "application/vnd.jupyter.widget-view+json": {
       "model_id": "323947727f1541648100cb5ccdf38642",
       "version_major": 2,
       "version_minor": 0
      },
      "text/plain": [
       "  0%|          | 0/20 [00:00<?, ?it/s]"
      ]
     },
     "metadata": {},
     "output_type": "display_data"
    },
    {
     "data": {
      "application/vnd.jupyter.widget-view+json": {
       "model_id": "aa26985f67334eff9cb8f79954d85459",
       "version_major": 2,
       "version_minor": 0
      },
      "text/plain": [
       "  0%|          | 0/20 [00:00<?, ?it/s]"
      ]
     },
     "metadata": {},
     "output_type": "display_data"
    },
    {
     "data": {
      "application/vnd.jupyter.widget-view+json": {
       "model_id": "af7eae656fd740b88ad7e0295a512752",
       "version_major": 2,
       "version_minor": 0
      },
      "text/plain": [
       "  0%|          | 0/20 [00:00<?, ?it/s]"
      ]
     },
     "metadata": {},
     "output_type": "display_data"
    },
    {
     "data": {
      "application/vnd.jupyter.widget-view+json": {
       "model_id": "b1b3f83572e549bbb3c3f6e9fbd9d035",
       "version_major": 2,
       "version_minor": 0
      },
      "text/plain": [
       "  0%|          | 0/20 [00:00<?, ?it/s]"
      ]
     },
     "metadata": {},
     "output_type": "display_data"
    },
    {
     "data": {
      "application/vnd.jupyter.widget-view+json": {
       "model_id": "3d31e6207fa3485db63110b956f73c1a",
       "version_major": 2,
       "version_minor": 0
      },
      "text/plain": [
       "  0%|          | 0/20 [00:00<?, ?it/s]"
      ]
     },
     "metadata": {},
     "output_type": "display_data"
    },
    {
     "data": {
      "application/vnd.jupyter.widget-view+json": {
       "model_id": "1bf9c1c440004772bf402082c9dae0b8",
       "version_major": 2,
       "version_minor": 0
      },
      "text/plain": [
       "  0%|          | 0/20 [00:00<?, ?it/s]"
      ]
     },
     "metadata": {},
     "output_type": "display_data"
    },
    {
     "data": {
      "application/vnd.jupyter.widget-view+json": {
       "model_id": "ffae1552e7a34d3883301adcff95080a",
       "version_major": 2,
       "version_minor": 0
      },
      "text/plain": [
       "  0%|          | 0/20 [00:00<?, ?it/s]"
      ]
     },
     "metadata": {},
     "output_type": "display_data"
    },
    {
     "data": {
      "application/vnd.jupyter.widget-view+json": {
       "model_id": "98e3d33fd8004e549cd16f012eb50123",
       "version_major": 2,
       "version_minor": 0
      },
      "text/plain": [
       "  0%|          | 0/20 [00:00<?, ?it/s]"
      ]
     },
     "metadata": {},
     "output_type": "display_data"
    },
    {
     "data": {
      "application/vnd.jupyter.widget-view+json": {
       "model_id": "c4b15eae21f94291a12ea666d5a40650",
       "version_major": 2,
       "version_minor": 0
      },
      "text/plain": [
       "  0%|          | 0/20 [00:00<?, ?it/s]"
      ]
     },
     "metadata": {},
     "output_type": "display_data"
    },
    {
     "name": "stdout",
     "output_type": "stream",
     "text": [
      "Participant_15\n"
     ]
    },
    {
     "data": {
      "application/vnd.jupyter.widget-view+json": {
       "model_id": "9e4c0bb3ae2443a79002767f78006a42",
       "version_major": 2,
       "version_minor": 0
      },
      "text/plain": [
       "  0%|          | 0/20 [00:00<?, ?it/s]"
      ]
     },
     "metadata": {},
     "output_type": "display_data"
    },
    {
     "data": {
      "application/vnd.jupyter.widget-view+json": {
       "model_id": "f76a12af233c4cea905ac10e5f978f88",
       "version_major": 2,
       "version_minor": 0
      },
      "text/plain": [
       "  0%|          | 0/20 [00:00<?, ?it/s]"
      ]
     },
     "metadata": {},
     "output_type": "display_data"
    },
    {
     "data": {
      "application/vnd.jupyter.widget-view+json": {
       "model_id": "d9c764862c4d46638a95ca5e965fa21e",
       "version_major": 2,
       "version_minor": 0
      },
      "text/plain": [
       "  0%|          | 0/20 [00:00<?, ?it/s]"
      ]
     },
     "metadata": {},
     "output_type": "display_data"
    },
    {
     "data": {
      "application/vnd.jupyter.widget-view+json": {
       "model_id": "9589537fde4449eb9a2e5966b0819a29",
       "version_major": 2,
       "version_minor": 0
      },
      "text/plain": [
       "  0%|          | 0/20 [00:00<?, ?it/s]"
      ]
     },
     "metadata": {},
     "output_type": "display_data"
    },
    {
     "data": {
      "application/vnd.jupyter.widget-view+json": {
       "model_id": "f541283f7d94418ba4667a82fdc2b4db",
       "version_major": 2,
       "version_minor": 0
      },
      "text/plain": [
       "  0%|          | 0/20 [00:00<?, ?it/s]"
      ]
     },
     "metadata": {},
     "output_type": "display_data"
    },
    {
     "data": {
      "application/vnd.jupyter.widget-view+json": {
       "model_id": "34c2b00697df4a148e920b720e0ed723",
       "version_major": 2,
       "version_minor": 0
      },
      "text/plain": [
       "  0%|          | 0/20 [00:00<?, ?it/s]"
      ]
     },
     "metadata": {},
     "output_type": "display_data"
    },
    {
     "data": {
      "application/vnd.jupyter.widget-view+json": {
       "model_id": "8daf166e1b3f48b684fb6d5a72f66e74",
       "version_major": 2,
       "version_minor": 0
      },
      "text/plain": [
       "  0%|          | 0/20 [00:00<?, ?it/s]"
      ]
     },
     "metadata": {},
     "output_type": "display_data"
    },
    {
     "data": {
      "application/vnd.jupyter.widget-view+json": {
       "model_id": "a0da510cec154c17a353f48b58b1f4a9",
       "version_major": 2,
       "version_minor": 0
      },
      "text/plain": [
       "  0%|          | 0/20 [00:00<?, ?it/s]"
      ]
     },
     "metadata": {},
     "output_type": "display_data"
    },
    {
     "data": {
      "application/vnd.jupyter.widget-view+json": {
       "model_id": "5ce8484ce1e24935ae2d7ebf945d862a",
       "version_major": 2,
       "version_minor": 0
      },
      "text/plain": [
       "  0%|          | 0/20 [00:00<?, ?it/s]"
      ]
     },
     "metadata": {},
     "output_type": "display_data"
    },
    {
     "data": {
      "application/vnd.jupyter.widget-view+json": {
       "model_id": "e881503585c649a7a9b36cf6e9a6c410",
       "version_major": 2,
       "version_minor": 0
      },
      "text/plain": [
       "  0%|          | 0/20 [00:00<?, ?it/s]"
      ]
     },
     "metadata": {},
     "output_type": "display_data"
    },
    {
     "name": "stdout",
     "output_type": "stream",
     "text": [
      "Participant_16\n"
     ]
    },
    {
     "data": {
      "application/vnd.jupyter.widget-view+json": {
       "model_id": "fa638752c54b4440becf3d5fdaf09b1f",
       "version_major": 2,
       "version_minor": 0
      },
      "text/plain": [
       "  0%|          | 0/20 [00:00<?, ?it/s]"
      ]
     },
     "metadata": {},
     "output_type": "display_data"
    },
    {
     "data": {
      "application/vnd.jupyter.widget-view+json": {
       "model_id": "b282daae93f445b78216ae9da5fcdb27",
       "version_major": 2,
       "version_minor": 0
      },
      "text/plain": [
       "  0%|          | 0/20 [00:00<?, ?it/s]"
      ]
     },
     "metadata": {},
     "output_type": "display_data"
    },
    {
     "data": {
      "application/vnd.jupyter.widget-view+json": {
       "model_id": "fa95b69e387a43d9b55255ec811cb7a2",
       "version_major": 2,
       "version_minor": 0
      },
      "text/plain": [
       "  0%|          | 0/20 [00:00<?, ?it/s]"
      ]
     },
     "metadata": {},
     "output_type": "display_data"
    },
    {
     "data": {
      "application/vnd.jupyter.widget-view+json": {
       "model_id": "9c38b2f892364102b519107151ef9f60",
       "version_major": 2,
       "version_minor": 0
      },
      "text/plain": [
       "  0%|          | 0/20 [00:00<?, ?it/s]"
      ]
     },
     "metadata": {},
     "output_type": "display_data"
    },
    {
     "data": {
      "application/vnd.jupyter.widget-view+json": {
       "model_id": "207ad530634544189fd6c5b49db724d8",
       "version_major": 2,
       "version_minor": 0
      },
      "text/plain": [
       "  0%|          | 0/20 [00:00<?, ?it/s]"
      ]
     },
     "metadata": {},
     "output_type": "display_data"
    },
    {
     "data": {
      "application/vnd.jupyter.widget-view+json": {
       "model_id": "b1ff3f92dbb246d1b139bb780db2304d",
       "version_major": 2,
       "version_minor": 0
      },
      "text/plain": [
       "  0%|          | 0/20 [00:00<?, ?it/s]"
      ]
     },
     "metadata": {},
     "output_type": "display_data"
    },
    {
     "data": {
      "application/vnd.jupyter.widget-view+json": {
       "model_id": "fc57cb2a7a394f0d91e9a55f453a103a",
       "version_major": 2,
       "version_minor": 0
      },
      "text/plain": [
       "  0%|          | 0/20 [00:00<?, ?it/s]"
      ]
     },
     "metadata": {},
     "output_type": "display_data"
    },
    {
     "data": {
      "application/vnd.jupyter.widget-view+json": {
       "model_id": "df30d6f67da149f8a383a5fa395965ff",
       "version_major": 2,
       "version_minor": 0
      },
      "text/plain": [
       "  0%|          | 0/20 [00:00<?, ?it/s]"
      ]
     },
     "metadata": {},
     "output_type": "display_data"
    },
    {
     "data": {
      "application/vnd.jupyter.widget-view+json": {
       "model_id": "88c635721f4f47caa5166e79a2f9b6df",
       "version_major": 2,
       "version_minor": 0
      },
      "text/plain": [
       "  0%|          | 0/20 [00:00<?, ?it/s]"
      ]
     },
     "metadata": {},
     "output_type": "display_data"
    },
    {
     "data": {
      "application/vnd.jupyter.widget-view+json": {
       "model_id": "1f28e2784f6e4d35a25984d117cf71a8",
       "version_major": 2,
       "version_minor": 0
      },
      "text/plain": [
       "  0%|          | 0/20 [00:00<?, ?it/s]"
      ]
     },
     "metadata": {},
     "output_type": "display_data"
    },
    {
     "name": "stdout",
     "output_type": "stream",
     "text": [
      "Participant_17\n"
     ]
    },
    {
     "data": {
      "application/vnd.jupyter.widget-view+json": {
       "model_id": "50dd04f2cf5c465fbeb7ba211abdd8f4",
       "version_major": 2,
       "version_minor": 0
      },
      "text/plain": [
       "  0%|          | 0/20 [00:00<?, ?it/s]"
      ]
     },
     "metadata": {},
     "output_type": "display_data"
    },
    {
     "data": {
      "application/vnd.jupyter.widget-view+json": {
       "model_id": "7315a57b070641ed9fc7b8783735a6b4",
       "version_major": 2,
       "version_minor": 0
      },
      "text/plain": [
       "  0%|          | 0/20 [00:00<?, ?it/s]"
      ]
     },
     "metadata": {},
     "output_type": "display_data"
    },
    {
     "data": {
      "application/vnd.jupyter.widget-view+json": {
       "model_id": "7fc89d9b8cae4be28277a7d6f68ca140",
       "version_major": 2,
       "version_minor": 0
      },
      "text/plain": [
       "  0%|          | 0/20 [00:00<?, ?it/s]"
      ]
     },
     "metadata": {},
     "output_type": "display_data"
    },
    {
     "data": {
      "application/vnd.jupyter.widget-view+json": {
       "model_id": "d56650b05e15443980c254e1cacb05ac",
       "version_major": 2,
       "version_minor": 0
      },
      "text/plain": [
       "  0%|          | 0/20 [00:00<?, ?it/s]"
      ]
     },
     "metadata": {},
     "output_type": "display_data"
    },
    {
     "data": {
      "application/vnd.jupyter.widget-view+json": {
       "model_id": "b6984c5d99834b5ba0efe2183749c6f5",
       "version_major": 2,
       "version_minor": 0
      },
      "text/plain": [
       "  0%|          | 0/20 [00:00<?, ?it/s]"
      ]
     },
     "metadata": {},
     "output_type": "display_data"
    },
    {
     "data": {
      "application/vnd.jupyter.widget-view+json": {
       "model_id": "adc9338afcaf4ca4b80daffe1537ee65",
       "version_major": 2,
       "version_minor": 0
      },
      "text/plain": [
       "  0%|          | 0/20 [00:00<?, ?it/s]"
      ]
     },
     "metadata": {},
     "output_type": "display_data"
    },
    {
     "data": {
      "application/vnd.jupyter.widget-view+json": {
       "model_id": "2df9637410bf4347b28742b9576694f0",
       "version_major": 2,
       "version_minor": 0
      },
      "text/plain": [
       "  0%|          | 0/20 [00:00<?, ?it/s]"
      ]
     },
     "metadata": {},
     "output_type": "display_data"
    },
    {
     "data": {
      "application/vnd.jupyter.widget-view+json": {
       "model_id": "8a5868c6594444b8b950337881450748",
       "version_major": 2,
       "version_minor": 0
      },
      "text/plain": [
       "  0%|          | 0/20 [00:00<?, ?it/s]"
      ]
     },
     "metadata": {},
     "output_type": "display_data"
    },
    {
     "data": {
      "application/vnd.jupyter.widget-view+json": {
       "model_id": "83411b7193814733b40f0b57feac99bc",
       "version_major": 2,
       "version_minor": 0
      },
      "text/plain": [
       "  0%|          | 0/20 [00:00<?, ?it/s]"
      ]
     },
     "metadata": {},
     "output_type": "display_data"
    },
    {
     "data": {
      "application/vnd.jupyter.widget-view+json": {
       "model_id": "42c3f1e9fb50456d82fbcaf532644f88",
       "version_major": 2,
       "version_minor": 0
      },
      "text/plain": [
       "  0%|          | 0/20 [00:00<?, ?it/s]"
      ]
     },
     "metadata": {},
     "output_type": "display_data"
    },
    {
     "name": "stdout",
     "output_type": "stream",
     "text": [
      "Participant_18\n"
     ]
    },
    {
     "data": {
      "application/vnd.jupyter.widget-view+json": {
       "model_id": "75eec0ab99ea4bb3b09cbd87cb3519ac",
       "version_major": 2,
       "version_minor": 0
      },
      "text/plain": [
       "  0%|          | 0/20 [00:00<?, ?it/s]"
      ]
     },
     "metadata": {},
     "output_type": "display_data"
    },
    {
     "data": {
      "application/vnd.jupyter.widget-view+json": {
       "model_id": "819ef5f41ed14a4c92858a1560aa6ec2",
       "version_major": 2,
       "version_minor": 0
      },
      "text/plain": [
       "  0%|          | 0/20 [00:00<?, ?it/s]"
      ]
     },
     "metadata": {},
     "output_type": "display_data"
    },
    {
     "data": {
      "application/vnd.jupyter.widget-view+json": {
       "model_id": "d3f8d0495ec844a4bf340052f927d221",
       "version_major": 2,
       "version_minor": 0
      },
      "text/plain": [
       "  0%|          | 0/20 [00:00<?, ?it/s]"
      ]
     },
     "metadata": {},
     "output_type": "display_data"
    },
    {
     "data": {
      "application/vnd.jupyter.widget-view+json": {
       "model_id": "503cf1e5008d40408de638ec163c4d10",
       "version_major": 2,
       "version_minor": 0
      },
      "text/plain": [
       "  0%|          | 0/20 [00:00<?, ?it/s]"
      ]
     },
     "metadata": {},
     "output_type": "display_data"
    },
    {
     "data": {
      "application/vnd.jupyter.widget-view+json": {
       "model_id": "bf2fde70c73540799865312b9434d38d",
       "version_major": 2,
       "version_minor": 0
      },
      "text/plain": [
       "  0%|          | 0/20 [00:00<?, ?it/s]"
      ]
     },
     "metadata": {},
     "output_type": "display_data"
    },
    {
     "data": {
      "application/vnd.jupyter.widget-view+json": {
       "model_id": "ac2b518dcb854174911108b5d104478b",
       "version_major": 2,
       "version_minor": 0
      },
      "text/plain": [
       "  0%|          | 0/20 [00:00<?, ?it/s]"
      ]
     },
     "metadata": {},
     "output_type": "display_data"
    },
    {
     "data": {
      "application/vnd.jupyter.widget-view+json": {
       "model_id": "68b8373bc2654f159e6891ef6c3dece7",
       "version_major": 2,
       "version_minor": 0
      },
      "text/plain": [
       "  0%|          | 0/20 [00:00<?, ?it/s]"
      ]
     },
     "metadata": {},
     "output_type": "display_data"
    },
    {
     "data": {
      "application/vnd.jupyter.widget-view+json": {
       "model_id": "acbe390aa98448879929df9b8df60c51",
       "version_major": 2,
       "version_minor": 0
      },
      "text/plain": [
       "  0%|          | 0/20 [00:00<?, ?it/s]"
      ]
     },
     "metadata": {},
     "output_type": "display_data"
    },
    {
     "data": {
      "application/vnd.jupyter.widget-view+json": {
       "model_id": "ed84658d7d5445849a735d3a75570cd1",
       "version_major": 2,
       "version_minor": 0
      },
      "text/plain": [
       "  0%|          | 0/20 [00:00<?, ?it/s]"
      ]
     },
     "metadata": {},
     "output_type": "display_data"
    },
    {
     "data": {
      "application/vnd.jupyter.widget-view+json": {
       "model_id": "3c191dc5cd2e4dd599f07c89a0ea2332",
       "version_major": 2,
       "version_minor": 0
      },
      "text/plain": [
       "  0%|          | 0/20 [00:00<?, ?it/s]"
      ]
     },
     "metadata": {},
     "output_type": "display_data"
    },
    {
     "name": "stdout",
     "output_type": "stream",
     "text": [
      "Participant_19\n"
     ]
    },
    {
     "data": {
      "application/vnd.jupyter.widget-view+json": {
       "model_id": "68cca05c5d1945b8a1fe36a483ee3e1b",
       "version_major": 2,
       "version_minor": 0
      },
      "text/plain": [
       "  0%|          | 0/20 [00:00<?, ?it/s]"
      ]
     },
     "metadata": {},
     "output_type": "display_data"
    },
    {
     "data": {
      "application/vnd.jupyter.widget-view+json": {
       "model_id": "6db62970fd934690be3968a4dec7c3c3",
       "version_major": 2,
       "version_minor": 0
      },
      "text/plain": [
       "  0%|          | 0/20 [00:00<?, ?it/s]"
      ]
     },
     "metadata": {},
     "output_type": "display_data"
    },
    {
     "data": {
      "application/vnd.jupyter.widget-view+json": {
       "model_id": "8344b77d52ac4b53b3b7c27ee48ae555",
       "version_major": 2,
       "version_minor": 0
      },
      "text/plain": [
       "  0%|          | 0/20 [00:00<?, ?it/s]"
      ]
     },
     "metadata": {},
     "output_type": "display_data"
    },
    {
     "data": {
      "application/vnd.jupyter.widget-view+json": {
       "model_id": "c589bb9b44254e9895a7f92871b8eee4",
       "version_major": 2,
       "version_minor": 0
      },
      "text/plain": [
       "  0%|          | 0/20 [00:00<?, ?it/s]"
      ]
     },
     "metadata": {},
     "output_type": "display_data"
    },
    {
     "data": {
      "application/vnd.jupyter.widget-view+json": {
       "model_id": "0b3ecfab77264f1aa61d2144dd03de7b",
       "version_major": 2,
       "version_minor": 0
      },
      "text/plain": [
       "  0%|          | 0/20 [00:00<?, ?it/s]"
      ]
     },
     "metadata": {},
     "output_type": "display_data"
    },
    {
     "data": {
      "application/vnd.jupyter.widget-view+json": {
       "model_id": "815b674956d64132a5f95a14cfeaf71c",
       "version_major": 2,
       "version_minor": 0
      },
      "text/plain": [
       "  0%|          | 0/20 [00:00<?, ?it/s]"
      ]
     },
     "metadata": {},
     "output_type": "display_data"
    },
    {
     "data": {
      "application/vnd.jupyter.widget-view+json": {
       "model_id": "5c3ee177a4bb4bb296acb1af97bbbb2e",
       "version_major": 2,
       "version_minor": 0
      },
      "text/plain": [
       "  0%|          | 0/20 [00:00<?, ?it/s]"
      ]
     },
     "metadata": {},
     "output_type": "display_data"
    },
    {
     "data": {
      "application/vnd.jupyter.widget-view+json": {
       "model_id": "71d05c847e27441f8ae4ffc72f1fc770",
       "version_major": 2,
       "version_minor": 0
      },
      "text/plain": [
       "  0%|          | 0/20 [00:00<?, ?it/s]"
      ]
     },
     "metadata": {},
     "output_type": "display_data"
    },
    {
     "data": {
      "application/vnd.jupyter.widget-view+json": {
       "model_id": "dde742a811694440b3b7ad2b62a4f145",
       "version_major": 2,
       "version_minor": 0
      },
      "text/plain": [
       "  0%|          | 0/20 [00:00<?, ?it/s]"
      ]
     },
     "metadata": {},
     "output_type": "display_data"
    },
    {
     "data": {
      "application/vnd.jupyter.widget-view+json": {
       "model_id": "7f10d19a9a0048e78e931d9e8a00f3ef",
       "version_major": 2,
       "version_minor": 0
      },
      "text/plain": [
       "  0%|          | 0/20 [00:00<?, ?it/s]"
      ]
     },
     "metadata": {},
     "output_type": "display_data"
    },
    {
     "name": "stdout",
     "output_type": "stream",
     "text": [
      "2 shift_testout_occipital_2.pkl\n"
     ]
    },
    {
     "name": "stderr",
     "output_type": "stream",
     "text": [
      "C:\\Users\\user\\AppData\\Roaming\\Python\\Python310\\site-packages\\numpy\\core\\fromnumeric.py:43: VisibleDeprecationWarning: Creating an ndarray from ragged nested sequences (which is a list-or-tuple of lists-or-tuples-or ndarrays with different lengths or shapes) is deprecated. If you meant to do this, you must specify 'dtype=object' when creating the ndarray.\n",
      "  result = getattr(asarray(obj), method)(*args, **kwds)\n"
     ]
    },
    {
     "name": "stdout",
     "output_type": "stream",
     "text": [
      "Participant_0\n"
     ]
    },
    {
     "data": {
      "application/vnd.jupyter.widget-view+json": {
       "model_id": "6e69d7a8aca84ebab5f6417f2aaa5bee",
       "version_major": 2,
       "version_minor": 0
      },
      "text/plain": [
       "  0%|          | 0/20 [00:00<?, ?it/s]"
      ]
     },
     "metadata": {},
     "output_type": "display_data"
    },
    {
     "data": {
      "application/vnd.jupyter.widget-view+json": {
       "model_id": "aafb3a5eb5044d078674c093489f604b",
       "version_major": 2,
       "version_minor": 0
      },
      "text/plain": [
       "  0%|          | 0/20 [00:00<?, ?it/s]"
      ]
     },
     "metadata": {},
     "output_type": "display_data"
    },
    {
     "data": {
      "application/vnd.jupyter.widget-view+json": {
       "model_id": "0f9c5cb1e7f845bbb685017f27ff923d",
       "version_major": 2,
       "version_minor": 0
      },
      "text/plain": [
       "  0%|          | 0/20 [00:00<?, ?it/s]"
      ]
     },
     "metadata": {},
     "output_type": "display_data"
    },
    {
     "data": {
      "application/vnd.jupyter.widget-view+json": {
       "model_id": "1dd3fd22dc8a46d495490ccd2f135b15",
       "version_major": 2,
       "version_minor": 0
      },
      "text/plain": [
       "  0%|          | 0/20 [00:00<?, ?it/s]"
      ]
     },
     "metadata": {},
     "output_type": "display_data"
    },
    {
     "data": {
      "application/vnd.jupyter.widget-view+json": {
       "model_id": "f17c3d3be9cd431c8e2acb938036e173",
       "version_major": 2,
       "version_minor": 0
      },
      "text/plain": [
       "  0%|          | 0/20 [00:00<?, ?it/s]"
      ]
     },
     "metadata": {},
     "output_type": "display_data"
    },
    {
     "data": {
      "application/vnd.jupyter.widget-view+json": {
       "model_id": "dc4b32928570440996d27136e7aea4cf",
       "version_major": 2,
       "version_minor": 0
      },
      "text/plain": [
       "  0%|          | 0/20 [00:00<?, ?it/s]"
      ]
     },
     "metadata": {},
     "output_type": "display_data"
    },
    {
     "data": {
      "application/vnd.jupyter.widget-view+json": {
       "model_id": "fd3d77b4c0c542268d18a2be2a2bb4d9",
       "version_major": 2,
       "version_minor": 0
      },
      "text/plain": [
       "  0%|          | 0/20 [00:00<?, ?it/s]"
      ]
     },
     "metadata": {},
     "output_type": "display_data"
    },
    {
     "data": {
      "application/vnd.jupyter.widget-view+json": {
       "model_id": "14d0841262334a97a3148df80402dffd",
       "version_major": 2,
       "version_minor": 0
      },
      "text/plain": [
       "  0%|          | 0/20 [00:00<?, ?it/s]"
      ]
     },
     "metadata": {},
     "output_type": "display_data"
    },
    {
     "data": {
      "application/vnd.jupyter.widget-view+json": {
       "model_id": "73a08bc673fd4d09bfbe01ced63ef572",
       "version_major": 2,
       "version_minor": 0
      },
      "text/plain": [
       "  0%|          | 0/20 [00:00<?, ?it/s]"
      ]
     },
     "metadata": {},
     "output_type": "display_data"
    },
    {
     "data": {
      "application/vnd.jupyter.widget-view+json": {
       "model_id": "7bed8d44574a4237bf5dfee3a4a0128b",
       "version_major": 2,
       "version_minor": 0
      },
      "text/plain": [
       "  0%|          | 0/20 [00:00<?, ?it/s]"
      ]
     },
     "metadata": {},
     "output_type": "display_data"
    },
    {
     "name": "stdout",
     "output_type": "stream",
     "text": [
      "Participant_1\n"
     ]
    },
    {
     "data": {
      "application/vnd.jupyter.widget-view+json": {
       "model_id": "346a6c1f04184e06a49509cfe59725ad",
       "version_major": 2,
       "version_minor": 0
      },
      "text/plain": [
       "  0%|          | 0/20 [00:00<?, ?it/s]"
      ]
     },
     "metadata": {},
     "output_type": "display_data"
    },
    {
     "data": {
      "application/vnd.jupyter.widget-view+json": {
       "model_id": "43253a77fd9344acb29e4b6de5836e9e",
       "version_major": 2,
       "version_minor": 0
      },
      "text/plain": [
       "  0%|          | 0/20 [00:00<?, ?it/s]"
      ]
     },
     "metadata": {},
     "output_type": "display_data"
    },
    {
     "data": {
      "application/vnd.jupyter.widget-view+json": {
       "model_id": "f7fcfc4eea0743009702e2cc85352734",
       "version_major": 2,
       "version_minor": 0
      },
      "text/plain": [
       "  0%|          | 0/20 [00:00<?, ?it/s]"
      ]
     },
     "metadata": {},
     "output_type": "display_data"
    },
    {
     "data": {
      "application/vnd.jupyter.widget-view+json": {
       "model_id": "e4ad46ae065b41f4abc35556fc26624a",
       "version_major": 2,
       "version_minor": 0
      },
      "text/plain": [
       "  0%|          | 0/20 [00:00<?, ?it/s]"
      ]
     },
     "metadata": {},
     "output_type": "display_data"
    },
    {
     "data": {
      "application/vnd.jupyter.widget-view+json": {
       "model_id": "5dfcb3adbcdf4ef1bf2dd95a7f2ed7df",
       "version_major": 2,
       "version_minor": 0
      },
      "text/plain": [
       "  0%|          | 0/20 [00:00<?, ?it/s]"
      ]
     },
     "metadata": {},
     "output_type": "display_data"
    },
    {
     "data": {
      "application/vnd.jupyter.widget-view+json": {
       "model_id": "4b4025fda3c2430db58791895c75001d",
       "version_major": 2,
       "version_minor": 0
      },
      "text/plain": [
       "  0%|          | 0/20 [00:00<?, ?it/s]"
      ]
     },
     "metadata": {},
     "output_type": "display_data"
    },
    {
     "data": {
      "application/vnd.jupyter.widget-view+json": {
       "model_id": "6185c80033e64b9ca86f72e3308a7f75",
       "version_major": 2,
       "version_minor": 0
      },
      "text/plain": [
       "  0%|          | 0/20 [00:00<?, ?it/s]"
      ]
     },
     "metadata": {},
     "output_type": "display_data"
    },
    {
     "data": {
      "application/vnd.jupyter.widget-view+json": {
       "model_id": "f963615495e64b27a3acad2214b02867",
       "version_major": 2,
       "version_minor": 0
      },
      "text/plain": [
       "  0%|          | 0/20 [00:00<?, ?it/s]"
      ]
     },
     "metadata": {},
     "output_type": "display_data"
    },
    {
     "data": {
      "application/vnd.jupyter.widget-view+json": {
       "model_id": "f78b7391b93443e28f569298bc175d64",
       "version_major": 2,
       "version_minor": 0
      },
      "text/plain": [
       "  0%|          | 0/20 [00:00<?, ?it/s]"
      ]
     },
     "metadata": {},
     "output_type": "display_data"
    },
    {
     "data": {
      "application/vnd.jupyter.widget-view+json": {
       "model_id": "87208fa8510d4587aa882620da6f0c1f",
       "version_major": 2,
       "version_minor": 0
      },
      "text/plain": [
       "  0%|          | 0/20 [00:00<?, ?it/s]"
      ]
     },
     "metadata": {},
     "output_type": "display_data"
    },
    {
     "name": "stdout",
     "output_type": "stream",
     "text": [
      "Participant_2\n"
     ]
    },
    {
     "data": {
      "application/vnd.jupyter.widget-view+json": {
       "model_id": "1611acb0545849139c8c768ecf3a354f",
       "version_major": 2,
       "version_minor": 0
      },
      "text/plain": [
       "  0%|          | 0/20 [00:00<?, ?it/s]"
      ]
     },
     "metadata": {},
     "output_type": "display_data"
    },
    {
     "data": {
      "application/vnd.jupyter.widget-view+json": {
       "model_id": "04cbb21069ec41719cad7154036d95fa",
       "version_major": 2,
       "version_minor": 0
      },
      "text/plain": [
       "  0%|          | 0/20 [00:00<?, ?it/s]"
      ]
     },
     "metadata": {},
     "output_type": "display_data"
    },
    {
     "data": {
      "application/vnd.jupyter.widget-view+json": {
       "model_id": "f872c0c2e9db45278649e8f0d91b1afe",
       "version_major": 2,
       "version_minor": 0
      },
      "text/plain": [
       "  0%|          | 0/20 [00:00<?, ?it/s]"
      ]
     },
     "metadata": {},
     "output_type": "display_data"
    },
    {
     "data": {
      "application/vnd.jupyter.widget-view+json": {
       "model_id": "86f6afb7c2874a30a96f255ab4c0136b",
       "version_major": 2,
       "version_minor": 0
      },
      "text/plain": [
       "  0%|          | 0/20 [00:00<?, ?it/s]"
      ]
     },
     "metadata": {},
     "output_type": "display_data"
    },
    {
     "data": {
      "application/vnd.jupyter.widget-view+json": {
       "model_id": "96c0bbdfe71b4b7a8287f9fbe2214c20",
       "version_major": 2,
       "version_minor": 0
      },
      "text/plain": [
       "  0%|          | 0/20 [00:00<?, ?it/s]"
      ]
     },
     "metadata": {},
     "output_type": "display_data"
    },
    {
     "data": {
      "application/vnd.jupyter.widget-view+json": {
       "model_id": "814fe7c7d47a457ea80b866c4a1b820b",
       "version_major": 2,
       "version_minor": 0
      },
      "text/plain": [
       "  0%|          | 0/20 [00:00<?, ?it/s]"
      ]
     },
     "metadata": {},
     "output_type": "display_data"
    },
    {
     "data": {
      "application/vnd.jupyter.widget-view+json": {
       "model_id": "c25ecebfedf84d6e8606448968a22f86",
       "version_major": 2,
       "version_minor": 0
      },
      "text/plain": [
       "  0%|          | 0/20 [00:00<?, ?it/s]"
      ]
     },
     "metadata": {},
     "output_type": "display_data"
    },
    {
     "data": {
      "application/vnd.jupyter.widget-view+json": {
       "model_id": "4a3d8bc2e3c440c19ddf29863750f0d1",
       "version_major": 2,
       "version_minor": 0
      },
      "text/plain": [
       "  0%|          | 0/20 [00:00<?, ?it/s]"
      ]
     },
     "metadata": {},
     "output_type": "display_data"
    },
    {
     "data": {
      "application/vnd.jupyter.widget-view+json": {
       "model_id": "2d02f4d9073e4d49b22ec24a329fb512",
       "version_major": 2,
       "version_minor": 0
      },
      "text/plain": [
       "  0%|          | 0/20 [00:00<?, ?it/s]"
      ]
     },
     "metadata": {},
     "output_type": "display_data"
    },
    {
     "data": {
      "application/vnd.jupyter.widget-view+json": {
       "model_id": "1cfc391008e54ef9bf5ef577a62e31f0",
       "version_major": 2,
       "version_minor": 0
      },
      "text/plain": [
       "  0%|          | 0/20 [00:00<?, ?it/s]"
      ]
     },
     "metadata": {},
     "output_type": "display_data"
    },
    {
     "name": "stdout",
     "output_type": "stream",
     "text": [
      "Participant_3\n"
     ]
    },
    {
     "data": {
      "application/vnd.jupyter.widget-view+json": {
       "model_id": "edda701b44a949aaa85d8850db04cefe",
       "version_major": 2,
       "version_minor": 0
      },
      "text/plain": [
       "  0%|          | 0/20 [00:00<?, ?it/s]"
      ]
     },
     "metadata": {},
     "output_type": "display_data"
    },
    {
     "data": {
      "application/vnd.jupyter.widget-view+json": {
       "model_id": "650385487b9b40e992e415dc41f3331a",
       "version_major": 2,
       "version_minor": 0
      },
      "text/plain": [
       "  0%|          | 0/20 [00:00<?, ?it/s]"
      ]
     },
     "metadata": {},
     "output_type": "display_data"
    },
    {
     "data": {
      "application/vnd.jupyter.widget-view+json": {
       "model_id": "1d4a0aae31f24c608823da816a1fd763",
       "version_major": 2,
       "version_minor": 0
      },
      "text/plain": [
       "  0%|          | 0/20 [00:00<?, ?it/s]"
      ]
     },
     "metadata": {},
     "output_type": "display_data"
    },
    {
     "data": {
      "application/vnd.jupyter.widget-view+json": {
       "model_id": "2d043410bee546b3afccde21f2833065",
       "version_major": 2,
       "version_minor": 0
      },
      "text/plain": [
       "  0%|          | 0/20 [00:00<?, ?it/s]"
      ]
     },
     "metadata": {},
     "output_type": "display_data"
    },
    {
     "data": {
      "application/vnd.jupyter.widget-view+json": {
       "model_id": "5f6636e2d8cc49459896815a9a60e6d1",
       "version_major": 2,
       "version_minor": 0
      },
      "text/plain": [
       "  0%|          | 0/20 [00:00<?, ?it/s]"
      ]
     },
     "metadata": {},
     "output_type": "display_data"
    },
    {
     "data": {
      "application/vnd.jupyter.widget-view+json": {
       "model_id": "1369fbde4bf144c7aa99717385038fa6",
       "version_major": 2,
       "version_minor": 0
      },
      "text/plain": [
       "  0%|          | 0/20 [00:00<?, ?it/s]"
      ]
     },
     "metadata": {},
     "output_type": "display_data"
    },
    {
     "data": {
      "application/vnd.jupyter.widget-view+json": {
       "model_id": "14c1ae2131d14397b4a081efa7240e34",
       "version_major": 2,
       "version_minor": 0
      },
      "text/plain": [
       "  0%|          | 0/20 [00:00<?, ?it/s]"
      ]
     },
     "metadata": {},
     "output_type": "display_data"
    },
    {
     "data": {
      "application/vnd.jupyter.widget-view+json": {
       "model_id": "c9496f816d734dc5b4285d0123c9272a",
       "version_major": 2,
       "version_minor": 0
      },
      "text/plain": [
       "  0%|          | 0/20 [00:00<?, ?it/s]"
      ]
     },
     "metadata": {},
     "output_type": "display_data"
    },
    {
     "data": {
      "application/vnd.jupyter.widget-view+json": {
       "model_id": "d5ab687a29c646658574fd81912d11a1",
       "version_major": 2,
       "version_minor": 0
      },
      "text/plain": [
       "  0%|          | 0/20 [00:00<?, ?it/s]"
      ]
     },
     "metadata": {},
     "output_type": "display_data"
    },
    {
     "data": {
      "application/vnd.jupyter.widget-view+json": {
       "model_id": "432ef6c9e5d94a42825ebb2287c5060e",
       "version_major": 2,
       "version_minor": 0
      },
      "text/plain": [
       "  0%|          | 0/20 [00:00<?, ?it/s]"
      ]
     },
     "metadata": {},
     "output_type": "display_data"
    },
    {
     "name": "stdout",
     "output_type": "stream",
     "text": [
      "Participant_4\n"
     ]
    },
    {
     "data": {
      "application/vnd.jupyter.widget-view+json": {
       "model_id": "63e3c81100e04863a7f2ac7ca496f14c",
       "version_major": 2,
       "version_minor": 0
      },
      "text/plain": [
       "  0%|          | 0/20 [00:00<?, ?it/s]"
      ]
     },
     "metadata": {},
     "output_type": "display_data"
    },
    {
     "data": {
      "application/vnd.jupyter.widget-view+json": {
       "model_id": "1727a1deee8a42a3a2f21f59c139f4e5",
       "version_major": 2,
       "version_minor": 0
      },
      "text/plain": [
       "  0%|          | 0/20 [00:00<?, ?it/s]"
      ]
     },
     "metadata": {},
     "output_type": "display_data"
    },
    {
     "data": {
      "application/vnd.jupyter.widget-view+json": {
       "model_id": "a21f3d11341d43c99ae829c0a34d6349",
       "version_major": 2,
       "version_minor": 0
      },
      "text/plain": [
       "  0%|          | 0/20 [00:00<?, ?it/s]"
      ]
     },
     "metadata": {},
     "output_type": "display_data"
    },
    {
     "data": {
      "application/vnd.jupyter.widget-view+json": {
       "model_id": "91ce869865c74155a7d53d13dae3d8cc",
       "version_major": 2,
       "version_minor": 0
      },
      "text/plain": [
       "  0%|          | 0/20 [00:00<?, ?it/s]"
      ]
     },
     "metadata": {},
     "output_type": "display_data"
    },
    {
     "data": {
      "application/vnd.jupyter.widget-view+json": {
       "model_id": "971f3130395c44c38d1e09638e13ff4d",
       "version_major": 2,
       "version_minor": 0
      },
      "text/plain": [
       "  0%|          | 0/20 [00:00<?, ?it/s]"
      ]
     },
     "metadata": {},
     "output_type": "display_data"
    },
    {
     "data": {
      "application/vnd.jupyter.widget-view+json": {
       "model_id": "e6a1db96b8e640f69ec0ee0025bb2bb7",
       "version_major": 2,
       "version_minor": 0
      },
      "text/plain": [
       "  0%|          | 0/20 [00:00<?, ?it/s]"
      ]
     },
     "metadata": {},
     "output_type": "display_data"
    },
    {
     "data": {
      "application/vnd.jupyter.widget-view+json": {
       "model_id": "df3e54ba4d814c61942bfede2f380269",
       "version_major": 2,
       "version_minor": 0
      },
      "text/plain": [
       "  0%|          | 0/20 [00:00<?, ?it/s]"
      ]
     },
     "metadata": {},
     "output_type": "display_data"
    },
    {
     "data": {
      "application/vnd.jupyter.widget-view+json": {
       "model_id": "60ef72f48ae644f88c314217c2e9cd78",
       "version_major": 2,
       "version_minor": 0
      },
      "text/plain": [
       "  0%|          | 0/20 [00:00<?, ?it/s]"
      ]
     },
     "metadata": {},
     "output_type": "display_data"
    },
    {
     "data": {
      "application/vnd.jupyter.widget-view+json": {
       "model_id": "6efa626e92a4447ea60b30169815d884",
       "version_major": 2,
       "version_minor": 0
      },
      "text/plain": [
       "  0%|          | 0/20 [00:00<?, ?it/s]"
      ]
     },
     "metadata": {},
     "output_type": "display_data"
    },
    {
     "data": {
      "application/vnd.jupyter.widget-view+json": {
       "model_id": "5e2f1ed7ca3d4760b2b7bc60d40c33d3",
       "version_major": 2,
       "version_minor": 0
      },
      "text/plain": [
       "  0%|          | 0/20 [00:00<?, ?it/s]"
      ]
     },
     "metadata": {},
     "output_type": "display_data"
    },
    {
     "name": "stdout",
     "output_type": "stream",
     "text": [
      "Participant_5\n"
     ]
    },
    {
     "data": {
      "application/vnd.jupyter.widget-view+json": {
       "model_id": "37e82af8471542ceb1a6cc63709fba35",
       "version_major": 2,
       "version_minor": 0
      },
      "text/plain": [
       "  0%|          | 0/20 [00:00<?, ?it/s]"
      ]
     },
     "metadata": {},
     "output_type": "display_data"
    },
    {
     "data": {
      "application/vnd.jupyter.widget-view+json": {
       "model_id": "03a21a4d850841caa9cfc2b7742c2e50",
       "version_major": 2,
       "version_minor": 0
      },
      "text/plain": [
       "  0%|          | 0/20 [00:00<?, ?it/s]"
      ]
     },
     "metadata": {},
     "output_type": "display_data"
    },
    {
     "data": {
      "application/vnd.jupyter.widget-view+json": {
       "model_id": "398d2f8809764b99967fea1d4fe731da",
       "version_major": 2,
       "version_minor": 0
      },
      "text/plain": [
       "  0%|          | 0/20 [00:00<?, ?it/s]"
      ]
     },
     "metadata": {},
     "output_type": "display_data"
    },
    {
     "data": {
      "application/vnd.jupyter.widget-view+json": {
       "model_id": "dc80315b960d488b886a6c41a76a0d91",
       "version_major": 2,
       "version_minor": 0
      },
      "text/plain": [
       "  0%|          | 0/20 [00:00<?, ?it/s]"
      ]
     },
     "metadata": {},
     "output_type": "display_data"
    },
    {
     "data": {
      "application/vnd.jupyter.widget-view+json": {
       "model_id": "c874f3a2eec946d3b0e1c3247fbc3afc",
       "version_major": 2,
       "version_minor": 0
      },
      "text/plain": [
       "  0%|          | 0/20 [00:00<?, ?it/s]"
      ]
     },
     "metadata": {},
     "output_type": "display_data"
    },
    {
     "data": {
      "application/vnd.jupyter.widget-view+json": {
       "model_id": "6be1e16e4dfe421fb849f9f9d8f0542c",
       "version_major": 2,
       "version_minor": 0
      },
      "text/plain": [
       "  0%|          | 0/20 [00:00<?, ?it/s]"
      ]
     },
     "metadata": {},
     "output_type": "display_data"
    },
    {
     "data": {
      "application/vnd.jupyter.widget-view+json": {
       "model_id": "a414aa875fc74abfa5a8d2e0012f3cb3",
       "version_major": 2,
       "version_minor": 0
      },
      "text/plain": [
       "  0%|          | 0/20 [00:00<?, ?it/s]"
      ]
     },
     "metadata": {},
     "output_type": "display_data"
    },
    {
     "data": {
      "application/vnd.jupyter.widget-view+json": {
       "model_id": "d05966a131324985bdfe3948ebf348aa",
       "version_major": 2,
       "version_minor": 0
      },
      "text/plain": [
       "  0%|          | 0/20 [00:00<?, ?it/s]"
      ]
     },
     "metadata": {},
     "output_type": "display_data"
    },
    {
     "data": {
      "application/vnd.jupyter.widget-view+json": {
       "model_id": "8f9781f8206d40ff874a9e143bfb0274",
       "version_major": 2,
       "version_minor": 0
      },
      "text/plain": [
       "  0%|          | 0/20 [00:00<?, ?it/s]"
      ]
     },
     "metadata": {},
     "output_type": "display_data"
    },
    {
     "data": {
      "application/vnd.jupyter.widget-view+json": {
       "model_id": "4957a57127fc4a3a91d7a3be42551527",
       "version_major": 2,
       "version_minor": 0
      },
      "text/plain": [
       "  0%|          | 0/20 [00:00<?, ?it/s]"
      ]
     },
     "metadata": {},
     "output_type": "display_data"
    },
    {
     "name": "stdout",
     "output_type": "stream",
     "text": [
      "Participant_6\n"
     ]
    },
    {
     "data": {
      "application/vnd.jupyter.widget-view+json": {
       "model_id": "4bb0400873fe44fe87772425dfdd7277",
       "version_major": 2,
       "version_minor": 0
      },
      "text/plain": [
       "  0%|          | 0/20 [00:00<?, ?it/s]"
      ]
     },
     "metadata": {},
     "output_type": "display_data"
    },
    {
     "data": {
      "application/vnd.jupyter.widget-view+json": {
       "model_id": "f8f24f5a131c4b97b430225d353b69aa",
       "version_major": 2,
       "version_minor": 0
      },
      "text/plain": [
       "  0%|          | 0/20 [00:00<?, ?it/s]"
      ]
     },
     "metadata": {},
     "output_type": "display_data"
    },
    {
     "data": {
      "application/vnd.jupyter.widget-view+json": {
       "model_id": "082791a0248b41a2a6933381d2e6bf9b",
       "version_major": 2,
       "version_minor": 0
      },
      "text/plain": [
       "  0%|          | 0/20 [00:00<?, ?it/s]"
      ]
     },
     "metadata": {},
     "output_type": "display_data"
    },
    {
     "data": {
      "application/vnd.jupyter.widget-view+json": {
       "model_id": "4e9450d23fe242d39eb547253c1f8c3d",
       "version_major": 2,
       "version_minor": 0
      },
      "text/plain": [
       "  0%|          | 0/20 [00:00<?, ?it/s]"
      ]
     },
     "metadata": {},
     "output_type": "display_data"
    },
    {
     "data": {
      "application/vnd.jupyter.widget-view+json": {
       "model_id": "223f2460dafb48689db9238b8e086e27",
       "version_major": 2,
       "version_minor": 0
      },
      "text/plain": [
       "  0%|          | 0/20 [00:00<?, ?it/s]"
      ]
     },
     "metadata": {},
     "output_type": "display_data"
    },
    {
     "data": {
      "application/vnd.jupyter.widget-view+json": {
       "model_id": "ae9b387d87404ea28876bed63706cf64",
       "version_major": 2,
       "version_minor": 0
      },
      "text/plain": [
       "  0%|          | 0/20 [00:00<?, ?it/s]"
      ]
     },
     "metadata": {},
     "output_type": "display_data"
    },
    {
     "data": {
      "application/vnd.jupyter.widget-view+json": {
       "model_id": "254a71c232e44d5e9927e556605bca7c",
       "version_major": 2,
       "version_minor": 0
      },
      "text/plain": [
       "  0%|          | 0/20 [00:00<?, ?it/s]"
      ]
     },
     "metadata": {},
     "output_type": "display_data"
    },
    {
     "data": {
      "application/vnd.jupyter.widget-view+json": {
       "model_id": "ae4e7decd78548928831682d14c50168",
       "version_major": 2,
       "version_minor": 0
      },
      "text/plain": [
       "  0%|          | 0/20 [00:00<?, ?it/s]"
      ]
     },
     "metadata": {},
     "output_type": "display_data"
    },
    {
     "data": {
      "application/vnd.jupyter.widget-view+json": {
       "model_id": "be2ace93cc134d25810c8bb349958a05",
       "version_major": 2,
       "version_minor": 0
      },
      "text/plain": [
       "  0%|          | 0/20 [00:00<?, ?it/s]"
      ]
     },
     "metadata": {},
     "output_type": "display_data"
    },
    {
     "data": {
      "application/vnd.jupyter.widget-view+json": {
       "model_id": "53cc9fdc1d404f0a8888120f8d371c74",
       "version_major": 2,
       "version_minor": 0
      },
      "text/plain": [
       "  0%|          | 0/20 [00:00<?, ?it/s]"
      ]
     },
     "metadata": {},
     "output_type": "display_data"
    },
    {
     "name": "stdout",
     "output_type": "stream",
     "text": [
      "Participant_7\n"
     ]
    },
    {
     "data": {
      "application/vnd.jupyter.widget-view+json": {
       "model_id": "aa6874ae9b4044e48f849197e27d2250",
       "version_major": 2,
       "version_minor": 0
      },
      "text/plain": [
       "  0%|          | 0/20 [00:00<?, ?it/s]"
      ]
     },
     "metadata": {},
     "output_type": "display_data"
    },
    {
     "data": {
      "application/vnd.jupyter.widget-view+json": {
       "model_id": "4d8e09f5cfb8444697be8b1d56b9442e",
       "version_major": 2,
       "version_minor": 0
      },
      "text/plain": [
       "  0%|          | 0/20 [00:00<?, ?it/s]"
      ]
     },
     "metadata": {},
     "output_type": "display_data"
    },
    {
     "data": {
      "application/vnd.jupyter.widget-view+json": {
       "model_id": "a9296481653f4ffea5dd141c600f8e21",
       "version_major": 2,
       "version_minor": 0
      },
      "text/plain": [
       "  0%|          | 0/20 [00:00<?, ?it/s]"
      ]
     },
     "metadata": {},
     "output_type": "display_data"
    },
    {
     "data": {
      "application/vnd.jupyter.widget-view+json": {
       "model_id": "4d2aa0d959324ad2a68b91c0dc4cfd82",
       "version_major": 2,
       "version_minor": 0
      },
      "text/plain": [
       "  0%|          | 0/20 [00:00<?, ?it/s]"
      ]
     },
     "metadata": {},
     "output_type": "display_data"
    },
    {
     "data": {
      "application/vnd.jupyter.widget-view+json": {
       "model_id": "ede1544b3a954ba481df9d2e073c0541",
       "version_major": 2,
       "version_minor": 0
      },
      "text/plain": [
       "  0%|          | 0/20 [00:00<?, ?it/s]"
      ]
     },
     "metadata": {},
     "output_type": "display_data"
    },
    {
     "data": {
      "application/vnd.jupyter.widget-view+json": {
       "model_id": "26e969f4c6114f5d869d12232fd53b52",
       "version_major": 2,
       "version_minor": 0
      },
      "text/plain": [
       "  0%|          | 0/20 [00:00<?, ?it/s]"
      ]
     },
     "metadata": {},
     "output_type": "display_data"
    },
    {
     "data": {
      "application/vnd.jupyter.widget-view+json": {
       "model_id": "53d145d2f9394b66a51f5125d2847ffa",
       "version_major": 2,
       "version_minor": 0
      },
      "text/plain": [
       "  0%|          | 0/20 [00:00<?, ?it/s]"
      ]
     },
     "metadata": {},
     "output_type": "display_data"
    },
    {
     "data": {
      "application/vnd.jupyter.widget-view+json": {
       "model_id": "d31e43a1b90740d195b6414207f2cc64",
       "version_major": 2,
       "version_minor": 0
      },
      "text/plain": [
       "  0%|          | 0/20 [00:00<?, ?it/s]"
      ]
     },
     "metadata": {},
     "output_type": "display_data"
    },
    {
     "data": {
      "application/vnd.jupyter.widget-view+json": {
       "model_id": "bb679d5e06ad45c6bcbb6d558ecc99e4",
       "version_major": 2,
       "version_minor": 0
      },
      "text/plain": [
       "  0%|          | 0/20 [00:00<?, ?it/s]"
      ]
     },
     "metadata": {},
     "output_type": "display_data"
    },
    {
     "data": {
      "application/vnd.jupyter.widget-view+json": {
       "model_id": "6993621cf77d4a0881ebe980ac086f69",
       "version_major": 2,
       "version_minor": 0
      },
      "text/plain": [
       "  0%|          | 0/20 [00:00<?, ?it/s]"
      ]
     },
     "metadata": {},
     "output_type": "display_data"
    },
    {
     "name": "stdout",
     "output_type": "stream",
     "text": [
      "Participant_8\n"
     ]
    },
    {
     "data": {
      "application/vnd.jupyter.widget-view+json": {
       "model_id": "84b86872c8fd40a8852c5ea373ecb40b",
       "version_major": 2,
       "version_minor": 0
      },
      "text/plain": [
       "  0%|          | 0/20 [00:00<?, ?it/s]"
      ]
     },
     "metadata": {},
     "output_type": "display_data"
    },
    {
     "data": {
      "application/vnd.jupyter.widget-view+json": {
       "model_id": "5d3d087d731f4a50a720122f31582975",
       "version_major": 2,
       "version_minor": 0
      },
      "text/plain": [
       "  0%|          | 0/20 [00:00<?, ?it/s]"
      ]
     },
     "metadata": {},
     "output_type": "display_data"
    },
    {
     "data": {
      "application/vnd.jupyter.widget-view+json": {
       "model_id": "e583e691821d4befbaeef1b4655869ba",
       "version_major": 2,
       "version_minor": 0
      },
      "text/plain": [
       "  0%|          | 0/20 [00:00<?, ?it/s]"
      ]
     },
     "metadata": {},
     "output_type": "display_data"
    },
    {
     "data": {
      "application/vnd.jupyter.widget-view+json": {
       "model_id": "ade5a1b58d144da985325f81430d1ddb",
       "version_major": 2,
       "version_minor": 0
      },
      "text/plain": [
       "  0%|          | 0/20 [00:00<?, ?it/s]"
      ]
     },
     "metadata": {},
     "output_type": "display_data"
    },
    {
     "data": {
      "application/vnd.jupyter.widget-view+json": {
       "model_id": "5fbfb71c7de648bc8ca1c593e8f3140c",
       "version_major": 2,
       "version_minor": 0
      },
      "text/plain": [
       "  0%|          | 0/20 [00:00<?, ?it/s]"
      ]
     },
     "metadata": {},
     "output_type": "display_data"
    },
    {
     "data": {
      "application/vnd.jupyter.widget-view+json": {
       "model_id": "77e4e732e4c941538436ad51b29f07e4",
       "version_major": 2,
       "version_minor": 0
      },
      "text/plain": [
       "  0%|          | 0/20 [00:00<?, ?it/s]"
      ]
     },
     "metadata": {},
     "output_type": "display_data"
    },
    {
     "data": {
      "application/vnd.jupyter.widget-view+json": {
       "model_id": "fdb50ae902d343f28d166a92c1d6a40f",
       "version_major": 2,
       "version_minor": 0
      },
      "text/plain": [
       "  0%|          | 0/20 [00:00<?, ?it/s]"
      ]
     },
     "metadata": {},
     "output_type": "display_data"
    },
    {
     "data": {
      "application/vnd.jupyter.widget-view+json": {
       "model_id": "eb29f0937b354036904e60db86046861",
       "version_major": 2,
       "version_minor": 0
      },
      "text/plain": [
       "  0%|          | 0/20 [00:00<?, ?it/s]"
      ]
     },
     "metadata": {},
     "output_type": "display_data"
    },
    {
     "data": {
      "application/vnd.jupyter.widget-view+json": {
       "model_id": "13f374e1c7d44dbb9ba633d934be7778",
       "version_major": 2,
       "version_minor": 0
      },
      "text/plain": [
       "  0%|          | 0/20 [00:00<?, ?it/s]"
      ]
     },
     "metadata": {},
     "output_type": "display_data"
    },
    {
     "data": {
      "application/vnd.jupyter.widget-view+json": {
       "model_id": "ad6f0bffdfbb4d538953412c29402ae3",
       "version_major": 2,
       "version_minor": 0
      },
      "text/plain": [
       "  0%|          | 0/20 [00:00<?, ?it/s]"
      ]
     },
     "metadata": {},
     "output_type": "display_data"
    },
    {
     "name": "stdout",
     "output_type": "stream",
     "text": [
      "Participant_9\n"
     ]
    },
    {
     "data": {
      "application/vnd.jupyter.widget-view+json": {
       "model_id": "33d5b51ae28b4968abd8db7a031e9ab3",
       "version_major": 2,
       "version_minor": 0
      },
      "text/plain": [
       "  0%|          | 0/20 [00:00<?, ?it/s]"
      ]
     },
     "metadata": {},
     "output_type": "display_data"
    },
    {
     "data": {
      "application/vnd.jupyter.widget-view+json": {
       "model_id": "b56e1884b8144809a2e30546752ab23b",
       "version_major": 2,
       "version_minor": 0
      },
      "text/plain": [
       "  0%|          | 0/20 [00:00<?, ?it/s]"
      ]
     },
     "metadata": {},
     "output_type": "display_data"
    },
    {
     "data": {
      "application/vnd.jupyter.widget-view+json": {
       "model_id": "68240a9ae54040b1a62bc9c20dfa9972",
       "version_major": 2,
       "version_minor": 0
      },
      "text/plain": [
       "  0%|          | 0/20 [00:00<?, ?it/s]"
      ]
     },
     "metadata": {},
     "output_type": "display_data"
    },
    {
     "data": {
      "application/vnd.jupyter.widget-view+json": {
       "model_id": "3087388bae3e4148a3670b9930747c78",
       "version_major": 2,
       "version_minor": 0
      },
      "text/plain": [
       "  0%|          | 0/20 [00:00<?, ?it/s]"
      ]
     },
     "metadata": {},
     "output_type": "display_data"
    },
    {
     "data": {
      "application/vnd.jupyter.widget-view+json": {
       "model_id": "6606050dd1eb411ebd0297b0d1df4858",
       "version_major": 2,
       "version_minor": 0
      },
      "text/plain": [
       "  0%|          | 0/20 [00:00<?, ?it/s]"
      ]
     },
     "metadata": {},
     "output_type": "display_data"
    },
    {
     "data": {
      "application/vnd.jupyter.widget-view+json": {
       "model_id": "7c4504cc09334d579987d8227d63a992",
       "version_major": 2,
       "version_minor": 0
      },
      "text/plain": [
       "  0%|          | 0/20 [00:00<?, ?it/s]"
      ]
     },
     "metadata": {},
     "output_type": "display_data"
    },
    {
     "data": {
      "application/vnd.jupyter.widget-view+json": {
       "model_id": "a26cf7247bd54c3a888ce11e7878df97",
       "version_major": 2,
       "version_minor": 0
      },
      "text/plain": [
       "  0%|          | 0/20 [00:00<?, ?it/s]"
      ]
     },
     "metadata": {},
     "output_type": "display_data"
    },
    {
     "data": {
      "application/vnd.jupyter.widget-view+json": {
       "model_id": "d4f828fb9a254e2b8b95e65426213eec",
       "version_major": 2,
       "version_minor": 0
      },
      "text/plain": [
       "  0%|          | 0/20 [00:00<?, ?it/s]"
      ]
     },
     "metadata": {},
     "output_type": "display_data"
    },
    {
     "data": {
      "application/vnd.jupyter.widget-view+json": {
       "model_id": "e4419edf8fcd4327aae2b32f20d3ec62",
       "version_major": 2,
       "version_minor": 0
      },
      "text/plain": [
       "  0%|          | 0/20 [00:00<?, ?it/s]"
      ]
     },
     "metadata": {},
     "output_type": "display_data"
    },
    {
     "data": {
      "application/vnd.jupyter.widget-view+json": {
       "model_id": "a759ee1350f34c31b2c5ec0679e9a1a2",
       "version_major": 2,
       "version_minor": 0
      },
      "text/plain": [
       "  0%|          | 0/20 [00:00<?, ?it/s]"
      ]
     },
     "metadata": {},
     "output_type": "display_data"
    },
    {
     "name": "stdout",
     "output_type": "stream",
     "text": [
      "Participant_10\n"
     ]
    },
    {
     "data": {
      "application/vnd.jupyter.widget-view+json": {
       "model_id": "b730779b1a014bd19025e058df1c4ec2",
       "version_major": 2,
       "version_minor": 0
      },
      "text/plain": [
       "  0%|          | 0/20 [00:00<?, ?it/s]"
      ]
     },
     "metadata": {},
     "output_type": "display_data"
    },
    {
     "data": {
      "application/vnd.jupyter.widget-view+json": {
       "model_id": "39f1bbf63e2e488fb9255352e392691a",
       "version_major": 2,
       "version_minor": 0
      },
      "text/plain": [
       "  0%|          | 0/20 [00:00<?, ?it/s]"
      ]
     },
     "metadata": {},
     "output_type": "display_data"
    },
    {
     "data": {
      "application/vnd.jupyter.widget-view+json": {
       "model_id": "860b0d9cd1754cbdb668bda329942e87",
       "version_major": 2,
       "version_minor": 0
      },
      "text/plain": [
       "  0%|          | 0/20 [00:00<?, ?it/s]"
      ]
     },
     "metadata": {},
     "output_type": "display_data"
    },
    {
     "data": {
      "application/vnd.jupyter.widget-view+json": {
       "model_id": "0eb2b9d0a4de42569d86eabe1f58e6dc",
       "version_major": 2,
       "version_minor": 0
      },
      "text/plain": [
       "  0%|          | 0/20 [00:00<?, ?it/s]"
      ]
     },
     "metadata": {},
     "output_type": "display_data"
    },
    {
     "data": {
      "application/vnd.jupyter.widget-view+json": {
       "model_id": "86314058c39543a5aefc2900f7eb9dfa",
       "version_major": 2,
       "version_minor": 0
      },
      "text/plain": [
       "  0%|          | 0/20 [00:00<?, ?it/s]"
      ]
     },
     "metadata": {},
     "output_type": "display_data"
    },
    {
     "data": {
      "application/vnd.jupyter.widget-view+json": {
       "model_id": "9ef399dda4f0414e8d8c54bb584fad4d",
       "version_major": 2,
       "version_minor": 0
      },
      "text/plain": [
       "  0%|          | 0/20 [00:00<?, ?it/s]"
      ]
     },
     "metadata": {},
     "output_type": "display_data"
    },
    {
     "data": {
      "application/vnd.jupyter.widget-view+json": {
       "model_id": "3bbfdae6b38f4b82b499b423c8018541",
       "version_major": 2,
       "version_minor": 0
      },
      "text/plain": [
       "  0%|          | 0/20 [00:00<?, ?it/s]"
      ]
     },
     "metadata": {},
     "output_type": "display_data"
    },
    {
     "data": {
      "application/vnd.jupyter.widget-view+json": {
       "model_id": "f09d4106079c430cb02dfcf8d6294089",
       "version_major": 2,
       "version_minor": 0
      },
      "text/plain": [
       "  0%|          | 0/20 [00:00<?, ?it/s]"
      ]
     },
     "metadata": {},
     "output_type": "display_data"
    },
    {
     "data": {
      "application/vnd.jupyter.widget-view+json": {
       "model_id": "09478687c87944378c961970fea6df59",
       "version_major": 2,
       "version_minor": 0
      },
      "text/plain": [
       "  0%|          | 0/20 [00:00<?, ?it/s]"
      ]
     },
     "metadata": {},
     "output_type": "display_data"
    },
    {
     "data": {
      "application/vnd.jupyter.widget-view+json": {
       "model_id": "9d9d798b0a7a48d68c3a8bd2b77a72bd",
       "version_major": 2,
       "version_minor": 0
      },
      "text/plain": [
       "  0%|          | 0/20 [00:00<?, ?it/s]"
      ]
     },
     "metadata": {},
     "output_type": "display_data"
    },
    {
     "name": "stdout",
     "output_type": "stream",
     "text": [
      "Participant_11\n"
     ]
    },
    {
     "data": {
      "application/vnd.jupyter.widget-view+json": {
       "model_id": "91d51eac5b5e4b78a0f57b0f849aab31",
       "version_major": 2,
       "version_minor": 0
      },
      "text/plain": [
       "  0%|          | 0/20 [00:00<?, ?it/s]"
      ]
     },
     "metadata": {},
     "output_type": "display_data"
    },
    {
     "data": {
      "application/vnd.jupyter.widget-view+json": {
       "model_id": "3cafbef6ffec43c88078463b3203c2fe",
       "version_major": 2,
       "version_minor": 0
      },
      "text/plain": [
       "  0%|          | 0/20 [00:00<?, ?it/s]"
      ]
     },
     "metadata": {},
     "output_type": "display_data"
    },
    {
     "data": {
      "application/vnd.jupyter.widget-view+json": {
       "model_id": "c59dcbd8c4ec41dcae6c23ecb49f2197",
       "version_major": 2,
       "version_minor": 0
      },
      "text/plain": [
       "  0%|          | 0/20 [00:00<?, ?it/s]"
      ]
     },
     "metadata": {},
     "output_type": "display_data"
    },
    {
     "data": {
      "application/vnd.jupyter.widget-view+json": {
       "model_id": "281e8ce85a9649ed9c8ef2ad38da367b",
       "version_major": 2,
       "version_minor": 0
      },
      "text/plain": [
       "  0%|          | 0/20 [00:00<?, ?it/s]"
      ]
     },
     "metadata": {},
     "output_type": "display_data"
    },
    {
     "data": {
      "application/vnd.jupyter.widget-view+json": {
       "model_id": "390fb7f663ad4956800e395e0e300a0f",
       "version_major": 2,
       "version_minor": 0
      },
      "text/plain": [
       "  0%|          | 0/20 [00:00<?, ?it/s]"
      ]
     },
     "metadata": {},
     "output_type": "display_data"
    },
    {
     "data": {
      "application/vnd.jupyter.widget-view+json": {
       "model_id": "063b4f7ade08450b8c9e57ea58b43623",
       "version_major": 2,
       "version_minor": 0
      },
      "text/plain": [
       "  0%|          | 0/20 [00:00<?, ?it/s]"
      ]
     },
     "metadata": {},
     "output_type": "display_data"
    },
    {
     "data": {
      "application/vnd.jupyter.widget-view+json": {
       "model_id": "021ddc64b89c4b30b278360800a1ee8c",
       "version_major": 2,
       "version_minor": 0
      },
      "text/plain": [
       "  0%|          | 0/20 [00:00<?, ?it/s]"
      ]
     },
     "metadata": {},
     "output_type": "display_data"
    },
    {
     "data": {
      "application/vnd.jupyter.widget-view+json": {
       "model_id": "7823f62321b94aa4b054fb060c6d8b2d",
       "version_major": 2,
       "version_minor": 0
      },
      "text/plain": [
       "  0%|          | 0/20 [00:00<?, ?it/s]"
      ]
     },
     "metadata": {},
     "output_type": "display_data"
    },
    {
     "data": {
      "application/vnd.jupyter.widget-view+json": {
       "model_id": "45391e9011154c0fa04742463ad40b44",
       "version_major": 2,
       "version_minor": 0
      },
      "text/plain": [
       "  0%|          | 0/20 [00:00<?, ?it/s]"
      ]
     },
     "metadata": {},
     "output_type": "display_data"
    },
    {
     "data": {
      "application/vnd.jupyter.widget-view+json": {
       "model_id": "092aa2e9dce24f2fa7775172121ee066",
       "version_major": 2,
       "version_minor": 0
      },
      "text/plain": [
       "  0%|          | 0/20 [00:00<?, ?it/s]"
      ]
     },
     "metadata": {},
     "output_type": "display_data"
    },
    {
     "name": "stdout",
     "output_type": "stream",
     "text": [
      "Participant_12\n"
     ]
    },
    {
     "data": {
      "application/vnd.jupyter.widget-view+json": {
       "model_id": "992c46db88764d41bd063a6e22f6059e",
       "version_major": 2,
       "version_minor": 0
      },
      "text/plain": [
       "  0%|          | 0/20 [00:00<?, ?it/s]"
      ]
     },
     "metadata": {},
     "output_type": "display_data"
    },
    {
     "data": {
      "application/vnd.jupyter.widget-view+json": {
       "model_id": "0d92cfa7e9644248a56222fde08d417c",
       "version_major": 2,
       "version_minor": 0
      },
      "text/plain": [
       "  0%|          | 0/20 [00:00<?, ?it/s]"
      ]
     },
     "metadata": {},
     "output_type": "display_data"
    },
    {
     "data": {
      "application/vnd.jupyter.widget-view+json": {
       "model_id": "5fee92cdbf594a5e8086ee3b63c47fd4",
       "version_major": 2,
       "version_minor": 0
      },
      "text/plain": [
       "  0%|          | 0/20 [00:00<?, ?it/s]"
      ]
     },
     "metadata": {},
     "output_type": "display_data"
    },
    {
     "data": {
      "application/vnd.jupyter.widget-view+json": {
       "model_id": "2f4e384a4aa941b3a1f3a00e95d545fc",
       "version_major": 2,
       "version_minor": 0
      },
      "text/plain": [
       "  0%|          | 0/20 [00:00<?, ?it/s]"
      ]
     },
     "metadata": {},
     "output_type": "display_data"
    },
    {
     "data": {
      "application/vnd.jupyter.widget-view+json": {
       "model_id": "56b13d5b6fff4b3d8b578ca92dc72a49",
       "version_major": 2,
       "version_minor": 0
      },
      "text/plain": [
       "  0%|          | 0/20 [00:00<?, ?it/s]"
      ]
     },
     "metadata": {},
     "output_type": "display_data"
    },
    {
     "data": {
      "application/vnd.jupyter.widget-view+json": {
       "model_id": "3d03517a47b1496c9c4ca95da28ebb88",
       "version_major": 2,
       "version_minor": 0
      },
      "text/plain": [
       "  0%|          | 0/20 [00:00<?, ?it/s]"
      ]
     },
     "metadata": {},
     "output_type": "display_data"
    },
    {
     "data": {
      "application/vnd.jupyter.widget-view+json": {
       "model_id": "35ce45ea8ce04a9e83a314275f57a4f5",
       "version_major": 2,
       "version_minor": 0
      },
      "text/plain": [
       "  0%|          | 0/20 [00:00<?, ?it/s]"
      ]
     },
     "metadata": {},
     "output_type": "display_data"
    },
    {
     "data": {
      "application/vnd.jupyter.widget-view+json": {
       "model_id": "f1782c6dec3d4ce19264d1ff0bec8e4f",
       "version_major": 2,
       "version_minor": 0
      },
      "text/plain": [
       "  0%|          | 0/20 [00:00<?, ?it/s]"
      ]
     },
     "metadata": {},
     "output_type": "display_data"
    },
    {
     "data": {
      "application/vnd.jupyter.widget-view+json": {
       "model_id": "a6f72058b54a480ea3e0b60c286aa7a6",
       "version_major": 2,
       "version_minor": 0
      },
      "text/plain": [
       "  0%|          | 0/20 [00:00<?, ?it/s]"
      ]
     },
     "metadata": {},
     "output_type": "display_data"
    },
    {
     "data": {
      "application/vnd.jupyter.widget-view+json": {
       "model_id": "8b8924a081b34c93993d9830d815cc2f",
       "version_major": 2,
       "version_minor": 0
      },
      "text/plain": [
       "  0%|          | 0/20 [00:00<?, ?it/s]"
      ]
     },
     "metadata": {},
     "output_type": "display_data"
    },
    {
     "name": "stdout",
     "output_type": "stream",
     "text": [
      "Participant_13\n"
     ]
    },
    {
     "data": {
      "application/vnd.jupyter.widget-view+json": {
       "model_id": "a7796cac92b4429794dc215fda057daa",
       "version_major": 2,
       "version_minor": 0
      },
      "text/plain": [
       "  0%|          | 0/20 [00:00<?, ?it/s]"
      ]
     },
     "metadata": {},
     "output_type": "display_data"
    },
    {
     "data": {
      "application/vnd.jupyter.widget-view+json": {
       "model_id": "cbddf793fa144f4fad7186f9100f04a3",
       "version_major": 2,
       "version_minor": 0
      },
      "text/plain": [
       "  0%|          | 0/20 [00:00<?, ?it/s]"
      ]
     },
     "metadata": {},
     "output_type": "display_data"
    },
    {
     "data": {
      "application/vnd.jupyter.widget-view+json": {
       "model_id": "8d43142181aa47fe84436fb241f6777f",
       "version_major": 2,
       "version_minor": 0
      },
      "text/plain": [
       "  0%|          | 0/20 [00:00<?, ?it/s]"
      ]
     },
     "metadata": {},
     "output_type": "display_data"
    },
    {
     "data": {
      "application/vnd.jupyter.widget-view+json": {
       "model_id": "f8b3397ec2d84970b938411d1733dffd",
       "version_major": 2,
       "version_minor": 0
      },
      "text/plain": [
       "  0%|          | 0/20 [00:00<?, ?it/s]"
      ]
     },
     "metadata": {},
     "output_type": "display_data"
    },
    {
     "data": {
      "application/vnd.jupyter.widget-view+json": {
       "model_id": "93136e3bed944e8ebe3ced05c60f8405",
       "version_major": 2,
       "version_minor": 0
      },
      "text/plain": [
       "  0%|          | 0/20 [00:00<?, ?it/s]"
      ]
     },
     "metadata": {},
     "output_type": "display_data"
    },
    {
     "data": {
      "application/vnd.jupyter.widget-view+json": {
       "model_id": "39bf30d656a647ea895e895ec5d6ecc8",
       "version_major": 2,
       "version_minor": 0
      },
      "text/plain": [
       "  0%|          | 0/20 [00:00<?, ?it/s]"
      ]
     },
     "metadata": {},
     "output_type": "display_data"
    },
    {
     "data": {
      "application/vnd.jupyter.widget-view+json": {
       "model_id": "7b0220d545f84ceea0b02b70b4d00950",
       "version_major": 2,
       "version_minor": 0
      },
      "text/plain": [
       "  0%|          | 0/20 [00:00<?, ?it/s]"
      ]
     },
     "metadata": {},
     "output_type": "display_data"
    },
    {
     "data": {
      "application/vnd.jupyter.widget-view+json": {
       "model_id": "d489c30ec7494dbf853478c28d082001",
       "version_major": 2,
       "version_minor": 0
      },
      "text/plain": [
       "  0%|          | 0/20 [00:00<?, ?it/s]"
      ]
     },
     "metadata": {},
     "output_type": "display_data"
    },
    {
     "data": {
      "application/vnd.jupyter.widget-view+json": {
       "model_id": "d23ac3a2dc254a73a74eafc361254587",
       "version_major": 2,
       "version_minor": 0
      },
      "text/plain": [
       "  0%|          | 0/20 [00:00<?, ?it/s]"
      ]
     },
     "metadata": {},
     "output_type": "display_data"
    },
    {
     "data": {
      "application/vnd.jupyter.widget-view+json": {
       "model_id": "07fe699919b24e6c887f82d66369f932",
       "version_major": 2,
       "version_minor": 0
      },
      "text/plain": [
       "  0%|          | 0/20 [00:00<?, ?it/s]"
      ]
     },
     "metadata": {},
     "output_type": "display_data"
    },
    {
     "name": "stdout",
     "output_type": "stream",
     "text": [
      "Participant_14\n"
     ]
    },
    {
     "data": {
      "application/vnd.jupyter.widget-view+json": {
       "model_id": "4227198260224a0e8273e073aefafbb2",
       "version_major": 2,
       "version_minor": 0
      },
      "text/plain": [
       "  0%|          | 0/20 [00:00<?, ?it/s]"
      ]
     },
     "metadata": {},
     "output_type": "display_data"
    },
    {
     "data": {
      "application/vnd.jupyter.widget-view+json": {
       "model_id": "e707e70f92114c06b5b9aca0aadaa34b",
       "version_major": 2,
       "version_minor": 0
      },
      "text/plain": [
       "  0%|          | 0/20 [00:00<?, ?it/s]"
      ]
     },
     "metadata": {},
     "output_type": "display_data"
    },
    {
     "data": {
      "application/vnd.jupyter.widget-view+json": {
       "model_id": "cbe82eb3c53a467f8dff52fd85e7d060",
       "version_major": 2,
       "version_minor": 0
      },
      "text/plain": [
       "  0%|          | 0/20 [00:00<?, ?it/s]"
      ]
     },
     "metadata": {},
     "output_type": "display_data"
    },
    {
     "data": {
      "application/vnd.jupyter.widget-view+json": {
       "model_id": "d8e7362631ad4e9985b07609c86202b9",
       "version_major": 2,
       "version_minor": 0
      },
      "text/plain": [
       "  0%|          | 0/20 [00:00<?, ?it/s]"
      ]
     },
     "metadata": {},
     "output_type": "display_data"
    },
    {
     "data": {
      "application/vnd.jupyter.widget-view+json": {
       "model_id": "4b5b035b03f849a08409cd05453416fe",
       "version_major": 2,
       "version_minor": 0
      },
      "text/plain": [
       "  0%|          | 0/20 [00:00<?, ?it/s]"
      ]
     },
     "metadata": {},
     "output_type": "display_data"
    },
    {
     "data": {
      "application/vnd.jupyter.widget-view+json": {
       "model_id": "1abf83673c53455cbf245967991d503e",
       "version_major": 2,
       "version_minor": 0
      },
      "text/plain": [
       "  0%|          | 0/20 [00:00<?, ?it/s]"
      ]
     },
     "metadata": {},
     "output_type": "display_data"
    },
    {
     "data": {
      "application/vnd.jupyter.widget-view+json": {
       "model_id": "1d84cd73487746bc8dc292aeea1b004c",
       "version_major": 2,
       "version_minor": 0
      },
      "text/plain": [
       "  0%|          | 0/20 [00:00<?, ?it/s]"
      ]
     },
     "metadata": {},
     "output_type": "display_data"
    },
    {
     "data": {
      "application/vnd.jupyter.widget-view+json": {
       "model_id": "3639d24f8b2944b2b669548a7493a7e0",
       "version_major": 2,
       "version_minor": 0
      },
      "text/plain": [
       "  0%|          | 0/20 [00:00<?, ?it/s]"
      ]
     },
     "metadata": {},
     "output_type": "display_data"
    },
    {
     "data": {
      "application/vnd.jupyter.widget-view+json": {
       "model_id": "4851e9472a424d8cb67b3d397e66649c",
       "version_major": 2,
       "version_minor": 0
      },
      "text/plain": [
       "  0%|          | 0/20 [00:00<?, ?it/s]"
      ]
     },
     "metadata": {},
     "output_type": "display_data"
    },
    {
     "data": {
      "application/vnd.jupyter.widget-view+json": {
       "model_id": "4dcd3c8cc1c54a8383cd48a381cc3ce5",
       "version_major": 2,
       "version_minor": 0
      },
      "text/plain": [
       "  0%|          | 0/20 [00:00<?, ?it/s]"
      ]
     },
     "metadata": {},
     "output_type": "display_data"
    },
    {
     "name": "stdout",
     "output_type": "stream",
     "text": [
      "Participant_15\n"
     ]
    },
    {
     "data": {
      "application/vnd.jupyter.widget-view+json": {
       "model_id": "f84925777a6f4809ad9ea3982f0057b3",
       "version_major": 2,
       "version_minor": 0
      },
      "text/plain": [
       "  0%|          | 0/20 [00:00<?, ?it/s]"
      ]
     },
     "metadata": {},
     "output_type": "display_data"
    },
    {
     "data": {
      "application/vnd.jupyter.widget-view+json": {
       "model_id": "2e63d86149cd4f3980fe2db8b287b7e6",
       "version_major": 2,
       "version_minor": 0
      },
      "text/plain": [
       "  0%|          | 0/20 [00:00<?, ?it/s]"
      ]
     },
     "metadata": {},
     "output_type": "display_data"
    },
    {
     "data": {
      "application/vnd.jupyter.widget-view+json": {
       "model_id": "60bd26240b75415a898a8bc4f0971f16",
       "version_major": 2,
       "version_minor": 0
      },
      "text/plain": [
       "  0%|          | 0/20 [00:00<?, ?it/s]"
      ]
     },
     "metadata": {},
     "output_type": "display_data"
    },
    {
     "data": {
      "application/vnd.jupyter.widget-view+json": {
       "model_id": "52525b96c86841b1a3f74f73aad744dc",
       "version_major": 2,
       "version_minor": 0
      },
      "text/plain": [
       "  0%|          | 0/20 [00:00<?, ?it/s]"
      ]
     },
     "metadata": {},
     "output_type": "display_data"
    },
    {
     "data": {
      "application/vnd.jupyter.widget-view+json": {
       "model_id": "41804cf022bb466da4c08d848a973299",
       "version_major": 2,
       "version_minor": 0
      },
      "text/plain": [
       "  0%|          | 0/20 [00:00<?, ?it/s]"
      ]
     },
     "metadata": {},
     "output_type": "display_data"
    },
    {
     "data": {
      "application/vnd.jupyter.widget-view+json": {
       "model_id": "c41ceea95d04400e8ab016d62b989e3a",
       "version_major": 2,
       "version_minor": 0
      },
      "text/plain": [
       "  0%|          | 0/20 [00:00<?, ?it/s]"
      ]
     },
     "metadata": {},
     "output_type": "display_data"
    },
    {
     "data": {
      "application/vnd.jupyter.widget-view+json": {
       "model_id": "6ae204e52e0844b2b5c550eaf0779adb",
       "version_major": 2,
       "version_minor": 0
      },
      "text/plain": [
       "  0%|          | 0/20 [00:00<?, ?it/s]"
      ]
     },
     "metadata": {},
     "output_type": "display_data"
    },
    {
     "data": {
      "application/vnd.jupyter.widget-view+json": {
       "model_id": "e506b743308d4bf7b5449c59a392d548",
       "version_major": 2,
       "version_minor": 0
      },
      "text/plain": [
       "  0%|          | 0/20 [00:00<?, ?it/s]"
      ]
     },
     "metadata": {},
     "output_type": "display_data"
    },
    {
     "data": {
      "application/vnd.jupyter.widget-view+json": {
       "model_id": "2e78a2f9cdf141308920b49816ab99e0",
       "version_major": 2,
       "version_minor": 0
      },
      "text/plain": [
       "  0%|          | 0/20 [00:00<?, ?it/s]"
      ]
     },
     "metadata": {},
     "output_type": "display_data"
    },
    {
     "data": {
      "application/vnd.jupyter.widget-view+json": {
       "model_id": "7891ecb976184d4d921600f83285774a",
       "version_major": 2,
       "version_minor": 0
      },
      "text/plain": [
       "  0%|          | 0/20 [00:00<?, ?it/s]"
      ]
     },
     "metadata": {},
     "output_type": "display_data"
    },
    {
     "name": "stdout",
     "output_type": "stream",
     "text": [
      "Participant_16\n"
     ]
    },
    {
     "data": {
      "application/vnd.jupyter.widget-view+json": {
       "model_id": "3e774af58fe74667a27510872f6c003e",
       "version_major": 2,
       "version_minor": 0
      },
      "text/plain": [
       "  0%|          | 0/20 [00:00<?, ?it/s]"
      ]
     },
     "metadata": {},
     "output_type": "display_data"
    },
    {
     "data": {
      "application/vnd.jupyter.widget-view+json": {
       "model_id": "7f3221925fa44cd7a35b1240881b3443",
       "version_major": 2,
       "version_minor": 0
      },
      "text/plain": [
       "  0%|          | 0/20 [00:00<?, ?it/s]"
      ]
     },
     "metadata": {},
     "output_type": "display_data"
    },
    {
     "data": {
      "application/vnd.jupyter.widget-view+json": {
       "model_id": "8cad006f859d480eada9c0715115ec4a",
       "version_major": 2,
       "version_minor": 0
      },
      "text/plain": [
       "  0%|          | 0/20 [00:00<?, ?it/s]"
      ]
     },
     "metadata": {},
     "output_type": "display_data"
    },
    {
     "data": {
      "application/vnd.jupyter.widget-view+json": {
       "model_id": "f0c205e52c9d41fea98e334eff9cf596",
       "version_major": 2,
       "version_minor": 0
      },
      "text/plain": [
       "  0%|          | 0/20 [00:00<?, ?it/s]"
      ]
     },
     "metadata": {},
     "output_type": "display_data"
    },
    {
     "data": {
      "application/vnd.jupyter.widget-view+json": {
       "model_id": "a75c2a864a244775ae4844f3cb856eb0",
       "version_major": 2,
       "version_minor": 0
      },
      "text/plain": [
       "  0%|          | 0/20 [00:00<?, ?it/s]"
      ]
     },
     "metadata": {},
     "output_type": "display_data"
    },
    {
     "data": {
      "application/vnd.jupyter.widget-view+json": {
       "model_id": "961e64c20d4e46a9aa4a4e92d5ff4c31",
       "version_major": 2,
       "version_minor": 0
      },
      "text/plain": [
       "  0%|          | 0/20 [00:00<?, ?it/s]"
      ]
     },
     "metadata": {},
     "output_type": "display_data"
    },
    {
     "data": {
      "application/vnd.jupyter.widget-view+json": {
       "model_id": "237ad012e5dd4bd3ad1cecbd52788d34",
       "version_major": 2,
       "version_minor": 0
      },
      "text/plain": [
       "  0%|          | 0/20 [00:00<?, ?it/s]"
      ]
     },
     "metadata": {},
     "output_type": "display_data"
    },
    {
     "data": {
      "application/vnd.jupyter.widget-view+json": {
       "model_id": "f1074f615fc7441ab7484a05ed4413a4",
       "version_major": 2,
       "version_minor": 0
      },
      "text/plain": [
       "  0%|          | 0/20 [00:00<?, ?it/s]"
      ]
     },
     "metadata": {},
     "output_type": "display_data"
    },
    {
     "data": {
      "application/vnd.jupyter.widget-view+json": {
       "model_id": "7e293e5d561041cbb624adc6c4c678bd",
       "version_major": 2,
       "version_minor": 0
      },
      "text/plain": [
       "  0%|          | 0/20 [00:00<?, ?it/s]"
      ]
     },
     "metadata": {},
     "output_type": "display_data"
    },
    {
     "data": {
      "application/vnd.jupyter.widget-view+json": {
       "model_id": "ac4e26d45ad144878d7ee2f9a9ead0fe",
       "version_major": 2,
       "version_minor": 0
      },
      "text/plain": [
       "  0%|          | 0/20 [00:00<?, ?it/s]"
      ]
     },
     "metadata": {},
     "output_type": "display_data"
    },
    {
     "name": "stdout",
     "output_type": "stream",
     "text": [
      "Participant_17\n"
     ]
    },
    {
     "data": {
      "application/vnd.jupyter.widget-view+json": {
       "model_id": "6168b79a6fcb4f9abcca44cbca4dac9e",
       "version_major": 2,
       "version_minor": 0
      },
      "text/plain": [
       "  0%|          | 0/20 [00:00<?, ?it/s]"
      ]
     },
     "metadata": {},
     "output_type": "display_data"
    },
    {
     "data": {
      "application/vnd.jupyter.widget-view+json": {
       "model_id": "0b2707520e96436cb7a23ba04e2e84c0",
       "version_major": 2,
       "version_minor": 0
      },
      "text/plain": [
       "  0%|          | 0/20 [00:00<?, ?it/s]"
      ]
     },
     "metadata": {},
     "output_type": "display_data"
    },
    {
     "data": {
      "application/vnd.jupyter.widget-view+json": {
       "model_id": "654e16699a584d85a054968ff168f9a3",
       "version_major": 2,
       "version_minor": 0
      },
      "text/plain": [
       "  0%|          | 0/20 [00:00<?, ?it/s]"
      ]
     },
     "metadata": {},
     "output_type": "display_data"
    },
    {
     "data": {
      "application/vnd.jupyter.widget-view+json": {
       "model_id": "1ff95e6774f943fe823491200a0ae383",
       "version_major": 2,
       "version_minor": 0
      },
      "text/plain": [
       "  0%|          | 0/20 [00:00<?, ?it/s]"
      ]
     },
     "metadata": {},
     "output_type": "display_data"
    },
    {
     "data": {
      "application/vnd.jupyter.widget-view+json": {
       "model_id": "81e2a10dcdeb4b6ea077cafd3af9e396",
       "version_major": 2,
       "version_minor": 0
      },
      "text/plain": [
       "  0%|          | 0/20 [00:00<?, ?it/s]"
      ]
     },
     "metadata": {},
     "output_type": "display_data"
    },
    {
     "data": {
      "application/vnd.jupyter.widget-view+json": {
       "model_id": "d0c2e7c4db9345bea8474ae5cc5df100",
       "version_major": 2,
       "version_minor": 0
      },
      "text/plain": [
       "  0%|          | 0/20 [00:00<?, ?it/s]"
      ]
     },
     "metadata": {},
     "output_type": "display_data"
    },
    {
     "data": {
      "application/vnd.jupyter.widget-view+json": {
       "model_id": "b3ea9ca8f4304ccfb6b758c47a1f778f",
       "version_major": 2,
       "version_minor": 0
      },
      "text/plain": [
       "  0%|          | 0/20 [00:00<?, ?it/s]"
      ]
     },
     "metadata": {},
     "output_type": "display_data"
    },
    {
     "data": {
      "application/vnd.jupyter.widget-view+json": {
       "model_id": "59bbc645cf08491cbb81d9c0e023055b",
       "version_major": 2,
       "version_minor": 0
      },
      "text/plain": [
       "  0%|          | 0/20 [00:00<?, ?it/s]"
      ]
     },
     "metadata": {},
     "output_type": "display_data"
    },
    {
     "data": {
      "application/vnd.jupyter.widget-view+json": {
       "model_id": "999a6dd2d35349d6802dd1e4413ff780",
       "version_major": 2,
       "version_minor": 0
      },
      "text/plain": [
       "  0%|          | 0/20 [00:00<?, ?it/s]"
      ]
     },
     "metadata": {},
     "output_type": "display_data"
    },
    {
     "data": {
      "application/vnd.jupyter.widget-view+json": {
       "model_id": "83fc10209b84405a9751ef76899cca76",
       "version_major": 2,
       "version_minor": 0
      },
      "text/plain": [
       "  0%|          | 0/20 [00:00<?, ?it/s]"
      ]
     },
     "metadata": {},
     "output_type": "display_data"
    },
    {
     "name": "stdout",
     "output_type": "stream",
     "text": [
      "Participant_18\n"
     ]
    },
    {
     "data": {
      "application/vnd.jupyter.widget-view+json": {
       "model_id": "983ff8cc6479452bb600d357049a7be6",
       "version_major": 2,
       "version_minor": 0
      },
      "text/plain": [
       "  0%|          | 0/20 [00:00<?, ?it/s]"
      ]
     },
     "metadata": {},
     "output_type": "display_data"
    },
    {
     "data": {
      "application/vnd.jupyter.widget-view+json": {
       "model_id": "d410b20835d84a14a962d69b02cb1d32",
       "version_major": 2,
       "version_minor": 0
      },
      "text/plain": [
       "  0%|          | 0/20 [00:00<?, ?it/s]"
      ]
     },
     "metadata": {},
     "output_type": "display_data"
    },
    {
     "data": {
      "application/vnd.jupyter.widget-view+json": {
       "model_id": "c41e4ea057c7496d9e86a37a815de880",
       "version_major": 2,
       "version_minor": 0
      },
      "text/plain": [
       "  0%|          | 0/20 [00:00<?, ?it/s]"
      ]
     },
     "metadata": {},
     "output_type": "display_data"
    },
    {
     "data": {
      "application/vnd.jupyter.widget-view+json": {
       "model_id": "7a61e5f444a14084b430127c7d47c005",
       "version_major": 2,
       "version_minor": 0
      },
      "text/plain": [
       "  0%|          | 0/20 [00:00<?, ?it/s]"
      ]
     },
     "metadata": {},
     "output_type": "display_data"
    },
    {
     "data": {
      "application/vnd.jupyter.widget-view+json": {
       "model_id": "b3577cdb4b12459a887bed27990de92e",
       "version_major": 2,
       "version_minor": 0
      },
      "text/plain": [
       "  0%|          | 0/20 [00:00<?, ?it/s]"
      ]
     },
     "metadata": {},
     "output_type": "display_data"
    },
    {
     "data": {
      "application/vnd.jupyter.widget-view+json": {
       "model_id": "fb8c895fbe274891b2303b9465fd73a0",
       "version_major": 2,
       "version_minor": 0
      },
      "text/plain": [
       "  0%|          | 0/20 [00:00<?, ?it/s]"
      ]
     },
     "metadata": {},
     "output_type": "display_data"
    },
    {
     "data": {
      "application/vnd.jupyter.widget-view+json": {
       "model_id": "0a35dabd81ac48faa7a737763e97abd2",
       "version_major": 2,
       "version_minor": 0
      },
      "text/plain": [
       "  0%|          | 0/20 [00:00<?, ?it/s]"
      ]
     },
     "metadata": {},
     "output_type": "display_data"
    },
    {
     "data": {
      "application/vnd.jupyter.widget-view+json": {
       "model_id": "c5d94aa15bdb4c2ba3f00c5e78b18169",
       "version_major": 2,
       "version_minor": 0
      },
      "text/plain": [
       "  0%|          | 0/20 [00:00<?, ?it/s]"
      ]
     },
     "metadata": {},
     "output_type": "display_data"
    },
    {
     "data": {
      "application/vnd.jupyter.widget-view+json": {
       "model_id": "e362ee30be2849c98e0367b2af0eed5a",
       "version_major": 2,
       "version_minor": 0
      },
      "text/plain": [
       "  0%|          | 0/20 [00:00<?, ?it/s]"
      ]
     },
     "metadata": {},
     "output_type": "display_data"
    },
    {
     "data": {
      "application/vnd.jupyter.widget-view+json": {
       "model_id": "314cf8d7b5724a6ca8f25e317aed00b5",
       "version_major": 2,
       "version_minor": 0
      },
      "text/plain": [
       "  0%|          | 0/20 [00:00<?, ?it/s]"
      ]
     },
     "metadata": {},
     "output_type": "display_data"
    },
    {
     "name": "stdout",
     "output_type": "stream",
     "text": [
      "Participant_19\n"
     ]
    },
    {
     "data": {
      "application/vnd.jupyter.widget-view+json": {
       "model_id": "de0a9a710ad44587bd087ff4914f1992",
       "version_major": 2,
       "version_minor": 0
      },
      "text/plain": [
       "  0%|          | 0/20 [00:00<?, ?it/s]"
      ]
     },
     "metadata": {},
     "output_type": "display_data"
    },
    {
     "data": {
      "application/vnd.jupyter.widget-view+json": {
       "model_id": "8eb943e0df90475f8ee2665194795412",
       "version_major": 2,
       "version_minor": 0
      },
      "text/plain": [
       "  0%|          | 0/20 [00:00<?, ?it/s]"
      ]
     },
     "metadata": {},
     "output_type": "display_data"
    },
    {
     "data": {
      "application/vnd.jupyter.widget-view+json": {
       "model_id": "f825e7857ade4358a93f7876b9f43e3d",
       "version_major": 2,
       "version_minor": 0
      },
      "text/plain": [
       "  0%|          | 0/20 [00:00<?, ?it/s]"
      ]
     },
     "metadata": {},
     "output_type": "display_data"
    },
    {
     "data": {
      "application/vnd.jupyter.widget-view+json": {
       "model_id": "a3c10ee0d7594d698cfe4c9c8f5cc051",
       "version_major": 2,
       "version_minor": 0
      },
      "text/plain": [
       "  0%|          | 0/20 [00:00<?, ?it/s]"
      ]
     },
     "metadata": {},
     "output_type": "display_data"
    },
    {
     "data": {
      "application/vnd.jupyter.widget-view+json": {
       "model_id": "de4f6343a0d546a2b3fa59893a8ff5ff",
       "version_major": 2,
       "version_minor": 0
      },
      "text/plain": [
       "  0%|          | 0/20 [00:00<?, ?it/s]"
      ]
     },
     "metadata": {},
     "output_type": "display_data"
    },
    {
     "data": {
      "application/vnd.jupyter.widget-view+json": {
       "model_id": "118472dc8a594ff083a87debbafe3828",
       "version_major": 2,
       "version_minor": 0
      },
      "text/plain": [
       "  0%|          | 0/20 [00:00<?, ?it/s]"
      ]
     },
     "metadata": {},
     "output_type": "display_data"
    },
    {
     "data": {
      "application/vnd.jupyter.widget-view+json": {
       "model_id": "139c9c6f92534aca98680c5b552ba8e1",
       "version_major": 2,
       "version_minor": 0
      },
      "text/plain": [
       "  0%|          | 0/20 [00:00<?, ?it/s]"
      ]
     },
     "metadata": {},
     "output_type": "display_data"
    },
    {
     "data": {
      "application/vnd.jupyter.widget-view+json": {
       "model_id": "94b9237302044233bca5c8516c89089e",
       "version_major": 2,
       "version_minor": 0
      },
      "text/plain": [
       "  0%|          | 0/20 [00:00<?, ?it/s]"
      ]
     },
     "metadata": {},
     "output_type": "display_data"
    },
    {
     "data": {
      "application/vnd.jupyter.widget-view+json": {
       "model_id": "34bc7d14e25d4a14b97b35b8c8b85968",
       "version_major": 2,
       "version_minor": 0
      },
      "text/plain": [
       "  0%|          | 0/20 [00:00<?, ?it/s]"
      ]
     },
     "metadata": {},
     "output_type": "display_data"
    },
    {
     "data": {
      "application/vnd.jupyter.widget-view+json": {
       "model_id": "87c7cf1e9f0945d0baa836e160a840bc",
       "version_major": 2,
       "version_minor": 0
      },
      "text/plain": [
       "  0%|          | 0/20 [00:00<?, ?it/s]"
      ]
     },
     "metadata": {},
     "output_type": "display_data"
    },
    {
     "name": "stdout",
     "output_type": "stream",
     "text": [
      "3 shift_testout_occipital_3.pkl\n"
     ]
    },
    {
     "name": "stderr",
     "output_type": "stream",
     "text": [
      "C:\\Users\\user\\AppData\\Roaming\\Python\\Python310\\site-packages\\numpy\\core\\fromnumeric.py:43: VisibleDeprecationWarning: Creating an ndarray from ragged nested sequences (which is a list-or-tuple of lists-or-tuples-or ndarrays with different lengths or shapes) is deprecated. If you meant to do this, you must specify 'dtype=object' when creating the ndarray.\n",
      "  result = getattr(asarray(obj), method)(*args, **kwds)\n"
     ]
    },
    {
     "name": "stdout",
     "output_type": "stream",
     "text": [
      "Participant_0\n"
     ]
    },
    {
     "data": {
      "application/vnd.jupyter.widget-view+json": {
       "model_id": "680a414fce4542b6a880942a65634155",
       "version_major": 2,
       "version_minor": 0
      },
      "text/plain": [
       "  0%|          | 0/20 [00:00<?, ?it/s]"
      ]
     },
     "metadata": {},
     "output_type": "display_data"
    },
    {
     "data": {
      "application/vnd.jupyter.widget-view+json": {
       "model_id": "ab01227aad3d45b9b04b64da3153eb48",
       "version_major": 2,
       "version_minor": 0
      },
      "text/plain": [
       "  0%|          | 0/20 [00:00<?, ?it/s]"
      ]
     },
     "metadata": {},
     "output_type": "display_data"
    },
    {
     "data": {
      "application/vnd.jupyter.widget-view+json": {
       "model_id": "7c69d30e4222464e9a6a3106c35bb7b1",
       "version_major": 2,
       "version_minor": 0
      },
      "text/plain": [
       "  0%|          | 0/20 [00:00<?, ?it/s]"
      ]
     },
     "metadata": {},
     "output_type": "display_data"
    },
    {
     "data": {
      "application/vnd.jupyter.widget-view+json": {
       "model_id": "e10ed3b6962e4d789c07e2c6cca713e3",
       "version_major": 2,
       "version_minor": 0
      },
      "text/plain": [
       "  0%|          | 0/20 [00:00<?, ?it/s]"
      ]
     },
     "metadata": {},
     "output_type": "display_data"
    },
    {
     "data": {
      "application/vnd.jupyter.widget-view+json": {
       "model_id": "e212fac514a1450a9f0d240c95bc6f43",
       "version_major": 2,
       "version_minor": 0
      },
      "text/plain": [
       "  0%|          | 0/20 [00:00<?, ?it/s]"
      ]
     },
     "metadata": {},
     "output_type": "display_data"
    },
    {
     "data": {
      "application/vnd.jupyter.widget-view+json": {
       "model_id": "d4ae04dee06b4ef78d3b4a4b58e12231",
       "version_major": 2,
       "version_minor": 0
      },
      "text/plain": [
       "  0%|          | 0/20 [00:00<?, ?it/s]"
      ]
     },
     "metadata": {},
     "output_type": "display_data"
    },
    {
     "data": {
      "application/vnd.jupyter.widget-view+json": {
       "model_id": "372c4bbd688b4258a59188e5037b20e9",
       "version_major": 2,
       "version_minor": 0
      },
      "text/plain": [
       "  0%|          | 0/20 [00:00<?, ?it/s]"
      ]
     },
     "metadata": {},
     "output_type": "display_data"
    },
    {
     "data": {
      "application/vnd.jupyter.widget-view+json": {
       "model_id": "8981460af0174743a18f9ac8cf2c30b8",
       "version_major": 2,
       "version_minor": 0
      },
      "text/plain": [
       "  0%|          | 0/20 [00:00<?, ?it/s]"
      ]
     },
     "metadata": {},
     "output_type": "display_data"
    },
    {
     "data": {
      "application/vnd.jupyter.widget-view+json": {
       "model_id": "0dcd8e6b29c040f082518a4a16f5f32e",
       "version_major": 2,
       "version_minor": 0
      },
      "text/plain": [
       "  0%|          | 0/20 [00:00<?, ?it/s]"
      ]
     },
     "metadata": {},
     "output_type": "display_data"
    },
    {
     "data": {
      "application/vnd.jupyter.widget-view+json": {
       "model_id": "704d7c5a82364387973594452f5f3560",
       "version_major": 2,
       "version_minor": 0
      },
      "text/plain": [
       "  0%|          | 0/20 [00:00<?, ?it/s]"
      ]
     },
     "metadata": {},
     "output_type": "display_data"
    },
    {
     "name": "stdout",
     "output_type": "stream",
     "text": [
      "Participant_1\n"
     ]
    },
    {
     "data": {
      "application/vnd.jupyter.widget-view+json": {
       "model_id": "7ee6fc5cbd6f41d0b5729cd74326814f",
       "version_major": 2,
       "version_minor": 0
      },
      "text/plain": [
       "  0%|          | 0/20 [00:00<?, ?it/s]"
      ]
     },
     "metadata": {},
     "output_type": "display_data"
    },
    {
     "data": {
      "application/vnd.jupyter.widget-view+json": {
       "model_id": "2761e5f635ea4e42a226688bbae5c5b0",
       "version_major": 2,
       "version_minor": 0
      },
      "text/plain": [
       "  0%|          | 0/20 [00:00<?, ?it/s]"
      ]
     },
     "metadata": {},
     "output_type": "display_data"
    },
    {
     "data": {
      "application/vnd.jupyter.widget-view+json": {
       "model_id": "18b95b11347b4cd58059ad5b6c38ea20",
       "version_major": 2,
       "version_minor": 0
      },
      "text/plain": [
       "  0%|          | 0/20 [00:00<?, ?it/s]"
      ]
     },
     "metadata": {},
     "output_type": "display_data"
    },
    {
     "data": {
      "application/vnd.jupyter.widget-view+json": {
       "model_id": "daae502db9714c3896c6ef6d91f4cec5",
       "version_major": 2,
       "version_minor": 0
      },
      "text/plain": [
       "  0%|          | 0/20 [00:00<?, ?it/s]"
      ]
     },
     "metadata": {},
     "output_type": "display_data"
    },
    {
     "data": {
      "application/vnd.jupyter.widget-view+json": {
       "model_id": "36fb617420e447ef8764bd3be63448f1",
       "version_major": 2,
       "version_minor": 0
      },
      "text/plain": [
       "  0%|          | 0/20 [00:00<?, ?it/s]"
      ]
     },
     "metadata": {},
     "output_type": "display_data"
    },
    {
     "data": {
      "application/vnd.jupyter.widget-view+json": {
       "model_id": "a68bbe34d77645c3a18035ddb2b546b0",
       "version_major": 2,
       "version_minor": 0
      },
      "text/plain": [
       "  0%|          | 0/20 [00:00<?, ?it/s]"
      ]
     },
     "metadata": {},
     "output_type": "display_data"
    },
    {
     "data": {
      "application/vnd.jupyter.widget-view+json": {
       "model_id": "879537fc694546cc86daa9778d6b28e4",
       "version_major": 2,
       "version_minor": 0
      },
      "text/plain": [
       "  0%|          | 0/20 [00:00<?, ?it/s]"
      ]
     },
     "metadata": {},
     "output_type": "display_data"
    },
    {
     "data": {
      "application/vnd.jupyter.widget-view+json": {
       "model_id": "91545f0469dd4dd289d9b094c21235f0",
       "version_major": 2,
       "version_minor": 0
      },
      "text/plain": [
       "  0%|          | 0/20 [00:00<?, ?it/s]"
      ]
     },
     "metadata": {},
     "output_type": "display_data"
    },
    {
     "data": {
      "application/vnd.jupyter.widget-view+json": {
       "model_id": "862e17d076054107ac69c39c27925879",
       "version_major": 2,
       "version_minor": 0
      },
      "text/plain": [
       "  0%|          | 0/20 [00:00<?, ?it/s]"
      ]
     },
     "metadata": {},
     "output_type": "display_data"
    },
    {
     "data": {
      "application/vnd.jupyter.widget-view+json": {
       "model_id": "ab02ac9e64ac4f7d89210fbb2a528d54",
       "version_major": 2,
       "version_minor": 0
      },
      "text/plain": [
       "  0%|          | 0/20 [00:00<?, ?it/s]"
      ]
     },
     "metadata": {},
     "output_type": "display_data"
    },
    {
     "name": "stdout",
     "output_type": "stream",
     "text": [
      "Participant_2\n"
     ]
    },
    {
     "data": {
      "application/vnd.jupyter.widget-view+json": {
       "model_id": "422d358dadc545d5ac95a07238cd0efb",
       "version_major": 2,
       "version_minor": 0
      },
      "text/plain": [
       "  0%|          | 0/20 [00:00<?, ?it/s]"
      ]
     },
     "metadata": {},
     "output_type": "display_data"
    },
    {
     "data": {
      "application/vnd.jupyter.widget-view+json": {
       "model_id": "50cef8625e834b658e295e32cb99dd4d",
       "version_major": 2,
       "version_minor": 0
      },
      "text/plain": [
       "  0%|          | 0/20 [00:00<?, ?it/s]"
      ]
     },
     "metadata": {},
     "output_type": "display_data"
    },
    {
     "data": {
      "application/vnd.jupyter.widget-view+json": {
       "model_id": "b91b52634bde4319ae587e44bea04ebc",
       "version_major": 2,
       "version_minor": 0
      },
      "text/plain": [
       "  0%|          | 0/20 [00:00<?, ?it/s]"
      ]
     },
     "metadata": {},
     "output_type": "display_data"
    },
    {
     "data": {
      "application/vnd.jupyter.widget-view+json": {
       "model_id": "daf79baf6c6147398af82245ea9e2b43",
       "version_major": 2,
       "version_minor": 0
      },
      "text/plain": [
       "  0%|          | 0/20 [00:00<?, ?it/s]"
      ]
     },
     "metadata": {},
     "output_type": "display_data"
    },
    {
     "data": {
      "application/vnd.jupyter.widget-view+json": {
       "model_id": "74df138509e4417fac98afdf7130c81b",
       "version_major": 2,
       "version_minor": 0
      },
      "text/plain": [
       "  0%|          | 0/20 [00:00<?, ?it/s]"
      ]
     },
     "metadata": {},
     "output_type": "display_data"
    },
    {
     "data": {
      "application/vnd.jupyter.widget-view+json": {
       "model_id": "974b0fe23d254bb9ac096d742c43aeb6",
       "version_major": 2,
       "version_minor": 0
      },
      "text/plain": [
       "  0%|          | 0/20 [00:00<?, ?it/s]"
      ]
     },
     "metadata": {},
     "output_type": "display_data"
    },
    {
     "data": {
      "application/vnd.jupyter.widget-view+json": {
       "model_id": "9a3b9f17d4b944bc8290bf1e616dee14",
       "version_major": 2,
       "version_minor": 0
      },
      "text/plain": [
       "  0%|          | 0/20 [00:00<?, ?it/s]"
      ]
     },
     "metadata": {},
     "output_type": "display_data"
    },
    {
     "data": {
      "application/vnd.jupyter.widget-view+json": {
       "model_id": "67a322dd384f404c972a102826225260",
       "version_major": 2,
       "version_minor": 0
      },
      "text/plain": [
       "  0%|          | 0/20 [00:00<?, ?it/s]"
      ]
     },
     "metadata": {},
     "output_type": "display_data"
    },
    {
     "data": {
      "application/vnd.jupyter.widget-view+json": {
       "model_id": "c4517b4eb5144646bde2ec4da25c8dd8",
       "version_major": 2,
       "version_minor": 0
      },
      "text/plain": [
       "  0%|          | 0/20 [00:00<?, ?it/s]"
      ]
     },
     "metadata": {},
     "output_type": "display_data"
    },
    {
     "data": {
      "application/vnd.jupyter.widget-view+json": {
       "model_id": "98d499657cf3425ea1bb1b36e60fe278",
       "version_major": 2,
       "version_minor": 0
      },
      "text/plain": [
       "  0%|          | 0/20 [00:00<?, ?it/s]"
      ]
     },
     "metadata": {},
     "output_type": "display_data"
    },
    {
     "name": "stdout",
     "output_type": "stream",
     "text": [
      "Participant_3\n"
     ]
    },
    {
     "data": {
      "application/vnd.jupyter.widget-view+json": {
       "model_id": "38a9b7a548b449a2971e83600be28ee3",
       "version_major": 2,
       "version_minor": 0
      },
      "text/plain": [
       "  0%|          | 0/20 [00:00<?, ?it/s]"
      ]
     },
     "metadata": {},
     "output_type": "display_data"
    },
    {
     "data": {
      "application/vnd.jupyter.widget-view+json": {
       "model_id": "2f7b0dfba70e47dbb631d938dc3db80a",
       "version_major": 2,
       "version_minor": 0
      },
      "text/plain": [
       "  0%|          | 0/20 [00:00<?, ?it/s]"
      ]
     },
     "metadata": {},
     "output_type": "display_data"
    },
    {
     "data": {
      "application/vnd.jupyter.widget-view+json": {
       "model_id": "5f58eb0a5e4a4f8cbb6236ec8c6bca0a",
       "version_major": 2,
       "version_minor": 0
      },
      "text/plain": [
       "  0%|          | 0/20 [00:00<?, ?it/s]"
      ]
     },
     "metadata": {},
     "output_type": "display_data"
    },
    {
     "data": {
      "application/vnd.jupyter.widget-view+json": {
       "model_id": "ba8522704e5e487f8f9e2c24077ca637",
       "version_major": 2,
       "version_minor": 0
      },
      "text/plain": [
       "  0%|          | 0/20 [00:00<?, ?it/s]"
      ]
     },
     "metadata": {},
     "output_type": "display_data"
    },
    {
     "data": {
      "application/vnd.jupyter.widget-view+json": {
       "model_id": "dc43b0b6891948a68e8aad30b6855c51",
       "version_major": 2,
       "version_minor": 0
      },
      "text/plain": [
       "  0%|          | 0/20 [00:00<?, ?it/s]"
      ]
     },
     "metadata": {},
     "output_type": "display_data"
    },
    {
     "data": {
      "application/vnd.jupyter.widget-view+json": {
       "model_id": "25c03cddecd644f796f56514d17287df",
       "version_major": 2,
       "version_minor": 0
      },
      "text/plain": [
       "  0%|          | 0/20 [00:00<?, ?it/s]"
      ]
     },
     "metadata": {},
     "output_type": "display_data"
    },
    {
     "data": {
      "application/vnd.jupyter.widget-view+json": {
       "model_id": "1aba1d8d295a4e8286a12a42df4020da",
       "version_major": 2,
       "version_minor": 0
      },
      "text/plain": [
       "  0%|          | 0/20 [00:00<?, ?it/s]"
      ]
     },
     "metadata": {},
     "output_type": "display_data"
    },
    {
     "data": {
      "application/vnd.jupyter.widget-view+json": {
       "model_id": "077ce0d97be14df48dd3b86b8efff842",
       "version_major": 2,
       "version_minor": 0
      },
      "text/plain": [
       "  0%|          | 0/20 [00:00<?, ?it/s]"
      ]
     },
     "metadata": {},
     "output_type": "display_data"
    },
    {
     "data": {
      "application/vnd.jupyter.widget-view+json": {
       "model_id": "1c59def127a5413a9d157ec75f81a8cd",
       "version_major": 2,
       "version_minor": 0
      },
      "text/plain": [
       "  0%|          | 0/20 [00:00<?, ?it/s]"
      ]
     },
     "metadata": {},
     "output_type": "display_data"
    },
    {
     "data": {
      "application/vnd.jupyter.widget-view+json": {
       "model_id": "41e32eecd4b341a28fb424b920c68583",
       "version_major": 2,
       "version_minor": 0
      },
      "text/plain": [
       "  0%|          | 0/20 [00:00<?, ?it/s]"
      ]
     },
     "metadata": {},
     "output_type": "display_data"
    },
    {
     "name": "stdout",
     "output_type": "stream",
     "text": [
      "Participant_4\n"
     ]
    },
    {
     "data": {
      "application/vnd.jupyter.widget-view+json": {
       "model_id": "e8f1ab0e12374e7084f91968bb11cbd2",
       "version_major": 2,
       "version_minor": 0
      },
      "text/plain": [
       "  0%|          | 0/20 [00:00<?, ?it/s]"
      ]
     },
     "metadata": {},
     "output_type": "display_data"
    },
    {
     "data": {
      "application/vnd.jupyter.widget-view+json": {
       "model_id": "5ec1823c1f2545a9bebdbe06c6065734",
       "version_major": 2,
       "version_minor": 0
      },
      "text/plain": [
       "  0%|          | 0/20 [00:00<?, ?it/s]"
      ]
     },
     "metadata": {},
     "output_type": "display_data"
    },
    {
     "data": {
      "application/vnd.jupyter.widget-view+json": {
       "model_id": "42da6c0d09664bd5bb5f937c468d56e3",
       "version_major": 2,
       "version_minor": 0
      },
      "text/plain": [
       "  0%|          | 0/20 [00:00<?, ?it/s]"
      ]
     },
     "metadata": {},
     "output_type": "display_data"
    },
    {
     "data": {
      "application/vnd.jupyter.widget-view+json": {
       "model_id": "8f7d717d12794f97a1eda15585ff079d",
       "version_major": 2,
       "version_minor": 0
      },
      "text/plain": [
       "  0%|          | 0/20 [00:00<?, ?it/s]"
      ]
     },
     "metadata": {},
     "output_type": "display_data"
    },
    {
     "data": {
      "application/vnd.jupyter.widget-view+json": {
       "model_id": "fbfbaf122e61484b8a3b9afaf911ff91",
       "version_major": 2,
       "version_minor": 0
      },
      "text/plain": [
       "  0%|          | 0/20 [00:00<?, ?it/s]"
      ]
     },
     "metadata": {},
     "output_type": "display_data"
    },
    {
     "data": {
      "application/vnd.jupyter.widget-view+json": {
       "model_id": "97b287893245472e8c9f1ca6f1447407",
       "version_major": 2,
       "version_minor": 0
      },
      "text/plain": [
       "  0%|          | 0/20 [00:00<?, ?it/s]"
      ]
     },
     "metadata": {},
     "output_type": "display_data"
    },
    {
     "data": {
      "application/vnd.jupyter.widget-view+json": {
       "model_id": "7adb51c0d81541b2870156223e5d3291",
       "version_major": 2,
       "version_minor": 0
      },
      "text/plain": [
       "  0%|          | 0/20 [00:00<?, ?it/s]"
      ]
     },
     "metadata": {},
     "output_type": "display_data"
    },
    {
     "data": {
      "application/vnd.jupyter.widget-view+json": {
       "model_id": "2b177831364c4631806e7949d9278739",
       "version_major": 2,
       "version_minor": 0
      },
      "text/plain": [
       "  0%|          | 0/20 [00:00<?, ?it/s]"
      ]
     },
     "metadata": {},
     "output_type": "display_data"
    },
    {
     "data": {
      "application/vnd.jupyter.widget-view+json": {
       "model_id": "d7c00c7e3d3e4200863fc8ca86f2b0d8",
       "version_major": 2,
       "version_minor": 0
      },
      "text/plain": [
       "  0%|          | 0/20 [00:00<?, ?it/s]"
      ]
     },
     "metadata": {},
     "output_type": "display_data"
    },
    {
     "data": {
      "application/vnd.jupyter.widget-view+json": {
       "model_id": "19a35f62a0144662927e4608a3e7e66d",
       "version_major": 2,
       "version_minor": 0
      },
      "text/plain": [
       "  0%|          | 0/20 [00:00<?, ?it/s]"
      ]
     },
     "metadata": {},
     "output_type": "display_data"
    },
    {
     "name": "stdout",
     "output_type": "stream",
     "text": [
      "Participant_5\n"
     ]
    },
    {
     "data": {
      "application/vnd.jupyter.widget-view+json": {
       "model_id": "3f625fba56f64e7e809a669af97bc755",
       "version_major": 2,
       "version_minor": 0
      },
      "text/plain": [
       "  0%|          | 0/20 [00:00<?, ?it/s]"
      ]
     },
     "metadata": {},
     "output_type": "display_data"
    },
    {
     "data": {
      "application/vnd.jupyter.widget-view+json": {
       "model_id": "35e7528666f149a687a2ae2c8716f641",
       "version_major": 2,
       "version_minor": 0
      },
      "text/plain": [
       "  0%|          | 0/20 [00:00<?, ?it/s]"
      ]
     },
     "metadata": {},
     "output_type": "display_data"
    },
    {
     "data": {
      "application/vnd.jupyter.widget-view+json": {
       "model_id": "a319665c909e4192957c85a136e6a436",
       "version_major": 2,
       "version_minor": 0
      },
      "text/plain": [
       "  0%|          | 0/20 [00:00<?, ?it/s]"
      ]
     },
     "metadata": {},
     "output_type": "display_data"
    },
    {
     "data": {
      "application/vnd.jupyter.widget-view+json": {
       "model_id": "5db718d5918742faa8e2dafcf87d723c",
       "version_major": 2,
       "version_minor": 0
      },
      "text/plain": [
       "  0%|          | 0/20 [00:00<?, ?it/s]"
      ]
     },
     "metadata": {},
     "output_type": "display_data"
    },
    {
     "data": {
      "application/vnd.jupyter.widget-view+json": {
       "model_id": "77efee0e4dbe4f808790577fbbdbfb0f",
       "version_major": 2,
       "version_minor": 0
      },
      "text/plain": [
       "  0%|          | 0/20 [00:00<?, ?it/s]"
      ]
     },
     "metadata": {},
     "output_type": "display_data"
    },
    {
     "data": {
      "application/vnd.jupyter.widget-view+json": {
       "model_id": "928afbb48df64768b28bd3d803c62ee1",
       "version_major": 2,
       "version_minor": 0
      },
      "text/plain": [
       "  0%|          | 0/20 [00:00<?, ?it/s]"
      ]
     },
     "metadata": {},
     "output_type": "display_data"
    },
    {
     "data": {
      "application/vnd.jupyter.widget-view+json": {
       "model_id": "bbf11ddf9efc463d851edda92c5c080a",
       "version_major": 2,
       "version_minor": 0
      },
      "text/plain": [
       "  0%|          | 0/20 [00:00<?, ?it/s]"
      ]
     },
     "metadata": {},
     "output_type": "display_data"
    },
    {
     "data": {
      "application/vnd.jupyter.widget-view+json": {
       "model_id": "d1af17d69969473fbfd71349a11310fd",
       "version_major": 2,
       "version_minor": 0
      },
      "text/plain": [
       "  0%|          | 0/20 [00:00<?, ?it/s]"
      ]
     },
     "metadata": {},
     "output_type": "display_data"
    },
    {
     "data": {
      "application/vnd.jupyter.widget-view+json": {
       "model_id": "b3e74a24d5194c80ad344566c5dd0aa0",
       "version_major": 2,
       "version_minor": 0
      },
      "text/plain": [
       "  0%|          | 0/20 [00:00<?, ?it/s]"
      ]
     },
     "metadata": {},
     "output_type": "display_data"
    },
    {
     "data": {
      "application/vnd.jupyter.widget-view+json": {
       "model_id": "d2490895be284b34bb2feaa4abd66ecb",
       "version_major": 2,
       "version_minor": 0
      },
      "text/plain": [
       "  0%|          | 0/20 [00:00<?, ?it/s]"
      ]
     },
     "metadata": {},
     "output_type": "display_data"
    },
    {
     "name": "stdout",
     "output_type": "stream",
     "text": [
      "Participant_6\n"
     ]
    },
    {
     "data": {
      "application/vnd.jupyter.widget-view+json": {
       "model_id": "3350808160684c8a99f702789f49c2e3",
       "version_major": 2,
       "version_minor": 0
      },
      "text/plain": [
       "  0%|          | 0/20 [00:00<?, ?it/s]"
      ]
     },
     "metadata": {},
     "output_type": "display_data"
    },
    {
     "data": {
      "application/vnd.jupyter.widget-view+json": {
       "model_id": "de1334735fe6460f8c28402e8a90c1ef",
       "version_major": 2,
       "version_minor": 0
      },
      "text/plain": [
       "  0%|          | 0/20 [00:00<?, ?it/s]"
      ]
     },
     "metadata": {},
     "output_type": "display_data"
    },
    {
     "data": {
      "application/vnd.jupyter.widget-view+json": {
       "model_id": "01460336c23749fab1e6e54398f150d6",
       "version_major": 2,
       "version_minor": 0
      },
      "text/plain": [
       "  0%|          | 0/20 [00:00<?, ?it/s]"
      ]
     },
     "metadata": {},
     "output_type": "display_data"
    },
    {
     "data": {
      "application/vnd.jupyter.widget-view+json": {
       "model_id": "2b73ddd325a74ca4bbe8866376e5f762",
       "version_major": 2,
       "version_minor": 0
      },
      "text/plain": [
       "  0%|          | 0/20 [00:00<?, ?it/s]"
      ]
     },
     "metadata": {},
     "output_type": "display_data"
    },
    {
     "data": {
      "application/vnd.jupyter.widget-view+json": {
       "model_id": "ee26e7b628824faba22504a5417c2343",
       "version_major": 2,
       "version_minor": 0
      },
      "text/plain": [
       "  0%|          | 0/20 [00:00<?, ?it/s]"
      ]
     },
     "metadata": {},
     "output_type": "display_data"
    },
    {
     "data": {
      "application/vnd.jupyter.widget-view+json": {
       "model_id": "63337dc9d2ed4888b7f97d87dc140799",
       "version_major": 2,
       "version_minor": 0
      },
      "text/plain": [
       "  0%|          | 0/20 [00:00<?, ?it/s]"
      ]
     },
     "metadata": {},
     "output_type": "display_data"
    },
    {
     "data": {
      "application/vnd.jupyter.widget-view+json": {
       "model_id": "62b083232dff40bd8d6d04f6b6c41ea1",
       "version_major": 2,
       "version_minor": 0
      },
      "text/plain": [
       "  0%|          | 0/20 [00:00<?, ?it/s]"
      ]
     },
     "metadata": {},
     "output_type": "display_data"
    },
    {
     "data": {
      "application/vnd.jupyter.widget-view+json": {
       "model_id": "47a944a1eb2346de94416cb222ef6351",
       "version_major": 2,
       "version_minor": 0
      },
      "text/plain": [
       "  0%|          | 0/20 [00:00<?, ?it/s]"
      ]
     },
     "metadata": {},
     "output_type": "display_data"
    },
    {
     "data": {
      "application/vnd.jupyter.widget-view+json": {
       "model_id": "065cf47441ed4d8289b001cbd59c87b3",
       "version_major": 2,
       "version_minor": 0
      },
      "text/plain": [
       "  0%|          | 0/20 [00:00<?, ?it/s]"
      ]
     },
     "metadata": {},
     "output_type": "display_data"
    },
    {
     "data": {
      "application/vnd.jupyter.widget-view+json": {
       "model_id": "e914879dc75f400d9c6fd3b661821cf1",
       "version_major": 2,
       "version_minor": 0
      },
      "text/plain": [
       "  0%|          | 0/20 [00:00<?, ?it/s]"
      ]
     },
     "metadata": {},
     "output_type": "display_data"
    },
    {
     "name": "stdout",
     "output_type": "stream",
     "text": [
      "Participant_7\n"
     ]
    },
    {
     "data": {
      "application/vnd.jupyter.widget-view+json": {
       "model_id": "d7f1d5ead618410991b6a905a8f4eca8",
       "version_major": 2,
       "version_minor": 0
      },
      "text/plain": [
       "  0%|          | 0/20 [00:00<?, ?it/s]"
      ]
     },
     "metadata": {},
     "output_type": "display_data"
    },
    {
     "data": {
      "application/vnd.jupyter.widget-view+json": {
       "model_id": "a4c1cb0a0d58492b87b7284ddd60df84",
       "version_major": 2,
       "version_minor": 0
      },
      "text/plain": [
       "  0%|          | 0/20 [00:00<?, ?it/s]"
      ]
     },
     "metadata": {},
     "output_type": "display_data"
    },
    {
     "data": {
      "application/vnd.jupyter.widget-view+json": {
       "model_id": "dd8c1cdbf8454f129704e60202af2de1",
       "version_major": 2,
       "version_minor": 0
      },
      "text/plain": [
       "  0%|          | 0/20 [00:00<?, ?it/s]"
      ]
     },
     "metadata": {},
     "output_type": "display_data"
    },
    {
     "data": {
      "application/vnd.jupyter.widget-view+json": {
       "model_id": "a652263041f74c03b28efb602f2fb1fb",
       "version_major": 2,
       "version_minor": 0
      },
      "text/plain": [
       "  0%|          | 0/20 [00:00<?, ?it/s]"
      ]
     },
     "metadata": {},
     "output_type": "display_data"
    },
    {
     "data": {
      "application/vnd.jupyter.widget-view+json": {
       "model_id": "7662f26e739349438370d9c5db2b0d60",
       "version_major": 2,
       "version_minor": 0
      },
      "text/plain": [
       "  0%|          | 0/20 [00:00<?, ?it/s]"
      ]
     },
     "metadata": {},
     "output_type": "display_data"
    },
    {
     "data": {
      "application/vnd.jupyter.widget-view+json": {
       "model_id": "d4a02694311a44a68f2ffd0bf53806e5",
       "version_major": 2,
       "version_minor": 0
      },
      "text/plain": [
       "  0%|          | 0/20 [00:00<?, ?it/s]"
      ]
     },
     "metadata": {},
     "output_type": "display_data"
    },
    {
     "data": {
      "application/vnd.jupyter.widget-view+json": {
       "model_id": "7c8deb24733a46b28e047d2e7fbd738e",
       "version_major": 2,
       "version_minor": 0
      },
      "text/plain": [
       "  0%|          | 0/20 [00:00<?, ?it/s]"
      ]
     },
     "metadata": {},
     "output_type": "display_data"
    },
    {
     "data": {
      "application/vnd.jupyter.widget-view+json": {
       "model_id": "64410efed5524b779c782473ce675c4e",
       "version_major": 2,
       "version_minor": 0
      },
      "text/plain": [
       "  0%|          | 0/20 [00:00<?, ?it/s]"
      ]
     },
     "metadata": {},
     "output_type": "display_data"
    },
    {
     "data": {
      "application/vnd.jupyter.widget-view+json": {
       "model_id": "affaec22d07f4a1eabff05ec2ebc4341",
       "version_major": 2,
       "version_minor": 0
      },
      "text/plain": [
       "  0%|          | 0/20 [00:00<?, ?it/s]"
      ]
     },
     "metadata": {},
     "output_type": "display_data"
    },
    {
     "data": {
      "application/vnd.jupyter.widget-view+json": {
       "model_id": "e23ee803b44d417aa364c9c12dba62f4",
       "version_major": 2,
       "version_minor": 0
      },
      "text/plain": [
       "  0%|          | 0/20 [00:00<?, ?it/s]"
      ]
     },
     "metadata": {},
     "output_type": "display_data"
    },
    {
     "name": "stdout",
     "output_type": "stream",
     "text": [
      "Participant_8\n"
     ]
    },
    {
     "data": {
      "application/vnd.jupyter.widget-view+json": {
       "model_id": "35882b681d1e4b88bb7accd076e0f688",
       "version_major": 2,
       "version_minor": 0
      },
      "text/plain": [
       "  0%|          | 0/20 [00:00<?, ?it/s]"
      ]
     },
     "metadata": {},
     "output_type": "display_data"
    },
    {
     "data": {
      "application/vnd.jupyter.widget-view+json": {
       "model_id": "abc2061a28ad4b11bcd656cd6fc786be",
       "version_major": 2,
       "version_minor": 0
      },
      "text/plain": [
       "  0%|          | 0/20 [00:00<?, ?it/s]"
      ]
     },
     "metadata": {},
     "output_type": "display_data"
    },
    {
     "data": {
      "application/vnd.jupyter.widget-view+json": {
       "model_id": "b906f19862da4d28af906732586fbbdc",
       "version_major": 2,
       "version_minor": 0
      },
      "text/plain": [
       "  0%|          | 0/20 [00:00<?, ?it/s]"
      ]
     },
     "metadata": {},
     "output_type": "display_data"
    },
    {
     "data": {
      "application/vnd.jupyter.widget-view+json": {
       "model_id": "2c61d3c7acd64f21a4391947b9455e5b",
       "version_major": 2,
       "version_minor": 0
      },
      "text/plain": [
       "  0%|          | 0/20 [00:00<?, ?it/s]"
      ]
     },
     "metadata": {},
     "output_type": "display_data"
    },
    {
     "data": {
      "application/vnd.jupyter.widget-view+json": {
       "model_id": "968f868d6301488b981ec40c6a0ab5cb",
       "version_major": 2,
       "version_minor": 0
      },
      "text/plain": [
       "  0%|          | 0/20 [00:00<?, ?it/s]"
      ]
     },
     "metadata": {},
     "output_type": "display_data"
    },
    {
     "data": {
      "application/vnd.jupyter.widget-view+json": {
       "model_id": "5a2dcff4185f4847869a863b289563ae",
       "version_major": 2,
       "version_minor": 0
      },
      "text/plain": [
       "  0%|          | 0/20 [00:00<?, ?it/s]"
      ]
     },
     "metadata": {},
     "output_type": "display_data"
    },
    {
     "data": {
      "application/vnd.jupyter.widget-view+json": {
       "model_id": "d68b96fb1b0546bba0f2d40ce28845fc",
       "version_major": 2,
       "version_minor": 0
      },
      "text/plain": [
       "  0%|          | 0/20 [00:00<?, ?it/s]"
      ]
     },
     "metadata": {},
     "output_type": "display_data"
    },
    {
     "data": {
      "application/vnd.jupyter.widget-view+json": {
       "model_id": "68482188ba364768b5ff4d8464d5f61f",
       "version_major": 2,
       "version_minor": 0
      },
      "text/plain": [
       "  0%|          | 0/20 [00:00<?, ?it/s]"
      ]
     },
     "metadata": {},
     "output_type": "display_data"
    },
    {
     "data": {
      "application/vnd.jupyter.widget-view+json": {
       "model_id": "d28d8215e9d640518035dc28a4275fed",
       "version_major": 2,
       "version_minor": 0
      },
      "text/plain": [
       "  0%|          | 0/20 [00:00<?, ?it/s]"
      ]
     },
     "metadata": {},
     "output_type": "display_data"
    },
    {
     "data": {
      "application/vnd.jupyter.widget-view+json": {
       "model_id": "cb3005b4c2b14f39a2b9424c136fe798",
       "version_major": 2,
       "version_minor": 0
      },
      "text/plain": [
       "  0%|          | 0/20 [00:00<?, ?it/s]"
      ]
     },
     "metadata": {},
     "output_type": "display_data"
    },
    {
     "name": "stdout",
     "output_type": "stream",
     "text": [
      "Participant_9\n"
     ]
    },
    {
     "data": {
      "application/vnd.jupyter.widget-view+json": {
       "model_id": "ec2e6b79ee8742818b5a61252568c55d",
       "version_major": 2,
       "version_minor": 0
      },
      "text/plain": [
       "  0%|          | 0/20 [00:00<?, ?it/s]"
      ]
     },
     "metadata": {},
     "output_type": "display_data"
    },
    {
     "data": {
      "application/vnd.jupyter.widget-view+json": {
       "model_id": "76e3badedd2e4f12937688c68c518cb5",
       "version_major": 2,
       "version_minor": 0
      },
      "text/plain": [
       "  0%|          | 0/20 [00:00<?, ?it/s]"
      ]
     },
     "metadata": {},
     "output_type": "display_data"
    },
    {
     "data": {
      "application/vnd.jupyter.widget-view+json": {
       "model_id": "cf87c6c8449144e1a388b9207ca621d1",
       "version_major": 2,
       "version_minor": 0
      },
      "text/plain": [
       "  0%|          | 0/20 [00:00<?, ?it/s]"
      ]
     },
     "metadata": {},
     "output_type": "display_data"
    },
    {
     "data": {
      "application/vnd.jupyter.widget-view+json": {
       "model_id": "07e6a50466fe47beb3131c26a1053eb1",
       "version_major": 2,
       "version_minor": 0
      },
      "text/plain": [
       "  0%|          | 0/20 [00:00<?, ?it/s]"
      ]
     },
     "metadata": {},
     "output_type": "display_data"
    },
    {
     "data": {
      "application/vnd.jupyter.widget-view+json": {
       "model_id": "dca375cf937a42fbb6cd09d839fb66e8",
       "version_major": 2,
       "version_minor": 0
      },
      "text/plain": [
       "  0%|          | 0/20 [00:00<?, ?it/s]"
      ]
     },
     "metadata": {},
     "output_type": "display_data"
    },
    {
     "data": {
      "application/vnd.jupyter.widget-view+json": {
       "model_id": "6e6ce8022b7b43bfa76a26fe63043913",
       "version_major": 2,
       "version_minor": 0
      },
      "text/plain": [
       "  0%|          | 0/20 [00:00<?, ?it/s]"
      ]
     },
     "metadata": {},
     "output_type": "display_data"
    },
    {
     "data": {
      "application/vnd.jupyter.widget-view+json": {
       "model_id": "c4455c9cbd444e8283c3f03d1e76bcb1",
       "version_major": 2,
       "version_minor": 0
      },
      "text/plain": [
       "  0%|          | 0/20 [00:00<?, ?it/s]"
      ]
     },
     "metadata": {},
     "output_type": "display_data"
    },
    {
     "data": {
      "application/vnd.jupyter.widget-view+json": {
       "model_id": "204cd37740b44f9eb1e81d054e60c598",
       "version_major": 2,
       "version_minor": 0
      },
      "text/plain": [
       "  0%|          | 0/20 [00:00<?, ?it/s]"
      ]
     },
     "metadata": {},
     "output_type": "display_data"
    },
    {
     "data": {
      "application/vnd.jupyter.widget-view+json": {
       "model_id": "fb663bf49c1d488fb34aa747d21bd664",
       "version_major": 2,
       "version_minor": 0
      },
      "text/plain": [
       "  0%|          | 0/20 [00:00<?, ?it/s]"
      ]
     },
     "metadata": {},
     "output_type": "display_data"
    },
    {
     "data": {
      "application/vnd.jupyter.widget-view+json": {
       "model_id": "962ea5f7bc154901b0f928ec36e0a01d",
       "version_major": 2,
       "version_minor": 0
      },
      "text/plain": [
       "  0%|          | 0/20 [00:00<?, ?it/s]"
      ]
     },
     "metadata": {},
     "output_type": "display_data"
    },
    {
     "name": "stdout",
     "output_type": "stream",
     "text": [
      "Participant_10\n"
     ]
    },
    {
     "data": {
      "application/vnd.jupyter.widget-view+json": {
       "model_id": "c2d8fbb825244afca00489b286829c7a",
       "version_major": 2,
       "version_minor": 0
      },
      "text/plain": [
       "  0%|          | 0/20 [00:00<?, ?it/s]"
      ]
     },
     "metadata": {},
     "output_type": "display_data"
    },
    {
     "data": {
      "application/vnd.jupyter.widget-view+json": {
       "model_id": "f241c2fae0734de296745bfd1914b453",
       "version_major": 2,
       "version_minor": 0
      },
      "text/plain": [
       "  0%|          | 0/20 [00:00<?, ?it/s]"
      ]
     },
     "metadata": {},
     "output_type": "display_data"
    },
    {
     "data": {
      "application/vnd.jupyter.widget-view+json": {
       "model_id": "378eb82cf64e4b2784fe0c221769afaa",
       "version_major": 2,
       "version_minor": 0
      },
      "text/plain": [
       "  0%|          | 0/20 [00:00<?, ?it/s]"
      ]
     },
     "metadata": {},
     "output_type": "display_data"
    },
    {
     "data": {
      "application/vnd.jupyter.widget-view+json": {
       "model_id": "a5c99082efc9413c83959c471967c6f3",
       "version_major": 2,
       "version_minor": 0
      },
      "text/plain": [
       "  0%|          | 0/20 [00:00<?, ?it/s]"
      ]
     },
     "metadata": {},
     "output_type": "display_data"
    },
    {
     "data": {
      "application/vnd.jupyter.widget-view+json": {
       "model_id": "735129b3a6ce4eb4a814fe446d9032ca",
       "version_major": 2,
       "version_minor": 0
      },
      "text/plain": [
       "  0%|          | 0/20 [00:00<?, ?it/s]"
      ]
     },
     "metadata": {},
     "output_type": "display_data"
    },
    {
     "data": {
      "application/vnd.jupyter.widget-view+json": {
       "model_id": "1d2647fe4dc441c7a5880a1801518057",
       "version_major": 2,
       "version_minor": 0
      },
      "text/plain": [
       "  0%|          | 0/20 [00:00<?, ?it/s]"
      ]
     },
     "metadata": {},
     "output_type": "display_data"
    },
    {
     "data": {
      "application/vnd.jupyter.widget-view+json": {
       "model_id": "08e18f2ec0894203805d11c1b803f9c8",
       "version_major": 2,
       "version_minor": 0
      },
      "text/plain": [
       "  0%|          | 0/20 [00:00<?, ?it/s]"
      ]
     },
     "metadata": {},
     "output_type": "display_data"
    },
    {
     "data": {
      "application/vnd.jupyter.widget-view+json": {
       "model_id": "2dba957451864f43b785af8528862da9",
       "version_major": 2,
       "version_minor": 0
      },
      "text/plain": [
       "  0%|          | 0/20 [00:00<?, ?it/s]"
      ]
     },
     "metadata": {},
     "output_type": "display_data"
    },
    {
     "data": {
      "application/vnd.jupyter.widget-view+json": {
       "model_id": "0e840404e0ca4785afaf0f4bacf888da",
       "version_major": 2,
       "version_minor": 0
      },
      "text/plain": [
       "  0%|          | 0/20 [00:00<?, ?it/s]"
      ]
     },
     "metadata": {},
     "output_type": "display_data"
    },
    {
     "data": {
      "application/vnd.jupyter.widget-view+json": {
       "model_id": "669bbd96bd824de99094d1bcd2767959",
       "version_major": 2,
       "version_minor": 0
      },
      "text/plain": [
       "  0%|          | 0/20 [00:00<?, ?it/s]"
      ]
     },
     "metadata": {},
     "output_type": "display_data"
    },
    {
     "name": "stdout",
     "output_type": "stream",
     "text": [
      "Participant_11\n"
     ]
    },
    {
     "data": {
      "application/vnd.jupyter.widget-view+json": {
       "model_id": "1465080a8682490e83ac9c4dc5293cdc",
       "version_major": 2,
       "version_minor": 0
      },
      "text/plain": [
       "  0%|          | 0/20 [00:00<?, ?it/s]"
      ]
     },
     "metadata": {},
     "output_type": "display_data"
    },
    {
     "data": {
      "application/vnd.jupyter.widget-view+json": {
       "model_id": "1c1e68b088cd427bb293a729df2cd7d0",
       "version_major": 2,
       "version_minor": 0
      },
      "text/plain": [
       "  0%|          | 0/20 [00:00<?, ?it/s]"
      ]
     },
     "metadata": {},
     "output_type": "display_data"
    },
    {
     "data": {
      "application/vnd.jupyter.widget-view+json": {
       "model_id": "058829c990f648b588cac71eae454fd4",
       "version_major": 2,
       "version_minor": 0
      },
      "text/plain": [
       "  0%|          | 0/20 [00:00<?, ?it/s]"
      ]
     },
     "metadata": {},
     "output_type": "display_data"
    },
    {
     "data": {
      "application/vnd.jupyter.widget-view+json": {
       "model_id": "575dbc6e23b14a848738c506b512ad80",
       "version_major": 2,
       "version_minor": 0
      },
      "text/plain": [
       "  0%|          | 0/20 [00:00<?, ?it/s]"
      ]
     },
     "metadata": {},
     "output_type": "display_data"
    },
    {
     "data": {
      "application/vnd.jupyter.widget-view+json": {
       "model_id": "e8c9f56e307b4f1f9f37e6262fcc409c",
       "version_major": 2,
       "version_minor": 0
      },
      "text/plain": [
       "  0%|          | 0/20 [00:00<?, ?it/s]"
      ]
     },
     "metadata": {},
     "output_type": "display_data"
    },
    {
     "data": {
      "application/vnd.jupyter.widget-view+json": {
       "model_id": "8ea6ca24f7074b21bed5f651e772579d",
       "version_major": 2,
       "version_minor": 0
      },
      "text/plain": [
       "  0%|          | 0/20 [00:00<?, ?it/s]"
      ]
     },
     "metadata": {},
     "output_type": "display_data"
    },
    {
     "data": {
      "application/vnd.jupyter.widget-view+json": {
       "model_id": "c15fbfff26df45768322729bf3eb881d",
       "version_major": 2,
       "version_minor": 0
      },
      "text/plain": [
       "  0%|          | 0/20 [00:00<?, ?it/s]"
      ]
     },
     "metadata": {},
     "output_type": "display_data"
    },
    {
     "data": {
      "application/vnd.jupyter.widget-view+json": {
       "model_id": "a98d23d762a14b03b90ae4f1e701960c",
       "version_major": 2,
       "version_minor": 0
      },
      "text/plain": [
       "  0%|          | 0/20 [00:00<?, ?it/s]"
      ]
     },
     "metadata": {},
     "output_type": "display_data"
    },
    {
     "data": {
      "application/vnd.jupyter.widget-view+json": {
       "model_id": "7c1d56a25bc14c56b773b5bfbbb81702",
       "version_major": 2,
       "version_minor": 0
      },
      "text/plain": [
       "  0%|          | 0/20 [00:00<?, ?it/s]"
      ]
     },
     "metadata": {},
     "output_type": "display_data"
    },
    {
     "data": {
      "application/vnd.jupyter.widget-view+json": {
       "model_id": "0eb03b19ad0646c293eca26485b43cff",
       "version_major": 2,
       "version_minor": 0
      },
      "text/plain": [
       "  0%|          | 0/20 [00:00<?, ?it/s]"
      ]
     },
     "metadata": {},
     "output_type": "display_data"
    },
    {
     "name": "stdout",
     "output_type": "stream",
     "text": [
      "Participant_12\n"
     ]
    },
    {
     "data": {
      "application/vnd.jupyter.widget-view+json": {
       "model_id": "27d99c846f9045448ecd55da67cb03f8",
       "version_major": 2,
       "version_minor": 0
      },
      "text/plain": [
       "  0%|          | 0/20 [00:00<?, ?it/s]"
      ]
     },
     "metadata": {},
     "output_type": "display_data"
    },
    {
     "data": {
      "application/vnd.jupyter.widget-view+json": {
       "model_id": "ef27992389f542f2b9aad2da33617e8f",
       "version_major": 2,
       "version_minor": 0
      },
      "text/plain": [
       "  0%|          | 0/20 [00:00<?, ?it/s]"
      ]
     },
     "metadata": {},
     "output_type": "display_data"
    },
    {
     "data": {
      "application/vnd.jupyter.widget-view+json": {
       "model_id": "0df95e21cfc34908b7c9bf1a39bf5c93",
       "version_major": 2,
       "version_minor": 0
      },
      "text/plain": [
       "  0%|          | 0/20 [00:00<?, ?it/s]"
      ]
     },
     "metadata": {},
     "output_type": "display_data"
    },
    {
     "data": {
      "application/vnd.jupyter.widget-view+json": {
       "model_id": "959c3a2700eb4503a5ca26235c26a1fa",
       "version_major": 2,
       "version_minor": 0
      },
      "text/plain": [
       "  0%|          | 0/20 [00:00<?, ?it/s]"
      ]
     },
     "metadata": {},
     "output_type": "display_data"
    },
    {
     "data": {
      "application/vnd.jupyter.widget-view+json": {
       "model_id": "132f7f2fe1a54ba8949196cef5b54d4d",
       "version_major": 2,
       "version_minor": 0
      },
      "text/plain": [
       "  0%|          | 0/20 [00:00<?, ?it/s]"
      ]
     },
     "metadata": {},
     "output_type": "display_data"
    },
    {
     "data": {
      "application/vnd.jupyter.widget-view+json": {
       "model_id": "879e7720aa754eadad0d5d413f46f5bb",
       "version_major": 2,
       "version_minor": 0
      },
      "text/plain": [
       "  0%|          | 0/20 [00:00<?, ?it/s]"
      ]
     },
     "metadata": {},
     "output_type": "display_data"
    },
    {
     "data": {
      "application/vnd.jupyter.widget-view+json": {
       "model_id": "0ec55140d4834ac9b8034fc744969020",
       "version_major": 2,
       "version_minor": 0
      },
      "text/plain": [
       "  0%|          | 0/20 [00:00<?, ?it/s]"
      ]
     },
     "metadata": {},
     "output_type": "display_data"
    },
    {
     "data": {
      "application/vnd.jupyter.widget-view+json": {
       "model_id": "fa5dafacc5e648a08efde1dd31060694",
       "version_major": 2,
       "version_minor": 0
      },
      "text/plain": [
       "  0%|          | 0/20 [00:00<?, ?it/s]"
      ]
     },
     "metadata": {},
     "output_type": "display_data"
    },
    {
     "data": {
      "application/vnd.jupyter.widget-view+json": {
       "model_id": "2be3cabc78b9444d93d90e06a8976708",
       "version_major": 2,
       "version_minor": 0
      },
      "text/plain": [
       "  0%|          | 0/20 [00:00<?, ?it/s]"
      ]
     },
     "metadata": {},
     "output_type": "display_data"
    },
    {
     "data": {
      "application/vnd.jupyter.widget-view+json": {
       "model_id": "a856b0a79722414884762feb4e88627f",
       "version_major": 2,
       "version_minor": 0
      },
      "text/plain": [
       "  0%|          | 0/20 [00:00<?, ?it/s]"
      ]
     },
     "metadata": {},
     "output_type": "display_data"
    },
    {
     "name": "stdout",
     "output_type": "stream",
     "text": [
      "Participant_13\n"
     ]
    },
    {
     "data": {
      "application/vnd.jupyter.widget-view+json": {
       "model_id": "c57b5880b4d649c1bf35af2f1ad43ad3",
       "version_major": 2,
       "version_minor": 0
      },
      "text/plain": [
       "  0%|          | 0/20 [00:00<?, ?it/s]"
      ]
     },
     "metadata": {},
     "output_type": "display_data"
    },
    {
     "data": {
      "application/vnd.jupyter.widget-view+json": {
       "model_id": "c27b75aca54145df9515865bdcbaa581",
       "version_major": 2,
       "version_minor": 0
      },
      "text/plain": [
       "  0%|          | 0/20 [00:00<?, ?it/s]"
      ]
     },
     "metadata": {},
     "output_type": "display_data"
    },
    {
     "data": {
      "application/vnd.jupyter.widget-view+json": {
       "model_id": "8f96be10b9244bc3b0b0f1ec9d9eb3b7",
       "version_major": 2,
       "version_minor": 0
      },
      "text/plain": [
       "  0%|          | 0/20 [00:00<?, ?it/s]"
      ]
     },
     "metadata": {},
     "output_type": "display_data"
    },
    {
     "data": {
      "application/vnd.jupyter.widget-view+json": {
       "model_id": "c583e2d41b58486facaf238f4c5388de",
       "version_major": 2,
       "version_minor": 0
      },
      "text/plain": [
       "  0%|          | 0/20 [00:00<?, ?it/s]"
      ]
     },
     "metadata": {},
     "output_type": "display_data"
    },
    {
     "data": {
      "application/vnd.jupyter.widget-view+json": {
       "model_id": "410c4780f22f4806900bc07185e00feb",
       "version_major": 2,
       "version_minor": 0
      },
      "text/plain": [
       "  0%|          | 0/20 [00:00<?, ?it/s]"
      ]
     },
     "metadata": {},
     "output_type": "display_data"
    },
    {
     "data": {
      "application/vnd.jupyter.widget-view+json": {
       "model_id": "2df0ee354144473396445c4a74377d36",
       "version_major": 2,
       "version_minor": 0
      },
      "text/plain": [
       "  0%|          | 0/20 [00:00<?, ?it/s]"
      ]
     },
     "metadata": {},
     "output_type": "display_data"
    },
    {
     "data": {
      "application/vnd.jupyter.widget-view+json": {
       "model_id": "bf7f08ea2c384f298108ba42b7ad3c67",
       "version_major": 2,
       "version_minor": 0
      },
      "text/plain": [
       "  0%|          | 0/20 [00:00<?, ?it/s]"
      ]
     },
     "metadata": {},
     "output_type": "display_data"
    },
    {
     "data": {
      "application/vnd.jupyter.widget-view+json": {
       "model_id": "1b67a4e036f249189fe3452f3f5b8eb3",
       "version_major": 2,
       "version_minor": 0
      },
      "text/plain": [
       "  0%|          | 0/20 [00:00<?, ?it/s]"
      ]
     },
     "metadata": {},
     "output_type": "display_data"
    },
    {
     "data": {
      "application/vnd.jupyter.widget-view+json": {
       "model_id": "4926a266d11842118a4a2d83978afc95",
       "version_major": 2,
       "version_minor": 0
      },
      "text/plain": [
       "  0%|          | 0/20 [00:00<?, ?it/s]"
      ]
     },
     "metadata": {},
     "output_type": "display_data"
    },
    {
     "data": {
      "application/vnd.jupyter.widget-view+json": {
       "model_id": "b6c0d5bbdd1e4c3892b4ecb215f28e47",
       "version_major": 2,
       "version_minor": 0
      },
      "text/plain": [
       "  0%|          | 0/20 [00:00<?, ?it/s]"
      ]
     },
     "metadata": {},
     "output_type": "display_data"
    },
    {
     "name": "stdout",
     "output_type": "stream",
     "text": [
      "Participant_14\n"
     ]
    },
    {
     "data": {
      "application/vnd.jupyter.widget-view+json": {
       "model_id": "b95e9c7f3cb94fed8c07b81309c1561e",
       "version_major": 2,
       "version_minor": 0
      },
      "text/plain": [
       "  0%|          | 0/20 [00:00<?, ?it/s]"
      ]
     },
     "metadata": {},
     "output_type": "display_data"
    },
    {
     "data": {
      "application/vnd.jupyter.widget-view+json": {
       "model_id": "acc8edb61fcd4ff69749ff7b3f1cb835",
       "version_major": 2,
       "version_minor": 0
      },
      "text/plain": [
       "  0%|          | 0/20 [00:00<?, ?it/s]"
      ]
     },
     "metadata": {},
     "output_type": "display_data"
    },
    {
     "data": {
      "application/vnd.jupyter.widget-view+json": {
       "model_id": "02c90abc885f4c78a61dfbe59da46def",
       "version_major": 2,
       "version_minor": 0
      },
      "text/plain": [
       "  0%|          | 0/20 [00:00<?, ?it/s]"
      ]
     },
     "metadata": {},
     "output_type": "display_data"
    },
    {
     "data": {
      "application/vnd.jupyter.widget-view+json": {
       "model_id": "c40d149d61b143409dd914c74bcddc4e",
       "version_major": 2,
       "version_minor": 0
      },
      "text/plain": [
       "  0%|          | 0/20 [00:00<?, ?it/s]"
      ]
     },
     "metadata": {},
     "output_type": "display_data"
    },
    {
     "data": {
      "application/vnd.jupyter.widget-view+json": {
       "model_id": "e305185140094bdab6a5d1e53157fac0",
       "version_major": 2,
       "version_minor": 0
      },
      "text/plain": [
       "  0%|          | 0/20 [00:00<?, ?it/s]"
      ]
     },
     "metadata": {},
     "output_type": "display_data"
    },
    {
     "data": {
      "application/vnd.jupyter.widget-view+json": {
       "model_id": "c7aea647f9a941e8b850d030a78b9f80",
       "version_major": 2,
       "version_minor": 0
      },
      "text/plain": [
       "  0%|          | 0/20 [00:00<?, ?it/s]"
      ]
     },
     "metadata": {},
     "output_type": "display_data"
    },
    {
     "data": {
      "application/vnd.jupyter.widget-view+json": {
       "model_id": "08ec93bca3b64903ae2c588f3e884637",
       "version_major": 2,
       "version_minor": 0
      },
      "text/plain": [
       "  0%|          | 0/20 [00:00<?, ?it/s]"
      ]
     },
     "metadata": {},
     "output_type": "display_data"
    },
    {
     "data": {
      "application/vnd.jupyter.widget-view+json": {
       "model_id": "edae2441766b4f6a91457145209b8108",
       "version_major": 2,
       "version_minor": 0
      },
      "text/plain": [
       "  0%|          | 0/20 [00:00<?, ?it/s]"
      ]
     },
     "metadata": {},
     "output_type": "display_data"
    },
    {
     "data": {
      "application/vnd.jupyter.widget-view+json": {
       "model_id": "4b07818dfb834f9e8e5e2fb8ffce4373",
       "version_major": 2,
       "version_minor": 0
      },
      "text/plain": [
       "  0%|          | 0/20 [00:00<?, ?it/s]"
      ]
     },
     "metadata": {},
     "output_type": "display_data"
    },
    {
     "data": {
      "application/vnd.jupyter.widget-view+json": {
       "model_id": "98c2e52871c94fb9bb9415de6bf855ae",
       "version_major": 2,
       "version_minor": 0
      },
      "text/plain": [
       "  0%|          | 0/20 [00:00<?, ?it/s]"
      ]
     },
     "metadata": {},
     "output_type": "display_data"
    },
    {
     "name": "stdout",
     "output_type": "stream",
     "text": [
      "Participant_15\n"
     ]
    },
    {
     "data": {
      "application/vnd.jupyter.widget-view+json": {
       "model_id": "29d351b13bad4c9784891d06975bdb4e",
       "version_major": 2,
       "version_minor": 0
      },
      "text/plain": [
       "  0%|          | 0/20 [00:00<?, ?it/s]"
      ]
     },
     "metadata": {},
     "output_type": "display_data"
    },
    {
     "data": {
      "application/vnd.jupyter.widget-view+json": {
       "model_id": "8b839fac16f54fdc942604969b98bf06",
       "version_major": 2,
       "version_minor": 0
      },
      "text/plain": [
       "  0%|          | 0/20 [00:00<?, ?it/s]"
      ]
     },
     "metadata": {},
     "output_type": "display_data"
    },
    {
     "data": {
      "application/vnd.jupyter.widget-view+json": {
       "model_id": "1c684ae815014c5a96d5e1b0d39c2fdf",
       "version_major": 2,
       "version_minor": 0
      },
      "text/plain": [
       "  0%|          | 0/20 [00:00<?, ?it/s]"
      ]
     },
     "metadata": {},
     "output_type": "display_data"
    },
    {
     "data": {
      "application/vnd.jupyter.widget-view+json": {
       "model_id": "8e9b508bd7b44dfd92ebb39df8d851c4",
       "version_major": 2,
       "version_minor": 0
      },
      "text/plain": [
       "  0%|          | 0/20 [00:00<?, ?it/s]"
      ]
     },
     "metadata": {},
     "output_type": "display_data"
    },
    {
     "data": {
      "application/vnd.jupyter.widget-view+json": {
       "model_id": "1563f22a820a44e990fcb12ea2372bb6",
       "version_major": 2,
       "version_minor": 0
      },
      "text/plain": [
       "  0%|          | 0/20 [00:00<?, ?it/s]"
      ]
     },
     "metadata": {},
     "output_type": "display_data"
    },
    {
     "data": {
      "application/vnd.jupyter.widget-view+json": {
       "model_id": "d6c31c80194c4995bae0e01cd81735a7",
       "version_major": 2,
       "version_minor": 0
      },
      "text/plain": [
       "  0%|          | 0/20 [00:00<?, ?it/s]"
      ]
     },
     "metadata": {},
     "output_type": "display_data"
    },
    {
     "data": {
      "application/vnd.jupyter.widget-view+json": {
       "model_id": "7683eb9864764785a7fe8e4e9a082b5f",
       "version_major": 2,
       "version_minor": 0
      },
      "text/plain": [
       "  0%|          | 0/20 [00:00<?, ?it/s]"
      ]
     },
     "metadata": {},
     "output_type": "display_data"
    },
    {
     "data": {
      "application/vnd.jupyter.widget-view+json": {
       "model_id": "7c609a70522d40588839aa3654064585",
       "version_major": 2,
       "version_minor": 0
      },
      "text/plain": [
       "  0%|          | 0/20 [00:00<?, ?it/s]"
      ]
     },
     "metadata": {},
     "output_type": "display_data"
    },
    {
     "data": {
      "application/vnd.jupyter.widget-view+json": {
       "model_id": "b403cb9f57144998b79af983465a9872",
       "version_major": 2,
       "version_minor": 0
      },
      "text/plain": [
       "  0%|          | 0/20 [00:00<?, ?it/s]"
      ]
     },
     "metadata": {},
     "output_type": "display_data"
    },
    {
     "data": {
      "application/vnd.jupyter.widget-view+json": {
       "model_id": "033679375ed74c2f966e250a26b5a18b",
       "version_major": 2,
       "version_minor": 0
      },
      "text/plain": [
       "  0%|          | 0/20 [00:00<?, ?it/s]"
      ]
     },
     "metadata": {},
     "output_type": "display_data"
    },
    {
     "name": "stdout",
     "output_type": "stream",
     "text": [
      "Participant_16\n"
     ]
    },
    {
     "data": {
      "application/vnd.jupyter.widget-view+json": {
       "model_id": "17a672414dae4f6c952ec277087d4e1b",
       "version_major": 2,
       "version_minor": 0
      },
      "text/plain": [
       "  0%|          | 0/20 [00:00<?, ?it/s]"
      ]
     },
     "metadata": {},
     "output_type": "display_data"
    },
    {
     "data": {
      "application/vnd.jupyter.widget-view+json": {
       "model_id": "2a504317bf8a44348ccacd705ecd30ed",
       "version_major": 2,
       "version_minor": 0
      },
      "text/plain": [
       "  0%|          | 0/20 [00:00<?, ?it/s]"
      ]
     },
     "metadata": {},
     "output_type": "display_data"
    },
    {
     "data": {
      "application/vnd.jupyter.widget-view+json": {
       "model_id": "dd986a4ccb234b18972817d809fe8037",
       "version_major": 2,
       "version_minor": 0
      },
      "text/plain": [
       "  0%|          | 0/20 [00:00<?, ?it/s]"
      ]
     },
     "metadata": {},
     "output_type": "display_data"
    },
    {
     "data": {
      "application/vnd.jupyter.widget-view+json": {
       "model_id": "4092ddd617ba4690bf9090b1bd613fd7",
       "version_major": 2,
       "version_minor": 0
      },
      "text/plain": [
       "  0%|          | 0/20 [00:00<?, ?it/s]"
      ]
     },
     "metadata": {},
     "output_type": "display_data"
    },
    {
     "data": {
      "application/vnd.jupyter.widget-view+json": {
       "model_id": "772444839a80415081a11f2b6082e38a",
       "version_major": 2,
       "version_minor": 0
      },
      "text/plain": [
       "  0%|          | 0/20 [00:00<?, ?it/s]"
      ]
     },
     "metadata": {},
     "output_type": "display_data"
    },
    {
     "data": {
      "application/vnd.jupyter.widget-view+json": {
       "model_id": "437a7e6b5adf4e97ac5df0ce2e47f62f",
       "version_major": 2,
       "version_minor": 0
      },
      "text/plain": [
       "  0%|          | 0/20 [00:00<?, ?it/s]"
      ]
     },
     "metadata": {},
     "output_type": "display_data"
    },
    {
     "data": {
      "application/vnd.jupyter.widget-view+json": {
       "model_id": "0f84d35a942e444da00f675a7aebfe14",
       "version_major": 2,
       "version_minor": 0
      },
      "text/plain": [
       "  0%|          | 0/20 [00:00<?, ?it/s]"
      ]
     },
     "metadata": {},
     "output_type": "display_data"
    },
    {
     "data": {
      "application/vnd.jupyter.widget-view+json": {
       "model_id": "65f9bb3725b848d6aa60c6a96d21b578",
       "version_major": 2,
       "version_minor": 0
      },
      "text/plain": [
       "  0%|          | 0/20 [00:00<?, ?it/s]"
      ]
     },
     "metadata": {},
     "output_type": "display_data"
    },
    {
     "data": {
      "application/vnd.jupyter.widget-view+json": {
       "model_id": "2d1385da08734016a0221674333ddc84",
       "version_major": 2,
       "version_minor": 0
      },
      "text/plain": [
       "  0%|          | 0/20 [00:00<?, ?it/s]"
      ]
     },
     "metadata": {},
     "output_type": "display_data"
    },
    {
     "data": {
      "application/vnd.jupyter.widget-view+json": {
       "model_id": "2788d210b74c4e4198f380309a6158e1",
       "version_major": 2,
       "version_minor": 0
      },
      "text/plain": [
       "  0%|          | 0/20 [00:00<?, ?it/s]"
      ]
     },
     "metadata": {},
     "output_type": "display_data"
    },
    {
     "name": "stdout",
     "output_type": "stream",
     "text": [
      "Participant_17\n"
     ]
    },
    {
     "data": {
      "application/vnd.jupyter.widget-view+json": {
       "model_id": "43ea4c571545485384a74e273fdaa17e",
       "version_major": 2,
       "version_minor": 0
      },
      "text/plain": [
       "  0%|          | 0/20 [00:00<?, ?it/s]"
      ]
     },
     "metadata": {},
     "output_type": "display_data"
    },
    {
     "data": {
      "application/vnd.jupyter.widget-view+json": {
       "model_id": "cfb16a6cc17944fc9f27cb22098028d4",
       "version_major": 2,
       "version_minor": 0
      },
      "text/plain": [
       "  0%|          | 0/20 [00:00<?, ?it/s]"
      ]
     },
     "metadata": {},
     "output_type": "display_data"
    },
    {
     "data": {
      "application/vnd.jupyter.widget-view+json": {
       "model_id": "02a021caa5a04b92bb2c27e3106482e8",
       "version_major": 2,
       "version_minor": 0
      },
      "text/plain": [
       "  0%|          | 0/20 [00:00<?, ?it/s]"
      ]
     },
     "metadata": {},
     "output_type": "display_data"
    },
    {
     "data": {
      "application/vnd.jupyter.widget-view+json": {
       "model_id": "37cb8ef06aeb47f89099262c4ee4d9fa",
       "version_major": 2,
       "version_minor": 0
      },
      "text/plain": [
       "  0%|          | 0/20 [00:00<?, ?it/s]"
      ]
     },
     "metadata": {},
     "output_type": "display_data"
    },
    {
     "data": {
      "application/vnd.jupyter.widget-view+json": {
       "model_id": "b4761bccc2d54b8f956b1372e08834a8",
       "version_major": 2,
       "version_minor": 0
      },
      "text/plain": [
       "  0%|          | 0/20 [00:00<?, ?it/s]"
      ]
     },
     "metadata": {},
     "output_type": "display_data"
    },
    {
     "data": {
      "application/vnd.jupyter.widget-view+json": {
       "model_id": "0f2365dd0fd44bf8a80626db93b69c07",
       "version_major": 2,
       "version_minor": 0
      },
      "text/plain": [
       "  0%|          | 0/20 [00:00<?, ?it/s]"
      ]
     },
     "metadata": {},
     "output_type": "display_data"
    },
    {
     "data": {
      "application/vnd.jupyter.widget-view+json": {
       "model_id": "b226df93c0df4fb7915885eeb7d2b54a",
       "version_major": 2,
       "version_minor": 0
      },
      "text/plain": [
       "  0%|          | 0/20 [00:00<?, ?it/s]"
      ]
     },
     "metadata": {},
     "output_type": "display_data"
    },
    {
     "data": {
      "application/vnd.jupyter.widget-view+json": {
       "model_id": "5146c2d7f91745bca5c02de673e9430f",
       "version_major": 2,
       "version_minor": 0
      },
      "text/plain": [
       "  0%|          | 0/20 [00:00<?, ?it/s]"
      ]
     },
     "metadata": {},
     "output_type": "display_data"
    },
    {
     "data": {
      "application/vnd.jupyter.widget-view+json": {
       "model_id": "7b5f99c278e743adac92352aa222b829",
       "version_major": 2,
       "version_minor": 0
      },
      "text/plain": [
       "  0%|          | 0/20 [00:00<?, ?it/s]"
      ]
     },
     "metadata": {},
     "output_type": "display_data"
    },
    {
     "data": {
      "application/vnd.jupyter.widget-view+json": {
       "model_id": "0be3850bec484bce9cf122bfb6ce2b16",
       "version_major": 2,
       "version_minor": 0
      },
      "text/plain": [
       "  0%|          | 0/20 [00:00<?, ?it/s]"
      ]
     },
     "metadata": {},
     "output_type": "display_data"
    },
    {
     "name": "stdout",
     "output_type": "stream",
     "text": [
      "Participant_18\n"
     ]
    },
    {
     "data": {
      "application/vnd.jupyter.widget-view+json": {
       "model_id": "2b4f38c0ae5648c48a4ae6d462d8fbba",
       "version_major": 2,
       "version_minor": 0
      },
      "text/plain": [
       "  0%|          | 0/20 [00:00<?, ?it/s]"
      ]
     },
     "metadata": {},
     "output_type": "display_data"
    },
    {
     "data": {
      "application/vnd.jupyter.widget-view+json": {
       "model_id": "47faee49f32f475596db080ebab42967",
       "version_major": 2,
       "version_minor": 0
      },
      "text/plain": [
       "  0%|          | 0/20 [00:00<?, ?it/s]"
      ]
     },
     "metadata": {},
     "output_type": "display_data"
    },
    {
     "data": {
      "application/vnd.jupyter.widget-view+json": {
       "model_id": "28cfdecb0a76440285b0cef55a624ae3",
       "version_major": 2,
       "version_minor": 0
      },
      "text/plain": [
       "  0%|          | 0/20 [00:00<?, ?it/s]"
      ]
     },
     "metadata": {},
     "output_type": "display_data"
    },
    {
     "data": {
      "application/vnd.jupyter.widget-view+json": {
       "model_id": "4e09d6358fa44929bbf774dc21dee458",
       "version_major": 2,
       "version_minor": 0
      },
      "text/plain": [
       "  0%|          | 0/20 [00:00<?, ?it/s]"
      ]
     },
     "metadata": {},
     "output_type": "display_data"
    },
    {
     "data": {
      "application/vnd.jupyter.widget-view+json": {
       "model_id": "1d7f9f98505d474184515e9fc92cbb5f",
       "version_major": 2,
       "version_minor": 0
      },
      "text/plain": [
       "  0%|          | 0/20 [00:00<?, ?it/s]"
      ]
     },
     "metadata": {},
     "output_type": "display_data"
    },
    {
     "data": {
      "application/vnd.jupyter.widget-view+json": {
       "model_id": "ad2a7b068fc74965a88b9972aacfb895",
       "version_major": 2,
       "version_minor": 0
      },
      "text/plain": [
       "  0%|          | 0/20 [00:00<?, ?it/s]"
      ]
     },
     "metadata": {},
     "output_type": "display_data"
    },
    {
     "data": {
      "application/vnd.jupyter.widget-view+json": {
       "model_id": "044042f6f35d423d88e2c18a83e27350",
       "version_major": 2,
       "version_minor": 0
      },
      "text/plain": [
       "  0%|          | 0/20 [00:00<?, ?it/s]"
      ]
     },
     "metadata": {},
     "output_type": "display_data"
    },
    {
     "data": {
      "application/vnd.jupyter.widget-view+json": {
       "model_id": "295dd79789304cba8c437a1d85326cfc",
       "version_major": 2,
       "version_minor": 0
      },
      "text/plain": [
       "  0%|          | 0/20 [00:00<?, ?it/s]"
      ]
     },
     "metadata": {},
     "output_type": "display_data"
    },
    {
     "data": {
      "application/vnd.jupyter.widget-view+json": {
       "model_id": "69441f56e4eb45a5af2a86019b665433",
       "version_major": 2,
       "version_minor": 0
      },
      "text/plain": [
       "  0%|          | 0/20 [00:00<?, ?it/s]"
      ]
     },
     "metadata": {},
     "output_type": "display_data"
    },
    {
     "data": {
      "application/vnd.jupyter.widget-view+json": {
       "model_id": "5f29862f256d4656b2c96816283be009",
       "version_major": 2,
       "version_minor": 0
      },
      "text/plain": [
       "  0%|          | 0/20 [00:00<?, ?it/s]"
      ]
     },
     "metadata": {},
     "output_type": "display_data"
    },
    {
     "name": "stdout",
     "output_type": "stream",
     "text": [
      "Participant_19\n"
     ]
    },
    {
     "data": {
      "application/vnd.jupyter.widget-view+json": {
       "model_id": "31808ca9c0e440a8a53d36af01f2ecf6",
       "version_major": 2,
       "version_minor": 0
      },
      "text/plain": [
       "  0%|          | 0/20 [00:00<?, ?it/s]"
      ]
     },
     "metadata": {},
     "output_type": "display_data"
    },
    {
     "data": {
      "application/vnd.jupyter.widget-view+json": {
       "model_id": "6ee8e444143a41cd8c41baa62392a66f",
       "version_major": 2,
       "version_minor": 0
      },
      "text/plain": [
       "  0%|          | 0/20 [00:00<?, ?it/s]"
      ]
     },
     "metadata": {},
     "output_type": "display_data"
    },
    {
     "data": {
      "application/vnd.jupyter.widget-view+json": {
       "model_id": "fe6362c720534945a138aada31f4ba3c",
       "version_major": 2,
       "version_minor": 0
      },
      "text/plain": [
       "  0%|          | 0/20 [00:00<?, ?it/s]"
      ]
     },
     "metadata": {},
     "output_type": "display_data"
    },
    {
     "data": {
      "application/vnd.jupyter.widget-view+json": {
       "model_id": "9af1b37ab97047fc9ea21829c5da1917",
       "version_major": 2,
       "version_minor": 0
      },
      "text/plain": [
       "  0%|          | 0/20 [00:00<?, ?it/s]"
      ]
     },
     "metadata": {},
     "output_type": "display_data"
    },
    {
     "data": {
      "application/vnd.jupyter.widget-view+json": {
       "model_id": "efbeb05e51254d429fd108f32352ad2f",
       "version_major": 2,
       "version_minor": 0
      },
      "text/plain": [
       "  0%|          | 0/20 [00:00<?, ?it/s]"
      ]
     },
     "metadata": {},
     "output_type": "display_data"
    },
    {
     "data": {
      "application/vnd.jupyter.widget-view+json": {
       "model_id": "3ebcb4fb775d4c6083bc6a6ab8ed2044",
       "version_major": 2,
       "version_minor": 0
      },
      "text/plain": [
       "  0%|          | 0/20 [00:00<?, ?it/s]"
      ]
     },
     "metadata": {},
     "output_type": "display_data"
    },
    {
     "data": {
      "application/vnd.jupyter.widget-view+json": {
       "model_id": "c3daa090ac2f4ab1aff75aac85e88029",
       "version_major": 2,
       "version_minor": 0
      },
      "text/plain": [
       "  0%|          | 0/20 [00:00<?, ?it/s]"
      ]
     },
     "metadata": {},
     "output_type": "display_data"
    },
    {
     "data": {
      "application/vnd.jupyter.widget-view+json": {
       "model_id": "574be2e2f99246febc14669765a3de59",
       "version_major": 2,
       "version_minor": 0
      },
      "text/plain": [
       "  0%|          | 0/20 [00:00<?, ?it/s]"
      ]
     },
     "metadata": {},
     "output_type": "display_data"
    },
    {
     "data": {
      "application/vnd.jupyter.widget-view+json": {
       "model_id": "305aa73371d54c359ef6c57d68e09071",
       "version_major": 2,
       "version_minor": 0
      },
      "text/plain": [
       "  0%|          | 0/20 [00:00<?, ?it/s]"
      ]
     },
     "metadata": {},
     "output_type": "display_data"
    },
    {
     "data": {
      "application/vnd.jupyter.widget-view+json": {
       "model_id": "6d0777e514a04609848a03dee2efa6ef",
       "version_major": 2,
       "version_minor": 0
      },
      "text/plain": [
       "  0%|          | 0/20 [00:00<?, ?it/s]"
      ]
     },
     "metadata": {},
     "output_type": "display_data"
    },
    {
     "name": "stdout",
     "output_type": "stream",
     "text": [
      "4 shift_testout_occipital_4.pkl\n"
     ]
    }
   ],
   "source": [
    "#test data preprocesing\n",
    "\n",
    "for tnum in range(5):\n",
    "\n",
    "    eeg_knum=50 #use highest number(e.g. 25) hv eeg data for each kanizsa\n",
    "    eeg_randnum=4*eeg_knum #use highest number(e.g. 100) hv eeg data for each kanizsa\n",
    "\n",
    "    tt=len(DB[19][4][0,:,0])\n",
    "    pp=len(DB)\n",
    "    kk=len(DB[0])\n",
    "\n",
    "    part_eeg=[]\n",
    "    part_label=[]\n",
    "    part_vis=[]\n",
    "    part_acc=[]\n",
    "    for i in range(pp):#participant\n",
    "\n",
    "        kani_eeg=[]\n",
    "        kani_label=[]\n",
    "        kani_vis=[]\n",
    "        kani_acc=[]\n",
    "        for j in range(kk):#kanizsa shape\n",
    "\n",
    "            eegdata=DB[i][j]\n",
    "            visdata=tvis_all[i][j]-1\n",
    "            accdata=tidx_all[i][j]\n",
    "            \n",
    "\n",
    "            if j<4:\n",
    "                bnum=trial_num[i][j]*tnum\n",
    "                bnum=np.round(bnum)\n",
    "                bnum=bnum.astype(int) \n",
    "                \n",
    "                # eegidx=eegdata[:,:,:eeg_knum]\n",
    "                # eeglabel=np.zeros(eeg_knum)+j+1\n",
    "                # visidx=visdata[:eeg_knum]\n",
    "                # accidx=accdata[:eeg_knum]\n",
    "\n",
    "                eegidx=eegdata[:,:,bnum:eeg_knum+bnum]\n",
    "                eeglabel=np.zeros(eeg_knum)+j+1\n",
    "                visidx=visdata[bnum:eeg_knum+bnum]\n",
    "                accidx=accdata[bnum:eeg_knum+bnum]\n",
    "\n",
    "            elif j==4:\n",
    "                # bnum=trial_num2[i]*tnum\n",
    "                # bnum=np.round(bnum)\n",
    "                # bnum=bnum.astype(int)\n",
    "                \n",
    "                # eegidx=eegdata[:,:,:eeg_randnum]\n",
    "                # eeglabel=np.zeros(eeg_randnum)+j+1\n",
    "                # visidx=visdata[:eeg_randnum]\n",
    "                # accidx=accdata[:eeg_randnum]\n",
    "\n",
    "                eegidx=eegdata[:,:,:]\n",
    "                eeglabel=np.zeros(np.shape(eegdata)[2])+j+1\n",
    "                visidx=visdata\n",
    "                accidx=accdata\n",
    "\n",
    "            kani_eeg.append(eegidx)\n",
    "            kani_label.append(eeglabel)\n",
    "            kani_vis.append(visidx)\n",
    "            kani_acc.append(accidx)\n",
    "\n",
    "        part_eeg.append(kani_eeg)\n",
    "        part_label.append(kani_label)\n",
    "        part_vis.append(kani_vis)\n",
    "        part_acc.append(kani_acc)\n",
    "        \n",
    "#make decoder\n",
    "    tf_out=[]\n",
    "    auc_out=[]\n",
    "    saved_model=[]\n",
    "    for t in range(0,tt-window,shift_w):\n",
    "\n",
    "        tf2_out=[]\n",
    "        a2_out=[]\n",
    "        sm_t2=[]\n",
    "        for i in range(pp):\n",
    "            train_data=[]\n",
    "            label=[]\n",
    "            for j in range(kk):\n",
    "\n",
    "                te=part_eeg[i][j][:,t:t+window,:]\n",
    "                tl=part_label[i][j][:]\n",
    "\n",
    "                if window==1:\n",
    "                    te=np.squeeze(te, axis=1)\n",
    "                elif window>1:\n",
    "                    te=np.average(te,axis=1) \n",
    "                te=te.T\n",
    "\n",
    "                train_data.append(te)\n",
    "                label.append(tl)\n",
    "\n",
    "\n",
    "\n",
    "            train_data=list(itertools.chain.from_iterable(train_data))\n",
    "            label=list(itertools.chain.from_iterable(label))\n",
    "            label=np.array(label).astype(int)\n",
    "\n",
    "            # if window==1:\n",
    "            #     train_data=np.squeeze(train_data, axis=1)\n",
    "            # elif window>1:\n",
    "            #     train_data=np.average(train_data,axis=1)           \n",
    "\n",
    "            # if kani_num==1:\n",
    "            label=np.array(label)\n",
    "            label[label<5]=1\n",
    "            label[label==5]=2                \n",
    "\n",
    "            X=np.array(train_data)\n",
    "            y=np.array(label)\n",
    "\n",
    "            f_out=[]\n",
    "            a_out=[]\n",
    "            sm_t=[]\n",
    "            for train_index, test_index in StratifiedKFold(10).split(X, y):\n",
    "            # for train_index, test_index in KFold(10).split(X, y):\n",
    "                # print(\"TRAIN:\", train_index, \"TEST:\", test_index)\n",
    "                X_train, X_test = X[train_index], X[test_index]\n",
    "                y_train, y_test = y[train_index], y[test_index]\n",
    "                clf.fit(X_train, y_train)\n",
    "                out=clf.score(X_test, y_test)\n",
    "                pout=clf.predict(X_test)\n",
    "                # out2=roc_auc_score(y_test, pout) # calculate AUC\n",
    "                tp, fn, fp, tn=confusion_matrix(y_test, pout).ravel()\n",
    "                fpr=fp/(fp+tn); tpr=tp/(tp+fn)\n",
    "                out2=tpr-fpr\n",
    "\n",
    "                # fpr, tpr, thresholds=roc_curve(y_test, pout, pos_label=1)\n",
    "                # out2=auc(fpr, tpr)\n",
    "                f_out.append(out)\n",
    "                a_out.append(out2)\n",
    "                sm=pickle.dumps(clf)\n",
    "                sm_t.append(sm)\n",
    "\n",
    "\n",
    "\n",
    "            tf2_out.append(f_out)\n",
    "            a2_out.append(a_out)\n",
    "            sm_t2.append(sm_t)\n",
    "\n",
    "        tf_out.append(tf2_out)\n",
    "        auc_out.append(a2_out)\n",
    "        saved_model.append(sm_t2)\n",
    "\n",
    "        # print(t,out2)\n",
    "\n",
    "    joblib.dump(saved_model, 'saved_model_temp.pkl')\n",
    "\n",
    "\n",
    "    #temporal generalization for test data\n",
    "\n",
    "    Xit=[]\n",
    "    Yit=[]\n",
    "    for t in range(0,tt-window,shift_w):\n",
    "\n",
    "        # print(t)\n",
    "\n",
    "        # a2_out=[]\n",
    "        Xi=[]\n",
    "        Yi=[]\n",
    "        for i in range(pp):\n",
    "            train_data=[]\n",
    "            label=[]\n",
    "            for j in range(kk):\n",
    "\n",
    "                te=part_eeg[i][j][:,t:t+window,:]\n",
    "                tl=part_label[i][j][:]\n",
    "\n",
    "                if window==1:\n",
    "                    te=np.squeeze(te, axis=1)\n",
    "                elif window>1:\n",
    "                    te=np.average(te,axis=1) \n",
    "                te=te.T\n",
    "\n",
    "                train_data.append(te)\n",
    "                label.append(tl)\n",
    "\n",
    "            train_data=list(itertools.chain.from_iterable(train_data))\n",
    "            label=list(itertools.chain.from_iterable(label))\n",
    "            label=np.array(label).astype(int)\n",
    "\n",
    "            # if window==1:\n",
    "            #     train_data=np.squeeze(train_data, axis=1)\n",
    "            # elif window>1:\n",
    "            #     train_data=np.average(train_data,axis=1)           \n",
    "\n",
    "            # if kani_num==1:\n",
    "            label=np.array(label)\n",
    "            label[label<5]=1\n",
    "            label[label==5]=2                \n",
    "\n",
    "            X=np.array(train_data)\n",
    "            y=np.array(label)\n",
    "\n",
    "            Xii=[]\n",
    "            Yii=[]\n",
    "            for train_index, test_index in StratifiedKFold(10).split(X, y):\n",
    "                X_train, X_test = X[train_index], X[test_index]\n",
    "                y_train, y_test = y[train_index], y[test_index]\n",
    "\n",
    "                Xiip=X_test\n",
    "                Yiip=y_test\n",
    "                Xii.append(Xiip)\n",
    "                Yii.append(Yiip)\n",
    "\n",
    "            # Xi.append(X)\n",
    "            # Yi.append(y)\n",
    "\n",
    "            Xi.append(Xii)\n",
    "            Yi.append(Yii)\n",
    "\n",
    "        Xit.append(Xi)\n",
    "        Yit.append(Yi)\n",
    "        \n",
    "    Xit=np.transpose(Xit,[1,2,0])\n",
    "    Yit=np.transpose(Yit,[1,2,0])\n",
    "    \n",
    "    import multiprocessing as mp\n",
    "    import parmap\n",
    "    import multiprocessing as mp\n",
    "    from functools import partial\n",
    "    from ctg2_hv import mdd # AUC\n",
    "    # from ctg_hv2 import mdd  # hit rate-false alarm\n",
    "    # from ctg_acc import mdd # predict value\n",
    "    # clf_from_joblib = joblib.load('saved_model_temp.pkl')\n",
    "    clf_from_joblib=saved_model\n",
    "    clf_from_joblib=np.transpose(clf_from_joblib,[1,2,0])\n",
    "\n",
    "    num_cores = 20\n",
    "    time_input=list(range(0,tt-window,shift_w))\n",
    "    splited_data =  np.array_split(time_input, num_cores)\n",
    "    # splited_data = [x.tolist() for x in splited_data]\n",
    "\n",
    "    # test_out_s=np.empty((0,np.shape(Yit)[0],np.shape(Yit)[1],np.shape(Yit)[0],np.shape(Yit)[1]))\n",
    "    test_out_s=np.empty((0,tt-window,tt-window))\n",
    "\n",
    "    for i in range(20):\n",
    "\n",
    "        print('Participant_{}'.format(i))\n",
    "\n",
    "        test_out_s2=np.zeros((tt-window,tt-window))\n",
    "        for k in range(10):\n",
    "\n",
    "            proto_clf=clf_from_joblib[i][k]\n",
    "            Xit2=Xit[i][k]\n",
    "            Yit2=Yit[i][k]\n",
    "            func=partial(mdd, Xit2, Yit2, proto_clf)\n",
    "            test_out = parmap.map(func, splited_data, pm_pbar=True, pm_processes=num_cores)\n",
    "            test_out=np.concatenate(test_out,axis=0)\n",
    "            test_out_s2=test_out_s2+test_out\n",
    "\n",
    "        test_out_s2=test_out_s2/10\n",
    "        test_out_s2=np.array(np.expand_dims(test_out_s2,axis=0))\n",
    "        test_out_s=np.append(test_out_s,test_out_s2,axis=0)\n",
    "    \n",
    "    pickle.dumps(test_out_s)\n",
    "\n",
    "    # pickle.dumps(test_out_s)\n",
    "    # fileName='shift_testout_p_{}{}.pkl'.format(ch+'_','HV')\n",
    "\n",
    "    fileName='shift_testout_{}{}.pkl'.format(ch+'_',tnum)\n",
    "    joblib.dump(test_out_s, fileName)\n",
    "    \n",
    "    print(tnum,fileName)"
   ]
  },
  {
   "cell_type": "markdown",
   "id": "0b6dadc3-fa3a-43ac-820e-2e86e957c67d",
   "metadata": {},
   "source": [
    "### Survey"
   ]
  },
  {
   "cell_type": "code",
   "execution_count": 9,
   "id": "738c76dd-3625-4ee0-8e59-019616ffce9b",
   "metadata": {
    "execution": {
     "iopub.execute_input": "2023-10-19T05:53:15.968920Z",
     "iopub.status.busy": "2023-10-19T05:53:15.968920Z",
     "iopub.status.idle": "2023-10-19T05:53:16.009947Z",
     "shell.execute_reply": "2023-10-19T05:53:16.009885Z",
     "shell.execute_reply.started": "2023-10-19T05:53:15.968920Z"
    },
    "tags": []
   },
   "outputs": [],
   "source": [
    "#test data preprocesing\n",
    "\n",
    "for tnum in range(4):\n",
    "\n",
    "    eeg_knum=50 #use highest number(e.g. 25) hv eeg data for each kanizsa\n",
    "    eeg_randnum=4*eeg_knum #use highest number(e.g. 100) hv eeg data for each kanizsa\n",
    "\n",
    "    tt=len(DB[19][4][0,:,0])\n",
    "    pp=len(DB)\n",
    "    kk=len(DB[0])\n",
    "\n",
    "    part_eeg=[]\n",
    "    part_label=[]\n",
    "    part_vis=[]\n",
    "    part_acc=[]\n",
    "    for i in range(pp):#participant\n",
    "\n",
    "        kani_eeg=[]\n",
    "        kani_label=[]\n",
    "        kani_vis=[]\n",
    "        kani_acc=[]\n",
    "        for j in range(kk):#kanizsa shape\n",
    "\n",
    "            eegdata=DB[i][j]\n",
    "            visdata=tvis_all[i][j]-1\n",
    "            accdata=tidx_all[i][j]\n",
    "            \n",
    "\n",
    "            if j<4:\n",
    "                bnum=trial_num[i][j]*tnum\n",
    "                bnum=np.round(bnum)\n",
    "                bnum=bnum.astype(int) \n",
    "                \n",
    "                # eegidx=eegdata[:,:,:eeg_knum]\n",
    "                # eeglabel=np.zeros(eeg_knum)+j+1\n",
    "                # visidx=visdata[:eeg_knum]\n",
    "                # accidx=accdata[:eeg_knum]\n",
    "\n",
    "                eegidx=eegdata[:,:,bnum:eeg_knum+bnum]\n",
    "                eeglabel=np.zeros(eeg_knum)+j+1\n",
    "                visidx=visdata[bnum:eeg_knum+bnum]\n",
    "                accidx=accdata[bnum:eeg_knum+bnum]\n",
    "\n",
    "            elif j==4:\n",
    "                # bnum=trial_num2[i]*tnum\n",
    "                # bnum=np.round(bnum)\n",
    "                # bnum=bnum.astype(int)\n",
    "                \n",
    "                # eegidx=eegdata[:,:,:eeg_randnum]\n",
    "                # eeglabel=np.zeros(eeg_randnum)+j+1\n",
    "                # visidx=visdata[:eeg_randnum]\n",
    "                # accidx=accdata[:eeg_randnum]\n",
    "\n",
    "                eegidx=eegdata[:,:,:]\n",
    "                eeglabel=np.zeros(np.shape(eegdata)[2])+j+1\n",
    "                visidx=visdata\n",
    "                accidx=accdata\n",
    "\n",
    "            kani_eeg.append(eegidx)\n",
    "            kani_label.append(eeglabel)\n",
    "            kani_vis.append(visidx)\n",
    "            kani_acc.append(accidx)\n",
    "\n",
    "        part_eeg.append(kani_eeg)\n",
    "        part_label.append(kani_label)\n",
    "        part_vis.append(kani_vis)\n",
    "        part_acc.append(kani_acc)\n",
    "        \n",
    "    vis_kani=[]\n",
    "    for pi in range(pp):\n",
    "        k1=np.mean(part_vis[pi][0])\n",
    "        k2=np.mean(part_vis[pi][1])\n",
    "        k3=np.mean(part_vis[pi][2])\n",
    "        k4=np.mean(part_vis[pi][3])\n",
    "        k5=np.mean(part_vis[pi][4])\n",
    "\n",
    "        kani=[k1,k2,k3,k4,k5]\n",
    "        vis_kani.append(kani)\n",
    "\n",
    "    vis_kani=df(vis_kani)\n",
    "    vis_kani.to_csv('vis_{}.csv'.format(tnum))\n",
    "    \n",
    "    acc_kani=[]\n",
    "    for pi in range(pp):\n",
    "        \n",
    "        k1=part_acc[pi][0]\n",
    "        k1[k1==2]=0\n",
    "        k1=np.mean(k1)\n",
    "        k2=part_acc[pi][1]\n",
    "        k2[k2==2]=0\n",
    "        k2=np.mean(k2)\n",
    "        k3=part_acc[pi][2]\n",
    "        k3[k3==2]=0\n",
    "        k3=np.mean(k3)\n",
    "        k4=part_acc[pi][3]\n",
    "        k4[k4==2]=0\n",
    "        k4=np.mean(k4)\n",
    "        k5=part_acc[pi][4]\n",
    "        k5[k5==2]=0\n",
    "        k5=np.mean(k5)\n",
    "\n",
    "        kani=[k1,k2,k3,k4,k5]\n",
    "        acc_kani.append(kani)\n",
    "\n",
    "    vis_kani=df(acc_kani)\n",
    "    vis_kani.to_csv('acc_{}.csv'.format(tnum))\n",
    "    \n",
    "    \n",
    "    # combine with control    \n",
    "        \n",
    "    vis_kani=[]\n",
    "    for pi in range(pp):\n",
    "        kani=np.concatenate([part_vis[pi][0],\\\n",
    "                        part_vis[pi][1],\\\n",
    "                        part_vis[pi][2],\\\n",
    "                        part_vis[pi][3],\\\n",
    "                        part_vis[pi][4]])\n",
    "\n",
    "        mkani=np.mean(kani)\n",
    "        vis_kani.append(mkani)\n",
    "\n",
    "    vis_kani=df(vis_kani)\n",
    "    vis_kani.to_csv('visn_{}.csv'.format(tnum))\n",
    "\n",
    "\n",
    "    acc_kani=[]\n",
    "    for pi in range(pp):\n",
    "\n",
    "        kani=np.concatenate([part_acc[pi][0],\\\n",
    "                        part_acc[pi][1],\\\n",
    "                        part_acc[pi][2],\\\n",
    "                        part_acc[pi][3],\\\n",
    "                        part_acc[pi][4]])\n",
    "\n",
    "        mkani=np.mean(kani)\n",
    "        acc_kani.append(mkani)\n",
    "\n",
    "    vis_kani=df(acc_kani)\n",
    "    vis_kani.to_csv('accn_{}.csv'.format(tnum))\n"
   ]
  },
  {
   "cell_type": "markdown",
   "id": "1dcabe37-e428-41e5-acef-7ef55abcd65a",
   "metadata": {
    "execution": {
     "iopub.execute_input": "2023-08-31T05:56:05.577468Z",
     "iopub.status.busy": "2023-08-31T05:56:05.576469Z",
     "iopub.status.idle": "2023-08-31T05:56:05.580468Z",
     "shell.execute_reply": "2023-08-31T05:56:05.580468Z",
     "shell.execute_reply.started": "2023-08-31T05:56:05.577468Z"
    },
    "tags": []
   },
   "source": [
    "## For HV"
   ]
  },
  {
   "cell_type": "code",
   "execution_count": 14,
   "id": "3c560302-4128-4512-bffa-af02935f329f",
   "metadata": {
    "execution": {
     "iopub.execute_input": "2023-09-10T12:58:46.425610Z",
     "iopub.status.busy": "2023-09-10T12:58:46.423609Z",
     "iopub.status.idle": "2023-09-10T12:58:46.538854Z",
     "shell.execute_reply": "2023-09-10T12:58:46.537853Z",
     "shell.execute_reply.started": "2023-09-10T12:58:46.425610Z"
    },
    "tags": []
   },
   "outputs": [],
   "source": [
    "#train_data preprocesing for hv\n",
    "\n",
    "# bnum=20\n",
    "eeg_knum=25 #use highest number(e.g. 25) hv eeg data for each kanizsa\n",
    "eeg_randnum=4*eeg_knum #use highest number(e.g. 100) hv eeg data for each kanizsa\n",
    "\n",
    "tt=len(DB[19][4][0,:,0])\n",
    "pp=len(DB)\n",
    "kk=len(DB[0])\n",
    "\n",
    "part_eeg=[]\n",
    "part_label=[]\n",
    "part_vis=[]\n",
    "part_acc=[]\n",
    "for i in range(pp):#participant\n",
    "    \n",
    "    kani_eeg=[]\n",
    "    kani_label=[]\n",
    "    kani_vis=[]\n",
    "    kani_acc=[]\n",
    "    for j in range(kk):#kanizsa shape\n",
    "        \n",
    "        eegdata=DB[i][j]\n",
    "        visdata=tvis_all[i][j]\n",
    "        accdata=tidx_all[i][j]\n",
    "        \n",
    "        if j<4:\n",
    "            eegidx=eegdata[:,:,:eeg_knum]\n",
    "            eeglabel=np.zeros(eeg_knum)+j+1\n",
    "            visidx=visdata[:eeg_knum]\n",
    "            accidx=accdata[:eeg_knum]\n",
    "            \n",
    "            # eegidx=eegdata[:,:,bnum:eeg_knum+bnum]\n",
    "            # eeglabel=np.zeros(eeg_knum)+j+1\n",
    "            # visidx=visdata[bnum:eeg_knum+bnum]\n",
    "            # accidx=accdata[bnum:eeg_knum+bnum]\n",
    "            \n",
    "        elif j==4:\n",
    "            eegidx=eegdata[:,:,:eeg_randnum]\n",
    "            eeglabel=np.zeros(eeg_randnum)+j+1\n",
    "            visidx=visdata[:eeg_randnum]\n",
    "            accidx=accdata[:eeg_randnum]\n",
    "            \n",
    "#             eegidx=eegdata[:,:,bnum:eeg_randnum+bnum]\n",
    "#             eeglabel=np.zeros(eeg_randnum)+j+1\n",
    "#             visidx=visdata[bnum:eeg_randnum]\n",
    "#             accidx=accdata[bnum:eeg_randnum]\n",
    "            \n",
    "        kani_eeg.append(eegidx)\n",
    "        kani_label.append(eeglabel)\n",
    "        kani_vis.append(visidx)\n",
    "        kani_acc.append(accidx)\n",
    "        \n",
    "    part_eeg.append(kani_eeg)\n",
    "    part_label.append(kani_label)\n",
    "    part_vis.append(kani_vis)\n",
    "    part_acc.append(kani_acc)"
   ]
  },
  {
   "cell_type": "code",
   "execution_count": 15,
   "id": "96f88ef5-77e5-4d0e-b165-aa6ec70d7962",
   "metadata": {
    "collapsed": true,
    "execution": {
     "iopub.execute_input": "2023-09-10T12:58:46.540854Z",
     "iopub.status.busy": "2023-09-10T12:58:46.540854Z",
     "iopub.status.idle": "2023-09-10T13:02:35.587980Z",
     "shell.execute_reply": "2023-09-10T13:02:35.587980Z",
     "shell.execute_reply.started": "2023-09-10T12:58:46.540854Z"
    },
    "jupyter": {
     "outputs_hidden": true
    },
    "tags": []
   },
   "outputs": [
    {
     "name": "stdout",
     "output_type": "stream",
     "text": [
      "0 0.39999999999999997\n",
      "1 0.3\n",
      "2 0.39999999999999997\n",
      "3 0.10000000000000003\n",
      "4 0.3\n",
      "5 0.3\n",
      "6 0.3\n",
      "7 0.2\n",
      "8 0.3\n",
      "9 0.2\n",
      "10 0.2\n",
      "11 0.2\n",
      "12 -0.09999999999999998\n",
      "13 0.0\n",
      "14 -0.09999999999999998\n",
      "15 0.0\n",
      "16 -0.09999999999999998\n",
      "17 -0.10000000000000003\n",
      "18 -0.10000000000000003\n",
      "19 0.2\n",
      "20 0.10000000000000003\n",
      "21 0.2\n",
      "22 0.2\n",
      "23 0.3\n",
      "24 0.3\n",
      "25 0.0\n",
      "26 0.0\n",
      "27 0.0\n",
      "28 0.10000000000000003\n",
      "29 0.10000000000000003\n",
      "30 0.10000000000000003\n",
      "31 0.0\n",
      "32 0.10000000000000003\n",
      "33 0.2\n",
      "34 0.09999999999999998\n",
      "35 0.19999999999999996\n",
      "36 0.19999999999999996\n",
      "37 0.19999999999999996\n",
      "38 0.29999999999999993\n",
      "39 0.09999999999999998\n",
      "40 0.09999999999999998\n",
      "41 0.09999999999999998\n",
      "42 0.0\n",
      "43 0.0\n",
      "44 0.09999999999999998\n",
      "45 0.09999999999999998\n",
      "46 0.2\n",
      "47 0.09999999999999998\n",
      "48 0.09999999999999998\n",
      "49 0.09999999999999998\n",
      "50 0.09999999999999998\n",
      "51 -0.10000000000000003\n",
      "52 0.10000000000000003\n",
      "53 0.10000000000000003\n",
      "54 0.0\n",
      "55 0.39999999999999997\n",
      "56 0.2\n",
      "57 0.2\n",
      "58 0.3\n",
      "59 0.39999999999999997\n",
      "60 0.39999999999999997\n",
      "61 0.3\n",
      "62 0.3\n",
      "63 0.3\n",
      "64 0.3\n",
      "65 0.2\n",
      "66 0.2\n",
      "67 0.2\n",
      "68 0.2\n",
      "69 0.2\n",
      "70 0.09999999999999998\n",
      "71 0.2\n",
      "72 0.0\n",
      "73 0.0\n",
      "74 0.0\n",
      "75 0.09999999999999998\n",
      "76 0.09999999999999998\n",
      "77 0.09999999999999998\n",
      "78 0.0\n",
      "79 0.09999999999999998\n",
      "80 0.2\n",
      "81 0.39999999999999997\n",
      "82 0.49999999999999994\n",
      "83 0.3\n",
      "84 0.19999999999999996\n",
      "85 0.39999999999999997\n",
      "86 0.39999999999999997\n",
      "87 0.39999999999999997\n",
      "88 0.19999999999999996\n",
      "89 0.19999999999999996\n",
      "90 0.39999999999999997\n",
      "91 0.3\n",
      "92 0.3\n",
      "93 0.3\n",
      "94 0.3\n",
      "95 0.3\n",
      "96 0.3\n",
      "97 0.39999999999999997\n",
      "98 0.5\n",
      "99 0.19999999999999996\n",
      "100 0.3\n",
      "101 0.3\n",
      "102 0.3\n",
      "103 0.3\n",
      "104 0.5\n",
      "105 0.5\n",
      "106 0.39999999999999997\n",
      "107 0.39999999999999997\n",
      "108 0.19999999999999996\n",
      "109 0.2\n",
      "110 0.30000000000000004\n",
      "111 0.4\n",
      "112 0.2\n",
      "113 0.3\n",
      "114 0.3\n",
      "115 0.2\n",
      "116 0.3\n",
      "117 0.39999999999999997\n",
      "118 0.39999999999999997\n",
      "119 0.29999999999999993\n",
      "120 0.29999999999999993\n",
      "121 0.29999999999999993\n",
      "122 0.09999999999999998\n",
      "123 0.19999999999999996\n",
      "124 -0.09999999999999998\n",
      "125 -0.09999999999999998\n",
      "126 -0.39999999999999997\n",
      "127 -0.29999999999999993\n",
      "128 -0.09999999999999998\n",
      "129 -0.10000000000000003\n",
      "130 -0.09999999999999998\n",
      "131 -0.09999999999999998\n",
      "132 0.0\n",
      "133 -0.19999999999999996\n",
      "134 0.19999999999999996\n",
      "135 0.29999999999999993\n",
      "136 0.30000000000000004\n",
      "137 0.29999999999999993\n",
      "138 0.19999999999999996\n",
      "139 0.19999999999999996\n",
      "140 0.10000000000000009\n",
      "141 0.20000000000000007\n",
      "142 0.30000000000000004\n",
      "143 0.4\n",
      "144 0.4\n",
      "145 0.19999999999999996\n",
      "146 0.3\n",
      "147 0.19999999999999996\n",
      "148 0.19999999999999996\n",
      "149 0.19999999999999996\n",
      "150 0.0\n",
      "151 0.0\n",
      "152 0.19999999999999996\n",
      "153 0.19999999999999996\n",
      "154 0.29999999999999993\n",
      "155 0.0\n",
      "156 0.0\n",
      "157 0.2\n",
      "158 0.0\n",
      "159 -0.09999999999999998\n",
      "160 -0.4\n",
      "161 -0.20000000000000007\n",
      "162 -0.09999999999999998\n",
      "163 0.0\n",
      "164 -0.09999999999999998\n",
      "165 -0.19999999999999996\n",
      "166 -0.09999999999999998\n",
      "167 0.09999999999999998\n",
      "168 0.0\n",
      "169 -0.10000000000000009\n",
      "170 0.10000000000000009\n",
      "171 -0.30000000000000004\n",
      "172 -0.10000000000000009\n",
      "173 0.0\n",
      "174 -0.30000000000000004\n",
      "175 -0.30000000000000004\n",
      "176 -0.29999999999999993\n",
      "177 -0.29999999999999993\n",
      "178 -0.30000000000000004\n",
      "179 -0.09999999999999998\n",
      "180 -0.20000000000000007\n",
      "181 0.19999999999999996\n",
      "182 -0.09999999999999998\n",
      "183 0.0\n",
      "184 -0.09999999999999998\n",
      "185 0.0\n",
      "186 0.10000000000000003\n",
      "187 0.19999999999999996\n",
      "188 0.0\n",
      "189 -0.09999999999999998\n",
      "190 -0.09999999999999998\n",
      "191 -0.09999999999999998\n",
      "192 0.09999999999999998\n",
      "193 0.0\n",
      "194 -0.3\n",
      "195 -0.39999999999999997\n",
      "196 -0.39999999999999997\n",
      "197 -0.10000000000000003\n",
      "198 -0.2\n",
      "199 -0.3\n",
      "200 -0.39999999999999997\n",
      "201 0.09999999999999998\n",
      "202 0.0\n",
      "203 0.09999999999999998\n",
      "204 0.09999999999999998\n",
      "205 -0.39999999999999997\n",
      "206 -0.39999999999999997\n",
      "207 -0.39999999999999997\n",
      "208 -0.3\n",
      "209 -0.09999999999999998\n",
      "210 -0.09999999999999998\n",
      "211 -0.09999999999999998\n",
      "212 -0.09999999999999998\n",
      "213 -0.39999999999999997\n",
      "214 -0.19999999999999996\n",
      "215 0.0\n",
      "216 0.0\n",
      "217 0.0\n",
      "218 0.2\n",
      "219 0.2\n",
      "220 0.19999999999999996\n",
      "221 0.39999999999999997\n",
      "222 0.09999999999999998\n",
      "223 0.0\n",
      "224 0.2\n",
      "225 0.10000000000000003\n",
      "226 0.0\n",
      "227 0.0\n",
      "228 -0.2\n",
      "229 -0.09999999999999998\n",
      "230 -0.09999999999999998\n",
      "231 0.10000000000000003\n",
      "232 0.09999999999999998\n",
      "233 -0.09999999999999998\n",
      "234 -0.3\n",
      "235 -0.39999999999999997\n",
      "236 -0.3\n",
      "237 -0.39999999999999997\n",
      "238 -0.30000000000000004\n",
      "239 -0.19999999999999996\n",
      "240 -0.09999999999999998\n",
      "241 -0.09999999999999998\n",
      "242 -0.09999999999999998\n",
      "243 -0.19999999999999996\n",
      "244 -0.09999999999999998\n",
      "245 0.0\n",
      "246 0.0\n",
      "247 0.09999999999999998\n",
      "248 0.09999999999999998\n",
      "249 -0.09999999999999998\n",
      "250 0.09999999999999998\n",
      "251 0.10000000000000009\n",
      "252 -0.10000000000000009\n",
      "253 -0.10000000000000009\n",
      "254 0.09999999999999998\n",
      "255 0.30000000000000004\n",
      "256 0.20000000000000007\n",
      "257 0.09999999999999998\n",
      "258 0.30000000000000004\n",
      "259 0.30000000000000004\n",
      "260 0.09999999999999998\n",
      "261 -0.19999999999999996\n",
      "262 -0.09999999999999998\n",
      "263 0.0\n",
      "264 0.0\n",
      "265 -0.4\n",
      "266 -0.19999999999999996\n",
      "267 0.0\n",
      "268 -0.09999999999999998\n",
      "269 -0.09999999999999998\n",
      "270 -0.09999999999999998\n",
      "271 -0.09999999999999998\n",
      "272 -0.20000000000000007\n",
      "273 -0.20000000000000007\n",
      "274 0.0\n",
      "275 0.0\n",
      "276 0.0\n",
      "277 -0.20000000000000007\n",
      "278 -0.20000000000000007\n",
      "279 -0.30000000000000004\n",
      "280 -0.19999999999999996\n",
      "281 -0.19999999999999996\n",
      "282 0.0\n",
      "283 -0.19999999999999996\n",
      "284 0.0\n",
      "285 -0.09999999999999998\n",
      "286 0.09999999999999998\n",
      "287 0.19999999999999996\n",
      "288 0.09999999999999998\n",
      "289 0.09999999999999998\n",
      "290 0.19999999999999996\n",
      "291 0.0\n",
      "292 0.0\n",
      "293 -0.09999999999999998\n",
      "294 0.0\n",
      "295 0.09999999999999998\n",
      "296 0.19999999999999996\n",
      "297 0.0\n",
      "298 0.0\n",
      "299 0.09999999999999998\n",
      "300 0.09999999999999998\n",
      "301 -0.19999999999999996\n",
      "302 -0.09999999999999998\n",
      "303 -0.19999999999999996\n",
      "304 -0.09999999999999998\n",
      "305 -0.09999999999999998\n",
      "306 0.0\n",
      "307 0.10000000000000003\n",
      "308 0.10000000000000003\n",
      "309 0.0\n",
      "310 0.0\n",
      "311 0.09999999999999998\n",
      "312 0.09999999999999998\n",
      "313 0.19999999999999996\n",
      "314 0.2\n",
      "315 0.0\n",
      "316 0.0\n",
      "317 0.19999999999999996\n",
      "318 0.19999999999999996\n",
      "319 0.2\n",
      "320 0.19999999999999996\n",
      "321 0.29999999999999993\n",
      "322 0.09999999999999998\n",
      "323 0.19999999999999996\n",
      "324 0.09999999999999998\n",
      "325 0.19999999999999996\n",
      "326 0.09999999999999998\n",
      "327 0.2\n",
      "328 0.2\n",
      "329 0.09999999999999998\n",
      "330 0.29999999999999993\n",
      "331 0.09999999999999998\n",
      "332 0.0\n",
      "333 0.09999999999999998\n",
      "334 0.19999999999999996\n",
      "335 0.0\n",
      "336 0.0\n",
      "337 0.09999999999999998\n",
      "338 0.19999999999999996\n",
      "339 -0.09999999999999998\n",
      "340 0.0\n",
      "341 0.09999999999999998\n",
      "342 0.0\n",
      "343 0.20000000000000007\n",
      "344 0.20000000000000007\n",
      "345 0.30000000000000004\n",
      "346 0.10000000000000009\n",
      "347 0.20000000000000007\n",
      "348 0.09999999999999998\n",
      "349 0.30000000000000004\n",
      "350 0.20000000000000007\n",
      "351 0.10000000000000009\n",
      "352 0.0\n",
      "353 0.09999999999999998\n",
      "354 0.30000000000000004\n",
      "355 0.4\n",
      "356 0.4\n",
      "357 0.29999999999999993\n",
      "358 0.29999999999999993\n",
      "359 0.3\n",
      "360 0.3\n",
      "361 0.3\n",
      "362 0.3\n",
      "363 0.3\n",
      "364 0.3\n",
      "365 0.3\n",
      "366 0.29999999999999993\n",
      "367 0.29999999999999993\n",
      "368 0.29999999999999993\n",
      "369 0.19999999999999996\n",
      "370 0.29999999999999993\n",
      "371 0.09999999999999998\n",
      "372 0.19999999999999996\n",
      "373 0.19999999999999996\n",
      "374 0.19999999999999996\n",
      "375 0.19999999999999996\n",
      "376 0.09999999999999998\n",
      "377 0.2\n",
      "378 0.3\n",
      "379 0.3\n",
      "380 0.3\n",
      "381 0.2\n",
      "382 0.3\n",
      "383 0.39999999999999997\n",
      "384 0.5\n",
      "385 0.5\n",
      "386 0.4\n",
      "387 0.39999999999999997\n",
      "388 0.3\n",
      "389 0.5\n",
      "390 0.5\n",
      "391 0.5\n",
      "392 0.49999999999999994\n",
      "393 0.19999999999999996\n",
      "394 0.29999999999999993\n",
      "395 0.19999999999999996\n",
      "396 0.20000000000000007\n",
      "397 0.09999999999999998\n",
      "398 0.19999999999999996\n",
      "399 0.09999999999999998\n",
      "400 0.09999999999999998\n",
      "401 0.09999999999999998\n",
      "402 0.09999999999999998\n",
      "403 0.09999999999999998\n",
      "404 0.09999999999999998\n",
      "405 0.19999999999999996\n",
      "406 0.19999999999999996\n",
      "407 0.29999999999999993\n",
      "408 0.19999999999999996\n",
      "409 0.30000000000000004\n",
      "410 0.5\n",
      "411 0.6000000000000001\n",
      "412 0.6000000000000001\n",
      "413 0.6000000000000001\n",
      "414 0.5\n",
      "415 0.5\n",
      "416 0.29999999999999993\n",
      "417 0.29999999999999993\n",
      "418 0.29999999999999993\n",
      "419 0.4\n",
      "420 0.29999999999999993\n",
      "421 0.29999999999999993\n",
      "422 0.19999999999999996\n",
      "423 0.19999999999999996\n",
      "424 0.19999999999999996\n",
      "425 0.49999999999999994\n",
      "426 0.39999999999999997\n",
      "427 0.49999999999999994\n",
      "428 0.3\n",
      "429 0.3\n",
      "430 0.3\n",
      "431 0.09999999999999998\n",
      "432 0.09999999999999998\n",
      "433 0.3\n",
      "434 0.09999999999999998\n",
      "435 0.0\n",
      "436 0.19999999999999996\n",
      "437 0.39999999999999997\n",
      "438 0.39999999999999997\n",
      "439 0.5\n",
      "440 0.29999999999999993\n",
      "441 0.29999999999999993\n",
      "442 0.19999999999999996\n",
      "443 0.19999999999999996\n",
      "444 0.19999999999999996\n",
      "445 0.19999999999999996\n",
      "446 0.09999999999999998\n",
      "447 0.19999999999999996\n",
      "448 0.09999999999999998\n",
      "449 0.39999999999999997\n",
      "450 0.29999999999999993\n",
      "451 0.29999999999999993\n",
      "452 0.0\n",
      "453 0.09999999999999998\n",
      "454 0.19999999999999996\n",
      "455 0.29999999999999993\n",
      "456 0.29999999999999993\n",
      "457 0.19999999999999996\n",
      "458 0.30000000000000004\n",
      "459 0.30000000000000004\n",
      "460 0.4\n",
      "461 0.29999999999999993\n",
      "462 0.29999999999999993\n",
      "463 0.19999999999999996\n",
      "464 0.3\n",
      "465 0.39999999999999997\n",
      "466 0.5\n",
      "467 0.6000000000000001\n",
      "468 0.6000000000000001\n",
      "469 0.39999999999999997\n",
      "470 0.49999999999999994\n",
      "471 0.6\n",
      "472 0.5\n",
      "473 0.39999999999999997\n",
      "474 0.6000000000000001\n",
      "475 0.49999999999999994\n",
      "476 0.39999999999999997\n",
      "477 0.4\n",
      "478 0.5\n",
      "479 0.6000000000000001\n",
      "480 0.6000000000000001\n",
      "481 0.6000000000000001\n",
      "482 0.6000000000000001\n",
      "483 0.6000000000000001\n",
      "484 0.6000000000000001\n",
      "485 0.49999999999999994\n",
      "486 0.39999999999999997\n",
      "487 0.3\n",
      "488 0.5\n",
      "489 0.29999999999999993\n",
      "490 0.19999999999999996\n",
      "491 0.30000000000000004\n",
      "492 0.4\n",
      "493 0.4\n",
      "494 0.4\n",
      "495 0.4\n",
      "496 0.6000000000000001\n",
      "497 0.5\n",
      "498 0.39999999999999997\n",
      "499 0.5\n",
      "500 0.39999999999999997\n",
      "501 0.19999999999999996\n",
      "502 0.19999999999999996\n",
      "503 0.19999999999999996\n",
      "504 0.4\n",
      "505 0.4\n",
      "506 0.29999999999999993\n",
      "507 0.29999999999999993\n",
      "508 0.29999999999999993\n",
      "509 0.29999999999999993\n",
      "510 0.39999999999999997\n",
      "511 0.5\n",
      "512 0.7000000000000001\n",
      "513 0.7000000000000001\n",
      "514 0.7000000000000001\n",
      "515 0.49999999999999994\n",
      "516 0.6\n",
      "517 0.7000000000000001\n",
      "518 0.7000000000000001\n",
      "519 0.7000000000000001\n",
      "520 0.49999999999999994\n",
      "521 0.5\n",
      "522 0.5\n",
      "523 0.4\n",
      "524 0.39999999999999997\n",
      "525 0.2\n",
      "526 0.5\n",
      "527 0.39999999999999997\n",
      "528 0.49999999999999994\n",
      "529 0.39999999999999997\n",
      "530 0.39999999999999997\n",
      "531 0.39999999999999997\n",
      "532 0.19999999999999996\n",
      "533 0.09999999999999998\n",
      "534 0.2\n",
      "535 0.29999999999999993\n",
      "536 0.29999999999999993\n",
      "537 0.29999999999999993\n",
      "538 0.4\n",
      "539 0.5\n",
      "540 0.5\n",
      "541 0.5\n",
      "542 0.5\n",
      "543 0.5\n",
      "544 0.6000000000000001\n",
      "545 0.6\n",
      "546 0.39999999999999997\n",
      "547 0.3\n",
      "548 0.5\n",
      "549 0.5\n",
      "550 0.6000000000000001\n",
      "551 0.7\n",
      "552 0.7\n",
      "553 0.7\n",
      "554 0.8\n",
      "555 0.7000000000000001\n",
      "556 0.8\n",
      "557 0.7000000000000001\n",
      "558 0.7000000000000001\n",
      "559 0.5\n",
      "560 0.5\n",
      "561 0.4\n",
      "562 0.5\n",
      "563 0.4\n",
      "564 0.4\n",
      "565 0.4\n",
      "566 0.5\n",
      "567 0.6\n",
      "568 0.6000000000000001\n",
      "569 0.39999999999999997\n",
      "570 0.6000000000000001\n",
      "571 0.6\n",
      "572 0.6\n",
      "573 0.6\n",
      "574 0.6\n",
      "575 0.6\n",
      "576 0.6\n",
      "577 0.39999999999999997\n",
      "578 0.39999999999999997\n",
      "579 0.2\n",
      "580 0.2\n",
      "581 0.30000000000000004\n",
      "582 0.30000000000000004\n",
      "583 0.4\n",
      "584 0.3\n",
      "585 0.3\n",
      "586 0.39999999999999997\n",
      "587 0.3\n",
      "588 0.3\n",
      "589 0.49999999999999994\n",
      "590 0.39999999999999997\n",
      "591 0.49999999999999994\n",
      "592 0.3\n",
      "593 0.3\n",
      "594 0.3\n",
      "595 0.2\n",
      "596 0.10000000000000003\n",
      "597 0.10000000000000003\n",
      "598 0.10000000000000003\n",
      "599 0.3\n",
      "600 0.3\n",
      "601 0.5\n",
      "602 0.5\n",
      "603 0.5\n",
      "604 0.5\n",
      "605 0.6\n",
      "606 0.7\n",
      "607 0.6\n",
      "608 0.6\n",
      "609 0.6\n",
      "610 0.7\n",
      "611 0.6\n",
      "612 0.7000000000000001\n",
      "613 0.7000000000000001\n",
      "614 0.6\n",
      "615 0.6\n",
      "616 0.7000000000000001\n",
      "617 0.6\n",
      "618 0.5\n",
      "619 0.49999999999999994\n",
      "620 0.39999999999999997\n",
      "621 0.39999999999999997\n",
      "622 0.49999999999999994\n",
      "623 0.5\n",
      "624 0.6\n",
      "625 0.7\n",
      "626 0.6\n",
      "627 0.5\n",
      "628 0.4\n",
      "629 0.5\n",
      "630 0.4\n",
      "631 0.4\n",
      "632 0.30000000000000004\n",
      "633 0.5\n",
      "634 0.5\n",
      "635 0.5\n",
      "636 0.4\n",
      "637 0.6\n",
      "638 0.7\n",
      "639 0.6\n",
      "640 0.6\n",
      "641 0.7\n",
      "642 0.6\n",
      "643 0.5\n",
      "644 0.4\n",
      "645 0.4\n",
      "646 0.5\n",
      "647 0.5\n",
      "648 0.6\n",
      "649 0.6\n",
      "650 0.6\n",
      "651 0.7\n",
      "652 0.7\n",
      "653 0.7\n",
      "654 0.8\n",
      "655 0.6\n",
      "656 0.9\n",
      "657 0.8\n",
      "658 0.8\n",
      "659 0.8\n",
      "660 0.8\n",
      "661 0.6000000000000001\n",
      "662 0.39999999999999997\n",
      "663 0.19999999999999996\n",
      "664 0.39999999999999997\n",
      "665 0.39999999999999997\n",
      "666 0.39999999999999997\n",
      "667 0.39999999999999997\n",
      "668 0.3\n",
      "669 0.5\n",
      "670 0.6\n",
      "671 0.5\n",
      "672 0.4\n",
      "673 0.4\n",
      "674 0.3\n",
      "675 0.4\n",
      "676 0.4\n",
      "677 0.30000000000000004\n",
      "678 0.2\n",
      "679 0.2\n",
      "680 0.10000000000000003\n",
      "681 0.3\n",
      "682 0.3\n",
      "683 0.3\n",
      "684 0.5\n",
      "685 0.2\n",
      "686 0.2\n",
      "687 0.2\n",
      "688 0.2\n",
      "689 0.10000000000000003\n",
      "690 0.2\n",
      "691 0.2\n",
      "692 0.0\n",
      "693 0.2\n",
      "694 0.09999999999999998\n",
      "695 0.09999999999999998\n",
      "696 0.0\n",
      "697 0.0\n",
      "698 0.2\n",
      "699 0.2\n",
      "700 0.3\n",
      "701 0.3\n",
      "702 0.39999999999999997\n",
      "703 0.39999999999999997\n",
      "704 0.3\n",
      "705 0.10000000000000003\n",
      "706 0.2\n",
      "707 0.2\n",
      "708 0.09999999999999998\n",
      "709 0.2\n",
      "710 0.3\n",
      "711 0.10000000000000003\n",
      "712 -0.2\n",
      "713 -0.2\n",
      "714 0.0\n",
      "715 0.10000000000000003\n",
      "716 -0.10000000000000003\n",
      "717 -0.10000000000000003\n",
      "718 0.09999999999999998\n",
      "719 0.0\n",
      "720 -0.09999999999999998\n",
      "721 0.0\n",
      "722 0.09999999999999998\n",
      "723 0.4\n",
      "724 0.19999999999999996\n",
      "725 0.0\n",
      "726 0.09999999999999998\n",
      "727 0.0\n",
      "728 0.2\n",
      "729 -0.09999999999999998\n",
      "730 -0.09999999999999998\n",
      "731 -0.09999999999999998\n",
      "732 0.09999999999999998\n",
      "733 0.09999999999999998\n",
      "734 0.0\n",
      "735 0.10000000000000003\n",
      "736 0.3\n",
      "737 0.30000000000000004\n",
      "738 0.3\n",
      "739 0.3\n"
     ]
    }
   ],
   "source": [
    "tf_out=[]\n",
    "auc_out=[]\n",
    "saved_model=[]\n",
    "for t in range(0,tt-window,shift_w):\n",
    "    \n",
    "    tf2_out=[]\n",
    "    a2_out=[]\n",
    "    sm_t2=[]\n",
    "    for i in range(pp):\n",
    "        train_data=[]\n",
    "        label=[]\n",
    "        for j in range(kk):\n",
    "\n",
    "            te=part_eeg[i][j][:,t:t+window,:]\n",
    "            tl=part_label[i][j][:]\n",
    "            \n",
    "            if window==1:\n",
    "                te=np.squeeze(te, axis=1)\n",
    "            elif window>1:\n",
    "                te=np.average(te,axis=1) \n",
    "            te=te.T\n",
    "            \n",
    "            train_data.append(te)\n",
    "            label.append(tl)\n",
    "            \n",
    "            \n",
    "\n",
    "        train_data=list(itertools.chain.from_iterable(train_data))\n",
    "        label=list(itertools.chain.from_iterable(label))\n",
    "        label=np.array(label).astype(int)\n",
    "            \n",
    "        # if window==1:\n",
    "        #     train_data=np.squeeze(train_data, axis=1)\n",
    "        # elif window>1:\n",
    "        #     train_data=np.average(train_data,axis=1)           \n",
    "           \n",
    "        # if kani_num==1:\n",
    "        label=np.array(label)\n",
    "        label[label<5]=1\n",
    "        label[label==5]=2                \n",
    "\n",
    "        X=np.array(train_data)\n",
    "        y=np.array(label)\n",
    "\n",
    "        f_out=[]\n",
    "        a_out=[]\n",
    "        sm_t=[]\n",
    "        for train_index, test_index in StratifiedKFold(10).split(X, y):\n",
    "        # for train_index, test_index in KFold(10).split(X, y):\n",
    "            # print(\"TRAIN:\", train_index, \"TEST:\", test_index)\n",
    "            X_train, X_test = X[train_index], X[test_index]\n",
    "            y_train, y_test = y[train_index], y[test_index]\n",
    "            clf.fit(X_train, y_train)\n",
    "            out=clf.score(X_test, y_test)\n",
    "            pout=clf.predict(X_test)\n",
    "            # out2=roc_auc_score(y_test, pout) # calculate AUC\n",
    "            tp, fn, fp, tn=confusion_matrix(y_test, pout).ravel()\n",
    "            fpr=fp/(fp+tn); tpr=tp/(tp+fn)\n",
    "            out2=tpr-fpr\n",
    "            \n",
    "            # fpr, tpr, thresholds=roc_curve(y_test, pout, pos_label=1)\n",
    "            # out2=auc(fpr, tpr)\n",
    "            f_out.append(out)\n",
    "            a_out.append(out2)\n",
    "            sm=pickle.dumps(clf)\n",
    "            sm_t.append(sm)\n",
    "            \n",
    "        \n",
    "        \n",
    "        tf2_out.append(f_out)\n",
    "        a2_out.append(a_out)\n",
    "        sm_t2.append(sm_t)\n",
    "\n",
    "    tf_out.append(tf2_out)\n",
    "    auc_out.append(a2_out)\n",
    "    saved_model.append(sm_t2)\n",
    "    \n",
    "    print(t,out2)\n",
    "    \n",
    "joblib.dump(saved_model, 'saved_model_temp.pkl')\n",
    "\n",
    "dd=np.average(auc_out,axis=2)\n",
    "dd=df(dd)\n",
    "dd.to_csv('auc_diagonal.csv')"
   ]
  },
  {
   "cell_type": "code",
   "execution_count": 16,
   "id": "e5980843-34a8-4c4f-b91c-616d1107fcee",
   "metadata": {
    "execution": {
     "iopub.execute_input": "2023-09-10T13:02:35.588955Z",
     "iopub.status.busy": "2023-09-10T13:02:35.588955Z",
     "iopub.status.idle": "2023-09-10T13:02:48.405255Z",
     "shell.execute_reply": "2023-09-10T13:02:48.405255Z",
     "shell.execute_reply.started": "2023-09-10T13:02:35.588955Z"
    },
    "tags": []
   },
   "outputs": [],
   "source": [
    "#temporal generalization for hv 1\n",
    "\n",
    "Xit=[]\n",
    "Yit=[]\n",
    "for t in range(0,tt-window,shift_w):\n",
    "    \n",
    "    # print(t)\n",
    "    \n",
    "    # a2_out=[]\n",
    "    Xi=[]\n",
    "    Yi=[]\n",
    "    for i in range(pp):\n",
    "        train_data=[]\n",
    "        label=[]\n",
    "        for j in range(kk):\n",
    "\n",
    "            te=part_eeg[i][j][:,t:t+window,:]\n",
    "            tl=part_label[i][j][:]\n",
    "            \n",
    "            if window==1:\n",
    "                te=np.squeeze(te, axis=1)\n",
    "            elif window>1:\n",
    "                te=np.average(te,axis=1) \n",
    "            te=te.T\n",
    "            \n",
    "            train_data.append(te)\n",
    "            label.append(tl)\n",
    "\n",
    "        train_data=list(itertools.chain.from_iterable(train_data))\n",
    "        label=list(itertools.chain.from_iterable(label))\n",
    "        label=np.array(label).astype(int)\n",
    "            \n",
    "        # if window==1:\n",
    "        #     train_data=np.squeeze(train_data, axis=1)\n",
    "        # elif window>1:\n",
    "        #     train_data=np.average(train_data,axis=1)           \n",
    "           \n",
    "        # if kani_num==1:\n",
    "        label=np.array(label)\n",
    "        label[label<5]=1\n",
    "        label[label==5]=2                \n",
    "\n",
    "        X=np.array(train_data)\n",
    "        y=np.array(label)\n",
    "        \n",
    "        Xii=[]\n",
    "        Yii=[]\n",
    "        for train_index, test_index in StratifiedKFold(10).split(X, y):\n",
    "            X_train, X_test = X[train_index], X[test_index]\n",
    "            y_train, y_test = y[train_index], y[test_index]\n",
    "            \n",
    "            Xiip=X_test\n",
    "            Yiip=y_test\n",
    "            Xii.append(Xiip)\n",
    "            Yii.append(Yiip)\n",
    "        \n",
    "        # Xi.append(X)\n",
    "        # Yi.append(y)\n",
    "        \n",
    "        Xi.append(Xii)\n",
    "        Yi.append(Yii)\n",
    "        \n",
    "    Xit.append(Xi)\n",
    "    Yit.append(Yi)"
   ]
  },
  {
   "cell_type": "code",
   "execution_count": 17,
   "id": "5508290e-d982-4502-a554-26a804a2fd53",
   "metadata": {
    "execution": {
     "iopub.execute_input": "2023-09-10T13:02:48.407415Z",
     "iopub.status.busy": "2023-09-10T13:02:48.406256Z",
     "iopub.status.idle": "2023-09-10T14:49:19.884351Z",
     "shell.execute_reply": "2023-09-10T14:49:19.872330Z",
     "shell.execute_reply.started": "2023-09-10T13:02:48.407415Z"
    },
    "tags": []
   },
   "outputs": [
    {
     "data": {
      "application/vnd.jupyter.widget-view+json": {
       "model_id": "54edf7a0bdba4f76bcf0bd67c6dcb648",
       "version_major": 2,
       "version_minor": 0
      },
      "text/plain": [
       "  0%|          | 0/20 [00:00<?, ?it/s]"
      ]
     },
     "metadata": {},
     "output_type": "display_data"
    },
    {
     "data": {
      "application/vnd.jupyter.widget-view+json": {
       "model_id": "61f075f3c7bf4c6e8272942dfb809a83",
       "version_major": 2,
       "version_minor": 0
      },
      "text/plain": [
       "  0%|          | 0/20 [00:00<?, ?it/s]"
      ]
     },
     "metadata": {},
     "output_type": "display_data"
    },
    {
     "data": {
      "application/vnd.jupyter.widget-view+json": {
       "model_id": "b464da7c02044a7aa4dd08751879ecaf",
       "version_major": 2,
       "version_minor": 0
      },
      "text/plain": [
       "  0%|          | 0/20 [00:00<?, ?it/s]"
      ]
     },
     "metadata": {},
     "output_type": "display_data"
    },
    {
     "data": {
      "application/vnd.jupyter.widget-view+json": {
       "model_id": "4a9ec58359c741e5bd1b99215a39cb29",
       "version_major": 2,
       "version_minor": 0
      },
      "text/plain": [
       "  0%|          | 0/20 [00:00<?, ?it/s]"
      ]
     },
     "metadata": {},
     "output_type": "display_data"
    },
    {
     "data": {
      "application/vnd.jupyter.widget-view+json": {
       "model_id": "85ed05555a754cf18f4762ccdf1657d6",
       "version_major": 2,
       "version_minor": 0
      },
      "text/plain": [
       "  0%|          | 0/20 [00:00<?, ?it/s]"
      ]
     },
     "metadata": {},
     "output_type": "display_data"
    },
    {
     "data": {
      "application/vnd.jupyter.widget-view+json": {
       "model_id": "34af5590e42947acaef9bee228a83951",
       "version_major": 2,
       "version_minor": 0
      },
      "text/plain": [
       "  0%|          | 0/20 [00:00<?, ?it/s]"
      ]
     },
     "metadata": {},
     "output_type": "display_data"
    },
    {
     "data": {
      "application/vnd.jupyter.widget-view+json": {
       "model_id": "52d5953b3a3c41cf9fc334ca2d998a46",
       "version_major": 2,
       "version_minor": 0
      },
      "text/plain": [
       "  0%|          | 0/20 [00:00<?, ?it/s]"
      ]
     },
     "metadata": {},
     "output_type": "display_data"
    },
    {
     "data": {
      "application/vnd.jupyter.widget-view+json": {
       "model_id": "fcf66fc640514102b40098576bc61701",
       "version_major": 2,
       "version_minor": 0
      },
      "text/plain": [
       "  0%|          | 0/20 [00:00<?, ?it/s]"
      ]
     },
     "metadata": {},
     "output_type": "display_data"
    },
    {
     "data": {
      "application/vnd.jupyter.widget-view+json": {
       "model_id": "d89fb63417ae4842ae23c0dc91ece877",
       "version_major": 2,
       "version_minor": 0
      },
      "text/plain": [
       "  0%|          | 0/20 [00:00<?, ?it/s]"
      ]
     },
     "metadata": {},
     "output_type": "display_data"
    },
    {
     "data": {
      "application/vnd.jupyter.widget-view+json": {
       "model_id": "f3b7abbbd4b14f8da7aabbd22f7bb4fa",
       "version_major": 2,
       "version_minor": 0
      },
      "text/plain": [
       "  0%|          | 0/20 [00:00<?, ?it/s]"
      ]
     },
     "metadata": {},
     "output_type": "display_data"
    }
   ],
   "source": [
    "import multiprocessing as mp\n",
    "import parmap\n",
    "import multiprocessing as mp\n",
    "from functools import partial\n",
    "from ctg_hv import mdd # AUC\n",
    "# from ctg_hv2 import mdd  # hit rate-false alarm\n",
    "# from ctg_acc import mdd # predict value\n",
    "\n",
    "num_cores = 20\n",
    "time_input=list(range(0,tt-window,shift_w))\n",
    "splited_data =  np.array_split(time_input, num_cores)\n",
    "# splited_data = [x.tolist() for x in splited_data]\n",
    "\n",
    "test_out_s=np.empty((0,np.shape(Yit)[0],np.shape(Yit)[1],np.shape(Yit)[0],np.shape(Yit)[1]))\n",
    "for k in range(10):\n",
    "    \n",
    "    func=partial(mdd, Xit, Yit, k)\n",
    "    test_out = parmap.map(func, splited_data, pm_pbar=True, pm_processes=num_cores)\n",
    "    test_out=np.concatenate(test_out,axis=0)\n",
    "    test_out=np.array(np.expand_dims(test_out,axis=0))\n",
    "    test_out_s=np.append(test_out_s,test_out,axis=0)"
   ]
  },
  {
   "cell_type": "code",
   "execution_count": 18,
   "id": "9f9bfd7a-cea3-4da8-876b-61b9a7b3d79d",
   "metadata": {
    "execution": {
     "iopub.execute_input": "2023-09-10T14:49:20.101393Z",
     "iopub.status.busy": "2023-09-10T14:49:20.099393Z",
     "iopub.status.idle": "2023-09-10T15:15:33.459540Z",
     "shell.execute_reply": "2023-09-10T15:15:33.454540Z",
     "shell.execute_reply.started": "2023-09-10T14:49:20.101393Z"
    },
    "tags": []
   },
   "outputs": [
    {
     "data": {
      "text/plain": [
       "['shift_testout_p_frontal_HV.pkl']"
      ]
     },
     "execution_count": 18,
     "metadata": {},
     "output_type": "execute_result"
    }
   ],
   "source": [
    "mean_test_out=np.average(test_out_s,axis=0)\n",
    "pickle.dumps(mean_test_out)\n",
    "\n",
    "# pickle.dumps(test_out_s)\n",
    "# fileName='shift_testout_p_{}{}.pkl'.format(ch+'_','HV')\n",
    "\n",
    "fileName='shift_testout_{}{}.pkl'.format(ch+'_','HV')\n",
    "joblib.dump(test_out_s, fileName)"
   ]
  },
  {
   "cell_type": "code",
   "execution_count": null,
   "id": "aaa56937-ca61-45e0-a1ae-e97298f21049",
   "metadata": {},
   "outputs": [],
   "source": []
  },
  {
   "cell_type": "markdown",
   "id": "7a2500b8-32fc-4c29-9d8c-0d8faf02e5ff",
   "metadata": {},
   "source": [
    "## Selected dataset processing"
   ]
  },
  {
   "cell_type": "code",
   "execution_count": null,
   "id": "65b91382-43ce-47a8-a732-31c85285bf4b",
   "metadata": {
    "tags": []
   },
   "outputs": [],
   "source": [
    "#test data preprocesing\n",
    "\n",
    "tnum=3\n",
    "snum=7\n",
    "\n",
    "eeg_knum=50 #use highest number(e.g. 25) hv eeg data for each kanizsa\n",
    "eeg_randnum=4*eeg_knum #use highest number(e.g. 100) hv eeg data for each kanizsa\n",
    "\n",
    "tt=len(DB[19][4][0,:,0])\n",
    "pp=len(DB)\n",
    "kk=len(DB[0])\n",
    "\n",
    "part_eeg=[]\n",
    "part_label=[]\n",
    "part_vis=[]\n",
    "part_acc=[]\n",
    "for i in range(pp):#participant\n",
    "\n",
    "    kani_eeg=[]\n",
    "    kani_label=[]\n",
    "    kani_vis=[]\n",
    "    kani_acc=[]\n",
    "    for j in range(kk):#kanizsa shape\n",
    "\n",
    "        eegdata=DB[i][j]\n",
    "        visdata=tvis_all[i][j]-1\n",
    "        accdata=tidx_all[i][j]\n",
    "\n",
    "\n",
    "        if j<4:\n",
    "            bnum=trial_num[i][j]*tnum\n",
    "            bnum=bnum+snum\n",
    "            bnum=np.round(bnum)\n",
    "            bnum=bnum.astype(int) \n",
    "\n",
    "            # eegidx=eegdata[:,:,:eeg_knum]\n",
    "            # eeglabel=np.zeros(eeg_knum)+j+1\n",
    "            # visidx=visdata[:eeg_knum]\n",
    "            # accidx=accdata[:eeg_knum]\n",
    "\n",
    "            eegidx=eegdata[:,:,bnum:eeg_knum+bnum]\n",
    "            eeglabel=np.zeros(eeg_knum)+j+1\n",
    "            visidx=visdata[bnum:eeg_knum+bnum]\n",
    "            accidx=accdata[bnum:eeg_knum+bnum]\n",
    "\n",
    "        elif j==4:\n",
    "            # bnum=trial_num2[i]*tnum\n",
    "            # bnum=np.round(bnum)\n",
    "            # bnum=bnum.astype(int)\n",
    "\n",
    "            # eegidx=eegdata[:,:,:eeg_randnum]\n",
    "            # eeglabel=np.zeros(eeg_randnum)+j+1\n",
    "            # visidx=visdata[:eeg_randnum]\n",
    "            # accidx=accdata[:eeg_randnum]\n",
    "\n",
    "            eegidx=eegdata[:,:,:]\n",
    "            eeglabel=np.zeros(np.shape(eegdata)[2])+j+1\n",
    "            visidx=visdata\n",
    "            accidx=accdata\n",
    "\n",
    "        kani_eeg.append(eegidx)\n",
    "        kani_label.append(eeglabel)\n",
    "        kani_vis.append(visidx)\n",
    "        kani_acc.append(accidx)\n",
    "\n",
    "    part_eeg.append(kani_eeg)\n",
    "    part_label.append(kani_label)\n",
    "    part_vis.append(kani_vis)\n",
    "    part_acc.append(kani_acc)\n",
    "\n",
    "#make decoder\n",
    "tf_out=[]\n",
    "auc_out=[]\n",
    "saved_model=[]\n",
    "for t in range(0,tt-window,shift_w):\n",
    "\n",
    "    tf2_out=[]\n",
    "    a2_out=[]\n",
    "    sm_t2=[]\n",
    "    for i in range(pp):\n",
    "        train_data=[]\n",
    "        label=[]\n",
    "        for j in range(kk):\n",
    "\n",
    "            te=part_eeg[i][j][:,t:t+window,:]\n",
    "            tl=part_label[i][j][:]\n",
    "\n",
    "            if window==1:\n",
    "                te=np.squeeze(te, axis=1)\n",
    "            elif window>1:\n",
    "                te=np.average(te,axis=1) \n",
    "            te=te.T\n",
    "\n",
    "            train_data.append(te)\n",
    "            label.append(tl)\n",
    "\n",
    "\n",
    "\n",
    "        train_data=list(itertools.chain.from_iterable(train_data))\n",
    "        label=list(itertools.chain.from_iterable(label))\n",
    "        label=np.array(label).astype(int)\n",
    "\n",
    "        # if window==1:\n",
    "        #     train_data=np.squeeze(train_data, axis=1)\n",
    "        # elif window>1:\n",
    "        #     train_data=np.average(train_data,axis=1)           \n",
    "\n",
    "        # if kani_num==1:\n",
    "        label=np.array(label)\n",
    "        label[label<5]=1\n",
    "        label[label==5]=2                \n",
    "\n",
    "        X=np.array(train_data)\n",
    "        y=np.array(label)\n",
    "\n",
    "        f_out=[]\n",
    "        a_out=[]\n",
    "        sm_t=[]\n",
    "        for train_index, test_index in StratifiedKFold(10).split(X, y):\n",
    "        # for train_index, test_index in KFold(10).split(X, y):\n",
    "            # print(\"TRAIN:\", train_index, \"TEST:\", test_index)\n",
    "            X_train, X_test = X[train_index], X[test_index]\n",
    "            y_train, y_test = y[train_index], y[test_index]\n",
    "            clf.fit(X_train, y_train)\n",
    "            out=clf.score(X_test, y_test)\n",
    "            pout=clf.predict(X_test)\n",
    "            # out2=roc_auc_score(y_test, pout) # calculate AUC\n",
    "            tp, fn, fp, tn=confusion_matrix(y_test, pout).ravel()\n",
    "            fpr=fp/(fp+tn); tpr=tp/(tp+fn)\n",
    "            out2=tpr-fpr\n",
    "\n",
    "            # fpr, tpr, thresholds=roc_curve(y_test, pout, pos_label=1)\n",
    "            # out2=auc(fpr, tpr)\n",
    "            f_out.append(out)\n",
    "            a_out.append(out2)\n",
    "            sm=pickle.dumps(clf)\n",
    "            sm_t.append(sm)\n",
    "\n",
    "\n",
    "\n",
    "        tf2_out.append(f_out)\n",
    "        a2_out.append(a_out)\n",
    "        sm_t2.append(sm_t)\n",
    "\n",
    "    tf_out.append(tf2_out)\n",
    "    auc_out.append(a2_out)\n",
    "    saved_model.append(sm_t2)\n",
    "\n",
    "    # print(t,out2)\n",
    "\n",
    "joblib.dump(saved_model, 'saved_model_temp.pkl')\n",
    "\n",
    "\n",
    "#temporal generalization for test data\n",
    "\n",
    "Xit=[]\n",
    "Yit=[]\n",
    "for t in range(0,tt-window,shift_w):\n",
    "\n",
    "    # print(t)\n",
    "\n",
    "    # a2_out=[]\n",
    "    Xi=[]\n",
    "    Yi=[]\n",
    "    for i in range(pp):\n",
    "        train_data=[]\n",
    "        label=[]\n",
    "        for j in range(kk):\n",
    "\n",
    "            te=part_eeg[i][j][:,t:t+window,:]\n",
    "            tl=part_label[i][j][:]\n",
    "\n",
    "            if window==1:\n",
    "                te=np.squeeze(te, axis=1)\n",
    "            elif window>1:\n",
    "                te=np.average(te,axis=1) \n",
    "            te=te.T\n",
    "\n",
    "            train_data.append(te)\n",
    "            label.append(tl)\n",
    "\n",
    "        train_data=list(itertools.chain.from_iterable(train_data))\n",
    "        label=list(itertools.chain.from_iterable(label))\n",
    "        label=np.array(label).astype(int)\n",
    "\n",
    "        # if window==1:\n",
    "        #     train_data=np.squeeze(train_data, axis=1)\n",
    "        # elif window>1:\n",
    "        #     train_data=np.average(train_data,axis=1)           \n",
    "\n",
    "        # if kani_num==1:\n",
    "        label=np.array(label)\n",
    "        label[label<5]=1\n",
    "        label[label==5]=2                \n",
    "\n",
    "        X=np.array(train_data)\n",
    "        y=np.array(label)\n",
    "\n",
    "        Xii=[]\n",
    "        Yii=[]\n",
    "        for train_index, test_index in StratifiedKFold(10).split(X, y):\n",
    "            X_train, X_test = X[train_index], X[test_index]\n",
    "            y_train, y_test = y[train_index], y[test_index]\n",
    "\n",
    "            Xiip=X_test\n",
    "            Yiip=y_test\n",
    "            Xii.append(Xiip)\n",
    "            Yii.append(Yiip)\n",
    "\n",
    "        # Xi.append(X)\n",
    "        # Yi.append(y)\n",
    "\n",
    "        Xi.append(Xii)\n",
    "        Yi.append(Yii)\n",
    "\n",
    "    Xit.append(Xi)\n",
    "    Yit.append(Yi)\n",
    "\n",
    "Xit=np.transpose(Xit,[1,2,0])\n",
    "Yit=np.transpose(Yit,[1,2,0])\n",
    "\n",
    "import multiprocessing as mp\n",
    "import parmap\n",
    "import multiprocessing as mp\n",
    "from functools import partial\n",
    "from ctg2_hv import mdd # AUC\n",
    "# from ctg_hv2 import mdd  # hit rate-false alarm\n",
    "# from ctg_acc import mdd # predict value\n",
    "# clf_from_joblib = joblib.load('saved_model_temp.pkl')\n",
    "clf_from_joblib=saved_model\n",
    "clf_from_joblib=np.transpose(clf_from_joblib,[1,2,0])\n",
    "\n",
    "num_cores = 20\n",
    "time_input=list(range(0,tt-window,shift_w))\n",
    "splited_data =  np.array_split(time_input, num_cores)\n",
    "# splited_data = [x.tolist() for x in splited_data]\n",
    "\n",
    "# test_out_s=np.empty((0,np.shape(Yit)[0],np.shape(Yit)[1],np.shape(Yit)[0],np.shape(Yit)[1]))\n",
    "test_out_s=np.empty((0,tt-window,tt-window))\n",
    "\n",
    "for i in range(20):\n",
    "\n",
    "    print('Participant_{}'.format(i))\n",
    "\n",
    "    test_out_s2=np.zeros((tt-window,tt-window))\n",
    "    for k in range(10):\n",
    "\n",
    "        proto_clf=clf_from_joblib[i][k]\n",
    "        Xit2=Xit[i][k]\n",
    "        Yit2=Yit[i][k]\n",
    "        func=partial(mdd, Xit2, Yit2, proto_clf)\n",
    "        test_out = parmap.map(func, splited_data, pm_pbar=True, pm_processes=num_cores)\n",
    "        test_out=np.concatenate(test_out,axis=0)\n",
    "        test_out_s2=test_out_s2+test_out\n",
    "\n",
    "    test_out_s2=test_out_s2/10\n",
    "    test_out_s2=np.array(np.expand_dims(test_out_s2,axis=0))\n",
    "    test_out_s=np.append(test_out_s,test_out_s2,axis=0)\n",
    "\n",
    "pickle.dumps(test_out_s)\n",
    "\n",
    "# pickle.dumps(test_out_s)\n",
    "# fileName='shift_testout_p_{}{}.pkl'.format(ch+'_','HV')\n",
    "\n",
    "fileName='shift_testout_{}{}.pkl'.format(ch+'_',tnum)\n",
    "joblib.dump(test_out_s, fileName)\n",
    "\n",
    "print(tnum,fileName)"
   ]
  },
  {
   "cell_type": "code",
   "execution_count": null,
   "id": "9bee99a7-5d3c-4221-a1c0-f53b287edec0",
   "metadata": {},
   "outputs": [],
   "source": []
  },
  {
   "cell_type": "markdown",
   "id": "9f2cdad9-7092-475e-90ed-22cc72d0f23a",
   "metadata": {},
   "source": [
    "## Vis and acc ratingpickle"
   ]
  },
  {
   "cell_type": "code",
   "execution_count": 13,
   "id": "d562da22-7a4e-46b2-ade2-b781f80bf6ae",
   "metadata": {
    "execution": {
     "iopub.execute_input": "2023-12-14T02:12:19.396532Z",
     "iopub.status.busy": "2023-12-14T02:12:19.396532Z",
     "iopub.status.idle": "2023-12-14T02:12:19.437586Z",
     "shell.execute_reply": "2023-12-14T02:12:19.437470Z",
     "shell.execute_reply.started": "2023-12-14T02:12:19.396532Z"
    },
    "tags": []
   },
   "outputs": [],
   "source": [
    "#test data preprocesing\n",
    "\n",
    "for tnum in range(5):\n",
    "\n",
    "    eeg_knum=50 #use highest number(e.g. 25) hv eeg data for each kanizsa\n",
    "    eeg_randnum=4*eeg_knum #use highest number(e.g. 100) hv eeg data for each kanizsa\n",
    "\n",
    "    tt=len(DB[19][4][0,:,0])\n",
    "    pp=len(DB)\n",
    "    kk=len(DB[0])\n",
    "\n",
    "    part_eeg=[]\n",
    "    part_label=[]\n",
    "    part_vis=[]\n",
    "    part_acc=[]\n",
    "    for i in range(pp):#participant\n",
    "\n",
    "        kani_eeg=[]\n",
    "        kani_label=[]\n",
    "        kani_vis=[]\n",
    "        kani_acc=[]\n",
    "        for j in range(kk):#kanizsa shape\n",
    "\n",
    "            eegdata=DB[i][j]\n",
    "            visdata=tvis_all[i][j]-1\n",
    "            accdata=tidx_all[i][j]\n",
    "            \n",
    "\n",
    "            if j<4:\n",
    "                bnum=trial_num[i][j]*tnum\n",
    "                bnum=np.round(bnum)\n",
    "                bnum=bnum.astype(int) \n",
    "                \n",
    "                # eegidx=eegdata[:,:,:eeg_knum]\n",
    "                # eeglabel=np.zeros(eeg_knum)+j+1\n",
    "                # visidx=visdata[:eeg_knum]\n",
    "                # accidx=accdata[:eeg_knum]\n",
    "\n",
    "                eegidx=eegdata[:,:,bnum:eeg_knum+bnum]\n",
    "                eeglabel=np.zeros(eeg_knum)+j+1\n",
    "                visidx=visdata[bnum:eeg_knum+bnum]\n",
    "                accidx=accdata[bnum:eeg_knum+bnum]\n",
    "\n",
    "            elif j==4:\n",
    "                # bnum=trial_num2[i]*tnum\n",
    "                # bnum=np.round(bnum)\n",
    "                # bnum=bnum.astype(int)\n",
    "                \n",
    "                # eegidx=eegdata[:,:,:eeg_randnum]\n",
    "                # eeglabel=np.zeros(eeg_randnum)+j+1\n",
    "                # visidx=visdata[:eeg_randnum]\n",
    "                # accidx=accdata[:eeg_randnum]\n",
    "\n",
    "                eegidx=eegdata[:,:,:]\n",
    "                eeglabel=np.zeros(np.shape(eegdata)[2])+j+1\n",
    "                visidx=visdata\n",
    "                accidx=accdata\n",
    "\n",
    "            kani_eeg.append(eegidx)\n",
    "            kani_label.append(eeglabel)\n",
    "            kani_vis.append(visidx)\n",
    "            kani_acc.append(accidx)\n",
    "\n",
    "        part_eeg.append(kani_eeg)\n",
    "        part_label.append(kani_label)\n",
    "        part_vis.append(kani_vis)\n",
    "        part_acc.append(kani_acc)\n",
    "        \n",
    "    vis_kani=[]\n",
    "    for pi in range(pp):\n",
    "        k1=np.mean(part_vis[pi][0])\n",
    "        k2=np.mean(part_vis[pi][1])\n",
    "        k3=np.mean(part_vis[pi][2])\n",
    "        k4=np.mean(part_vis[pi][3])\n",
    "        k5=np.mean(part_vis[pi][4])\n",
    "\n",
    "        kani=[k1,k2,k3,k4,k5]\n",
    "        vis_kani.append(kani)\n",
    "\n",
    "    vis_kani=df(vis_kani)\n",
    "    vis_kani.to_csv('vis_{}.csv'.format(tnum))\n",
    "    \n",
    "    acc_kani=[]\n",
    "    for pi in range(pp):\n",
    "        \n",
    "        k1=part_acc[pi][0]\n",
    "        k1[k1==2]=0\n",
    "        k1=np.mean(k1)\n",
    "        k2=part_acc[pi][1]\n",
    "        k2[k2==2]=0\n",
    "        k2=np.mean(k2)\n",
    "        k3=part_acc[pi][2]\n",
    "        k3[k3==2]=0\n",
    "        k3=np.mean(k3)\n",
    "        k4=part_acc[pi][3]\n",
    "        k4[k4==2]=0\n",
    "        k4=np.mean(k4)\n",
    "        k5=part_acc[pi][4]\n",
    "        k5[k5==2]=0\n",
    "        k5=np.mean(k5)\n",
    "\n",
    "        kani=[k1,k2,k3,k4,k5]\n",
    "        acc_kani.append(kani)\n",
    "\n",
    "    vis_kani=df(acc_kani)\n",
    "    vis_kani.to_csv('acc_{}.csv'.format(tnum))\n",
    "    \n",
    "    \n",
    "    # combine with control    \n",
    "        \n",
    "    vis_kani=[]\n",
    "    for pi in range(pp):\n",
    "        kani=np.concatenate([part_vis[pi][0],\\\n",
    "                        part_vis[pi][1],\\\n",
    "                        part_vis[pi][2],\\\n",
    "                        part_vis[pi][3],\\\n",
    "                        part_vis[pi][4]])\n",
    "\n",
    "        mkani=np.mean(kani)\n",
    "        vis_kani.append(mkani)\n",
    "\n",
    "    vis_kani=df(vis_kani)\n",
    "    vis_kani.to_csv('visn_{}.csv'.format(tnum))\n",
    "\n",
    "\n",
    "    acc_kani=[]\n",
    "    for pi in range(pp):\n",
    "\n",
    "        kani=np.concatenate([part_acc[pi][0],\\\n",
    "                        part_acc[pi][1],\\\n",
    "                        part_acc[pi][2],\\\n",
    "                        part_acc[pi][3],\\\n",
    "                        part_acc[pi][4]])\n",
    "\n",
    "        mkani=np.mean(kani)\n",
    "        acc_kani.append(mkani)\n",
    "\n",
    "    vis_kani=df(acc_kani)\n",
    "    vis_kani.to_csv('accn_{}.csv'.format(tnum))\n"
   ]
  },
  {
   "cell_type": "code",
   "execution_count": 14,
   "id": "98fba4fc-c9b8-4681-bbf0-7d97294e5d88",
   "metadata": {
    "execution": {
     "iopub.execute_input": "2023-12-14T02:13:49.988767Z",
     "iopub.status.busy": "2023-12-14T02:13:49.987770Z",
     "iopub.status.idle": "2023-12-14T02:13:50.006761Z",
     "shell.execute_reply": "2023-12-14T02:13:50.006761Z",
     "shell.execute_reply.started": "2023-12-14T02:13:49.988767Z"
    },
    "tags": []
   },
   "outputs": [],
   "source": [
    "#test data preprocesing\n",
    "\n",
    "tnum=3\n",
    "snum=7\n",
    "\n",
    "eeg_knum=50 #use highest number(e.g. 25) hv eeg data for each kanizsa\n",
    "eeg_randnum=4*eeg_knum #use highest number(e.g. 100) hv eeg data for each kanizsa\n",
    "\n",
    "tt=len(DB[19][4][0,:,0])\n",
    "pp=len(DB)\n",
    "kk=len(DB[0])\n",
    "\n",
    "part_eeg=[]\n",
    "part_label=[]\n",
    "part_vis=[]\n",
    "part_acc=[]\n",
    "for i in range(pp):#participant\n",
    "\n",
    "    kani_eeg=[]\n",
    "    kani_label=[]\n",
    "    kani_vis=[]\n",
    "    kani_acc=[]\n",
    "    for j in range(kk):#kanizsa shape\n",
    "\n",
    "        eegdata=DB[i][j]\n",
    "        visdata=tvis_all[i][j]-1\n",
    "        accdata=tidx_all[i][j]\n",
    "\n",
    "\n",
    "        if j<4:\n",
    "            bnum=trial_num[i][j]*tnum\n",
    "            bnum=bnum+snum\n",
    "            bnum=np.round(bnum)\n",
    "            bnum=bnum.astype(int) \n",
    "\n",
    "            # eegidx=eegdata[:,:,:eeg_knum]\n",
    "            # eeglabel=np.zeros(eeg_knum)+j+1\n",
    "            # visidx=visdata[:eeg_knum]\n",
    "            # accidx=accdata[:eeg_knum]\n",
    "\n",
    "            eegidx=eegdata[:,:,bnum:eeg_knum+bnum]\n",
    "            eeglabel=np.zeros(eeg_knum)+j+1\n",
    "            visidx=visdata[bnum:eeg_knum+bnum]\n",
    "            accidx=accdata[bnum:eeg_knum+bnum]\n",
    "\n",
    "        elif j==4:\n",
    "            # bnum=trial_num2[i]*tnum\n",
    "            # bnum=np.round(bnum)\n",
    "            # bnum=bnum.astype(int)\n",
    "\n",
    "            # eegidx=eegdata[:,:,:eeg_randnum]\n",
    "            # eeglabel=np.zeros(eeg_randnum)+j+1\n",
    "            # visidx=visdata[:eeg_randnum]\n",
    "            # accidx=accdata[:eeg_randnum]\n",
    "\n",
    "            eegidx=eegdata[:,:,:]\n",
    "            eeglabel=np.zeros(np.shape(eegdata)[2])+j+1\n",
    "            visidx=visdata\n",
    "            accidx=accdata\n",
    "\n",
    "        kani_eeg.append(eegidx)\n",
    "        kani_label.append(eeglabel)\n",
    "        kani_vis.append(visidx)\n",
    "        kani_acc.append(accidx)\n",
    "\n",
    "    part_eeg.append(kani_eeg)\n",
    "    part_label.append(kani_label)\n",
    "    part_vis.append(kani_vis)\n",
    "    part_acc.append(kani_acc)\n",
    "\n",
    "vis_kani=[]\n",
    "for pi in range(pp):\n",
    "    k1=np.mean(part_vis[pi][0])\n",
    "    k2=np.mean(part_vis[pi][1])\n",
    "    k3=np.mean(part_vis[pi][2])\n",
    "    k4=np.mean(part_vis[pi][3])\n",
    "    k5=np.mean(part_vis[pi][4])\n",
    "\n",
    "    kani=[k1,k2,k3,k4,k5]\n",
    "    vis_kani.append(kani)\n",
    "\n",
    "vis_kani=df(vis_kani)\n",
    "vis_kani.to_csv('vis_{}.csv'.format(tnum))\n",
    "\n",
    "acc_kani=[]\n",
    "for pi in range(pp):\n",
    "\n",
    "    k1=part_acc[pi][0]\n",
    "    k1[k1==2]=0\n",
    "    k1=np.mean(k1)\n",
    "    k2=part_acc[pi][1]\n",
    "    k2[k2==2]=0\n",
    "    k2=np.mean(k2)\n",
    "    k3=part_acc[pi][2]\n",
    "    k3[k3==2]=0\n",
    "    k3=np.mean(k3)\n",
    "    k4=part_acc[pi][3]\n",
    "    k4[k4==2]=0\n",
    "    k4=np.mean(k4)\n",
    "    k5=part_acc[pi][4]\n",
    "    k5[k5==2]=0\n",
    "    k5=np.mean(k5)\n",
    "\n",
    "    kani=[k1,k2,k3,k4,k5]\n",
    "    acc_kani.append(kani)\n",
    "\n",
    "vis_kani=df(acc_kani)\n",
    "vis_kani.to_csv('acc_{}.csv'.format(tnum))\n"
   ]
  },
  {
   "cell_type": "code",
   "execution_count": 15,
   "id": "c2fa6472-4ba3-45ca-9dcf-11f9ba0e09f0",
   "metadata": {
    "execution": {
     "iopub.execute_input": "2023-12-14T02:13:52.986665Z",
     "iopub.status.busy": "2023-12-14T02:13:52.985667Z",
     "iopub.status.idle": "2023-12-14T02:13:52.998003Z",
     "shell.execute_reply": "2023-12-14T02:13:52.998003Z",
     "shell.execute_reply.started": "2023-12-14T02:13:52.986665Z"
    },
    "tags": []
   },
   "outputs": [
    {
     "data": {
      "text/plain": [
       "0.151"
      ]
     },
     "execution_count": 15,
     "metadata": {},
     "output_type": "execute_result"
    }
   ],
   "source": [
    "np.mean(np.mean(vis_kani,axis=0)[:3],axis=0)"
   ]
  },
  {
   "cell_type": "code",
   "execution_count": 16,
   "id": "f1c81d97-3090-4c6a-92aa-a2156e3c7984",
   "metadata": {
    "execution": {
     "iopub.execute_input": "2023-12-14T02:17:01.001230Z",
     "iopub.status.busy": "2023-12-14T02:17:01.001230Z",
     "iopub.status.idle": "2023-12-14T02:17:01.048963Z",
     "shell.execute_reply": "2023-12-14T02:17:01.048825Z",
     "shell.execute_reply.started": "2023-12-14T02:17:01.001230Z"
    }
   },
   "outputs": [],
   "source": [
    "#test data preprocesing\n",
    "\n",
    "for tnum in range(5):\n",
    "\n",
    "    eeg_knum=50 #use highest number(e.g. 25) hv eeg data for each kanizsa\n",
    "    eeg_randnum=4*eeg_knum #use highest number(e.g. 100) hv eeg data for each kanizsa\n",
    "\n",
    "    tt=len(DB[19][4][0,:,0])\n",
    "    pp=len(DB)\n",
    "    kk=len(DB[0])\n",
    "\n",
    "    part_eeg=[]\n",
    "    part_label=[]\n",
    "    part_vis=[]\n",
    "    part_acc=[]\n",
    "    for i in range(pp):#participant\n",
    "\n",
    "        kani_eeg=[]\n",
    "        kani_label=[]\n",
    "        kani_vis=[]\n",
    "        kani_acc=[]\n",
    "        for j in range(kk):#kanizsa shape\n",
    "\n",
    "            eegdata=DB[i][j]\n",
    "            visdata=tvis_all[i][j]-1\n",
    "            accdata=tidx_all[i][j]\n",
    "            \n",
    "\n",
    "            if j<4:\n",
    "                bnum=trial_num[i][j]*tnum\n",
    "                bnum=np.round(bnum)\n",
    "                bnum=bnum.astype(int) \n",
    "                \n",
    "                # eegidx=eegdata[:,:,:eeg_knum]\n",
    "                # eeglabel=np.zeros(eeg_knum)+j+1\n",
    "                # visidx=visdata[:eeg_knum]\n",
    "                # accidx=accdata[:eeg_knum]\n",
    "\n",
    "                eegidx=eegdata[:,:,bnum:eeg_knum+bnum]\n",
    "                eeglabel=np.zeros(eeg_knum)+j+1\n",
    "                visidx=visdata[bnum:eeg_knum+bnum]\n",
    "                accidx=accdata[bnum:eeg_knum+bnum]\n",
    "\n",
    "            elif j==4:\n",
    "                # bnum=trial_num2[i]*tnum\n",
    "                # bnum=np.round(bnum)\n",
    "                # bnum=bnum.astype(int)\n",
    "                \n",
    "                # eegidx=eegdata[:,:,:eeg_randnum]\n",
    "                # eeglabel=np.zeros(eeg_randnum)+j+1\n",
    "                # visidx=visdata[:eeg_randnum]\n",
    "                # accidx=accdata[:eeg_randnum]\n",
    "\n",
    "                eegidx=eegdata[:,:,:]\n",
    "                eeglabel=np.zeros(np.shape(eegdata)[2])+j+1\n",
    "                visidx=visdata\n",
    "                accidx=accdata\n",
    "\n",
    "            kani_eeg.append(eegidx)\n",
    "            kani_label.append(eeglabel)\n",
    "            kani_vis.append(visidx)\n",
    "            kani_acc.append(accidx)\n",
    "\n",
    "        part_eeg.append(kani_eeg)\n",
    "        part_label.append(kani_label)\n",
    "        part_vis.append(kani_vis)\n",
    "        part_acc.append(kani_acc)\n",
    "        \n",
    "    vis_kani=[]\n",
    "    for pi in range(pp):\n",
    "        k1=np.std(part_vis[pi][0])\n",
    "        k2=np.std(part_vis[pi][1])\n",
    "        k3=np.std(part_vis[pi][2])\n",
    "        k4=np.std(part_vis[pi][3])\n",
    "        k5=np.std(part_vis[pi][4])\n",
    "\n",
    "        kani=[k1,k2,k3,k4,k5]\n",
    "        vis_kani.append(kani)\n",
    "\n",
    "    vis_kani=df(vis_kani)\n",
    "    vis_kani.to_csv('vis_{}.csv'.format(tnum))\n",
    "    \n",
    "    acc_kani=[]\n",
    "    for pi in range(pp):\n",
    "        \n",
    "        k1=part_acc[pi][0]\n",
    "        k1[k1==2]=0\n",
    "        k1=np.mean(k1)\n",
    "        k2=part_acc[pi][1]\n",
    "        k2[k2==2]=0\n",
    "        k2=np.mean(k2)\n",
    "        k3=part_acc[pi][2]\n",
    "        k3[k3==2]=0\n",
    "        k3=np.mean(k3)\n",
    "        k4=part_acc[pi][3]\n",
    "        k4[k4==2]=0\n",
    "        k4=np.mean(k4)\n",
    "        k5=part_acc[pi][4]\n",
    "        k5[k5==2]=0\n",
    "        k5=np.mean(k5)\n",
    "\n",
    "        kani=[k1,k2,k3,k4,k5]\n",
    "        acc_kani.append(kani)\n",
    "\n",
    "    vis_kani=df(acc_kani)\n",
    "    vis_kani.to_csv('acc_{}.csv'.format(tnum))\n",
    "    \n",
    "    \n",
    "    # combine with control    \n",
    "        \n",
    "    vis_kani=[]\n",
    "    for pi in range(pp):\n",
    "        kani=np.concatenate([part_vis[pi][0],\\\n",
    "                        part_vis[pi][1],\\\n",
    "                        part_vis[pi][2],\\\n",
    "                        part_vis[pi][3],\\\n",
    "                        part_vis[pi][4]])\n",
    "\n",
    "        mkani=np.mean(kani)\n",
    "        vis_kani.append(mkani)\n",
    "\n",
    "    vis_kani=df(vis_kani)\n",
    "    vis_kani.to_csv('visn_{}.csv'.format(tnum))\n",
    "\n",
    "\n",
    "    acc_kani=[]\n",
    "    for pi in range(pp):\n",
    "\n",
    "        kani=np.concatenate([part_acc[pi][0],\\\n",
    "                        part_acc[pi][1],\\\n",
    "                        part_acc[pi][2],\\\n",
    "                        part_acc[pi][3],\\\n",
    "                        part_acc[pi][4]])\n",
    "\n",
    "        mkani=np.mean(kani)\n",
    "        acc_kani.append(mkani)\n",
    "\n",
    "    vis_kani=df(acc_kani)\n",
    "    vis_kani.to_csv('accn_{}.csv'.format(tnum))\n"
   ]
  },
  {
   "cell_type": "code",
   "execution_count": 17,
   "id": "5c82eda6-1143-4372-a286-2516988d06a6",
   "metadata": {
    "execution": {
     "iopub.execute_input": "2023-12-14T02:17:20.745965Z",
     "iopub.status.busy": "2023-12-14T02:17:20.745965Z",
     "iopub.status.idle": "2023-12-14T02:17:20.774559Z",
     "shell.execute_reply": "2023-12-14T02:17:20.774559Z",
     "shell.execute_reply.started": "2023-12-14T02:17:20.745965Z"
    }
   },
   "outputs": [],
   "source": [
    "#test data preprocesing\n",
    "\n",
    "tnum=3\n",
    "snum=7\n",
    "\n",
    "eeg_knum=50 #use highest number(e.g. 25) hv eeg data for each kanizsa\n",
    "eeg_randnum=4*eeg_knum #use highest number(e.g. 100) hv eeg data for each kanizsa\n",
    "\n",
    "tt=len(DB[19][4][0,:,0])\n",
    "pp=len(DB)\n",
    "kk=len(DB[0])\n",
    "\n",
    "part_eeg=[]\n",
    "part_label=[]\n",
    "part_vis=[]\n",
    "part_acc=[]\n",
    "for i in range(pp):#participant\n",
    "\n",
    "    kani_eeg=[]\n",
    "    kani_label=[]\n",
    "    kani_vis=[]\n",
    "    kani_acc=[]\n",
    "    for j in range(kk):#kanizsa shape\n",
    "\n",
    "        eegdata=DB[i][j]\n",
    "        visdata=tvis_all[i][j]-1\n",
    "        accdata=tidx_all[i][j]\n",
    "\n",
    "\n",
    "        if j<4:\n",
    "            bnum=trial_num[i][j]*tnum\n",
    "            bnum=bnum+snum\n",
    "            bnum=np.round(bnum)\n",
    "            bnum=bnum.astype(int) \n",
    "\n",
    "            # eegidx=eegdata[:,:,:eeg_knum]\n",
    "            # eeglabel=np.zeros(eeg_knum)+j+1\n",
    "            # visidx=visdata[:eeg_knum]\n",
    "            # accidx=accdata[:eeg_knum]\n",
    "\n",
    "            eegidx=eegdata[:,:,bnum:eeg_knum+bnum]\n",
    "            eeglabel=np.zeros(eeg_knum)+j+1\n",
    "            visidx=visdata[bnum:eeg_knum+bnum]\n",
    "            accidx=accdata[bnum:eeg_knum+bnum]\n",
    "\n",
    "        elif j==4:\n",
    "            # bnum=trial_num2[i]*tnum\n",
    "            # bnum=np.round(bnum)\n",
    "            # bnum=bnum.astype(int)\n",
    "\n",
    "            # eegidx=eegdata[:,:,:eeg_randnum]\n",
    "            # eeglabel=np.zeros(eeg_randnum)+j+1\n",
    "            # visidx=visdata[:eeg_randnum]\n",
    "            # accidx=accdata[:eeg_randnum]\n",
    "\n",
    "            eegidx=eegdata[:,:,:]\n",
    "            eeglabel=np.zeros(np.shape(eegdata)[2])+j+1\n",
    "            visidx=visdata\n",
    "            accidx=accdata\n",
    "\n",
    "        kani_eeg.append(eegidx)\n",
    "        kani_label.append(eeglabel)\n",
    "        kani_vis.append(visidx)\n",
    "        kani_acc.append(accidx)\n",
    "\n",
    "    part_eeg.append(kani_eeg)\n",
    "    part_label.append(kani_label)\n",
    "    part_vis.append(kani_vis)\n",
    "    part_acc.append(kani_acc)\n",
    "\n",
    "vis_kani=[]\n",
    "for pi in range(pp):\n",
    "    k1=np.std(part_vis[pi][0])\n",
    "    k2=np.std(part_vis[pi][1])\n",
    "    k3=np.std(part_vis[pi][2])\n",
    "    k4=np.std(part_vis[pi][3])\n",
    "    k5=np.std(part_vis[pi][4])\n",
    "\n",
    "    kani=[k1,k2,k3,k4,k5]\n",
    "    vis_kani.append(kani)\n",
    "\n",
    "vis_kani=df(vis_kani)\n",
    "vis_kani.to_csv('vis_{}.csv'.format(tnum))\n",
    "\n",
    "acc_kani=[]\n",
    "for pi in range(pp):\n",
    "\n",
    "    k1=part_acc[pi][0]\n",
    "    k1[k1==2]=0\n",
    "    k1=np.mean(k1)\n",
    "    k2=part_acc[pi][1]\n",
    "    k2[k2==2]=0\n",
    "    k2=np.mean(k2)\n",
    "    k3=part_acc[pi][2]\n",
    "    k3[k3==2]=0\n",
    "    k3=np.mean(k3)\n",
    "    k4=part_acc[pi][3]\n",
    "    k4[k4==2]=0\n",
    "    k4=np.mean(k4)\n",
    "    k5=part_acc[pi][4]\n",
    "    k5[k5==2]=0\n",
    "    k5=np.mean(k5)\n",
    "\n",
    "    kani=[k1,k2,k3,k4,k5]\n",
    "    acc_kani.append(kani)\n",
    "\n",
    "vis_kani=df(acc_kani)\n",
    "vis_kani.to_csv('acc_{}.csv'.format(tnum))\n"
   ]
  },
  {
   "cell_type": "code",
   "execution_count": null,
   "id": "27482c98-a965-432f-b704-01a5a6828c58",
   "metadata": {},
   "outputs": [],
   "source": []
  }
 ],
 "metadata": {
  "kernelspec": {
   "display_name": "Python 3 (ipykernel)",
   "language": "python",
   "name": "python3"
  },
  "language_info": {
   "codemirror_mode": {
    "name": "ipython",
    "version": 3
   },
   "file_extension": ".py",
   "mimetype": "text/x-python",
   "name": "python",
   "nbconvert_exporter": "python",
   "pygments_lexer": "ipython3",
   "version": "3.10.7"
  },
  "toc-autonumbering": true
 },
 "nbformat": 4,
 "nbformat_minor": 5
}
